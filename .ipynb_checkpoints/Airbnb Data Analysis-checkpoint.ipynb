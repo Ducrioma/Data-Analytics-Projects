{
 "cells": [
  {
   "cell_type": "markdown",
   "metadata": {},
   "source": [
    "# Airbnb Data Analysis\n",
    "\n",
    "Data from [Inside Airbnb](http://insideairbnb.com/get-the-data.html)"
   ]
  },
  {
   "cell_type": "markdown",
   "metadata": {},
   "source": [
    "## Data Preparation\n",
    "1. Prepare data set for each city\n",
    "2. Clean data for each city"
   ]
  },
  {
   "cell_type": "code",
   "execution_count": 1,
   "metadata": {},
   "outputs": [],
   "source": [
    "# need to install this package first\n",
    "# install.packages(\"stringi\")"
   ]
  },
  {
   "cell_type": "code",
   "execution_count": 2,
   "metadata": {},
   "outputs": [
    {
     "name": "stderr",
     "output_type": "stream",
     "text": [
      "\n",
      "Attaching package: 'dplyr'\n",
      "\n",
      "\n",
      "The following objects are masked from 'package:stats':\n",
      "\n",
      "    filter, lag\n",
      "\n",
      "\n",
      "The following objects are masked from 'package:base':\n",
      "\n",
      "    intersect, setdiff, setequal, union\n",
      "\n",
      "\n"
     ]
    },
    {
     "ename": "ERROR",
     "evalue": "Error in library(ggplot2): there is no package called 'ggplot2'\n",
     "output_type": "error",
     "traceback": [
      "Error in library(ggplot2): there is no package called 'ggplot2'\nTraceback:\n",
      "1. library(ggplot2)"
     ]
    }
   ],
   "source": [
    "library(dplyr)\n",
    "# issue with this one\n",
    "library(stringr)\n",
    "library(ggplot2)\n",
    "library(data.table)\n",
    "print(\"coucou\")"
   ]
  },
  {
   "cell_type": "code",
   "execution_count": 3,
   "metadata": {},
   "outputs": [],
   "source": [
    "# Function from the data_prep script\n",
    "\n",
    "# a generic function to prepare data for a specific city, data_date\n",
    "prepare_data <- function(city, data_date)\n",
    "{\n",
    "    # Cleaning listings dataframe\n",
    "    \n",
    "    # suppose raw data is stored in data_raw/city/data_date/listings.csv.gz\n",
    "    listings_url <- file.path(\"data_raw\", city, data_date, \"listings.csv.gz\")\n",
    "    # suppose raw data is stored in data_raw/city/data_date/calendar.csv.gz\n",
    "    calendar_url <- file.path(\"data_raw\", city, data_date, \"calendar.csv.gz\")\n",
    "    \n",
    "    print(paste0(\"reading data from \", listings_url))\n",
    "    listings <- read.csv(gzfile(listings_url))\n",
    "    print(paste0(\"reading data from \", calendar_url))\n",
    "    calendar <- read.csv(gzfile(calendar_url))\n",
    "    \n",
    "    ## Add Keys: columns city and day date\n",
    "    listings$city <- city\n",
    "    listings$data_date <- data_date\n",
    "    \n",
    "    ## Select interesting columns\n",
    "    ### Most columns don't contain interesting information\n",
    "    columns_listings <- c(\"city\", \"data_date\", \"id\", \"neighbourhood_cleansed\", \n",
    "                          \"latitude\", \"longitude\", \n",
    "                          \"property_type\", \"room_type\", \"accommodates\", \"bedrooms\", \n",
    "                          \"beds\", \"price\", \"minimum_nights\",  \"maximum_nights\")\n",
    "    \n",
    "    listings <- listings %>% \n",
    "        select(columns_listings) %>% \n",
    "        arrange(id)\n",
    "    \n",
    "    \n",
    "    # Cleaning calendar dataframe\n",
    "    \n",
    "    ## arrange by id and date\n",
    "    calendar <- calendar %>% \n",
    "        arrange(listing_id, date)\n",
    "    \n",
    "    ## add day number (starting first day)\n",
    "    calendar <- calendar %>%\n",
    "        group_by(listing_id) %>%\n",
    "        mutate(day_nb = row_number()) %>%\n",
    "        ungroup()\n",
    "    \n",
    "    ## change available column to binary\n",
    "    calendar <- calendar %>%\n",
    "        mutate(available = ifelse(available==\"t\", 1, 0))\n",
    "    \n",
    "    ## clean price column and transform to numeric\n",
    "    calendar <- calendar %>%\n",
    "        mutate(price = str_replace(price, \"\\\\$\", \"\"),\n",
    "               adjusted_price = str_replace(adjusted_price, \"\\\\$\", \"\"))\n",
    "    calendar <- calendar %>%\n",
    "        mutate(price = str_replace(price, \",\", \"\"),\n",
    "               adjusted_price = str_replace(adjusted_price, \",\", \"\"))\n",
    "    calendar <- calendar %>%\n",
    "        mutate(price = as.numeric(price),\n",
    "               adjusted_price = as.numeric(adjusted_price))\n",
    "    \n",
    "    ## calculate estimated revenue for upcoming day\n",
    "    calendar <- calendar %>%\n",
    "        mutate(revenue = price*(1-available))\n",
    "    \n",
    "    ## calculate availability, price, revenue for next 30, 60 days ... for each listing_id\n",
    "    calendar <- calendar %>%\n",
    "        group_by(listing_id) %>%\n",
    "        summarise(availability_30 = sum(available[day_nb<=30], na.rm = TRUE),\n",
    "                  availability_60 = sum(available[day_nb<=60], na.rm = TRUE),\n",
    "                  availability_90 = sum(available[day_nb<=90], na.rm = TRUE),\n",
    "                  availability_365 = sum(available[day_nb<=365], na.rm = TRUE),\n",
    "                  price_30 = mean(price[day_nb<=30 & available==0], na.rm = TRUE),\n",
    "                  price_60 = mean(price[day_nb<=60 & available==0], na.rm = TRUE),\n",
    "                  price_90 = mean(price[day_nb<=90 & available==0], na.rm = TRUE),\n",
    "                  price_365 = mean(price[day_nb<=365 & available==0], na.rm = TRUE),\n",
    "                  revenue_30 = sum(revenue[day_nb<=30], na.rm = TRUE),\n",
    "                  revenue_60 = sum(revenue[day_nb<=60], na.rm = TRUE),\n",
    "                  revenue_90 = sum(revenue[day_nb<=90], na.rm = TRUE),\n",
    "                  revenue_365 = sum(revenue[day_nb<=365], na.rm = TRUE)           \n",
    "        )\n",
    "    \n",
    "    listings_cleansed <- listings %>% left_join(calendar, by = c(\"id\" = \"listing_id\"))\n",
    "    \n",
    "    dir.create(file.path(\"data_cleansed\", city, data_date), recursive = TRUE)\n",
    "    \n",
    "    write.csv(listings_cleansed, file.path(\"data_cleansed\", city, data_date, \"listings.csv\"))\n",
    "    print(paste0(\"saving data into \", file.path(\"data_cleansed\", city, data_date, \"listings.csv\")))\n",
    "    \n",
    "}  "
   ]
  },
  {
   "cell_type": "markdown",
   "metadata": {},
   "source": [
    "### Unit test : Reading data for malaga:\n",
    "#### Preparing data, working ✅"
   ]
  },
  {
   "cell_type": "code",
   "execution_count": 4,
   "metadata": {},
   "outputs": [],
   "source": [
    "# city <- \"malaga\"\n",
    "# data_date <- \"2020-06-30\"\n",
    "# prepare_data(city,data_date)"
   ]
  },
  {
   "cell_type": "markdown",
   "metadata": {},
   "source": [
    "# Prepare data for all selected cities "
   ]
  },
  {
   "cell_type": "code",
   "execution_count": 9,
   "metadata": {},
   "outputs": [],
   "source": [
    "# Reading cleansed data\n",
    "cities <- c(\"malaga\", \"mallorca\", \"sevilla\")\n",
    "data_dates <- c(\"2020-06-30\", \"2020-09-19\", \"2020-06-29\")\n",
    "\n",
    "# We are only interested in data between min_date and max_date\n",
    "min_date <- '2020-05-01'\n",
    "max_date <- '2020-11-01'\n",
    "\n",
    "files_paths <- c()"
   ]
  },
  {
   "cell_type": "markdown",
   "metadata": {},
   "source": [
    "### Preparare data for Malaga, mallorca, sevilla"
   ]
  },
  {
   "cell_type": "code",
   "execution_count": 6,
   "metadata": {},
   "outputs": [
    {
     "name": "stdout",
     "output_type": "stream",
     "text": [
      "[1] \"-------------------------------------------------\"\n",
      "[1] \"Preparing data for malaga compiled at 2020-06-30\"\n",
      "[1] \"reading data from data_raw/malaga/2020-06-30/listings.csv.gz\"\n",
      "[1] \"reading data from data_raw/malaga/2020-06-30/calendar.csv.gz\"\n"
     ]
    },
    {
     "name": "stderr",
     "output_type": "stream",
     "text": [
      "Note: Using an external vector in selections is ambiguous.\n",
      "\u001b[34mi\u001b[39m Use `all_of(columns_listings)` instead of `columns_listings` to silence this message.\n",
      "\u001b[34mi\u001b[39m See <https://tidyselect.r-lib.org/reference/faq-external-vector.html>.\n",
      "\u001b[90mThis message is displayed once per session.\u001b[39m\n",
      "\n",
      "`summarise()` ungrouping output (override with `.groups` argument)\n",
      "\n",
      "Warning message in dir.create(file.path(\"data_cleansed\", city, data_date), recursive = TRUE):\n",
      "\"'data_cleansed\\malaga\\2020-06-30' existe déjà\"\n"
     ]
    },
    {
     "name": "stdout",
     "output_type": "stream",
     "text": [
      "[1] \"saving data into data_cleansed/malaga/2020-06-30/listings.csv\"\n",
      "[1] \"-------------------------------------------------\"\n",
      "[1] \"Preparing data for mallorca compiled at 2020-09-19\"\n",
      "[1] \"reading data from data_raw/mallorca/2020-09-19/listings.csv.gz\"\n",
      "[1] \"reading data from data_raw/mallorca/2020-09-19/calendar.csv.gz\"\n"
     ]
    },
    {
     "name": "stderr",
     "output_type": "stream",
     "text": [
      "`summarise()` ungrouping output (override with `.groups` argument)\n",
      "\n",
      "Warning message in dir.create(file.path(\"data_cleansed\", city, data_date), recursive = TRUE):\n",
      "\"'data_cleansed\\mallorca\\2020-09-19' existe déjà\"\n"
     ]
    },
    {
     "name": "stdout",
     "output_type": "stream",
     "text": [
      "[1] \"saving data into data_cleansed/mallorca/2020-09-19/listings.csv\"\n",
      "[1] \"-------------------------------------------------\"\n",
      "[1] \"Preparing data for sevilla compiled at 2020-06-29\"\n",
      "[1] \"reading data from data_raw/sevilla/2020-06-29/listings.csv.gz\"\n",
      "[1] \"reading data from data_raw/sevilla/2020-06-29/calendar.csv.gz\"\n"
     ]
    },
    {
     "name": "stderr",
     "output_type": "stream",
     "text": [
      "`summarise()` ungrouping output (override with `.groups` argument)\n",
      "\n",
      "Warning message in dir.create(file.path(\"data_cleansed\", city, data_date), recursive = TRUE):\n",
      "\"'data_cleansed\\sevilla\\2020-06-29' existe déjà\"\n"
     ]
    },
    {
     "name": "stdout",
     "output_type": "stream",
     "text": [
      "[1] \"saving data into data_cleansed/sevilla/2020-06-29/listings.csv\"\n"
     ]
    }
   ],
   "source": [
    "for(i in 1:length(cities)){\n",
    "    city <- cities[i]\n",
    "    data_date <- data_dates[i]\n",
    "    print(\"-------------------------------------------------\")\n",
    "    print(paste(c(\"Preparing data for\", city, \"compiled at\", data_date), collapse = \" \"))\n",
    "    prepare_data(city, data_date)\n",
    "}\n",
    "\n",
    "# Clean Environment\n",
    "rm(list=ls())"
   ]
  },
  {
   "cell_type": "markdown",
   "metadata": {},
   "source": [
    "### Read data in cities between min_date and max_date"
   ]
  },
  {
   "cell_type": "code",
   "execution_count": 10,
   "metadata": {},
   "outputs": [],
   "source": [
    "for(city in cities){\n",
    "    file_dir <- file.path(\".\", \"data_cleansed\", city)\n",
    "    file_subdirs <- list.dirs(file_dir)\n",
    "    file_subdirs <- file_subdirs[-1]\n",
    "\n",
    "    for(file_subdir in file_subdirs){\n",
    "        if(file_subdir < file.path(file_dir, min_date) | file_subdir > file.path(file_dir, max_date)  )\n",
    "            file_subdirs = file_subdirs[file_subdirs != file_subdir]\n",
    "    }\n",
    "    files_paths <- c(files_paths, file_subdirs)\n",
    "}\n",
    "files_paths <- file.path(files_paths, \"listings.csv\")\n",
    "listings <- \n",
    "    do.call(rbind,\n",
    "            lapply(files_paths, read.csv, row.names=1))"
   ]
  },
  {
   "cell_type": "code",
   "execution_count": 11,
   "metadata": {},
   "outputs": [
    {
     "data": {
      "text/plain": [
       "     city            data_date               id          \n",
       " Length:30577       Length:30577       Min.   :   11547  \n",
       " Class :character   Class :character   1st Qu.:17278276  \n",
       " Mode  :character   Mode  :character   Median :26547472  \n",
       "                                       Mean   :26203204  \n",
       "                                       3rd Qu.:37310559  \n",
       "                                       Max.   :45499210  \n",
       "                                                         \n",
       " neighbourhood_cleansed    latitude       longitude       property_type     \n",
       " Length:30577           Min.   :36.64   Min.   :-6.0165   Length:30577      \n",
       " Class :character       1st Qu.:37.39   1st Qu.:-4.4354   Class :character  \n",
       " Mode  :character       Median :39.43   Median : 2.6531   Mode  :character  \n",
       "                        Mean   :38.56   Mean   :-0.4932                     \n",
       "                        3rd Qu.:39.71   3rd Qu.: 3.0743                     \n",
       "                        Max.   :39.93   Max.   : 3.4755                     \n",
       "                                                                            \n",
       "  room_type          accommodates       bedrooms           beds       \n",
       " Length:30577       Min.   : 0.000   Min.   : 0.000   Min.   : 0.000  \n",
       " Class :character   1st Qu.: 4.000   1st Qu.: 1.000   1st Qu.: 2.000  \n",
       " Mode  :character   Median : 4.000   Median : 2.000   Median : 3.000  \n",
       "                    Mean   : 5.139   Mean   : 2.388   Mean   : 3.613  \n",
       "                    3rd Qu.: 6.000   3rd Qu.: 3.000   3rd Qu.: 5.000  \n",
       "                    Max.   :28.000   Max.   :40.000   Max.   :50.000  \n",
       "                                     NA's   :284      NA's   :130     \n",
       "    price           minimum_nights     maximum_nights   availability_30\n",
       " Length:30577       Min.   :   1.000   Min.   :   1.0   Min.   : 0.00  \n",
       " Class :character   1st Qu.:   1.000   1st Qu.: 300.0   1st Qu.:11.00  \n",
       " Mode  :character   Median :   2.000   Median :1125.0   Median :25.00  \n",
       "                    Mean   :   4.264   Mean   : 823.6   Mean   :19.95  \n",
       "                    3rd Qu.:   5.000   3rd Qu.:1125.0   3rd Qu.:29.00  \n",
       "                    Max.   :1124.000   Max.   :5000.0   Max.   :30.00  \n",
       "                                                                       \n",
       " availability_60 availability_90 availability_365    price_30       \n",
       " Min.   : 0.0    Min.   : 0.00   Min.   :  0.0    Min.   :    0.00  \n",
       " 1st Qu.:27.0    1st Qu.:36.00   1st Qu.:118.0    1st Qu.:   64.82  \n",
       " Median :48.0    Median :72.00   Median :242.0    Median :  114.00  \n",
       " Mean   :39.9    Mean   :59.03   Mean   :222.1    Mean   :  173.91  \n",
       " 3rd Qu.:59.0    3rd Qu.:88.00   3rd Qu.:347.0    3rd Qu.:  200.00  \n",
       " Max.   :60.0    Max.   :90.00   Max.   :365.0    Max.   :11400.00  \n",
       "                                                  NA's   :7387      \n",
       "    price_60           price_90          price_365          revenue_30    \n",
       " Min.   :    0.00   Min.   :    0.00   Min.   :    0.00   Min.   :     0  \n",
       " 1st Qu.:   67.12   1st Qu.:   68.82   1st Qu.:   70.71   1st Qu.:    35  \n",
       " Median :  116.00   Median :  115.04   Median :  125.00   Median :   496  \n",
       " Mean   :  179.25   Mean   :  182.72   Mean   :  320.10   Mean   :  1704  \n",
       " 3rd Qu.:  204.50   3rd Qu.:  205.94   3rd Qu.:  240.00   3rd Qu.:  1890  \n",
       " Max.   :11400.00   Max.   :11400.00   Max.   :11400.00   Max.   :300000  \n",
       " NA's   :5712       NA's   :5075       NA's   :2867                       \n",
       "   revenue_60       revenue_90      revenue_365     \n",
       " Min.   :     0   Min.   :     0   Min.   :      0  \n",
       " 1st Qu.:   110   1st Qu.:   183   1st Qu.:   2240  \n",
       " Median :  1280   Median :  1869   Median :  12380  \n",
       " Mean   :  3573   Mean   :  5884   Mean   :  49014  \n",
       " 3rd Qu.:  4060   3rd Qu.:  6563   3rd Qu.:  31995  \n",
       " Max.   :600000   Max.   :900000   Max.   :3362015  \n",
       "                                                    "
      ]
     },
     "metadata": {},
     "output_type": "display_data"
    }
   ],
   "source": [
    "summary(listings)"
   ]
  },
  {
   "cell_type": "markdown",
   "metadata": {},
   "source": [
    "### Preprocessing "
   ]
  },
  {
   "cell_type": "code",
   "execution_count": 12,
   "metadata": {},
   "outputs": [],
   "source": [
    "listings$bedrooms <- ifelse(listings$bedrooms >= 5, \"5+\", listings$bedrooms)\n",
    "\n",
    "# to do : break even point\n",
    "# steps 1 : find the average price for the squarre meter in the city --> fixed costs \n",
    "# steps 2 : find the average price for the electricity and gas for --> variable costs \n",
    "# steps 3 : compute the break even point in day"
   ]
  },
  {
   "cell_type": "code",
   "execution_count": 13,
   "metadata": {},
   "outputs": [
    {
     "data": {
      "text/html": [
       "<style>\n",
       ".list-inline {list-style: none; margin:0; padding: 0}\n",
       ".list-inline>li {display: inline-block}\n",
       ".list-inline>li:not(:last-child)::after {content: \"\\00b7\"; padding: 0 .5ex}\n",
       "</style>\n",
       "<ol class=list-inline><li>'city'</li><li>'data_date'</li><li>'id'</li><li>'neighbourhood_cleansed'</li><li>'latitude'</li><li>'longitude'</li><li>'property_type'</li><li>'room_type'</li><li>'accommodates'</li><li>'bedrooms'</li><li>'beds'</li><li>'price'</li><li>'minimum_nights'</li><li>'maximum_nights'</li><li>'availability_30'</li><li>'availability_60'</li><li>'availability_90'</li><li>'availability_365'</li><li>'price_30'</li><li>'price_60'</li><li>'price_90'</li><li>'price_365'</li><li>'revenue_30'</li><li>'revenue_60'</li><li>'revenue_90'</li><li>'revenue_365'</li></ol>\n"
      ],
      "text/latex": [
       "\\begin{enumerate*}\n",
       "\\item 'city'\n",
       "\\item 'data\\_date'\n",
       "\\item 'id'\n",
       "\\item 'neighbourhood\\_cleansed'\n",
       "\\item 'latitude'\n",
       "\\item 'longitude'\n",
       "\\item 'property\\_type'\n",
       "\\item 'room\\_type'\n",
       "\\item 'accommodates'\n",
       "\\item 'bedrooms'\n",
       "\\item 'beds'\n",
       "\\item 'price'\n",
       "\\item 'minimum\\_nights'\n",
       "\\item 'maximum\\_nights'\n",
       "\\item 'availability\\_30'\n",
       "\\item 'availability\\_60'\n",
       "\\item 'availability\\_90'\n",
       "\\item 'availability\\_365'\n",
       "\\item 'price\\_30'\n",
       "\\item 'price\\_60'\n",
       "\\item 'price\\_90'\n",
       "\\item 'price\\_365'\n",
       "\\item 'revenue\\_30'\n",
       "\\item 'revenue\\_60'\n",
       "\\item 'revenue\\_90'\n",
       "\\item 'revenue\\_365'\n",
       "\\end{enumerate*}\n"
      ],
      "text/markdown": [
       "1. 'city'\n",
       "2. 'data_date'\n",
       "3. 'id'\n",
       "4. 'neighbourhood_cleansed'\n",
       "5. 'latitude'\n",
       "6. 'longitude'\n",
       "7. 'property_type'\n",
       "8. 'room_type'\n",
       "9. 'accommodates'\n",
       "10. 'bedrooms'\n",
       "11. 'beds'\n",
       "12. 'price'\n",
       "13. 'minimum_nights'\n",
       "14. 'maximum_nights'\n",
       "15. 'availability_30'\n",
       "16. 'availability_60'\n",
       "17. 'availability_90'\n",
       "18. 'availability_365'\n",
       "19. 'price_30'\n",
       "20. 'price_60'\n",
       "21. 'price_90'\n",
       "22. 'price_365'\n",
       "23. 'revenue_30'\n",
       "24. 'revenue_60'\n",
       "25. 'revenue_90'\n",
       "26. 'revenue_365'\n",
       "\n",
       "\n"
      ],
      "text/plain": [
       " [1] \"city\"                   \"data_date\"              \"id\"                    \n",
       " [4] \"neighbourhood_cleansed\" \"latitude\"               \"longitude\"             \n",
       " [7] \"property_type\"          \"room_type\"              \"accommodates\"          \n",
       "[10] \"bedrooms\"               \"beds\"                   \"price\"                 \n",
       "[13] \"minimum_nights\"         \"maximum_nights\"         \"availability_30\"       \n",
       "[16] \"availability_60\"        \"availability_90\"        \"availability_365\"      \n",
       "[19] \"price_30\"               \"price_60\"               \"price_90\"              \n",
       "[22] \"price_365\"              \"revenue_30\"             \"revenue_60\"            \n",
       "[25] \"revenue_90\"             \"revenue_365\"           "
      ]
     },
     "metadata": {},
     "output_type": "display_data"
    }
   ],
   "source": [
    "names(listings)"
   ]
  },
  {
   "cell_type": "markdown",
   "metadata": {},
   "source": [
    "## Example of analysis"
   ]
  },
  {
   "cell_type": "code",
   "execution_count": 14,
   "metadata": {},
   "outputs": [
    {
     "ename": "ERROR",
     "evalue": "Error in ggplot(listings, aes(city, revenue_30)): impossible de trouver la fonction \"ggplot\"\n",
     "output_type": "error",
     "traceback": [
      "Error in ggplot(listings, aes(city, revenue_30)): impossible de trouver la fonction \"ggplot\"\nTraceback:\n"
     ]
    }
   ],
   "source": [
    "# Analysis 1\n",
    "## Comparing the distribution of estimated revenue for the next 30 days of listings\n",
    "## per each city.\n",
    "p <- ggplot(listings, aes(city, revenue_30))\n",
    "p + geom_boxplot(aes(colour = \"red\"), outlier.shape = NA) +\n",
    "    scale_y_continuous(limits = quantile(listings$revenue_30, c(0.1, 0.9), na.rm = T))"
   ]
  },
  {
   "cell_type": "markdown",
   "metadata": {},
   "source": [
    "## Analysis : comparing cities"
   ]
  },
  {
   "cell_type": "markdown",
   "metadata": {},
   "source": [
    "#### 1. Find the \"average availability over 30 days\" of listings per each city"
   ]
  },
  {
   "cell_type": "code",
   "execution_count": 15,
   "metadata": {},
   "outputs": [
    {
     "data": {
      "text/plain": [
       "NULL"
      ]
     },
     "metadata": {},
     "output_type": "display_data"
    }
   ],
   "source": [
    "dim(listings$availability_30)"
   ]
  },
  {
   "cell_type": "code",
   "execution_count": 16,
   "metadata": {},
   "outputs": [
    {
     "ename": "ERROR",
     "evalue": "Error in apply(listings$availability_30, 2, mean): dim(X) must have a positive length\n",
     "output_type": "error",
     "traceback": [
      "Error in apply(listings$availability_30, 2, mean): dim(X) must have a positive length\nTraceback:\n",
      "1. apply(listings$availability_30, 2, mean)",
      "2. stop(\"dim(X) must have a positive length\")"
     ]
    }
   ],
   "source": [
    "apply(listings$availability_30, 2, mean)"
   ]
  },
  {
   "cell_type": "code",
   "execution_count": null,
   "metadata": {},
   "outputs": [],
   "source": []
  }
 ],
 "metadata": {
  "kernelspec": {
   "display_name": "R",
   "language": "R",
   "name": "ir"
  },
  "language_info": {
   "codemirror_mode": "r",
   "file_extension": ".r",
   "mimetype": "text/x-r-source",
   "name": "R",
   "pygments_lexer": "r",
   "version": "4.0.2"
  }
 },
 "nbformat": 4,
 "nbformat_minor": 4
}

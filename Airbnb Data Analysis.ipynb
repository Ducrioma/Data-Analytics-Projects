{
 "cells": [
  {
   "cell_type": "markdown",
   "metadata": {},
   "source": [
    "# Airbnb Data Analysis\n",
    "\n",
    "Data from [Inside Airbnb](http://insideairbnb.com/get-the-data.html)"
   ]
  },
  {
   "cell_type": "markdown",
   "metadata": {},
   "source": [
    "## Data Preparation\n",
    "1. Prepare data set for each city\n",
    "2. Clean data for each city"
   ]
  },
  {
   "cell_type": "code",
   "execution_count": 1,
   "metadata": {},
   "outputs": [],
   "source": [
    "# need to install this package first\n",
    "# install.packages(\"stringi\")"
   ]
  },
  {
   "cell_type": "code",
   "execution_count": 1,
   "metadata": {},
   "outputs": [
    {
     "name": "stderr",
     "output_type": "stream",
     "text": [
      "\n",
      "Attaching package: ‘dplyr’\n",
      "\n",
      "The following objects are masked from ‘package:stats’:\n",
      "\n",
      "    filter, lag\n",
      "\n",
      "The following objects are masked from ‘package:base’:\n",
      "\n",
      "    intersect, setdiff, setequal, union\n",
      "\n",
      "\n",
      "Attaching package: ‘data.table’\n",
      "\n",
      "The following objects are masked from ‘package:dplyr’:\n",
      "\n",
      "    between, first, last\n",
      "\n"
     ]
    }
   ],
   "source": [
    "library(dplyr)\n",
    "# issue with this one\n",
    "library(stringr)\n",
    "library(ggplot2)\n",
    "library(data.table)"
   ]
  },
  {
   "cell_type": "code",
   "execution_count": 2,
   "metadata": {},
   "outputs": [],
   "source": [
    "# Function from the data_prep script\n",
    "\n",
    "# a generic function to prepare data for a specific city, data_date\n",
    "prepare_data <- function(city, data_date)\n",
    "{\n",
    "    # Cleaning listings dataframe\n",
    "    \n",
    "    # suppose raw data is stored in data_raw/city/data_date/listings.csv.gz\n",
    "    listings_url <- file.path(\"data_raw\", city, data_date, \"listings.csv.gz\")\n",
    "    # suppose raw data is stored in data_raw/city/data_date/calendar.csv.gz\n",
    "    calendar_url <- file.path(\"data_raw\", city, data_date, \"calendar.csv.gz\")\n",
    "    \n",
    "    print(paste0(\"reading data from \", listings_url))\n",
    "    listings <- read.csv(gzfile(listings_url))\n",
    "    print(paste0(\"reading data from \", calendar_url))\n",
    "    calendar <- read.csv(gzfile(calendar_url))\n",
    "    \n",
    "    ## Add Keys: columns city and day date\n",
    "    listings$city <- city\n",
    "    listings$data_date <- data_date\n",
    "    \n",
    "    ## Select interesting columns\n",
    "    ### Most columns don't contain interesting information\n",
    "    columns_listings <- c(\"city\", \"data_date\", \"id\", \"neighbourhood_cleansed\", \n",
    "                          \"latitude\", \"longitude\", \n",
    "                          \"property_type\", \"room_type\", \"accommodates\", \"bedrooms\", \n",
    "                          \"beds\", \"price\", \"minimum_nights\",  \"maximum_nights\")\n",
    "    \n",
    "    listings <- listings %>% \n",
    "        select(columns_listings) %>% \n",
    "        arrange(id)\n",
    "    \n",
    "    \n",
    "    # Cleaning calendar dataframe\n",
    "    \n",
    "    ## arrange by id and date\n",
    "    calendar <- calendar %>% \n",
    "        arrange(listing_id, date)\n",
    "    \n",
    "    ## add day number (starting first day)\n",
    "    calendar <- calendar %>%\n",
    "        group_by(listing_id) %>%\n",
    "        mutate(day_nb = row_number()) %>%\n",
    "        ungroup()\n",
    "    \n",
    "    ## change available column to binary\n",
    "    calendar <- calendar %>%\n",
    "        mutate(available = ifelse(available==\"t\", 1, 0))\n",
    "    \n",
    "    ## clean price column and transform to numeric\n",
    "    calendar <- calendar %>%\n",
    "        mutate(price = str_replace(price, \"\\\\$\", \"\"),\n",
    "               adjusted_price = str_replace(adjusted_price, \"\\\\$\", \"\"))\n",
    "    calendar <- calendar %>%\n",
    "        mutate(price = str_replace(price, \",\", \"\"),\n",
    "               adjusted_price = str_replace(adjusted_price, \",\", \"\"))\n",
    "    calendar <- calendar %>%\n",
    "        mutate(price = as.numeric(price),\n",
    "               adjusted_price = as.numeric(adjusted_price))\n",
    "    \n",
    "    ## calculate estimated revenue for upcoming day\n",
    "    calendar <- calendar %>%\n",
    "        mutate(revenue = price*(1-available))\n",
    "    \n",
    "    ## calculate availability, price, revenue for next 30, 60 days ... for each listing_id\n",
    "    calendar <- calendar %>%\n",
    "        group_by(listing_id) %>%\n",
    "        summarise(availability_30 = sum(available[day_nb<=30], na.rm = TRUE),\n",
    "                  availability_60 = sum(available[day_nb<=60], na.rm = TRUE),\n",
    "                  availability_90 = sum(available[day_nb<=90], na.rm = TRUE),\n",
    "                  availability_365 = sum(available[day_nb<=365], na.rm = TRUE),\n",
    "                  price_30 = mean(price[day_nb<=30 & available==0], na.rm = TRUE),\n",
    "                  price_60 = mean(price[day_nb<=60 & available==0], na.rm = TRUE),\n",
    "                  price_90 = mean(price[day_nb<=90 & available==0], na.rm = TRUE),\n",
    "                  price_365 = mean(price[day_nb<=365 & available==0], na.rm = TRUE),\n",
    "                  revenue_30 = sum(revenue[day_nb<=30], na.rm = TRUE),\n",
    "                  revenue_60 = sum(revenue[day_nb<=60], na.rm = TRUE),\n",
    "                  revenue_90 = sum(revenue[day_nb<=90], na.rm = TRUE),\n",
    "                  revenue_365 = sum(revenue[day_nb<=365], na.rm = TRUE)           \n",
    "        )\n",
    "    \n",
    "    listings_cleansed <- listings %>% left_join(calendar, by = c(\"id\" = \"listing_id\"))\n",
    "    \n",
    "    dir.create(file.path(\"data_cleansed\", city, data_date), recursive = TRUE)\n",
    "    \n",
    "    write.csv(listings_cleansed, file.path(\"data_cleansed\", city, data_date, \"listings.csv\"))\n",
    "    print(paste0(\"saving data into \", file.path(\"data_cleansed\", city, data_date, \"listings.csv\")))\n",
    "    \n",
    "}  "
   ]
  },
  {
   "cell_type": "markdown",
   "metadata": {},
   "source": [
    "### Unit test : Reading data for malaga:\n",
    "#### Preparing data, working ✅"
   ]
  },
  {
   "cell_type": "code",
   "execution_count": 30,
   "metadata": {},
   "outputs": [],
   "source": [
    "# city <- \"malaga\"\n",
    "# data_date <- \"2020-06-30\"\n",
    "# prepare_data(city,data_date)"
   ]
  },
  {
   "cell_type": "markdown",
   "metadata": {},
   "source": [
    "# Prepare data for all selected cities "
   ]
  },
  {
   "cell_type": "code",
   "execution_count": 3,
   "metadata": {},
   "outputs": [],
   "source": [
    "# Reading cleansed data\n",
    "cities <- c(\"malaga\", \"mallorca\", \"sevilla\")\n",
    "data_dates <- c(\"2020-06-30\", \"2020-09-19\", \"2020-06-29\")\n",
    "\n",
    "# We are only interested in data between min_date and max_date\n",
    "min_date <- '2020-05-01'\n",
    "max_date <- '2020-11-01'\n",
    "\n",
    "files_paths <- c()"
   ]
  },
  {
   "cell_type": "markdown",
   "metadata": {},
   "source": [
    "### Preparare data for Malaga, mallorca, sevilla"
   ]
  },
  {
   "cell_type": "code",
   "execution_count": 5,
   "metadata": {},
   "outputs": [
    {
     "name": "stdout",
     "output_type": "stream",
     "text": [
      "[1] \"-------------------------------------------------\"\n",
      "[1] \"Preparing data for malaga compiled at 2020-06-30\"\n",
      "[1] \"reading data from data_raw/malaga/2020-06-30/listings.csv.gz\"\n",
      "[1] \"reading data from data_raw/malaga/2020-06-30/calendar.csv.gz\"\n"
     ]
    },
    {
     "name": "stderr",
     "output_type": "stream",
     "text": [
      "Warning message in dir.create(file.path(\"data_cleansed\", city, data_date), recursive = TRUE):\n",
      "“'data_cleansed/malaga/2020-06-30' already exists”"
     ]
    },
    {
     "name": "stdout",
     "output_type": "stream",
     "text": [
      "[1] \"saving data into data_cleansed/malaga/2020-06-30/listings.csv\"\n",
      "[1] \"-------------------------------------------------\"\n",
      "[1] \"Preparing data for mallorca compiled at 2020-09-19\"\n",
      "[1] \"reading data from data_raw/mallorca/2020-09-19/listings.csv.gz\"\n",
      "[1] \"reading data from data_raw/mallorca/2020-09-19/calendar.csv.gz\"\n"
     ]
    },
    {
     "name": "stderr",
     "output_type": "stream",
     "text": [
      "Warning message in dir.create(file.path(\"data_cleansed\", city, data_date), recursive = TRUE):\n",
      "“'data_cleansed/mallorca/2020-09-19' already exists”"
     ]
    },
    {
     "name": "stdout",
     "output_type": "stream",
     "text": [
      "[1] \"saving data into data_cleansed/mallorca/2020-09-19/listings.csv\"\n",
      "[1] \"-------------------------------------------------\"\n",
      "[1] \"Preparing data for sevilla compiled at 2020-06-29\"\n",
      "[1] \"reading data from data_raw/sevilla/2020-06-29/listings.csv.gz\"\n",
      "[1] \"reading data from data_raw/sevilla/2020-06-29/calendar.csv.gz\"\n"
     ]
    },
    {
     "name": "stderr",
     "output_type": "stream",
     "text": [
      "Warning message in dir.create(file.path(\"data_cleansed\", city, data_date), recursive = TRUE):\n",
      "“'data_cleansed/sevilla/2020-06-29' already exists”"
     ]
    },
    {
     "name": "stdout",
     "output_type": "stream",
     "text": [
      "[1] \"saving data into data_cleansed/sevilla/2020-06-29/listings.csv\"\n"
     ]
    }
   ],
   "source": [
    "for(i in 1:length(cities)){\n",
    "    city <- cities[i]\n",
    "    data_date <- data_dates[i]\n",
    "    print(\"-------------------------------------------------\")\n",
    "    print(paste(c(\"Preparing data for\", city, \"compiled at\", data_date), collapse = \" \"))\n",
    "    prepare_data(city, data_date)\n",
    "}\n",
    "\n",
    "# Clean Environment\n",
    "rm(list=ls())"
   ]
  },
  {
   "cell_type": "code",
   "execution_count": 4,
   "metadata": {},
   "outputs": [],
   "source": [
    "# Reading cleansed data\n",
    "cities <- c(\"malaga\", \"mallorca\", \"sevilla\")\n",
    "data_dates <- c(\"2020-06-30\", \"2020-09-19\", \"2020-06-29\")\n",
    "\n",
    "# We are only interested in data between min_date and max_date\n",
    "min_date <- '2020-05-01'\n",
    "max_date <- '2020-11-01'\n",
    "\n",
    "files_paths <- c()"
   ]
  },
  {
   "cell_type": "markdown",
   "metadata": {},
   "source": [
    "### Read data in cities between min_date and max_date"
   ]
  },
  {
   "cell_type": "code",
   "execution_count": 5,
   "metadata": {},
   "outputs": [],
   "source": [
    "for(city in cities){\n",
    "    file_dir <- file.path(\".\", \"data_cleansed\", city)\n",
    "    file_subdirs <- list.dirs(file_dir)\n",
    "    file_subdirs <- file_subdirs[-1]\n",
    "\n",
    "    for(file_subdir in file_subdirs){\n",
    "        if(file_subdir < file.path(file_dir, min_date) | file_subdir > file.path(file_dir, max_date)  )\n",
    "            file_subdirs = file_subdirs[file_subdirs != file_subdir]\n",
    "    }\n",
    "    files_paths <- c(files_paths, file_subdirs)\n",
    "}\n",
    "files_paths <- file.path(files_paths, \"listings.csv\")\n",
    "listings <- \n",
    "    do.call(rbind,\n",
    "            lapply(files_paths, read.csv, row.names=1))"
   ]
  },
  {
   "cell_type": "code",
   "execution_count": 6,
   "metadata": {},
   "outputs": [
    {
     "data": {
      "text/plain": [
       "       city            data_date           id          \n",
       " malaga  : 6301   2020-06-30: 6301   Min.   :   11547  \n",
       " mallorca:17608   2020-09-19:17608   1st Qu.:17278276  \n",
       " sevilla : 6668   2020-06-29: 6668   Median :26547472  \n",
       "                                     Mean   :26203204  \n",
       "                                     3rd Qu.:37310559  \n",
       "                                     Max.   :45499210  \n",
       "                                                       \n",
       "       neighbourhood_cleansed    latitude       longitude      \n",
       " Centro           : 4327      Min.   :36.64   Min.   :-6.0165  \n",
       " Pollença         : 2268      1st Qu.:37.39   1st Qu.:-4.4354  \n",
       " Palma de Mallorca: 1952      Median :39.43   Median : 2.6531  \n",
       " Alcúdia          : 1732      Mean   :38.56   Mean   :-0.4932  \n",
       " Manacor          :  902      3rd Qu.:39.71   3rd Qu.: 3.0743  \n",
       " Santanyí         :  887      Max.   :39.93   Max.   : 3.4755  \n",
       " (Other)          :18509                                       \n",
       "          property_type             room_type      accommodates   \n",
       " Apartment       :10440   Entire home/apt:26365   Min.   : 0.000  \n",
       " Entire villa    : 4878   Hotel room     :  383   1st Qu.: 4.000  \n",
       " Entire house    : 4823   Private room   : 3778   Median : 4.000  \n",
       " Entire apartment: 3259   Shared room    :   51   Mean   : 5.139  \n",
       " Entire cottage  :  880                           3rd Qu.: 6.000  \n",
       " House           :  723                           Max.   :28.000  \n",
       " (Other)         : 5574                                           \n",
       "    bedrooms           beds            price       minimum_nights    \n",
       " Min.   : 0.000   Min.   : 0.000   $60.00 :  829   Min.   :   1.000  \n",
       " 1st Qu.: 1.000   1st Qu.: 2.000   $50.00 :  825   1st Qu.:   1.000  \n",
       " Median : 2.000   Median : 3.000   $100.00:  718   Median :   2.000  \n",
       " Mean   : 2.388   Mean   : 3.613   $70.00 :  706   Mean   :   4.264  \n",
       " 3rd Qu.: 3.000   3rd Qu.: 5.000   $80.00 :  689   3rd Qu.:   5.000  \n",
       " Max.   :40.000   Max.   :50.000   $90.00 :  579   Max.   :1124.000  \n",
       " NA's   :284      NA's   :130      (Other):26231                     \n",
       " maximum_nights   availability_30 availability_60 availability_90\n",
       " Min.   :   1.0   Min.   : 0.00   Min.   : 0.0    Min.   : 0.00  \n",
       " 1st Qu.: 300.0   1st Qu.:11.00   1st Qu.:27.0    1st Qu.:36.00  \n",
       " Median :1125.0   Median :25.00   Median :48.0    Median :72.00  \n",
       " Mean   : 823.6   Mean   :19.95   Mean   :39.9    Mean   :59.03  \n",
       " 3rd Qu.:1125.0   3rd Qu.:29.00   3rd Qu.:59.0    3rd Qu.:88.00  \n",
       " Max.   :5000.0   Max.   :30.00   Max.   :60.0    Max.   :90.00  \n",
       "                                                                 \n",
       " availability_365    price_30           price_60           price_90       \n",
       " Min.   :  0.0    Min.   :    0.00   Min.   :    0.00   Min.   :    0.00  \n",
       " 1st Qu.:118.0    1st Qu.:   64.82   1st Qu.:   67.12   1st Qu.:   68.82  \n",
       " Median :242.0    Median :  114.00   Median :  116.00   Median :  115.04  \n",
       " Mean   :222.1    Mean   :  173.91   Mean   :  179.25   Mean   :  182.72  \n",
       " 3rd Qu.:347.0    3rd Qu.:  200.00   3rd Qu.:  204.50   3rd Qu.:  205.94  \n",
       " Max.   :365.0    Max.   :11400.00   Max.   :11400.00   Max.   :11400.00  \n",
       "                  NA's   :7387       NA's   :5712       NA's   :5075      \n",
       "   price_365          revenue_30       revenue_60       revenue_90    \n",
       " Min.   :    0.00   Min.   :     0   Min.   :     0   Min.   :     0  \n",
       " 1st Qu.:   70.71   1st Qu.:    35   1st Qu.:   110   1st Qu.:   183  \n",
       " Median :  125.00   Median :   496   Median :  1280   Median :  1869  \n",
       " Mean   :  320.10   Mean   :  1704   Mean   :  3573   Mean   :  5884  \n",
       " 3rd Qu.:  240.00   3rd Qu.:  1890   3rd Qu.:  4060   3rd Qu.:  6563  \n",
       " Max.   :11400.00   Max.   :300000   Max.   :600000   Max.   :900000  \n",
       " NA's   :2867                                                         \n",
       "  revenue_365     \n",
       " Min.   :      0  \n",
       " 1st Qu.:   2240  \n",
       " Median :  12380  \n",
       " Mean   :  49014  \n",
       " 3rd Qu.:  31995  \n",
       " Max.   :3362015  \n",
       "                  "
      ]
     },
     "metadata": {},
     "output_type": "display_data"
    }
   ],
   "source": [
    "summary(listings)"
   ]
  },
  {
   "cell_type": "markdown",
   "metadata": {},
   "source": [
    "### Preprocessing "
   ]
  },
  {
   "cell_type": "code",
   "execution_count": 7,
   "metadata": {},
   "outputs": [],
   "source": [
    "listings$bedrooms <- ifelse(listings$bedrooms >= 5, \"5+\", listings$bedrooms)\n",
    "\n",
    "# to do : break even point\n",
    "# steps 1 : find the average price for the squarre meter in the city --> fixed costs \n",
    "# steps 2 : find the average price for the electricity and gas for --> variable costs \n",
    "# steps 3 : compute the break even point in day"
   ]
  },
  {
   "cell_type": "code",
   "execution_count": 8,
   "metadata": {},
   "outputs": [
    {
     "data": {
      "text/plain": [
       "       city            data_date           id          \n",
       " malaga  : 6301   2020-06-30: 6301   Min.   :   11547  \n",
       " mallorca:17608   2020-09-19:17608   1st Qu.:17278276  \n",
       " sevilla : 6668   2020-06-29: 6668   Median :26547472  \n",
       "                                     Mean   :26203204  \n",
       "                                     3rd Qu.:37310559  \n",
       "                                     Max.   :45499210  \n",
       "                                                       \n",
       "       neighbourhood_cleansed    latitude       longitude      \n",
       " Centro           : 4327      Min.   :36.64   Min.   :-6.0165  \n",
       " Pollença         : 2268      1st Qu.:37.39   1st Qu.:-4.4354  \n",
       " Palma de Mallorca: 1952      Median :39.43   Median : 2.6531  \n",
       " Alcúdia          : 1732      Mean   :38.56   Mean   :-0.4932  \n",
       " Manacor          :  902      3rd Qu.:39.71   3rd Qu.: 3.0743  \n",
       " Santanyí         :  887      Max.   :39.93   Max.   : 3.4755  \n",
       " (Other)          :18509                                       \n",
       "          property_type             room_type      accommodates   \n",
       " Apartment       :10440   Entire home/apt:26365   Min.   : 0.000  \n",
       " Entire villa    : 4878   Hotel room     :  383   1st Qu.: 4.000  \n",
       " Entire house    : 4823   Private room   : 3778   Median : 4.000  \n",
       " Entire apartment: 3259   Shared room    :   51   Mean   : 5.139  \n",
       " Entire cottage  :  880                           3rd Qu.: 6.000  \n",
       " House           :  723                           Max.   :28.000  \n",
       " (Other)         : 5574                                           \n",
       "   bedrooms              beds            price       minimum_nights    \n",
       " Length:30577       Min.   : 0.000   $60.00 :  829   Min.   :   1.000  \n",
       " Class :character   1st Qu.: 2.000   $50.00 :  825   1st Qu.:   1.000  \n",
       " Mode  :character   Median : 3.000   $100.00:  718   Median :   2.000  \n",
       "                    Mean   : 3.613   $70.00 :  706   Mean   :   4.264  \n",
       "                    3rd Qu.: 5.000   $80.00 :  689   3rd Qu.:   5.000  \n",
       "                    Max.   :50.000   $90.00 :  579   Max.   :1124.000  \n",
       "                    NA's   :130      (Other):26231                     \n",
       " maximum_nights   availability_30 availability_60 availability_90\n",
       " Min.   :   1.0   Min.   : 0.00   Min.   : 0.0    Min.   : 0.00  \n",
       " 1st Qu.: 300.0   1st Qu.:11.00   1st Qu.:27.0    1st Qu.:36.00  \n",
       " Median :1125.0   Median :25.00   Median :48.0    Median :72.00  \n",
       " Mean   : 823.6   Mean   :19.95   Mean   :39.9    Mean   :59.03  \n",
       " 3rd Qu.:1125.0   3rd Qu.:29.00   3rd Qu.:59.0    3rd Qu.:88.00  \n",
       " Max.   :5000.0   Max.   :30.00   Max.   :60.0    Max.   :90.00  \n",
       "                                                                 \n",
       " availability_365    price_30           price_60           price_90       \n",
       " Min.   :  0.0    Min.   :    0.00   Min.   :    0.00   Min.   :    0.00  \n",
       " 1st Qu.:118.0    1st Qu.:   64.82   1st Qu.:   67.12   1st Qu.:   68.82  \n",
       " Median :242.0    Median :  114.00   Median :  116.00   Median :  115.04  \n",
       " Mean   :222.1    Mean   :  173.91   Mean   :  179.25   Mean   :  182.72  \n",
       " 3rd Qu.:347.0    3rd Qu.:  200.00   3rd Qu.:  204.50   3rd Qu.:  205.94  \n",
       " Max.   :365.0    Max.   :11400.00   Max.   :11400.00   Max.   :11400.00  \n",
       "                  NA's   :7387       NA's   :5712       NA's   :5075      \n",
       "   price_365          revenue_30       revenue_60       revenue_90    \n",
       " Min.   :    0.00   Min.   :     0   Min.   :     0   Min.   :     0  \n",
       " 1st Qu.:   70.71   1st Qu.:    35   1st Qu.:   110   1st Qu.:   183  \n",
       " Median :  125.00   Median :   496   Median :  1280   Median :  1869  \n",
       " Mean   :  320.10   Mean   :  1704   Mean   :  3573   Mean   :  5884  \n",
       " 3rd Qu.:  240.00   3rd Qu.:  1890   3rd Qu.:  4060   3rd Qu.:  6563  \n",
       " Max.   :11400.00   Max.   :300000   Max.   :600000   Max.   :900000  \n",
       " NA's   :2867                                                         \n",
       "  revenue_365     \n",
       " Min.   :      0  \n",
       " 1st Qu.:   2240  \n",
       " Median :  12380  \n",
       " Mean   :  49014  \n",
       " 3rd Qu.:  31995  \n",
       " Max.   :3362015  \n",
       "                  "
      ]
     },
     "metadata": {},
     "output_type": "display_data"
    }
   ],
   "source": [
    "summary(listings)"
   ]
  },
  {
   "cell_type": "markdown",
   "metadata": {},
   "source": [
    "## Example of analysis"
   ]
  },
  {
   "cell_type": "code",
   "execution_count": 37,
   "metadata": {},
   "outputs": [
    {
     "name": "stderr",
     "output_type": "stream",
     "text": [
      "Warning message:\n",
      "“Removed 3058 rows containing non-finite values (stat_boxplot).”"
     ]
    },
    {
     "data": {
      "image/png": "[encoded data removed]",
      "text/plain": [
       "plot without title"
      ]
     },
     "metadata": {},
     "output_type": "display_data"
    }
   ],
   "source": [
    "# Analysis 1\n",
    "## Comparing the distribution of estimated revenue for the next 30 days of listings\n",
    "## per each city.\n",
    "p <- ggplot(listings, aes(city, revenue_30))\n",
    "p + geom_boxplot(aes(colour = \"red\"), outlier.shape = NA) +\n",
    "    scale_y_continuous(limits = quantile(listings$revenue_30, c(0.1, 0.9), na.rm = T))"
   ]
  },
  {
   "cell_type": "markdown",
   "metadata": {},
   "source": [
    "## Analysis 1 : comparing cities"
   ]
  },
  {
   "cell_type": "markdown",
   "metadata": {},
   "source": [
    "#### 1. Find the \"average availability over 30 days\" of listings per each city"
   ]
  },
  {
   "cell_type": "code",
   "execution_count": 38,
   "metadata": {},
   "outputs": [],
   "source": [
    "avg_av <- aggregate(listings$availability_30, list(listings$city),mean)"
   ]
  },
  {
   "cell_type": "code",
   "execution_count": 39,
   "metadata": {},
   "outputs": [
    {
     "data": {
      "text/html": [
       "<table>\n",
       "<caption>A data.frame: 3 × 2</caption>\n",
       "<thead>\n",
       "\t<tr><th scope=col>Group.1</th><th scope=col>x</th></tr>\n",
       "\t<tr><th scope=col>&lt;fct&gt;</th><th scope=col>&lt;dbl&gt;</th></tr>\n",
       "</thead>\n",
       "<tbody>\n",
       "\t<tr><td>malaga  </td><td>17.96286</td></tr>\n",
       "\t<tr><td>mallorca</td><td>20.67787</td></tr>\n",
       "\t<tr><td>sevilla </td><td>19.89412</td></tr>\n",
       "</tbody>\n",
       "</table>\n"
      ],
      "text/latex": [
       "A data.frame: 3 × 2\n",
       "\\begin{tabular}{r|ll}\n",
       " Group.1 & x\\\\\n",
       " <fct> & <dbl>\\\\\n",
       "\\hline\n",
       "\t malaga   & 17.96286\\\\\n",
       "\t mallorca & 20.67787\\\\\n",
       "\t sevilla  & 19.89412\\\\\n",
       "\\end{tabular}\n"
      ],
      "text/markdown": [
       "\n",
       "A data.frame: 3 × 2\n",
       "\n",
       "| Group.1 &lt;fct&gt; | x &lt;dbl&gt; |\n",
       "|---|---|\n",
       "| malaga   | 17.96286 |\n",
       "| mallorca | 20.67787 |\n",
       "| sevilla  | 19.89412 |\n",
       "\n"
      ],
      "text/plain": [
       "  Group.1  x       \n",
       "1 malaga   17.96286\n",
       "2 mallorca 20.67787\n",
       "3 sevilla  19.89412"
      ]
     },
     "metadata": {},
     "output_type": "display_data"
    }
   ],
   "source": [
    "avg_av"
   ]
  },
  {
   "cell_type": "markdown",
   "metadata": {},
   "source": [
    "#### 2. Find the \"average revenue over 30 days\" of listings per each city"
   ]
  },
  {
   "cell_type": "code",
   "execution_count": 12,
   "metadata": {},
   "outputs": [],
   "source": [
    "avg_rev <- aggregate(listings$revenue_30,list(listings$city),mean)"
   ]
  },
  {
   "cell_type": "code",
   "execution_count": 21,
   "metadata": {},
   "outputs": [
    {
     "data": {
      "text/html": [
       "<table>\n",
       "<caption>A data.frame: 3 × 2</caption>\n",
       "<thead>\n",
       "\t<tr><th scope=col>Group.1</th><th scope=col>x</th></tr>\n",
       "\t<tr><th scope=col>&lt;chr&gt;</th><th scope=col>&lt;dbl&gt;</th></tr>\n",
       "</thead>\n",
       "<tbody>\n",
       "\t<tr><td>malaga  </td><td>1165.814</td></tr>\n",
       "\t<tr><td>mallorca</td><td>2158.894</td></tr>\n",
       "\t<tr><td>sevilla </td><td>1012.779</td></tr>\n",
       "</tbody>\n",
       "</table>\n"
      ],
      "text/latex": [
       "A data.frame: 3 × 2\n",
       "\\begin{tabular}{ll}\n",
       " Group.1 & x\\\\\n",
       " <chr> & <dbl>\\\\\n",
       "\\hline\n",
       "\t malaga   & 1165.814\\\\\n",
       "\t mallorca & 2158.894\\\\\n",
       "\t sevilla  & 1012.779\\\\\n",
       "\\end{tabular}\n"
      ],
      "text/markdown": [
       "\n",
       "A data.frame: 3 × 2\n",
       "\n",
       "| Group.1 &lt;chr&gt; | x &lt;dbl&gt; |\n",
       "|---|---|\n",
       "| malaga   | 1165.814 |\n",
       "| mallorca | 2158.894 |\n",
       "| sevilla  | 1012.779 |\n",
       "\n"
      ],
      "text/plain": [
       "  Group.1  x       \n",
       "1 malaga   1165.814\n",
       "2 mallorca 2158.894\n",
       "3 sevilla  1012.779"
      ]
     },
     "metadata": {},
     "output_type": "display_data"
    }
   ],
   "source": [
    "avg_rev"
   ]
  },
  {
   "cell_type": "markdown",
   "metadata": {},
   "source": [
    "#### 3. Compare the distribution of estimated availability for the next 30 days of listings per each city\n",
    "[source](http://www.sthda.com/french/wiki/ggplot2-courbe-de-distribution-guide-de-demarrage-rapide-logiciel-r-et-visualisation-de-donnees)"
   ]
  },
  {
   "cell_type": "code",
   "execution_count": 13,
   "metadata": {},
   "outputs": [
    {
     "data": {
      "image/png": "[encoded data removed]",
      "text/plain": [
       "plot without title"
      ]
     },
     "metadata": {
      "image/png": {
       "height": 420,
       "width": 420
      }
     },
     "output_type": "display_data"
    }
   ],
   "source": [
    "distrib_av <- ggplot(listings, aes(city, availability_30))\n",
    "distrib_av + geom_boxplot(aes(colour = \"red\"), outlier.shape = NA) +\n",
    "    scale_y_continuous(limits = quantile(listings$availability_30, c(0.1, 0.9), na.rm = T))"
   ]
  },
  {
   "cell_type": "markdown",
   "metadata": {},
   "source": [
    "#### 4. Compare the distribution of estimated revenue for the next 30 days of listings per each city"
   ]
  },
  {
   "cell_type": "code",
   "execution_count": 14,
   "metadata": {},
   "outputs": [
    {
     "name": "stderr",
     "output_type": "stream",
     "text": [
      "Warning message:\n",
      "\"Removed 3058 rows containing non-finite values (stat_boxplot).\"\n"
     ]
    },
    {
     "data": {
      "image/png": "[encoded data removed]",
      "text/plain": [
       "plot without title"
      ]
     },
     "metadata": {
      "image/png": {
       "height": 420,
       "width": 420
      }
     },
     "output_type": "display_data"
    }
   ],
   "source": [
    "distrib_rv <- ggplot(listings, aes(city, revenue_30))\n",
    "distrib_rv + geom_boxplot(aes(colour = \"red\"), outlier.shape = NA) +\n",
    "    scale_y_continuous(limits = quantile(listings$revenue_30, c(0.1, 0.9), na.rm = T))"
   ]
  },
  {
   "cell_type": "markdown",
   "metadata": {},
   "source": [
    "#### 5. Compare the distribution of estimated revenue for the next 30 days of listings per each city."
   ]
  },
  {
   "cell_type": "code",
   "execution_count": 52,
   "metadata": {},
   "outputs": [
    {
     "name": "stderr",
     "output_type": "stream",
     "text": [
      "Warning message:\n",
      "“Removed 3058 rows containing non-finite values (stat_boxplot).”"
     ]
    },
    {
     "data": {
      "image/png": "[encoded data removed]",
      "text/plain": [
       "plot without title"
      ]
     },
     "metadata": {},
     "output_type": "display_data"
    }
   ],
   "source": [
    "distrib_rv_hsize <- ggplot(listings, aes(bedrooms, revenue_30))\n",
    "distrib_rv_hsize + geom_boxplot(aes(colour = \"red\"), outlier.shape = NA) +\n",
    "    scale_y_continuous(limits = quantile(listings$revenue_30, c(0.1, 0.9), na.rm = T)) + \n",
    "    facet_wrap(~ city)"
   ]
  },
  {
   "cell_type": "markdown",
   "metadata": {},
   "source": [
    "#### 6. Compare the distribution of estimated revenue for the next 30 days of listings per each city  & for each room type (room_type)"
   ]
  },
  {
   "cell_type": "code",
   "execution_count": 46,
   "metadata": {},
   "outputs": [
    {
     "name": "stderr",
     "output_type": "stream",
     "text": [
      "Warning message:\n",
      "\"Removed 3058 rows containing non-finite values (stat_boxplot).\"\n"
     ]
    },
    {
     "data": {
      "image/png": "[encoded data removed]",
      "text/plain": [
       "plot without title"
      ]
     },
     "metadata": {
      "image/png": {
       "height": 420,
       "width": 420
      }
     },
     "output_type": "display_data"
    }
   ],
   "source": [
    "distrib_rv_hsize <- ggplot(listings, aes(room_type, revenue_30))\n",
    "distrib_rv_hsize + geom_boxplot(aes(colour = \"red\"), outlier.shape = NA) +\n",
    "    scale_y_continuous(limits = quantile(listings$revenue_30, c(0.1, 0.9), na.rm = T)) + \n",
    "    facet_wrap(~ city)"
   ]
  },
  {
   "cell_type": "markdown",
   "metadata": {},
   "source": [
    "## Analysis 2 : Deep Dive in one City Analysis"
   ]
  },
  {
   "cell_type": "markdown",
   "metadata": {},
   "source": [
    "## A. Malaga"
   ]
  },
  {
   "cell_type": "code",
   "execution_count": 10,
   "metadata": {},
   "outputs": [
    {
     "data": {
      "text/html": [
       "'malaga'"
      ],
      "text/latex": [
       "'malaga'"
      ],
      "text/markdown": [
       "'malaga'"
      ],
      "text/plain": [
       "[1] \"malaga\""
      ]
     },
     "metadata": {},
     "output_type": "display_data"
    }
   ],
   "source": [
    "selected_city <- 'malaga'\n",
    "selected_city"
   ]
  },
  {
   "cell_type": "markdown",
   "metadata": {},
   "source": [
    "#### 1. What is the proportion of each room type?"
   ]
  },
  {
   "cell_type": "code",
   "execution_count": 11,
   "metadata": {},
   "outputs": [],
   "source": [
    "aggregated_room_types <- listings %>%\n",
    "      filter(city == selected_city) %>%\n",
    "      group_by(room_type) %>%\n",
    "      summarise(nb_rooms = n()) %>%\n",
    "      mutate(freq = nb_rooms / sum(nb_rooms))"
   ]
  },
  {
   "cell_type": "code",
   "execution_count": 66,
   "metadata": {},
   "outputs": [
    {
     "data": {
      "text/html": [
       "<table>\n",
       "<caption>A tibble: 4 × 3</caption>\n",
       "<thead>\n",
       "\t<tr><th scope=col>room_type</th><th scope=col>nb_rooms</th><th scope=col>freq</th></tr>\n",
       "\t<tr><th scope=col>&lt;fct&gt;</th><th scope=col>&lt;int&gt;</th><th scope=col>&lt;dbl&gt;</th></tr>\n",
       "</thead>\n",
       "<tbody>\n",
       "\t<tr><td>Entire home/apt</td><td>5345</td><td>0.848278051</td></tr>\n",
       "\t<tr><td>Hotel room     </td><td>  39</td><td>0.006189494</td></tr>\n",
       "\t<tr><td>Private room   </td><td> 903</td><td>0.143310586</td></tr>\n",
       "\t<tr><td>Shared room    </td><td>  14</td><td>0.002221870</td></tr>\n",
       "</tbody>\n",
       "</table>\n"
      ],
      "text/latex": [
       "A tibble: 4 × 3\n",
       "\\begin{tabular}{r|lll}\n",
       " room\\_type & nb\\_rooms & freq\\\\\n",
       " <fct> & <int> & <dbl>\\\\\n",
       "\\hline\n",
       "\t Entire home/apt & 5345 & 0.848278051\\\\\n",
       "\t Hotel room      &   39 & 0.006189494\\\\\n",
       "\t Private room    &  903 & 0.143310586\\\\\n",
       "\t Shared room     &   14 & 0.002221870\\\\\n",
       "\\end{tabular}\n"
      ],
      "text/markdown": [
       "\n",
       "A tibble: 4 × 3\n",
       "\n",
       "| room_type &lt;fct&gt; | nb_rooms &lt;int&gt; | freq &lt;dbl&gt; |\n",
       "|---|---|---|\n",
       "| Entire home/apt | 5345 | 0.848278051 |\n",
       "| Hotel room      |   39 | 0.006189494 |\n",
       "| Private room    |  903 | 0.143310586 |\n",
       "| Shared room     |   14 | 0.002221870 |\n",
       "\n"
      ],
      "text/plain": [
       "  room_type       nb_rooms freq       \n",
       "1 Entire home/apt 5345     0.848278051\n",
       "2 Hotel room        39     0.006189494\n",
       "3 Private room     903     0.143310586\n",
       "4 Shared room       14     0.002221870"
      ]
     },
     "metadata": {},
     "output_type": "display_data"
    }
   ],
   "source": [
    "aggregated_room_types"
   ]
  },
  {
   "cell_type": "code",
   "execution_count": 42,
   "metadata": {},
   "outputs": [
    {
     "data": {
      "text/html": [
       "<table>\n",
       "<caption>A tibble: 24 × 3</caption>\n",
       "<thead>\n",
       "\t<tr><th scope=col>beds</th><th scope=col>houze_size</th><th scope=col>freq</th></tr>\n",
       "\t<tr><th scope=col>&lt;int&gt;</th><th scope=col>&lt;int&gt;</th><th scope=col>&lt;dbl&gt;</th></tr>\n",
       "</thead>\n",
       "<tbody>\n",
       "\t<tr><td> 0</td><td>  94</td><td>0.0149182669</td></tr>\n",
       "\t<tr><td> 1</td><td>1791</td><td>0.2842405967</td></tr>\n",
       "\t<tr><td> 2</td><td>1728</td><td>0.2742421838</td></tr>\n",
       "\t<tr><td> 3</td><td>1203</td><td>0.1909220759</td></tr>\n",
       "\t<tr><td> 4</td><td> 704</td><td>0.1117282971</td></tr>\n",
       "\t<tr><td> 5</td><td> 328</td><td>0.0520552293</td></tr>\n",
       "\t<tr><td> 6</td><td> 202</td><td>0.0320584034</td></tr>\n",
       "\t<tr><td> 7</td><td>  73</td><td>0.0115854626</td></tr>\n",
       "\t<tr><td> 8</td><td>  45</td><td>0.0071417235</td></tr>\n",
       "\t<tr><td> 9</td><td>  28</td><td>0.0044437391</td></tr>\n",
       "\t<tr><td>10</td><td>  28</td><td>0.0044437391</td></tr>\n",
       "\t<tr><td>11</td><td>  13</td><td>0.0020631646</td></tr>\n",
       "\t<tr><td>12</td><td>  14</td><td>0.0022218695</td></tr>\n",
       "\t<tr><td>13</td><td>   3</td><td>0.0004761149</td></tr>\n",
       "\t<tr><td>14</td><td>   3</td><td>0.0004761149</td></tr>\n",
       "\t<tr><td>15</td><td>   8</td><td>0.0012696397</td></tr>\n",
       "\t<tr><td>16</td><td>  10</td><td>0.0015870497</td></tr>\n",
       "\t<tr><td>17</td><td>   1</td><td>0.0001587050</td></tr>\n",
       "\t<tr><td>18</td><td>   2</td><td>0.0003174099</td></tr>\n",
       "\t<tr><td>19</td><td>   1</td><td>0.0001587050</td></tr>\n",
       "\t<tr><td>20</td><td>   2</td><td>0.0003174099</td></tr>\n",
       "\t<tr><td>21</td><td>   1</td><td>0.0001587050</td></tr>\n",
       "\t<tr><td>25</td><td>   2</td><td>0.0003174099</td></tr>\n",
       "\t<tr><td>27</td><td>   1</td><td>0.0001587050</td></tr>\n",
       "</tbody>\n",
       "</table>\n"
      ],
      "text/latex": [
       "A tibble: 24 × 3\n",
       "\\begin{tabular}{r|lll}\n",
       " beds & houze\\_size & freq\\\\\n",
       " <int> & <int> & <dbl>\\\\\n",
       "\\hline\n",
       "\t  0 &   94 & 0.0149182669\\\\\n",
       "\t  1 & 1791 & 0.2842405967\\\\\n",
       "\t  2 & 1728 & 0.2742421838\\\\\n",
       "\t  3 & 1203 & 0.1909220759\\\\\n",
       "\t  4 &  704 & 0.1117282971\\\\\n",
       "\t  5 &  328 & 0.0520552293\\\\\n",
       "\t  6 &  202 & 0.0320584034\\\\\n",
       "\t  7 &   73 & 0.0115854626\\\\\n",
       "\t  8 &   45 & 0.0071417235\\\\\n",
       "\t  9 &   28 & 0.0044437391\\\\\n",
       "\t 10 &   28 & 0.0044437391\\\\\n",
       "\t 11 &   13 & 0.0020631646\\\\\n",
       "\t 12 &   14 & 0.0022218695\\\\\n",
       "\t 13 &    3 & 0.0004761149\\\\\n",
       "\t 14 &    3 & 0.0004761149\\\\\n",
       "\t 15 &    8 & 0.0012696397\\\\\n",
       "\t 16 &   10 & 0.0015870497\\\\\n",
       "\t 17 &    1 & 0.0001587050\\\\\n",
       "\t 18 &    2 & 0.0003174099\\\\\n",
       "\t 19 &    1 & 0.0001587050\\\\\n",
       "\t 20 &    2 & 0.0003174099\\\\\n",
       "\t 21 &    1 & 0.0001587050\\\\\n",
       "\t 25 &    2 & 0.0003174099\\\\\n",
       "\t 27 &    1 & 0.0001587050\\\\\n",
       "\\end{tabular}\n"
      ],
      "text/markdown": [
       "\n",
       "A tibble: 24 × 3\n",
       "\n",
       "| beds &lt;int&gt; | houze_size &lt;int&gt; | freq &lt;dbl&gt; |\n",
       "|---|---|---|\n",
       "|  0 |   94 | 0.0149182669 |\n",
       "|  1 | 1791 | 0.2842405967 |\n",
       "|  2 | 1728 | 0.2742421838 |\n",
       "|  3 | 1203 | 0.1909220759 |\n",
       "|  4 |  704 | 0.1117282971 |\n",
       "|  5 |  328 | 0.0520552293 |\n",
       "|  6 |  202 | 0.0320584034 |\n",
       "|  7 |   73 | 0.0115854626 |\n",
       "|  8 |   45 | 0.0071417235 |\n",
       "|  9 |   28 | 0.0044437391 |\n",
       "| 10 |   28 | 0.0044437391 |\n",
       "| 11 |   13 | 0.0020631646 |\n",
       "| 12 |   14 | 0.0022218695 |\n",
       "| 13 |    3 | 0.0004761149 |\n",
       "| 14 |    3 | 0.0004761149 |\n",
       "| 15 |    8 | 0.0012696397 |\n",
       "| 16 |   10 | 0.0015870497 |\n",
       "| 17 |    1 | 0.0001587050 |\n",
       "| 18 |    2 | 0.0003174099 |\n",
       "| 19 |    1 | 0.0001587050 |\n",
       "| 20 |    2 | 0.0003174099 |\n",
       "| 21 |    1 | 0.0001587050 |\n",
       "| 25 |    2 | 0.0003174099 |\n",
       "| 27 |    1 | 0.0001587050 |\n",
       "\n"
      ],
      "text/plain": [
       "   beds houze_size freq        \n",
       "1   0     94       0.0149182669\n",
       "2   1   1791       0.2842405967\n",
       "3   2   1728       0.2742421838\n",
       "4   3   1203       0.1909220759\n",
       "5   4    704       0.1117282971\n",
       "6   5    328       0.0520552293\n",
       "7   6    202       0.0320584034\n",
       "8   7     73       0.0115854626\n",
       "9   8     45       0.0071417235\n",
       "10  9     28       0.0044437391\n",
       "11 10     28       0.0044437391\n",
       "12 11     13       0.0020631646\n",
       "13 12     14       0.0022218695\n",
       "14 13      3       0.0004761149\n",
       "15 14      3       0.0004761149\n",
       "16 15      8       0.0012696397\n",
       "17 16     10       0.0015870497\n",
       "18 17      1       0.0001587050\n",
       "19 18      2       0.0003174099\n",
       "20 19      1       0.0001587050\n",
       "21 20      2       0.0003174099\n",
       "22 21      1       0.0001587050\n",
       "23 25      2       0.0003174099\n",
       "24 27      1       0.0001587050"
      ]
     },
     "metadata": {},
     "output_type": "display_data"
    }
   ],
   "source": [
    "aggregated_house_size <- listings %>%\n",
    "    filter(city == selected_city) %>%\n",
    "    group_by(beds) %>%\n",
    "    summarise(houze_size = n()) %>%\n",
    "    mutate(freq = houze_size / sum(houze_size))\n",
    "# Removing NA\n",
    "aggregated_house_size[complete.cases(aggregated_house_size), ]"
   ]
  },
  {
   "cell_type": "code",
   "execution_count": 43,
   "metadata": {},
   "outputs": [
    {
     "data": {
      "text/html": [
       "<table>\n",
       "<caption>A tibble: 11 × 3</caption>\n",
       "<thead>\n",
       "\t<tr><th scope=col>neighbourhood_cleansed</th><th scope=col>ngbh</th><th scope=col>freq</th></tr>\n",
       "\t<tr><th scope=col>&lt;fct&gt;</th><th scope=col>&lt;int&gt;</th><th scope=col>&lt;dbl&gt;</th></tr>\n",
       "</thead>\n",
       "<tbody>\n",
       "\t<tr><td>Bailen-Miraflores   </td><td> 165</td><td>0.026186320</td></tr>\n",
       "\t<tr><td>Campanillas         </td><td>  18</td><td>0.002856689</td></tr>\n",
       "\t<tr><td>Carretera de Cadiz  </td><td> 539</td><td>0.085541977</td></tr>\n",
       "\t<tr><td>Centro              </td><td>4327</td><td>0.686716394</td></tr>\n",
       "\t<tr><td>Churriana           </td><td>  99</td><td>0.015711792</td></tr>\n",
       "\t<tr><td>Ciudad Jardin       </td><td>  50</td><td>0.007935248</td></tr>\n",
       "\t<tr><td>Cruz De Humilladero </td><td> 287</td><td>0.045548326</td></tr>\n",
       "\t<tr><td>Este                </td><td> 643</td><td>0.102047294</td></tr>\n",
       "\t<tr><td>Palma-Palmilla      </td><td>  41</td><td>0.006506904</td></tr>\n",
       "\t<tr><td>Puerto de la Torre  </td><td>  31</td><td>0.004919854</td></tr>\n",
       "\t<tr><td>Teatinos-Universidad</td><td> 101</td><td>0.016029202</td></tr>\n",
       "</tbody>\n",
       "</table>\n"
      ],
      "text/latex": [
       "A tibble: 11 × 3\n",
       "\\begin{tabular}{r|lll}\n",
       " neighbourhood\\_cleansed & ngbh & freq\\\\\n",
       " <fct> & <int> & <dbl>\\\\\n",
       "\\hline\n",
       "\t Bailen-Miraflores    &  165 & 0.026186320\\\\\n",
       "\t Campanillas          &   18 & 0.002856689\\\\\n",
       "\t Carretera de Cadiz   &  539 & 0.085541977\\\\\n",
       "\t Centro               & 4327 & 0.686716394\\\\\n",
       "\t Churriana            &   99 & 0.015711792\\\\\n",
       "\t Ciudad Jardin        &   50 & 0.007935248\\\\\n",
       "\t Cruz De Humilladero  &  287 & 0.045548326\\\\\n",
       "\t Este                 &  643 & 0.102047294\\\\\n",
       "\t Palma-Palmilla       &   41 & 0.006506904\\\\\n",
       "\t Puerto de la Torre   &   31 & 0.004919854\\\\\n",
       "\t Teatinos-Universidad &  101 & 0.016029202\\\\\n",
       "\\end{tabular}\n"
      ],
      "text/markdown": [
       "\n",
       "A tibble: 11 × 3\n",
       "\n",
       "| neighbourhood_cleansed &lt;fct&gt; | ngbh &lt;int&gt; | freq &lt;dbl&gt; |\n",
       "|---|---|---|\n",
       "| Bailen-Miraflores    |  165 | 0.026186320 |\n",
       "| Campanillas          |   18 | 0.002856689 |\n",
       "| Carretera de Cadiz   |  539 | 0.085541977 |\n",
       "| Centro               | 4327 | 0.686716394 |\n",
       "| Churriana            |   99 | 0.015711792 |\n",
       "| Ciudad Jardin        |   50 | 0.007935248 |\n",
       "| Cruz De Humilladero  |  287 | 0.045548326 |\n",
       "| Este                 |  643 | 0.102047294 |\n",
       "| Palma-Palmilla       |   41 | 0.006506904 |\n",
       "| Puerto de la Torre   |   31 | 0.004919854 |\n",
       "| Teatinos-Universidad |  101 | 0.016029202 |\n",
       "\n"
      ],
      "text/plain": [
       "   neighbourhood_cleansed ngbh freq       \n",
       "1  Bailen-Miraflores       165 0.026186320\n",
       "2  Campanillas              18 0.002856689\n",
       "3  Carretera de Cadiz      539 0.085541977\n",
       "4  Centro                 4327 0.686716394\n",
       "5  Churriana                99 0.015711792\n",
       "6  Ciudad Jardin            50 0.007935248\n",
       "7  Cruz De Humilladero     287 0.045548326\n",
       "8  Este                    643 0.102047294\n",
       "9  Palma-Palmilla           41 0.006506904\n",
       "10 Puerto de la Torre       31 0.004919854\n",
       "11 Teatinos-Universidad    101 0.016029202"
      ]
     },
     "metadata": {},
     "output_type": "display_data"
    }
   ],
   "source": [
    "aggregated_neighborhood <- listings %>%\n",
    "    filter(city == selected_city) %>%\n",
    "    group_by(neighbourhood_cleansed) %>%\n",
    "    summarise(ngbh = n()) %>%\n",
    "    mutate(freq = ngbh / sum(ngbh))\n",
    "# Removing NA\n",
    "aggregated_neighborhood[complete.cases(aggregated_neighborhood), ]"
   ]
  },
  {
   "cell_type": "code",
   "execution_count": null,
   "metadata": {},
   "outputs": [],
   "source": []
  }
 ],
 "metadata": {
  "kernelspec": {
   "display_name": "R",
   "language": "R",
   "name": "ir"
  },
  "language_info": {
   "codemirror_mode": "r",
   "file_extension": ".r",
   "mimetype": "text/x-r-source",
   "name": "R",
   "pygments_lexer": "r",
   "version": "3.6.1"
  }
 },
 "nbformat": 4,
 "nbformat_minor": 4
}

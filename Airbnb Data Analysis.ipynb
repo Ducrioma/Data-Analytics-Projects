{
 "cells": [
  {
   "cell_type": "markdown",
   "metadata": {},
   "source": [
    "# Airbnb Data Analysis\n",
    "\n",
    "Data from [Inside Airbnb](http://insideairbnb.com/get-the-data.html)\n",
    "\n",
    "Command to convert the ipynb to rmkdwn : ```rmarkdown:::convert_ipynb('Airbnb Data Analysis.ipynb')```\n"
   ]
  },
  {
   "cell_type": "markdown",
   "metadata": {},
   "source": [
    "## Data Preparation\n",
    "1. Prepare data set for each city\n",
    "2. Clean data for each city"
   ]
  },
  {
   "cell_type": "code",
   "execution_count": 1,
   "metadata": {},
   "outputs": [],
   "source": [
    "# Need to install this package first\n",
    "# install.packages(\"stringi\")"
   ]
  },
  {
   "cell_type": "code",
   "execution_count": 2,
   "metadata": {},
   "outputs": [
    {
     "name": "stderr",
     "output_type": "stream",
     "text": [
      "\n",
      "Attaching package: 'dplyr'\n",
      "\n",
      "\n",
      "The following objects are masked from 'package:stats':\n",
      "\n",
      "    filter, lag\n",
      "\n",
      "\n",
      "The following objects are masked from 'package:base':\n",
      "\n",
      "    intersect, setdiff, setequal, union\n",
      "\n",
      "\n",
      "Warning message:\n",
      "\"package 'ggplot2' was built under R version 4.0.3\"\n",
      "Warning message:\n",
      "\"package 'data.table' was built under R version 4.0.3\"\n",
      "\n",
      "Attaching package: 'data.table'\n",
      "\n",
      "\n",
      "The following objects are masked from 'package:dplyr':\n",
      "\n",
      "    between, first, last\n",
      "\n",
      "\n"
     ]
    }
   ],
   "source": [
    "library(dplyr)\n",
    "# issue with this one\n",
    "library(stringr)\n",
    "library(ggplot2)\n",
    "library(data.table)"
   ]
  },
  {
   "cell_type": "code",
   "execution_count": 3,
   "metadata": {},
   "outputs": [],
   "source": [
    "# Function from the data_prep script\n",
    "\n",
    "# a generic function to prepare data for a specific city, data_date\n",
    "prepare_data <- function(city, data_date)\n",
    "{\n",
    "    # Cleaning listings dataframe\n",
    "    \n",
    "    # suppose raw data is stored in data_raw/city/data_date/listings.csv.gz\n",
    "    listings_url <- file.path(\"data_raw\", city, data_date, \"listings.csv.gz\")\n",
    "    # suppose raw data is stored in data_raw/city/data_date/calendar.csv.gz\n",
    "    calendar_url <- file.path(\"data_raw\", city, data_date, \"calendar.csv.gz\")\n",
    "    \n",
    "    print(paste0(\"reading data from \", listings_url))\n",
    "    listings <- read.csv(gzfile(listings_url))\n",
    "    print(paste0(\"reading data from \", calendar_url))\n",
    "    calendar <- read.csv(gzfile(calendar_url))\n",
    "    \n",
    "    ## Add Keys: columns city and day date\n",
    "    listings$city <- city\n",
    "    listings$data_date <- data_date\n",
    "    \n",
    "    ## Select interesting columns\n",
    "    ### Most columns don't contain interesting information\n",
    "    columns_listings <- c(\"city\", \"data_date\", \"id\", \"neighbourhood_cleansed\", \n",
    "                          \"latitude\", \"longitude\", \n",
    "                          \"property_type\", \"room_type\", \"accommodates\", \"bedrooms\", \n",
    "                          \"beds\", \"price\", \"minimum_nights\",  \"maximum_nights\")\n",
    "    \n",
    "    listings <- listings %>% \n",
    "        select(columns_listings) %>% \n",
    "        arrange(id)\n",
    "    \n",
    "    \n",
    "    # Cleaning calendar dataframe\n",
    "    \n",
    "    ## arrange by id and date\n",
    "    calendar <- calendar %>% \n",
    "        arrange(listing_id, date)\n",
    "    \n",
    "    ## add day number (starting first day)\n",
    "    calendar <- calendar %>%\n",
    "        group_by(listing_id) %>%\n",
    "        mutate(day_nb = row_number()) %>%\n",
    "        ungroup()\n",
    "    \n",
    "    ## change available column to binary\n",
    "    calendar <- calendar %>%\n",
    "        mutate(available = ifelse(available==\"t\", 1, 0))\n",
    "    \n",
    "    ## clean price column and transform to numeric\n",
    "    calendar <- calendar %>%\n",
    "        mutate(price = str_replace(price, \"\\\\$\", \"\"),\n",
    "               adjusted_price = str_replace(adjusted_price, \"\\\\$\", \"\"))\n",
    "    calendar <- calendar %>%\n",
    "        mutate(price = str_replace(price, \",\", \"\"),\n",
    "               adjusted_price = str_replace(adjusted_price, \",\", \"\"))\n",
    "    calendar <- calendar %>%\n",
    "        mutate(price = as.numeric(price),\n",
    "               adjusted_price = as.numeric(adjusted_price))\n",
    "    \n",
    "    ## calculate estimated revenue for upcoming day\n",
    "    calendar <- calendar %>%\n",
    "        mutate(revenue = price*(1-available))\n",
    "    \n",
    "    ## calculate availability, price, revenue for next 30, 60 days ... for each listing_id\n",
    "    calendar <- calendar %>%\n",
    "        group_by(listing_id) %>%\n",
    "        summarise(availability_30 = sum(available[day_nb<=30], na.rm = TRUE),\n",
    "                  availability_60 = sum(available[day_nb<=60], na.rm = TRUE),\n",
    "                  availability_90 = sum(available[day_nb<=90], na.rm = TRUE),\n",
    "                  availability_365 = sum(available[day_nb<=365], na.rm = TRUE),\n",
    "                  price_30 = mean(price[day_nb<=30 & available==0], na.rm = TRUE),\n",
    "                  price_60 = mean(price[day_nb<=60 & available==0], na.rm = TRUE),\n",
    "                  price_90 = mean(price[day_nb<=90 & available==0], na.rm = TRUE),\n",
    "                  price_365 = mean(price[day_nb<=365 & available==0], na.rm = TRUE),\n",
    "                  revenue_30 = sum(revenue[day_nb<=30], na.rm = TRUE),\n",
    "                  revenue_60 = sum(revenue[day_nb<=60], na.rm = TRUE),\n",
    "                  revenue_90 = sum(revenue[day_nb<=90], na.rm = TRUE),\n",
    "                  revenue_365 = sum(revenue[day_nb<=365], na.rm = TRUE)           \n",
    "        )\n",
    "    \n",
    "    listings_cleansed <- listings %>% left_join(calendar, by = c(\"id\" = \"listing_id\"))\n",
    "    \n",
    "    dir.create(file.path(\"data_cleansed\", city, data_date), recursive = TRUE)\n",
    "    \n",
    "    write.csv(listings_cleansed, file.path(\"data_cleansed\", city, data_date, \"listings.csv\"))\n",
    "    print(paste0(\"saving data into \", file.path(\"data_cleansed\", city, data_date, \"listings.csv\")))\n",
    "    \n",
    "}  "
   ]
  },
  {
   "cell_type": "markdown",
   "metadata": {},
   "source": [
    "### Unit test : Reading data for malaga:\n",
    "#### Preparing data, working ✅"
   ]
  },
  {
   "cell_type": "code",
   "execution_count": 4,
   "metadata": {},
   "outputs": [],
   "source": [
    "# city <- \"malaga\"\n",
    "# data_date <- \"2020-06-30\"\n",
    "# prepare_data(city,data_date)"
   ]
  },
  {
   "cell_type": "markdown",
   "metadata": {},
   "source": [
    "# Prepare data for all selected cities "
   ]
  },
  {
   "cell_type": "code",
   "execution_count": 5,
   "metadata": {},
   "outputs": [],
   "source": [
    "# Reading cleansed data\n",
    "cities <- c(\"malaga\", \"mallorca\", \"sevilla\")\n",
    "data_dates <- c(\"2020-06-30\", \"2020-09-19\", \"2020-06-29\")\n",
    "\n",
    "# We are only interested in data between min_date and max_date\n",
    "min_date <- '2020-05-01'\n",
    "max_date <- '2020-11-01'\n",
    "\n",
    "files_paths <- c()"
   ]
  },
  {
   "cell_type": "markdown",
   "metadata": {},
   "source": [
    "### Preparare data for Malaga, mallorca, sevilla"
   ]
  },
  {
   "cell_type": "code",
   "execution_count": 6,
   "metadata": {},
   "outputs": [
    {
     "name": "stdout",
     "output_type": "stream",
     "text": [
      "[1] \"-------------------------------------------------\"\n",
      "[1] \"Preparing data for malaga compiled at 2020-06-30\"\n",
      "[1] \"reading data from data_raw/malaga/2020-06-30/listings.csv.gz\"\n",
      "[1] \"reading data from data_raw/malaga/2020-06-30/calendar.csv.gz\"\n"
     ]
    },
    {
     "name": "stderr",
     "output_type": "stream",
     "text": [
      "Note: Using an external vector in selections is ambiguous.\n",
      "\u001b[34mi\u001b[39m Use `all_of(columns_listings)` instead of `columns_listings` to silence this message.\n",
      "\u001b[34mi\u001b[39m See <https://tidyselect.r-lib.org/reference/faq-external-vector.html>.\n",
      "\u001b[90mThis message is displayed once per session.\u001b[39m\n",
      "\n",
      "`summarise()` ungrouping output (override with `.groups` argument)\n",
      "\n",
      "Warning message in dir.create(file.path(\"data_cleansed\", city, data_date), recursive = TRUE):\n",
      "\"'data_cleansed\\malaga\\2020-06-30' existe déjà\"\n"
     ]
    },
    {
     "name": "stdout",
     "output_type": "stream",
     "text": [
      "[1] \"saving data into data_cleansed/malaga/2020-06-30/listings.csv\"\n",
      "[1] \"-------------------------------------------------\"\n",
      "[1] \"Preparing data for mallorca compiled at 2020-09-19\"\n",
      "[1] \"reading data from data_raw/mallorca/2020-09-19/listings.csv.gz\"\n",
      "[1] \"reading data from data_raw/mallorca/2020-09-19/calendar.csv.gz\"\n"
     ]
    },
    {
     "name": "stderr",
     "output_type": "stream",
     "text": [
      "`summarise()` ungrouping output (override with `.groups` argument)\n",
      "\n",
      "Warning message in dir.create(file.path(\"data_cleansed\", city, data_date), recursive = TRUE):\n",
      "\"'data_cleansed\\mallorca\\2020-09-19' existe déjà\"\n"
     ]
    },
    {
     "name": "stdout",
     "output_type": "stream",
     "text": [
      "[1] \"saving data into data_cleansed/mallorca/2020-09-19/listings.csv\"\n",
      "[1] \"-------------------------------------------------\"\n",
      "[1] \"Preparing data for sevilla compiled at 2020-06-29\"\n",
      "[1] \"reading data from data_raw/sevilla/2020-06-29/listings.csv.gz\"\n",
      "[1] \"reading data from data_raw/sevilla/2020-06-29/calendar.csv.gz\"\n"
     ]
    },
    {
     "name": "stderr",
     "output_type": "stream",
     "text": [
      "`summarise()` ungrouping output (override with `.groups` argument)\n",
      "\n",
      "Warning message in dir.create(file.path(\"data_cleansed\", city, data_date), recursive = TRUE):\n",
      "\"'data_cleansed\\sevilla\\2020-06-29' existe déjà\"\n"
     ]
    },
    {
     "name": "stdout",
     "output_type": "stream",
     "text": [
      "[1] \"saving data into data_cleansed/sevilla/2020-06-29/listings.csv\"\n"
     ]
    }
   ],
   "source": [
    "for(i in 1:length(cities)){\n",
    "    city <- cities[i]\n",
    "    data_date <- data_dates[i]\n",
    "    print(\"-------------------------------------------------\")\n",
    "    print(paste(c(\"Preparing data for\", city, \"compiled at\", data_date), collapse = \" \"))\n",
    "    prepare_data(city, data_date)\n",
    "}\n",
    "\n",
    "# Clean Environment\n",
    "rm(list=ls())"
   ]
  },
  {
   "cell_type": "code",
   "execution_count": 7,
   "metadata": {},
   "outputs": [],
   "source": [
    "# Reading cleansed data\n",
    "cities <- c(\"malaga\", \"mallorca\", \"sevilla\")\n",
    "data_dates <- c(\"2020-06-30\", \"2020-09-19\", \"2020-06-29\")\n",
    "\n",
    "# We are only interested in data between min_date and max_date\n",
    "min_date <- '2020-05-01'\n",
    "max_date <- '2020-11-01'\n",
    "\n",
    "files_paths <- c()"
   ]
  },
  {
   "cell_type": "markdown",
   "metadata": {},
   "source": [
    "### Read data in cities between min_date and max_date"
   ]
  },
  {
   "cell_type": "code",
   "execution_count": 8,
   "metadata": {},
   "outputs": [],
   "source": [
    "for(city in cities){\n",
    "    file_dir <- file.path(\".\", \"data_cleansed\", city)\n",
    "    file_subdirs <- list.dirs(file_dir)\n",
    "    file_subdirs <- file_subdirs[-1]\n",
    "\n",
    "    for(file_subdir in file_subdirs){\n",
    "        if(file_subdir < file.path(file_dir, min_date) | file_subdir > file.path(file_dir, max_date)  )\n",
    "            file_subdirs = file_subdirs[file_subdirs != file_subdir]\n",
    "    }\n",
    "    files_paths <- c(files_paths, file_subdirs)\n",
    "}\n",
    "files_paths <- file.path(files_paths, \"listings.csv\")\n",
    "listings <- \n",
    "    do.call(rbind,\n",
    "            lapply(files_paths, read.csv, row.names=1))"
   ]
  },
  {
   "cell_type": "code",
   "execution_count": 9,
   "metadata": {},
   "outputs": [
    {
     "data": {
      "text/plain": [
       "     city            data_date               id          \n",
       " Length:30577       Length:30577       Min.   :   11547  \n",
       " Class :character   Class :character   1st Qu.:17278276  \n",
       " Mode  :character   Mode  :character   Median :26547472  \n",
       "                                       Mean   :26203204  \n",
       "                                       3rd Qu.:37310559  \n",
       "                                       Max.   :45499210  \n",
       "                                                         \n",
       " neighbourhood_cleansed    latitude       longitude       property_type     \n",
       " Length:30577           Min.   :36.64   Min.   :-6.0165   Length:30577      \n",
       " Class :character       1st Qu.:37.39   1st Qu.:-4.4354   Class :character  \n",
       " Mode  :character       Median :39.43   Median : 2.6531   Mode  :character  \n",
       "                        Mean   :38.56   Mean   :-0.4932                     \n",
       "                        3rd Qu.:39.71   3rd Qu.: 3.0743                     \n",
       "                        Max.   :39.93   Max.   : 3.4755                     \n",
       "                                                                            \n",
       "  room_type          accommodates       bedrooms           beds       \n",
       " Length:30577       Min.   : 0.000   Min.   : 0.000   Min.   : 0.000  \n",
       " Class :character   1st Qu.: 4.000   1st Qu.: 1.000   1st Qu.: 2.000  \n",
       " Mode  :character   Median : 4.000   Median : 2.000   Median : 3.000  \n",
       "                    Mean   : 5.139   Mean   : 2.388   Mean   : 3.613  \n",
       "                    3rd Qu.: 6.000   3rd Qu.: 3.000   3rd Qu.: 5.000  \n",
       "                    Max.   :28.000   Max.   :40.000   Max.   :50.000  \n",
       "                                     NA's   :284      NA's   :130     \n",
       "    price           minimum_nights     maximum_nights   availability_30\n",
       " Length:30577       Min.   :   1.000   Min.   :   1.0   Min.   : 0.00  \n",
       " Class :character   1st Qu.:   1.000   1st Qu.: 300.0   1st Qu.:11.00  \n",
       " Mode  :character   Median :   2.000   Median :1125.0   Median :25.00  \n",
       "                    Mean   :   4.264   Mean   : 823.6   Mean   :19.95  \n",
       "                    3rd Qu.:   5.000   3rd Qu.:1125.0   3rd Qu.:29.00  \n",
       "                    Max.   :1124.000   Max.   :5000.0   Max.   :30.00  \n",
       "                                                                       \n",
       " availability_60 availability_90 availability_365    price_30       \n",
       " Min.   : 0.0    Min.   : 0.00   Min.   :  0.0    Min.   :    0.00  \n",
       " 1st Qu.:27.0    1st Qu.:36.00   1st Qu.:118.0    1st Qu.:   64.82  \n",
       " Median :48.0    Median :72.00   Median :242.0    Median :  114.00  \n",
       " Mean   :39.9    Mean   :59.03   Mean   :222.1    Mean   :  173.91  \n",
       " 3rd Qu.:59.0    3rd Qu.:88.00   3rd Qu.:347.0    3rd Qu.:  200.00  \n",
       " Max.   :60.0    Max.   :90.00   Max.   :365.0    Max.   :11400.00  \n",
       "                                                  NA's   :7387      \n",
       "    price_60           price_90          price_365          revenue_30    \n",
       " Min.   :    0.00   Min.   :    0.00   Min.   :    0.00   Min.   :     0  \n",
       " 1st Qu.:   67.12   1st Qu.:   68.82   1st Qu.:   70.71   1st Qu.:    35  \n",
       " Median :  116.00   Median :  115.04   Median :  125.00   Median :   496  \n",
       " Mean   :  179.25   Mean   :  182.72   Mean   :  320.10   Mean   :  1704  \n",
       " 3rd Qu.:  204.50   3rd Qu.:  205.94   3rd Qu.:  240.00   3rd Qu.:  1890  \n",
       " Max.   :11400.00   Max.   :11400.00   Max.   :11400.00   Max.   :300000  \n",
       " NA's   :5712       NA's   :5075       NA's   :2867                       \n",
       "   revenue_60       revenue_90      revenue_365     \n",
       " Min.   :     0   Min.   :     0   Min.   :      0  \n",
       " 1st Qu.:   110   1st Qu.:   183   1st Qu.:   2240  \n",
       " Median :  1280   Median :  1869   Median :  12380  \n",
       " Mean   :  3573   Mean   :  5884   Mean   :  49014  \n",
       " 3rd Qu.:  4060   3rd Qu.:  6563   3rd Qu.:  31995  \n",
       " Max.   :600000   Max.   :900000   Max.   :3362015  \n",
       "                                                    "
      ]
     },
     "metadata": {},
     "output_type": "display_data"
    }
   ],
   "source": [
    "summary(listings)"
   ]
  },
  {
   "cell_type": "markdown",
   "metadata": {},
   "source": [
    "### Make a copy of the full dataset"
   ]
  },
  {
   "cell_type": "code",
   "execution_count": 10,
   "metadata": {},
   "outputs": [],
   "source": [
    "listings_full <- listings[complete.cases(listings), ]"
   ]
  },
  {
   "cell_type": "markdown",
   "metadata": {},
   "source": [
    "### Preprocessing "
   ]
  },
  {
   "cell_type": "code",
   "execution_count": 11,
   "metadata": {},
   "outputs": [],
   "source": [
    "listings$bedrooms <- ifelse(listings$bedrooms >= 5, \"5+\", listings$bedrooms)\n",
    "\n",
    "# to do : break even point\n",
    "# steps 1 : find the average price for the squarre meter in the city --> fixed costs \n",
    "# steps 2 : find the average price for the electricity and gas for --> variable costs \n",
    "# steps 3 : compute the break even point in day"
   ]
  },
  {
   "cell_type": "code",
   "execution_count": 12,
   "metadata": {},
   "outputs": [
    {
     "data": {
      "text/plain": [
       "     city            data_date               id          \n",
       " Length:30577       Length:30577       Min.   :   11547  \n",
       " Class :character   Class :character   1st Qu.:17278276  \n",
       " Mode  :character   Mode  :character   Median :26547472  \n",
       "                                       Mean   :26203204  \n",
       "                                       3rd Qu.:37310559  \n",
       "                                       Max.   :45499210  \n",
       "                                                         \n",
       " neighbourhood_cleansed    latitude       longitude       property_type     \n",
       " Length:30577           Min.   :36.64   Min.   :-6.0165   Length:30577      \n",
       " Class :character       1st Qu.:37.39   1st Qu.:-4.4354   Class :character  \n",
       " Mode  :character       Median :39.43   Median : 2.6531   Mode  :character  \n",
       "                        Mean   :38.56   Mean   :-0.4932                     \n",
       "                        3rd Qu.:39.71   3rd Qu.: 3.0743                     \n",
       "                        Max.   :39.93   Max.   : 3.4755                     \n",
       "                                                                            \n",
       "  room_type          accommodates      bedrooms              beds       \n",
       " Length:30577       Min.   : 0.000   Length:30577       Min.   : 0.000  \n",
       " Class :character   1st Qu.: 4.000   Class :character   1st Qu.: 2.000  \n",
       " Mode  :character   Median : 4.000   Mode  :character   Median : 3.000  \n",
       "                    Mean   : 5.139                      Mean   : 3.613  \n",
       "                    3rd Qu.: 6.000                      3rd Qu.: 5.000  \n",
       "                    Max.   :28.000                      Max.   :50.000  \n",
       "                                                        NA's   :130     \n",
       "    price           minimum_nights     maximum_nights   availability_30\n",
       " Length:30577       Min.   :   1.000   Min.   :   1.0   Min.   : 0.00  \n",
       " Class :character   1st Qu.:   1.000   1st Qu.: 300.0   1st Qu.:11.00  \n",
       " Mode  :character   Median :   2.000   Median :1125.0   Median :25.00  \n",
       "                    Mean   :   4.264   Mean   : 823.6   Mean   :19.95  \n",
       "                    3rd Qu.:   5.000   3rd Qu.:1125.0   3rd Qu.:29.00  \n",
       "                    Max.   :1124.000   Max.   :5000.0   Max.   :30.00  \n",
       "                                                                       \n",
       " availability_60 availability_90 availability_365    price_30       \n",
       " Min.   : 0.0    Min.   : 0.00   Min.   :  0.0    Min.   :    0.00  \n",
       " 1st Qu.:27.0    1st Qu.:36.00   1st Qu.:118.0    1st Qu.:   64.82  \n",
       " Median :48.0    Median :72.00   Median :242.0    Median :  114.00  \n",
       " Mean   :39.9    Mean   :59.03   Mean   :222.1    Mean   :  173.91  \n",
       " 3rd Qu.:59.0    3rd Qu.:88.00   3rd Qu.:347.0    3rd Qu.:  200.00  \n",
       " Max.   :60.0    Max.   :90.00   Max.   :365.0    Max.   :11400.00  \n",
       "                                                  NA's   :7387      \n",
       "    price_60           price_90          price_365          revenue_30    \n",
       " Min.   :    0.00   Min.   :    0.00   Min.   :    0.00   Min.   :     0  \n",
       " 1st Qu.:   67.12   1st Qu.:   68.82   1st Qu.:   70.71   1st Qu.:    35  \n",
       " Median :  116.00   Median :  115.04   Median :  125.00   Median :   496  \n",
       " Mean   :  179.25   Mean   :  182.72   Mean   :  320.10   Mean   :  1704  \n",
       " 3rd Qu.:  204.50   3rd Qu.:  205.94   3rd Qu.:  240.00   3rd Qu.:  1890  \n",
       " Max.   :11400.00   Max.   :11400.00   Max.   :11400.00   Max.   :300000  \n",
       " NA's   :5712       NA's   :5075       NA's   :2867                       \n",
       "   revenue_60       revenue_90      revenue_365     \n",
       " Min.   :     0   Min.   :     0   Min.   :      0  \n",
       " 1st Qu.:   110   1st Qu.:   183   1st Qu.:   2240  \n",
       " Median :  1280   Median :  1869   Median :  12380  \n",
       " Mean   :  3573   Mean   :  5884   Mean   :  49014  \n",
       " 3rd Qu.:  4060   3rd Qu.:  6563   3rd Qu.:  31995  \n",
       " Max.   :600000   Max.   :900000   Max.   :3362015  \n",
       "                                                    "
      ]
     },
     "metadata": {},
     "output_type": "display_data"
    }
   ],
   "source": [
    "summary(listings)"
   ]
  },
  {
   "cell_type": "markdown",
   "metadata": {},
   "source": [
    "## Example of analysis"
   ]
  },
  {
   "cell_type": "code",
   "execution_count": 13,
   "metadata": {},
   "outputs": [
    {
     "name": "stderr",
     "output_type": "stream",
     "text": [
      "Warning message:\n",
      "\"Removed 3058 rows containing non-finite values (stat_boxplot).\"\n"
     ]
    },
    {
     "data": {
      "image/png": "[encoded data removed]",
      "text/plain": [
       "plot without title"
      ]
     },
     "metadata": {
      "image/png": {
       "height": 420,
       "width": 420
      }
     },
     "output_type": "display_data"
    }
   ],
   "source": [
    "# Analysis 1\n",
    "## Comparing the distribution of estimated revenue for the next 30 days of listings\n",
    "## per each city.\n",
    "p <- ggplot(listings, aes(city, revenue_30))\n",
    "p + geom_boxplot(aes(colour = \"red\"), outlier.shape = NA) +\n",
    "    scale_y_continuous(limits = quantile(listings$revenue_30, c(0.1, 0.9), na.rm = T))"
   ]
  },
  {
   "cell_type": "markdown",
   "metadata": {},
   "source": [
    "## Analysis 1 : comparing cities"
   ]
  },
  {
   "cell_type": "markdown",
   "metadata": {},
   "source": [
    "#### 1. Find the \"average availability over 30 days\" of listings per each city"
   ]
  },
  {
   "cell_type": "code",
   "execution_count": 14,
   "metadata": {},
   "outputs": [],
   "source": [
    "avg_av <- aggregate(listings$availability_30, list(listings$city),mean)"
   ]
  },
  {
   "cell_type": "code",
   "execution_count": 15,
   "metadata": {},
   "outputs": [
    {
     "data": {
      "text/html": [
       "<table>\n",
       "<caption>A data.frame: 3 × 2</caption>\n",
       "<thead>\n",
       "\t<tr><th scope=col>Group.1</th><th scope=col>x</th></tr>\n",
       "\t<tr><th scope=col>&lt;chr&gt;</th><th scope=col>&lt;dbl&gt;</th></tr>\n",
       "</thead>\n",
       "<tbody>\n",
       "\t<tr><td>malaga  </td><td>17.96286</td></tr>\n",
       "\t<tr><td>mallorca</td><td>20.67787</td></tr>\n",
       "\t<tr><td>sevilla </td><td>19.89412</td></tr>\n",
       "</tbody>\n",
       "</table>\n"
      ],
      "text/latex": [
       "A data.frame: 3 × 2\n",
       "\\begin{tabular}{ll}\n",
       " Group.1 & x\\\\\n",
       " <chr> & <dbl>\\\\\n",
       "\\hline\n",
       "\t malaga   & 17.96286\\\\\n",
       "\t mallorca & 20.67787\\\\\n",
       "\t sevilla  & 19.89412\\\\\n",
       "\\end{tabular}\n"
      ],
      "text/markdown": [
       "\n",
       "A data.frame: 3 × 2\n",
       "\n",
       "| Group.1 &lt;chr&gt; | x &lt;dbl&gt; |\n",
       "|---|---|\n",
       "| malaga   | 17.96286 |\n",
       "| mallorca | 20.67787 |\n",
       "| sevilla  | 19.89412 |\n",
       "\n"
      ],
      "text/plain": [
       "  Group.1  x       \n",
       "1 malaga   17.96286\n",
       "2 mallorca 20.67787\n",
       "3 sevilla  19.89412"
      ]
     },
     "metadata": {},
     "output_type": "display_data"
    }
   ],
   "source": [
    "avg_av"
   ]
  },
  {
   "cell_type": "markdown",
   "metadata": {},
   "source": [
    "#### 2. Find the \"average revenue over 30 days\" of listings per each city"
   ]
  },
  {
   "cell_type": "code",
   "execution_count": 16,
   "metadata": {},
   "outputs": [],
   "source": [
    "avg_rev <- aggregate(listings$revenue_30,list(listings$city),mean)"
   ]
  },
  {
   "cell_type": "code",
   "execution_count": 17,
   "metadata": {},
   "outputs": [
    {
     "data": {
      "text/html": [
       "<table>\n",
       "<caption>A data.frame: 3 × 2</caption>\n",
       "<thead>\n",
       "\t<tr><th scope=col>Group.1</th><th scope=col>x</th></tr>\n",
       "\t<tr><th scope=col>&lt;chr&gt;</th><th scope=col>&lt;dbl&gt;</th></tr>\n",
       "</thead>\n",
       "<tbody>\n",
       "\t<tr><td>malaga  </td><td>1165.814</td></tr>\n",
       "\t<tr><td>mallorca</td><td>2158.894</td></tr>\n",
       "\t<tr><td>sevilla </td><td>1012.779</td></tr>\n",
       "</tbody>\n",
       "</table>\n"
      ],
      "text/latex": [
       "A data.frame: 3 × 2\n",
       "\\begin{tabular}{ll}\n",
       " Group.1 & x\\\\\n",
       " <chr> & <dbl>\\\\\n",
       "\\hline\n",
       "\t malaga   & 1165.814\\\\\n",
       "\t mallorca & 2158.894\\\\\n",
       "\t sevilla  & 1012.779\\\\\n",
       "\\end{tabular}\n"
      ],
      "text/markdown": [
       "\n",
       "A data.frame: 3 × 2\n",
       "\n",
       "| Group.1 &lt;chr&gt; | x &lt;dbl&gt; |\n",
       "|---|---|\n",
       "| malaga   | 1165.814 |\n",
       "| mallorca | 2158.894 |\n",
       "| sevilla  | 1012.779 |\n",
       "\n"
      ],
      "text/plain": [
       "  Group.1  x       \n",
       "1 malaga   1165.814\n",
       "2 mallorca 2158.894\n",
       "3 sevilla  1012.779"
      ]
     },
     "metadata": {},
     "output_type": "display_data"
    }
   ],
   "source": [
    "avg_rev"
   ]
  },
  {
   "cell_type": "markdown",
   "metadata": {},
   "source": [
    "#### 3. Compare the distribution of estimated availability for the next 30 days of listings per each city\n",
    "[source](http://www.sthda.com/french/wiki/ggplot2-courbe-de-distribution-guide-de-demarrage-rapide-logiciel-r-et-visualisation-de-donnees)"
   ]
  },
  {
   "cell_type": "code",
   "execution_count": 18,
   "metadata": {},
   "outputs": [
    {
     "data": {
      "image/png": "[encoded data removed]",
      "text/plain": [
       "plot without title"
      ]
     },
     "metadata": {
      "image/png": {
       "height": 420,
       "width": 420
      }
     },
     "output_type": "display_data"
    }
   ],
   "source": [
    "distrib_av <- ggplot(listings, aes(city, availability_30))\n",
    "distrib_av + geom_boxplot(aes(colour = \"red\"), outlier.shape = NA) +\n",
    "    scale_y_continuous(limits = quantile(listings$availability_30, c(0.1, 0.9), na.rm = T))"
   ]
  },
  {
   "cell_type": "markdown",
   "metadata": {},
   "source": [
    "#### 4. Compare the distribution of estimated revenue for the next 30 days of listings per each city"
   ]
  },
  {
   "cell_type": "code",
   "execution_count": 19,
   "metadata": {},
   "outputs": [
    {
     "name": "stderr",
     "output_type": "stream",
     "text": [
      "Warning message:\n",
      "\"Removed 3058 rows containing non-finite values (stat_boxplot).\"\n"
     ]
    },
    {
     "data": {
      "image/png": "[encoded data removed]",
      "text/plain": [
       "plot without title"
      ]
     },
     "metadata": {
      "image/png": {
       "height": 420,
       "width": 420
      }
     },
     "output_type": "display_data"
    }
   ],
   "source": [
    "distrib_rv <- ggplot(listings, aes(city, revenue_30))\n",
    "distrib_rv + geom_boxplot(aes(colour = \"red\"), outlier.shape = NA) +\n",
    "    scale_y_continuous(limits = quantile(listings$revenue_30, c(0.1, 0.9), na.rm = T))"
   ]
  },
  {
   "cell_type": "markdown",
   "metadata": {},
   "source": [
    "#### 5. Compare the distribution of estimated revenue for the next 30 days of listings per each city & for each house size (# of bedrooms)"
   ]
  },
  {
   "cell_type": "code",
   "execution_count": 20,
   "metadata": {},
   "outputs": [
    {
     "name": "stderr",
     "output_type": "stream",
     "text": [
      "Warning message:\n",
      "\"Removed 3028 rows containing non-finite values (stat_boxplot).\"\n"
     ]
    },
    {
     "data": {
      "image/png": "[encoded data removed]",
      "text/plain": [
       "plot without title"
      ]
     },
     "metadata": {
      "image/png": {
       "height": 420,
       "width": 420
      }
     },
     "output_type": "display_data"
    }
   ],
   "source": [
    "specified <- listings[complete.cases(listings), ]\n",
    "distrib_rv_hsize <- ggplot(specified, aes(bedrooms, revenue_30))\n",
    "distrib_rv_hsize + geom_boxplot(aes(colour = \"red\"), outlier.shape = NA) +\n",
    "    scale_y_continuous(limits = quantile(listings$revenue_30, c(0.1, 0.9), na.rm = T)) + \n",
    "    facet_wrap(~ city)"
   ]
  },
  {
   "cell_type": "markdown",
   "metadata": {},
   "source": [
    "#### 6. Compare the distribution of estimated revenue for the next 30 days of listings per each city  & for each room type (room_type)"
   ]
  },
  {
   "cell_type": "code",
   "execution_count": 21,
   "metadata": {},
   "outputs": [
    {
     "name": "stderr",
     "output_type": "stream",
     "text": [
      "Warning message:\n",
      "\"Removed 3058 rows containing non-finite values (stat_boxplot).\"\n"
     ]
    },
    {
     "data": {
      "image/png": "[encoded data removed]",
      "text/plain": [
       "plot without title"
      ]
     },
     "metadata": {
      "image/png": {
       "height": 420,
       "width": 420
      }
     },
     "output_type": "display_data"
    }
   ],
   "source": [
    "distrib_rv_hsize <- ggplot(listings, aes(room_type, revenue_30))\n",
    "distrib_rv_hsize + geom_boxplot(aes(colour = \"red\"), outlier.shape = NA) +\n",
    "    scale_y_continuous(limits = quantile(listings$revenue_30, c(0.1, 0.9), na.rm = T)) + \n",
    "    facet_wrap(~ city)"
   ]
  },
  {
   "cell_type": "markdown",
   "metadata": {},
   "source": [
    "## Analysis 2 : Deep Dive in one City Analysis"
   ]
  },
  {
   "cell_type": "markdown",
   "metadata": {},
   "source": [
    "## A. Malaga"
   ]
  },
  {
   "cell_type": "code",
   "execution_count": 22,
   "metadata": {},
   "outputs": [
    {
     "data": {
      "text/html": [
       "'malaga'"
      ],
      "text/latex": [
       "'malaga'"
      ],
      "text/markdown": [
       "'malaga'"
      ],
      "text/plain": [
       "[1] \"malaga\""
      ]
     },
     "metadata": {},
     "output_type": "display_data"
    }
   ],
   "source": [
    "selected_city <- 'malaga'\n",
    "selected_city"
   ]
  },
  {
   "cell_type": "markdown",
   "metadata": {},
   "source": [
    "#### 1. What is the proportion of each room type?"
   ]
  },
  {
   "cell_type": "code",
   "execution_count": 23,
   "metadata": {},
   "outputs": [
    {
     "name": "stderr",
     "output_type": "stream",
     "text": [
      "`summarise()` ungrouping output (override with `.groups` argument)\n",
      "\n"
     ]
    }
   ],
   "source": [
    "aggregated_room_types <- listings %>%\n",
    "      filter(city == selected_city) %>%\n",
    "      group_by(room_type) %>%\n",
    "      summarise(nb_rooms = n()) %>%\n",
    "      mutate(freq = nb_rooms / sum(nb_rooms))"
   ]
  },
  {
   "cell_type": "code",
   "execution_count": 24,
   "metadata": {},
   "outputs": [
    {
     "data": {
      "text/html": [
       "<table>\n",
       "<caption>A tibble: 4 × 3</caption>\n",
       "<thead>\n",
       "\t<tr><th scope=col>room_type</th><th scope=col>nb_rooms</th><th scope=col>freq</th></tr>\n",
       "\t<tr><th scope=col>&lt;chr&gt;</th><th scope=col>&lt;int&gt;</th><th scope=col>&lt;dbl&gt;</th></tr>\n",
       "</thead>\n",
       "<tbody>\n",
       "\t<tr><td>Entire home/apt</td><td>5345</td><td>0.848278051</td></tr>\n",
       "\t<tr><td>Hotel room     </td><td>  39</td><td>0.006189494</td></tr>\n",
       "\t<tr><td>Private room   </td><td> 903</td><td>0.143310586</td></tr>\n",
       "\t<tr><td>Shared room    </td><td>  14</td><td>0.002221870</td></tr>\n",
       "</tbody>\n",
       "</table>\n"
      ],
      "text/latex": [
       "A tibble: 4 × 3\n",
       "\\begin{tabular}{lll}\n",
       " room\\_type & nb\\_rooms & freq\\\\\n",
       " <chr> & <int> & <dbl>\\\\\n",
       "\\hline\n",
       "\t Entire home/apt & 5345 & 0.848278051\\\\\n",
       "\t Hotel room      &   39 & 0.006189494\\\\\n",
       "\t Private room    &  903 & 0.143310586\\\\\n",
       "\t Shared room     &   14 & 0.002221870\\\\\n",
       "\\end{tabular}\n"
      ],
      "text/markdown": [
       "\n",
       "A tibble: 4 × 3\n",
       "\n",
       "| room_type &lt;chr&gt; | nb_rooms &lt;int&gt; | freq &lt;dbl&gt; |\n",
       "|---|---|---|\n",
       "| Entire home/apt | 5345 | 0.848278051 |\n",
       "| Hotel room      |   39 | 0.006189494 |\n",
       "| Private room    |  903 | 0.143310586 |\n",
       "| Shared room     |   14 | 0.002221870 |\n",
       "\n"
      ],
      "text/plain": [
       "  room_type       nb_rooms freq       \n",
       "1 Entire home/apt 5345     0.848278051\n",
       "2 Hotel room        39     0.006189494\n",
       "3 Private room     903     0.143310586\n",
       "4 Shared room       14     0.002221870"
      ]
     },
     "metadata": {},
     "output_type": "display_data"
    }
   ],
   "source": [
    "aggregated_room_types"
   ]
  },
  {
   "cell_type": "markdown",
   "metadata": {},
   "source": [
    "#### 2. What is the proportion of each house size (# of bedroom)?"
   ]
  },
  {
   "cell_type": "code",
   "execution_count": 25,
   "metadata": {},
   "outputs": [
    {
     "name": "stderr",
     "output_type": "stream",
     "text": [
      "`summarise()` ungrouping output (override with `.groups` argument)\n",
      "\n"
     ]
    },
    {
     "data": {
      "text/html": [
       "<table>\n",
       "<caption>A tibble: 6 × 3</caption>\n",
       "<thead>\n",
       "\t<tr><th scope=col>bedrooms</th><th scope=col>houze_size</th><th scope=col>freq</th></tr>\n",
       "\t<tr><th scope=col>&lt;chr&gt;</th><th scope=col>&lt;int&gt;</th><th scope=col>&lt;dbl&gt;</th></tr>\n",
       "</thead>\n",
       "<tbody>\n",
       "\t<tr><td>0 </td><td> 512</td><td>0.08125694</td></tr>\n",
       "\t<tr><td>1 </td><td>2905</td><td>0.46103793</td></tr>\n",
       "\t<tr><td>2 </td><td>1596</td><td>0.25329313</td></tr>\n",
       "\t<tr><td>3 </td><td> 892</td><td>0.14156483</td></tr>\n",
       "\t<tr><td>4 </td><td> 262</td><td>0.04158070</td></tr>\n",
       "\t<tr><td>5+</td><td> 127</td><td>0.02015553</td></tr>\n",
       "</tbody>\n",
       "</table>\n"
      ],
      "text/latex": [
       "A tibble: 6 × 3\n",
       "\\begin{tabular}{lll}\n",
       " bedrooms & houze\\_size & freq\\\\\n",
       " <chr> & <int> & <dbl>\\\\\n",
       "\\hline\n",
       "\t 0  &  512 & 0.08125694\\\\\n",
       "\t 1  & 2905 & 0.46103793\\\\\n",
       "\t 2  & 1596 & 0.25329313\\\\\n",
       "\t 3  &  892 & 0.14156483\\\\\n",
       "\t 4  &  262 & 0.04158070\\\\\n",
       "\t 5+ &  127 & 0.02015553\\\\\n",
       "\\end{tabular}\n"
      ],
      "text/markdown": [
       "\n",
       "A tibble: 6 × 3\n",
       "\n",
       "| bedrooms &lt;chr&gt; | houze_size &lt;int&gt; | freq &lt;dbl&gt; |\n",
       "|---|---|---|\n",
       "| 0  |  512 | 0.08125694 |\n",
       "| 1  | 2905 | 0.46103793 |\n",
       "| 2  | 1596 | 0.25329313 |\n",
       "| 3  |  892 | 0.14156483 |\n",
       "| 4  |  262 | 0.04158070 |\n",
       "| 5+ |  127 | 0.02015553 |\n",
       "\n"
      ],
      "text/plain": [
       "  bedrooms houze_size freq      \n",
       "1 0         512       0.08125694\n",
       "2 1        2905       0.46103793\n",
       "3 2        1596       0.25329313\n",
       "4 3         892       0.14156483\n",
       "5 4         262       0.04158070\n",
       "6 5+        127       0.02015553"
      ]
     },
     "metadata": {},
     "output_type": "display_data"
    }
   ],
   "source": [
    "aggregated_house_size <- listings %>%\n",
    "    filter(city == selected_city) %>%\n",
    "    group_by(bedrooms) %>%\n",
    "    summarise(houze_size = n()) %>%\n",
    "    mutate(freq = houze_size / sum(houze_size))\n",
    "# Removing NA\n",
    "aggregated_house_size[complete.cases(aggregated_house_size), ]"
   ]
  },
  {
   "cell_type": "markdown",
   "metadata": {},
   "source": [
    "#### 3. What is the proportion of each neighborhood?"
   ]
  },
  {
   "cell_type": "code",
   "execution_count": 26,
   "metadata": {},
   "outputs": [
    {
     "name": "stderr",
     "output_type": "stream",
     "text": [
      "`summarise()` ungrouping output (override with `.groups` argument)\n",
      "\n"
     ]
    },
    {
     "data": {
      "text/html": [
       "<table>\n",
       "<caption>A tibble: 11 × 3</caption>\n",
       "<thead>\n",
       "\t<tr><th scope=col>neighbourhood_cleansed</th><th scope=col>ngbh</th><th scope=col>freq</th></tr>\n",
       "\t<tr><th scope=col>&lt;chr&gt;</th><th scope=col>&lt;int&gt;</th><th scope=col>&lt;dbl&gt;</th></tr>\n",
       "</thead>\n",
       "<tbody>\n",
       "\t<tr><td>Bailen-Miraflores   </td><td> 165</td><td>0.026186320</td></tr>\n",
       "\t<tr><td>Campanillas         </td><td>  18</td><td>0.002856689</td></tr>\n",
       "\t<tr><td>Carretera de Cadiz  </td><td> 539</td><td>0.085541977</td></tr>\n",
       "\t<tr><td>Centro              </td><td>4327</td><td>0.686716394</td></tr>\n",
       "\t<tr><td>Churriana           </td><td>  99</td><td>0.015711792</td></tr>\n",
       "\t<tr><td>Ciudad Jardin       </td><td>  50</td><td>0.007935248</td></tr>\n",
       "\t<tr><td>Cruz De Humilladero </td><td> 287</td><td>0.045548326</td></tr>\n",
       "\t<tr><td>Este                </td><td> 643</td><td>0.102047294</td></tr>\n",
       "\t<tr><td>Palma-Palmilla      </td><td>  41</td><td>0.006506904</td></tr>\n",
       "\t<tr><td>Puerto de la Torre  </td><td>  31</td><td>0.004919854</td></tr>\n",
       "\t<tr><td>Teatinos-Universidad</td><td> 101</td><td>0.016029202</td></tr>\n",
       "</tbody>\n",
       "</table>\n"
      ],
      "text/latex": [
       "A tibble: 11 × 3\n",
       "\\begin{tabular}{lll}\n",
       " neighbourhood\\_cleansed & ngbh & freq\\\\\n",
       " <chr> & <int> & <dbl>\\\\\n",
       "\\hline\n",
       "\t Bailen-Miraflores    &  165 & 0.026186320\\\\\n",
       "\t Campanillas          &   18 & 0.002856689\\\\\n",
       "\t Carretera de Cadiz   &  539 & 0.085541977\\\\\n",
       "\t Centro               & 4327 & 0.686716394\\\\\n",
       "\t Churriana            &   99 & 0.015711792\\\\\n",
       "\t Ciudad Jardin        &   50 & 0.007935248\\\\\n",
       "\t Cruz De Humilladero  &  287 & 0.045548326\\\\\n",
       "\t Este                 &  643 & 0.102047294\\\\\n",
       "\t Palma-Palmilla       &   41 & 0.006506904\\\\\n",
       "\t Puerto de la Torre   &   31 & 0.004919854\\\\\n",
       "\t Teatinos-Universidad &  101 & 0.016029202\\\\\n",
       "\\end{tabular}\n"
      ],
      "text/markdown": [
       "\n",
       "A tibble: 11 × 3\n",
       "\n",
       "| neighbourhood_cleansed &lt;chr&gt; | ngbh &lt;int&gt; | freq &lt;dbl&gt; |\n",
       "|---|---|---|\n",
       "| Bailen-Miraflores    |  165 | 0.026186320 |\n",
       "| Campanillas          |   18 | 0.002856689 |\n",
       "| Carretera de Cadiz   |  539 | 0.085541977 |\n",
       "| Centro               | 4327 | 0.686716394 |\n",
       "| Churriana            |   99 | 0.015711792 |\n",
       "| Ciudad Jardin        |   50 | 0.007935248 |\n",
       "| Cruz De Humilladero  |  287 | 0.045548326 |\n",
       "| Este                 |  643 | 0.102047294 |\n",
       "| Palma-Palmilla       |   41 | 0.006506904 |\n",
       "| Puerto de la Torre   |   31 | 0.004919854 |\n",
       "| Teatinos-Universidad |  101 | 0.016029202 |\n",
       "\n"
      ],
      "text/plain": [
       "   neighbourhood_cleansed ngbh freq       \n",
       "1  Bailen-Miraflores       165 0.026186320\n",
       "2  Campanillas              18 0.002856689\n",
       "3  Carretera de Cadiz      539 0.085541977\n",
       "4  Centro                 4327 0.686716394\n",
       "5  Churriana                99 0.015711792\n",
       "6  Ciudad Jardin            50 0.007935248\n",
       "7  Cruz De Humilladero     287 0.045548326\n",
       "8  Este                    643 0.102047294\n",
       "9  Palma-Palmilla           41 0.006506904\n",
       "10 Puerto de la Torre       31 0.004919854\n",
       "11 Teatinos-Universidad    101 0.016029202"
      ]
     },
     "metadata": {},
     "output_type": "display_data"
    }
   ],
   "source": [
    "aggregated_neighborhood <- listings %>%\n",
    "    filter(city == selected_city) %>%\n",
    "    group_by(neighbourhood_cleansed) %>%\n",
    "    summarise(ngbh = n()) %>%\n",
    "    mutate(freq = ngbh / sum(ngbh))\n",
    "# Removing NA\n",
    "aggregated_neighborhood[complete.cases(aggregated_neighborhood), ]"
   ]
  },
  {
   "cell_type": "markdown",
   "metadata": {},
   "source": [
    "#### 4. What is the average availability over the next 30 days for each room type / house size / neighborhood?"
   ]
  },
  {
   "cell_type": "code",
   "execution_count": 49,
   "metadata": {},
   "outputs": [
    {
     "name": "stderr",
     "output_type": "stream",
     "text": [
      "`summarise()` regrouping output by 'room_type', 'bedrooms' (override with `.groups` argument)\n",
      "\n"
     ]
    },
    {
     "data": {
      "text/html": [
       "<table>\n",
       "<caption>A grouped_df: 107 × 4</caption>\n",
       "<thead>\n",
       "\t<tr><th scope=col>room_type</th><th scope=col>bedrooms</th><th scope=col>neighbourhood_cleansed</th><th scope=col>mean_availability_30</th></tr>\n",
       "\t<tr><th scope=col>&lt;chr&gt;</th><th scope=col>&lt;chr&gt;</th><th scope=col>&lt;chr&gt;</th><th scope=col>&lt;dbl&gt;</th></tr>\n",
       "</thead>\n",
       "<tbody>\n",
       "\t<tr><td>Entire home/apt</td><td>0</td><td>Bailen-Miraflores   </td><td>19.00000</td></tr>\n",
       "\t<tr><td>Entire home/apt</td><td>0</td><td>Campanillas         </td><td>29.00000</td></tr>\n",
       "\t<tr><td>Entire home/apt</td><td>0</td><td>Carretera de Cadiz  </td><td>21.31579</td></tr>\n",
       "\t<tr><td>Entire home/apt</td><td>0</td><td>Centro              </td><td>18.86797</td></tr>\n",
       "\t<tr><td>Entire home/apt</td><td>0</td><td>Churriana           </td><td>20.12500</td></tr>\n",
       "\t<tr><td>Entire home/apt</td><td>0</td><td>Ciudad Jardin       </td><td>15.00000</td></tr>\n",
       "\t<tr><td>Entire home/apt</td><td>0</td><td>Cruz De Humilladero </td><td>19.00000</td></tr>\n",
       "\t<tr><td>Entire home/apt</td><td>0</td><td>Este                </td><td>14.06522</td></tr>\n",
       "\t<tr><td>Entire home/apt</td><td>0</td><td>Palma-Palmilla      </td><td>17.00000</td></tr>\n",
       "\t<tr><td>Entire home/apt</td><td>0</td><td>Puerto de la Torre  </td><td>30.00000</td></tr>\n",
       "\t<tr><td>Entire home/apt</td><td>1</td><td>Bailen-Miraflores   </td><td>17.24390</td></tr>\n",
       "\t<tr><td>Entire home/apt</td><td>1</td><td>Campanillas         </td><td>15.00000</td></tr>\n",
       "\t<tr><td>Entire home/apt</td><td>1</td><td>Carretera de Cadiz  </td><td>15.47619</td></tr>\n",
       "\t<tr><td>Entire home/apt</td><td>1</td><td>Centro              </td><td>18.82894</td></tr>\n",
       "\t<tr><td>Entire home/apt</td><td>1</td><td>Churriana           </td><td>18.35714</td></tr>\n",
       "\t<tr><td>Entire home/apt</td><td>1</td><td>Ciudad Jardin       </td><td> 9.12500</td></tr>\n",
       "\t<tr><td>Entire home/apt</td><td>1</td><td>Cruz De Humilladero </td><td>22.25397</td></tr>\n",
       "\t<tr><td>Entire home/apt</td><td>1</td><td>Este                </td><td>14.47531</td></tr>\n",
       "\t<tr><td>Entire home/apt</td><td>1</td><td>Palma-Palmilla      </td><td>14.66667</td></tr>\n",
       "\t<tr><td>Entire home/apt</td><td>1</td><td>Puerto de la Torre  </td><td>16.25000</td></tr>\n",
       "\t<tr><td>Entire home/apt</td><td>1</td><td>Teatinos-Universidad</td><td>20.14286</td></tr>\n",
       "\t<tr><td>Entire home/apt</td><td>2</td><td>Bailen-Miraflores   </td><td>16.33333</td></tr>\n",
       "\t<tr><td>Entire home/apt</td><td>2</td><td>Carretera de Cadiz  </td><td>15.15200</td></tr>\n",
       "\t<tr><td>Entire home/apt</td><td>2</td><td>Centro              </td><td>18.94856</td></tr>\n",
       "\t<tr><td>Entire home/apt</td><td>2</td><td>Churriana           </td><td>15.29412</td></tr>\n",
       "\t<tr><td>Entire home/apt</td><td>2</td><td>Ciudad Jardin       </td><td>13.00000</td></tr>\n",
       "\t<tr><td>Entire home/apt</td><td>2</td><td>Cruz De Humilladero </td><td>17.97917</td></tr>\n",
       "\t<tr><td>Entire home/apt</td><td>2</td><td>Este                </td><td>14.76471</td></tr>\n",
       "\t<tr><td>Entire home/apt</td><td>2</td><td>Palma-Palmilla      </td><td>16.83333</td></tr>\n",
       "\t<tr><td>Entire home/apt</td><td>2</td><td>Puerto de la Torre  </td><td>17.80000</td></tr>\n",
       "\t<tr><td>...</td><td>...</td><td>...</td><td>...</td></tr>\n",
       "\t<tr><td>Private room</td><td>1 </td><td>Carretera de Cadiz  </td><td>14.61111</td></tr>\n",
       "\t<tr><td>Private room</td><td>1 </td><td>Centro              </td><td>16.43919</td></tr>\n",
       "\t<tr><td>Private room</td><td>1 </td><td>Churriana           </td><td>17.83333</td></tr>\n",
       "\t<tr><td>Private room</td><td>1 </td><td>Ciudad Jardin       </td><td>20.08333</td></tr>\n",
       "\t<tr><td>Private room</td><td>1 </td><td>Cruz De Humilladero </td><td>17.49412</td></tr>\n",
       "\t<tr><td>Private room</td><td>1 </td><td>Este                </td><td>17.77632</td></tr>\n",
       "\t<tr><td>Private room</td><td>1 </td><td>Palma-Palmilla      </td><td>17.88889</td></tr>\n",
       "\t<tr><td>Private room</td><td>1 </td><td>Puerto de la Torre  </td><td>24.75000</td></tr>\n",
       "\t<tr><td>Private room</td><td>1 </td><td>Teatinos-Universidad</td><td>17.00000</td></tr>\n",
       "\t<tr><td>Private room</td><td>2 </td><td>Carretera de Cadiz  </td><td>11.00000</td></tr>\n",
       "\t<tr><td>Private room</td><td>2 </td><td>Centro              </td><td>14.50000</td></tr>\n",
       "\t<tr><td>Private room</td><td>2 </td><td>Churriana           </td><td>23.33333</td></tr>\n",
       "\t<tr><td>Private room</td><td>2 </td><td>Cruz De Humilladero </td><td>27.00000</td></tr>\n",
       "\t<tr><td>Private room</td><td>2 </td><td>Este                </td><td>14.20000</td></tr>\n",
       "\t<tr><td>Private room</td><td>2 </td><td>Palma-Palmilla      </td><td>22.00000</td></tr>\n",
       "\t<tr><td>Private room</td><td>2 </td><td>Teatinos-Universidad</td><td>27.50000</td></tr>\n",
       "\t<tr><td>Private room</td><td>3 </td><td>Carretera de Cadiz  </td><td>27.66667</td></tr>\n",
       "\t<tr><td>Private room</td><td>3 </td><td>Centro              </td><td>23.77778</td></tr>\n",
       "\t<tr><td>Private room</td><td>3 </td><td>Churriana           </td><td>30.00000</td></tr>\n",
       "\t<tr><td>Private room</td><td>3 </td><td>Este                </td><td>22.00000</td></tr>\n",
       "\t<tr><td>Private room</td><td>3 </td><td>Palma-Palmilla      </td><td> 0.00000</td></tr>\n",
       "\t<tr><td>Private room</td><td>4 </td><td>Bailen-Miraflores   </td><td>29.50000</td></tr>\n",
       "\t<tr><td>Private room</td><td>4 </td><td>Centro              </td><td>19.25000</td></tr>\n",
       "\t<tr><td>Private room</td><td>4 </td><td>Este                </td><td> 0.00000</td></tr>\n",
       "\t<tr><td>Private room</td><td>5+</td><td>Ciudad Jardin       </td><td>27.00000</td></tr>\n",
       "\t<tr><td>Private room</td><td>5+</td><td>Este                </td><td>28.00000</td></tr>\n",
       "\t<tr><td>Shared room </td><td>1 </td><td>Centro              </td><td>14.77778</td></tr>\n",
       "\t<tr><td>Shared room </td><td>1 </td><td>Churriana           </td><td> 0.00000</td></tr>\n",
       "\t<tr><td>Shared room </td><td>1 </td><td>Cruz De Humilladero </td><td> 0.00000</td></tr>\n",
       "\t<tr><td>Shared room </td><td>1 </td><td>Este                </td><td>26.00000</td></tr>\n",
       "</tbody>\n",
       "</table>\n"
      ],
      "text/latex": [
       "A grouped\\_df: 107 × 4\n",
       "\\begin{tabular}{llll}\n",
       " room\\_type & bedrooms & neighbourhood\\_cleansed & mean\\_availability\\_30\\\\\n",
       " <chr> & <chr> & <chr> & <dbl>\\\\\n",
       "\\hline\n",
       "\t Entire home/apt & 0 & Bailen-Miraflores    & 19.00000\\\\\n",
       "\t Entire home/apt & 0 & Campanillas          & 29.00000\\\\\n",
       "\t Entire home/apt & 0 & Carretera de Cadiz   & 21.31579\\\\\n",
       "\t Entire home/apt & 0 & Centro               & 18.86797\\\\\n",
       "\t Entire home/apt & 0 & Churriana            & 20.12500\\\\\n",
       "\t Entire home/apt & 0 & Ciudad Jardin        & 15.00000\\\\\n",
       "\t Entire home/apt & 0 & Cruz De Humilladero  & 19.00000\\\\\n",
       "\t Entire home/apt & 0 & Este                 & 14.06522\\\\\n",
       "\t Entire home/apt & 0 & Palma-Palmilla       & 17.00000\\\\\n",
       "\t Entire home/apt & 0 & Puerto de la Torre   & 30.00000\\\\\n",
       "\t Entire home/apt & 1 & Bailen-Miraflores    & 17.24390\\\\\n",
       "\t Entire home/apt & 1 & Campanillas          & 15.00000\\\\\n",
       "\t Entire home/apt & 1 & Carretera de Cadiz   & 15.47619\\\\\n",
       "\t Entire home/apt & 1 & Centro               & 18.82894\\\\\n",
       "\t Entire home/apt & 1 & Churriana            & 18.35714\\\\\n",
       "\t Entire home/apt & 1 & Ciudad Jardin        &  9.12500\\\\\n",
       "\t Entire home/apt & 1 & Cruz De Humilladero  & 22.25397\\\\\n",
       "\t Entire home/apt & 1 & Este                 & 14.47531\\\\\n",
       "\t Entire home/apt & 1 & Palma-Palmilla       & 14.66667\\\\\n",
       "\t Entire home/apt & 1 & Puerto de la Torre   & 16.25000\\\\\n",
       "\t Entire home/apt & 1 & Teatinos-Universidad & 20.14286\\\\\n",
       "\t Entire home/apt & 2 & Bailen-Miraflores    & 16.33333\\\\\n",
       "\t Entire home/apt & 2 & Carretera de Cadiz   & 15.15200\\\\\n",
       "\t Entire home/apt & 2 & Centro               & 18.94856\\\\\n",
       "\t Entire home/apt & 2 & Churriana            & 15.29412\\\\\n",
       "\t Entire home/apt & 2 & Ciudad Jardin        & 13.00000\\\\\n",
       "\t Entire home/apt & 2 & Cruz De Humilladero  & 17.97917\\\\\n",
       "\t Entire home/apt & 2 & Este                 & 14.76471\\\\\n",
       "\t Entire home/apt & 2 & Palma-Palmilla       & 16.83333\\\\\n",
       "\t Entire home/apt & 2 & Puerto de la Torre   & 17.80000\\\\\n",
       "\t ... & ... & ... & ...\\\\\n",
       "\t Private room & 1  & Carretera de Cadiz   & 14.61111\\\\\n",
       "\t Private room & 1  & Centro               & 16.43919\\\\\n",
       "\t Private room & 1  & Churriana            & 17.83333\\\\\n",
       "\t Private room & 1  & Ciudad Jardin        & 20.08333\\\\\n",
       "\t Private room & 1  & Cruz De Humilladero  & 17.49412\\\\\n",
       "\t Private room & 1  & Este                 & 17.77632\\\\\n",
       "\t Private room & 1  & Palma-Palmilla       & 17.88889\\\\\n",
       "\t Private room & 1  & Puerto de la Torre   & 24.75000\\\\\n",
       "\t Private room & 1  & Teatinos-Universidad & 17.00000\\\\\n",
       "\t Private room & 2  & Carretera de Cadiz   & 11.00000\\\\\n",
       "\t Private room & 2  & Centro               & 14.50000\\\\\n",
       "\t Private room & 2  & Churriana            & 23.33333\\\\\n",
       "\t Private room & 2  & Cruz De Humilladero  & 27.00000\\\\\n",
       "\t Private room & 2  & Este                 & 14.20000\\\\\n",
       "\t Private room & 2  & Palma-Palmilla       & 22.00000\\\\\n",
       "\t Private room & 2  & Teatinos-Universidad & 27.50000\\\\\n",
       "\t Private room & 3  & Carretera de Cadiz   & 27.66667\\\\\n",
       "\t Private room & 3  & Centro               & 23.77778\\\\\n",
       "\t Private room & 3  & Churriana            & 30.00000\\\\\n",
       "\t Private room & 3  & Este                 & 22.00000\\\\\n",
       "\t Private room & 3  & Palma-Palmilla       &  0.00000\\\\\n",
       "\t Private room & 4  & Bailen-Miraflores    & 29.50000\\\\\n",
       "\t Private room & 4  & Centro               & 19.25000\\\\\n",
       "\t Private room & 4  & Este                 &  0.00000\\\\\n",
       "\t Private room & 5+ & Ciudad Jardin        & 27.00000\\\\\n",
       "\t Private room & 5+ & Este                 & 28.00000\\\\\n",
       "\t Shared room  & 1  & Centro               & 14.77778\\\\\n",
       "\t Shared room  & 1  & Churriana            &  0.00000\\\\\n",
       "\t Shared room  & 1  & Cruz De Humilladero  &  0.00000\\\\\n",
       "\t Shared room  & 1  & Este                 & 26.00000\\\\\n",
       "\\end{tabular}\n"
      ],
      "text/markdown": [
       "\n",
       "A grouped_df: 107 × 4\n",
       "\n",
       "| room_type &lt;chr&gt; | bedrooms &lt;chr&gt; | neighbourhood_cleansed &lt;chr&gt; | mean_availability_30 &lt;dbl&gt; |\n",
       "|---|---|---|---|\n",
       "| Entire home/apt | 0 | Bailen-Miraflores    | 19.00000 |\n",
       "| Entire home/apt | 0 | Campanillas          | 29.00000 |\n",
       "| Entire home/apt | 0 | Carretera de Cadiz   | 21.31579 |\n",
       "| Entire home/apt | 0 | Centro               | 18.86797 |\n",
       "| Entire home/apt | 0 | Churriana            | 20.12500 |\n",
       "| Entire home/apt | 0 | Ciudad Jardin        | 15.00000 |\n",
       "| Entire home/apt | 0 | Cruz De Humilladero  | 19.00000 |\n",
       "| Entire home/apt | 0 | Este                 | 14.06522 |\n",
       "| Entire home/apt | 0 | Palma-Palmilla       | 17.00000 |\n",
       "| Entire home/apt | 0 | Puerto de la Torre   | 30.00000 |\n",
       "| Entire home/apt | 1 | Bailen-Miraflores    | 17.24390 |\n",
       "| Entire home/apt | 1 | Campanillas          | 15.00000 |\n",
       "| Entire home/apt | 1 | Carretera de Cadiz   | 15.47619 |\n",
       "| Entire home/apt | 1 | Centro               | 18.82894 |\n",
       "| Entire home/apt | 1 | Churriana            | 18.35714 |\n",
       "| Entire home/apt | 1 | Ciudad Jardin        |  9.12500 |\n",
       "| Entire home/apt | 1 | Cruz De Humilladero  | 22.25397 |\n",
       "| Entire home/apt | 1 | Este                 | 14.47531 |\n",
       "| Entire home/apt | 1 | Palma-Palmilla       | 14.66667 |\n",
       "| Entire home/apt | 1 | Puerto de la Torre   | 16.25000 |\n",
       "| Entire home/apt | 1 | Teatinos-Universidad | 20.14286 |\n",
       "| Entire home/apt | 2 | Bailen-Miraflores    | 16.33333 |\n",
       "| Entire home/apt | 2 | Carretera de Cadiz   | 15.15200 |\n",
       "| Entire home/apt | 2 | Centro               | 18.94856 |\n",
       "| Entire home/apt | 2 | Churriana            | 15.29412 |\n",
       "| Entire home/apt | 2 | Ciudad Jardin        | 13.00000 |\n",
       "| Entire home/apt | 2 | Cruz De Humilladero  | 17.97917 |\n",
       "| Entire home/apt | 2 | Este                 | 14.76471 |\n",
       "| Entire home/apt | 2 | Palma-Palmilla       | 16.83333 |\n",
       "| Entire home/apt | 2 | Puerto de la Torre   | 17.80000 |\n",
       "| ... | ... | ... | ... |\n",
       "| Private room | 1  | Carretera de Cadiz   | 14.61111 |\n",
       "| Private room | 1  | Centro               | 16.43919 |\n",
       "| Private room | 1  | Churriana            | 17.83333 |\n",
       "| Private room | 1  | Ciudad Jardin        | 20.08333 |\n",
       "| Private room | 1  | Cruz De Humilladero  | 17.49412 |\n",
       "| Private room | 1  | Este                 | 17.77632 |\n",
       "| Private room | 1  | Palma-Palmilla       | 17.88889 |\n",
       "| Private room | 1  | Puerto de la Torre   | 24.75000 |\n",
       "| Private room | 1  | Teatinos-Universidad | 17.00000 |\n",
       "| Private room | 2  | Carretera de Cadiz   | 11.00000 |\n",
       "| Private room | 2  | Centro               | 14.50000 |\n",
       "| Private room | 2  | Churriana            | 23.33333 |\n",
       "| Private room | 2  | Cruz De Humilladero  | 27.00000 |\n",
       "| Private room | 2  | Este                 | 14.20000 |\n",
       "| Private room | 2  | Palma-Palmilla       | 22.00000 |\n",
       "| Private room | 2  | Teatinos-Universidad | 27.50000 |\n",
       "| Private room | 3  | Carretera de Cadiz   | 27.66667 |\n",
       "| Private room | 3  | Centro               | 23.77778 |\n",
       "| Private room | 3  | Churriana            | 30.00000 |\n",
       "| Private room | 3  | Este                 | 22.00000 |\n",
       "| Private room | 3  | Palma-Palmilla       |  0.00000 |\n",
       "| Private room | 4  | Bailen-Miraflores    | 29.50000 |\n",
       "| Private room | 4  | Centro               | 19.25000 |\n",
       "| Private room | 4  | Este                 |  0.00000 |\n",
       "| Private room | 5+ | Ciudad Jardin        | 27.00000 |\n",
       "| Private room | 5+ | Este                 | 28.00000 |\n",
       "| Shared room  | 1  | Centro               | 14.77778 |\n",
       "| Shared room  | 1  | Churriana            |  0.00000 |\n",
       "| Shared room  | 1  | Cruz De Humilladero  |  0.00000 |\n",
       "| Shared room  | 1  | Este                 | 26.00000 |\n",
       "\n"
      ],
      "text/plain": [
       "    room_type       bedrooms neighbourhood_cleansed mean_availability_30\n",
       "1   Entire home/apt 0        Bailen-Miraflores      19.00000            \n",
       "2   Entire home/apt 0        Campanillas            29.00000            \n",
       "3   Entire home/apt 0        Carretera de Cadiz     21.31579            \n",
       "4   Entire home/apt 0        Centro                 18.86797            \n",
       "5   Entire home/apt 0        Churriana              20.12500            \n",
       "6   Entire home/apt 0        Ciudad Jardin          15.00000            \n",
       "7   Entire home/apt 0        Cruz De Humilladero    19.00000            \n",
       "8   Entire home/apt 0        Este                   14.06522            \n",
       "9   Entire home/apt 0        Palma-Palmilla         17.00000            \n",
       "10  Entire home/apt 0        Puerto de la Torre     30.00000            \n",
       "11  Entire home/apt 1        Bailen-Miraflores      17.24390            \n",
       "12  Entire home/apt 1        Campanillas            15.00000            \n",
       "13  Entire home/apt 1        Carretera de Cadiz     15.47619            \n",
       "14  Entire home/apt 1        Centro                 18.82894            \n",
       "15  Entire home/apt 1        Churriana              18.35714            \n",
       "16  Entire home/apt 1        Ciudad Jardin           9.12500            \n",
       "17  Entire home/apt 1        Cruz De Humilladero    22.25397            \n",
       "18  Entire home/apt 1        Este                   14.47531            \n",
       "19  Entire home/apt 1        Palma-Palmilla         14.66667            \n",
       "20  Entire home/apt 1        Puerto de la Torre     16.25000            \n",
       "21  Entire home/apt 1        Teatinos-Universidad   20.14286            \n",
       "22  Entire home/apt 2        Bailen-Miraflores      16.33333            \n",
       "23  Entire home/apt 2        Carretera de Cadiz     15.15200            \n",
       "24  Entire home/apt 2        Centro                 18.94856            \n",
       "25  Entire home/apt 2        Churriana              15.29412            \n",
       "26  Entire home/apt 2        Ciudad Jardin          13.00000            \n",
       "27  Entire home/apt 2        Cruz De Humilladero    17.97917            \n",
       "28  Entire home/apt 2        Este                   14.76471            \n",
       "29  Entire home/apt 2        Palma-Palmilla         16.83333            \n",
       "30  Entire home/apt 2        Puerto de la Torre     17.80000            \n",
       "... ...             ...      ...                    ...                 \n",
       "78  Private room    1        Carretera de Cadiz     14.61111            \n",
       "79  Private room    1        Centro                 16.43919            \n",
       "80  Private room    1        Churriana              17.83333            \n",
       "81  Private room    1        Ciudad Jardin          20.08333            \n",
       "82  Private room    1        Cruz De Humilladero    17.49412            \n",
       "83  Private room    1        Este                   17.77632            \n",
       "84  Private room    1        Palma-Palmilla         17.88889            \n",
       "85  Private room    1        Puerto de la Torre     24.75000            \n",
       "86  Private room    1        Teatinos-Universidad   17.00000            \n",
       "87  Private room    2        Carretera de Cadiz     11.00000            \n",
       "88  Private room    2        Centro                 14.50000            \n",
       "89  Private room    2        Churriana              23.33333            \n",
       "90  Private room    2        Cruz De Humilladero    27.00000            \n",
       "91  Private room    2        Este                   14.20000            \n",
       "92  Private room    2        Palma-Palmilla         22.00000            \n",
       "93  Private room    2        Teatinos-Universidad   27.50000            \n",
       "94  Private room    3        Carretera de Cadiz     27.66667            \n",
       "95  Private room    3        Centro                 23.77778            \n",
       "96  Private room    3        Churriana              30.00000            \n",
       "97  Private room    3        Este                   22.00000            \n",
       "98  Private room    3        Palma-Palmilla          0.00000            \n",
       "99  Private room    4        Bailen-Miraflores      29.50000            \n",
       "100 Private room    4        Centro                 19.25000            \n",
       "101 Private room    4        Este                    0.00000            \n",
       "102 Private room    5+       Ciudad Jardin          27.00000            \n",
       "103 Private room    5+       Este                   28.00000            \n",
       "104 Shared room     1        Centro                 14.77778            \n",
       "105 Shared room     1        Churriana               0.00000            \n",
       "106 Shared room     1        Cruz De Humilladero     0.00000            \n",
       "107 Shared room     1        Este                   26.00000            "
      ]
     },
     "metadata": {},
     "output_type": "display_data"
    }
   ],
   "source": [
    "aggregated_availability <- listings %>%\n",
    "    filter(city == selected_city) %>%\n",
    "    group_by(room_type,bedrooms,neighbourhood_cleansed) %>%\n",
    "    summarise(mean_availability_30 = mean(availability_30))\n",
    "\n",
    "# Removing NA\n",
    "aggregated_availability[complete.cases(aggregated_availability), ]"
   ]
  },
  {
   "cell_type": "markdown",
   "metadata": {},
   "source": [
    "#### 5. What is the average revenue over the next 30 days for each room type / house size / neighborhood?"
   ]
  },
  {
   "cell_type": "code",
   "execution_count": 53,
   "metadata": {},
   "outputs": [
    {
     "name": "stderr",
     "output_type": "stream",
     "text": [
      "`summarise()` regrouping output by 'room_type', 'bedrooms' (override with `.groups` argument)\n",
      "\n"
     ]
    },
    {
     "data": {
      "text/html": [
       "<table>\n",
       "<caption>A grouped_df: 107 × 4</caption>\n",
       "<thead>\n",
       "\t<tr><th scope=col>room_type</th><th scope=col>bedrooms</th><th scope=col>neighbourhood_cleansed</th><th scope=col>mean_revenue_30</th></tr>\n",
       "\t<tr><th scope=col>&lt;chr&gt;</th><th scope=col>&lt;chr&gt;</th><th scope=col>&lt;chr&gt;</th><th scope=col>&lt;dbl&gt;</th></tr>\n",
       "</thead>\n",
       "<tbody>\n",
       "\t<tr><td>Entire home/apt</td><td>0</td><td>Bailen-Miraflores   </td><td> 468.0000</td></tr>\n",
       "\t<tr><td>Entire home/apt</td><td>0</td><td>Campanillas         </td><td>  50.0000</td></tr>\n",
       "\t<tr><td>Entire home/apt</td><td>0</td><td>Carretera de Cadiz  </td><td> 720.0526</td></tr>\n",
       "\t<tr><td>Entire home/apt</td><td>0</td><td>Centro              </td><td> 826.8875</td></tr>\n",
       "\t<tr><td>Entire home/apt</td><td>0</td><td>Churriana           </td><td> 811.6250</td></tr>\n",
       "\t<tr><td>Entire home/apt</td><td>0</td><td>Ciudad Jardin       </td><td>1210.0000</td></tr>\n",
       "\t<tr><td>Entire home/apt</td><td>0</td><td>Cruz De Humilladero </td><td> 466.8000</td></tr>\n",
       "\t<tr><td>Entire home/apt</td><td>0</td><td>Este                </td><td>1003.6957</td></tr>\n",
       "\t<tr><td>Entire home/apt</td><td>0</td><td>Palma-Palmilla      </td><td> 616.0000</td></tr>\n",
       "\t<tr><td>Entire home/apt</td><td>0</td><td>Puerto de la Torre  </td><td>   0.0000</td></tr>\n",
       "\t<tr><td>Entire home/apt</td><td>1</td><td>Bailen-Miraflores   </td><td> 689.1951</td></tr>\n",
       "\t<tr><td>Entire home/apt</td><td>1</td><td>Campanillas         </td><td> 700.0000</td></tr>\n",
       "\t<tr><td>Entire home/apt</td><td>1</td><td>Carretera de Cadiz  </td><td>1028.9881</td></tr>\n",
       "\t<tr><td>Entire home/apt</td><td>1</td><td>Centro              </td><td>1009.3924</td></tr>\n",
       "\t<tr><td>Entire home/apt</td><td>1</td><td>Churriana           </td><td> 966.3571</td></tr>\n",
       "\t<tr><td>Entire home/apt</td><td>1</td><td>Ciudad Jardin       </td><td>1254.8750</td></tr>\n",
       "\t<tr><td>Entire home/apt</td><td>1</td><td>Cruz De Humilladero </td><td> 596.2857</td></tr>\n",
       "\t<tr><td>Entire home/apt</td><td>1</td><td>Este                </td><td>1168.3827</td></tr>\n",
       "\t<tr><td>Entire home/apt</td><td>1</td><td>Palma-Palmilla      </td><td> 925.3333</td></tr>\n",
       "\t<tr><td>Entire home/apt</td><td>1</td><td>Puerto de la Torre  </td><td> 832.7500</td></tr>\n",
       "\t<tr><td>Entire home/apt</td><td>1</td><td>Teatinos-Universidad</td><td> 633.5714</td></tr>\n",
       "\t<tr><td>Entire home/apt</td><td>2</td><td>Bailen-Miraflores   </td><td> 960.1481</td></tr>\n",
       "\t<tr><td>Entire home/apt</td><td>2</td><td>Carretera de Cadiz  </td><td>1444.3840</td></tr>\n",
       "\t<tr><td>Entire home/apt</td><td>2</td><td>Centro              </td><td>1325.8500</td></tr>\n",
       "\t<tr><td>Entire home/apt</td><td>2</td><td>Churriana           </td><td>1275.1765</td></tr>\n",
       "\t<tr><td>Entire home/apt</td><td>2</td><td>Ciudad Jardin       </td><td>1093.5455</td></tr>\n",
       "\t<tr><td>Entire home/apt</td><td>2</td><td>Cruz De Humilladero </td><td> 969.7083</td></tr>\n",
       "\t<tr><td>Entire home/apt</td><td>2</td><td>Este                </td><td>1683.2529</td></tr>\n",
       "\t<tr><td>Entire home/apt</td><td>2</td><td>Palma-Palmilla      </td><td>1066.1667</td></tr>\n",
       "\t<tr><td>Entire home/apt</td><td>2</td><td>Puerto de la Torre  </td><td> 987.0000</td></tr>\n",
       "\t<tr><td>...</td><td>...</td><td>...</td><td>...</td></tr>\n",
       "\t<tr><td>Private room</td><td>1 </td><td>Carretera de Cadiz  </td><td> 491.2698</td></tr>\n",
       "\t<tr><td>Private room</td><td>1 </td><td>Centro              </td><td> 492.1374</td></tr>\n",
       "\t<tr><td>Private room</td><td>1 </td><td>Churriana           </td><td> 739.5000</td></tr>\n",
       "\t<tr><td>Private room</td><td>1 </td><td>Ciudad Jardin       </td><td> 556.0833</td></tr>\n",
       "\t<tr><td>Private room</td><td>1 </td><td>Cruz De Humilladero </td><td> 281.4118</td></tr>\n",
       "\t<tr><td>Private room</td><td>1 </td><td>Este                </td><td> 730.2368</td></tr>\n",
       "\t<tr><td>Private room</td><td>1 </td><td>Palma-Palmilla      </td><td> 363.0000</td></tr>\n",
       "\t<tr><td>Private room</td><td>1 </td><td>Puerto de la Torre  </td><td> 190.7500</td></tr>\n",
       "\t<tr><td>Private room</td><td>1 </td><td>Teatinos-Universidad</td><td> 317.8333</td></tr>\n",
       "\t<tr><td>Private room</td><td>2 </td><td>Carretera de Cadiz  </td><td> 556.0000</td></tr>\n",
       "\t<tr><td>Private room</td><td>2 </td><td>Centro              </td><td>1569.2000</td></tr>\n",
       "\t<tr><td>Private room</td><td>2 </td><td>Churriana           </td><td> 460.0000</td></tr>\n",
       "\t<tr><td>Private room</td><td>2 </td><td>Cruz De Humilladero </td><td> 498.5000</td></tr>\n",
       "\t<tr><td>Private room</td><td>2 </td><td>Este                </td><td>1011.0000</td></tr>\n",
       "\t<tr><td>Private room</td><td>2 </td><td>Palma-Palmilla      </td><td> 240.0000</td></tr>\n",
       "\t<tr><td>Private room</td><td>2 </td><td>Teatinos-Universidad</td><td>  90.0000</td></tr>\n",
       "\t<tr><td>Private room</td><td>3 </td><td>Carretera de Cadiz  </td><td>  70.0000</td></tr>\n",
       "\t<tr><td>Private room</td><td>3 </td><td>Centro              </td><td> 723.0000</td></tr>\n",
       "\t<tr><td>Private room</td><td>3 </td><td>Churriana           </td><td>   0.0000</td></tr>\n",
       "\t<tr><td>Private room</td><td>3 </td><td>Este                </td><td>1290.0000</td></tr>\n",
       "\t<tr><td>Private room</td><td>3 </td><td>Palma-Palmilla      </td><td>4660.0000</td></tr>\n",
       "\t<tr><td>Private room</td><td>4 </td><td>Bailen-Miraflores   </td><td>  12.5000</td></tr>\n",
       "\t<tr><td>Private room</td><td>4 </td><td>Centro              </td><td> 159.5000</td></tr>\n",
       "\t<tr><td>Private room</td><td>4 </td><td>Este                </td><td> 480.0000</td></tr>\n",
       "\t<tr><td>Private room</td><td>5+</td><td>Ciudad Jardin       </td><td> 225.0000</td></tr>\n",
       "\t<tr><td>Private room</td><td>5+</td><td>Este                </td><td> 750.0000</td></tr>\n",
       "\t<tr><td>Shared room </td><td>1 </td><td>Centro              </td><td> 315.5556</td></tr>\n",
       "\t<tr><td>Shared room </td><td>1 </td><td>Churriana           </td><td> 810.0000</td></tr>\n",
       "\t<tr><td>Shared room </td><td>1 </td><td>Cruz De Humilladero </td><td>2400.0000</td></tr>\n",
       "\t<tr><td>Shared room </td><td>1 </td><td>Este                </td><td> 151.6667</td></tr>\n",
       "</tbody>\n",
       "</table>\n"
      ],
      "text/latex": [
       "A grouped\\_df: 107 × 4\n",
       "\\begin{tabular}{llll}\n",
       " room\\_type & bedrooms & neighbourhood\\_cleansed & mean\\_revenue\\_30\\\\\n",
       " <chr> & <chr> & <chr> & <dbl>\\\\\n",
       "\\hline\n",
       "\t Entire home/apt & 0 & Bailen-Miraflores    &  468.0000\\\\\n",
       "\t Entire home/apt & 0 & Campanillas          &   50.0000\\\\\n",
       "\t Entire home/apt & 0 & Carretera de Cadiz   &  720.0526\\\\\n",
       "\t Entire home/apt & 0 & Centro               &  826.8875\\\\\n",
       "\t Entire home/apt & 0 & Churriana            &  811.6250\\\\\n",
       "\t Entire home/apt & 0 & Ciudad Jardin        & 1210.0000\\\\\n",
       "\t Entire home/apt & 0 & Cruz De Humilladero  &  466.8000\\\\\n",
       "\t Entire home/apt & 0 & Este                 & 1003.6957\\\\\n",
       "\t Entire home/apt & 0 & Palma-Palmilla       &  616.0000\\\\\n",
       "\t Entire home/apt & 0 & Puerto de la Torre   &    0.0000\\\\\n",
       "\t Entire home/apt & 1 & Bailen-Miraflores    &  689.1951\\\\\n",
       "\t Entire home/apt & 1 & Campanillas          &  700.0000\\\\\n",
       "\t Entire home/apt & 1 & Carretera de Cadiz   & 1028.9881\\\\\n",
       "\t Entire home/apt & 1 & Centro               & 1009.3924\\\\\n",
       "\t Entire home/apt & 1 & Churriana            &  966.3571\\\\\n",
       "\t Entire home/apt & 1 & Ciudad Jardin        & 1254.8750\\\\\n",
       "\t Entire home/apt & 1 & Cruz De Humilladero  &  596.2857\\\\\n",
       "\t Entire home/apt & 1 & Este                 & 1168.3827\\\\\n",
       "\t Entire home/apt & 1 & Palma-Palmilla       &  925.3333\\\\\n",
       "\t Entire home/apt & 1 & Puerto de la Torre   &  832.7500\\\\\n",
       "\t Entire home/apt & 1 & Teatinos-Universidad &  633.5714\\\\\n",
       "\t Entire home/apt & 2 & Bailen-Miraflores    &  960.1481\\\\\n",
       "\t Entire home/apt & 2 & Carretera de Cadiz   & 1444.3840\\\\\n",
       "\t Entire home/apt & 2 & Centro               & 1325.8500\\\\\n",
       "\t Entire home/apt & 2 & Churriana            & 1275.1765\\\\\n",
       "\t Entire home/apt & 2 & Ciudad Jardin        & 1093.5455\\\\\n",
       "\t Entire home/apt & 2 & Cruz De Humilladero  &  969.7083\\\\\n",
       "\t Entire home/apt & 2 & Este                 & 1683.2529\\\\\n",
       "\t Entire home/apt & 2 & Palma-Palmilla       & 1066.1667\\\\\n",
       "\t Entire home/apt & 2 & Puerto de la Torre   &  987.0000\\\\\n",
       "\t ... & ... & ... & ...\\\\\n",
       "\t Private room & 1  & Carretera de Cadiz   &  491.2698\\\\\n",
       "\t Private room & 1  & Centro               &  492.1374\\\\\n",
       "\t Private room & 1  & Churriana            &  739.5000\\\\\n",
       "\t Private room & 1  & Ciudad Jardin        &  556.0833\\\\\n",
       "\t Private room & 1  & Cruz De Humilladero  &  281.4118\\\\\n",
       "\t Private room & 1  & Este                 &  730.2368\\\\\n",
       "\t Private room & 1  & Palma-Palmilla       &  363.0000\\\\\n",
       "\t Private room & 1  & Puerto de la Torre   &  190.7500\\\\\n",
       "\t Private room & 1  & Teatinos-Universidad &  317.8333\\\\\n",
       "\t Private room & 2  & Carretera de Cadiz   &  556.0000\\\\\n",
       "\t Private room & 2  & Centro               & 1569.2000\\\\\n",
       "\t Private room & 2  & Churriana            &  460.0000\\\\\n",
       "\t Private room & 2  & Cruz De Humilladero  &  498.5000\\\\\n",
       "\t Private room & 2  & Este                 & 1011.0000\\\\\n",
       "\t Private room & 2  & Palma-Palmilla       &  240.0000\\\\\n",
       "\t Private room & 2  & Teatinos-Universidad &   90.0000\\\\\n",
       "\t Private room & 3  & Carretera de Cadiz   &   70.0000\\\\\n",
       "\t Private room & 3  & Centro               &  723.0000\\\\\n",
       "\t Private room & 3  & Churriana            &    0.0000\\\\\n",
       "\t Private room & 3  & Este                 & 1290.0000\\\\\n",
       "\t Private room & 3  & Palma-Palmilla       & 4660.0000\\\\\n",
       "\t Private room & 4  & Bailen-Miraflores    &   12.5000\\\\\n",
       "\t Private room & 4  & Centro               &  159.5000\\\\\n",
       "\t Private room & 4  & Este                 &  480.0000\\\\\n",
       "\t Private room & 5+ & Ciudad Jardin        &  225.0000\\\\\n",
       "\t Private room & 5+ & Este                 &  750.0000\\\\\n",
       "\t Shared room  & 1  & Centro               &  315.5556\\\\\n",
       "\t Shared room  & 1  & Churriana            &  810.0000\\\\\n",
       "\t Shared room  & 1  & Cruz De Humilladero  & 2400.0000\\\\\n",
       "\t Shared room  & 1  & Este                 &  151.6667\\\\\n",
       "\\end{tabular}\n"
      ],
      "text/markdown": [
       "\n",
       "A grouped_df: 107 × 4\n",
       "\n",
       "| room_type &lt;chr&gt; | bedrooms &lt;chr&gt; | neighbourhood_cleansed &lt;chr&gt; | mean_revenue_30 &lt;dbl&gt; |\n",
       "|---|---|---|---|\n",
       "| Entire home/apt | 0 | Bailen-Miraflores    |  468.0000 |\n",
       "| Entire home/apt | 0 | Campanillas          |   50.0000 |\n",
       "| Entire home/apt | 0 | Carretera de Cadiz   |  720.0526 |\n",
       "| Entire home/apt | 0 | Centro               |  826.8875 |\n",
       "| Entire home/apt | 0 | Churriana            |  811.6250 |\n",
       "| Entire home/apt | 0 | Ciudad Jardin        | 1210.0000 |\n",
       "| Entire home/apt | 0 | Cruz De Humilladero  |  466.8000 |\n",
       "| Entire home/apt | 0 | Este                 | 1003.6957 |\n",
       "| Entire home/apt | 0 | Palma-Palmilla       |  616.0000 |\n",
       "| Entire home/apt | 0 | Puerto de la Torre   |    0.0000 |\n",
       "| Entire home/apt | 1 | Bailen-Miraflores    |  689.1951 |\n",
       "| Entire home/apt | 1 | Campanillas          |  700.0000 |\n",
       "| Entire home/apt | 1 | Carretera de Cadiz   | 1028.9881 |\n",
       "| Entire home/apt | 1 | Centro               | 1009.3924 |\n",
       "| Entire home/apt | 1 | Churriana            |  966.3571 |\n",
       "| Entire home/apt | 1 | Ciudad Jardin        | 1254.8750 |\n",
       "| Entire home/apt | 1 | Cruz De Humilladero  |  596.2857 |\n",
       "| Entire home/apt | 1 | Este                 | 1168.3827 |\n",
       "| Entire home/apt | 1 | Palma-Palmilla       |  925.3333 |\n",
       "| Entire home/apt | 1 | Puerto de la Torre   |  832.7500 |\n",
       "| Entire home/apt | 1 | Teatinos-Universidad |  633.5714 |\n",
       "| Entire home/apt | 2 | Bailen-Miraflores    |  960.1481 |\n",
       "| Entire home/apt | 2 | Carretera de Cadiz   | 1444.3840 |\n",
       "| Entire home/apt | 2 | Centro               | 1325.8500 |\n",
       "| Entire home/apt | 2 | Churriana            | 1275.1765 |\n",
       "| Entire home/apt | 2 | Ciudad Jardin        | 1093.5455 |\n",
       "| Entire home/apt | 2 | Cruz De Humilladero  |  969.7083 |\n",
       "| Entire home/apt | 2 | Este                 | 1683.2529 |\n",
       "| Entire home/apt | 2 | Palma-Palmilla       | 1066.1667 |\n",
       "| Entire home/apt | 2 | Puerto de la Torre   |  987.0000 |\n",
       "| ... | ... | ... | ... |\n",
       "| Private room | 1  | Carretera de Cadiz   |  491.2698 |\n",
       "| Private room | 1  | Centro               |  492.1374 |\n",
       "| Private room | 1  | Churriana            |  739.5000 |\n",
       "| Private room | 1  | Ciudad Jardin        |  556.0833 |\n",
       "| Private room | 1  | Cruz De Humilladero  |  281.4118 |\n",
       "| Private room | 1  | Este                 |  730.2368 |\n",
       "| Private room | 1  | Palma-Palmilla       |  363.0000 |\n",
       "| Private room | 1  | Puerto de la Torre   |  190.7500 |\n",
       "| Private room | 1  | Teatinos-Universidad |  317.8333 |\n",
       "| Private room | 2  | Carretera de Cadiz   |  556.0000 |\n",
       "| Private room | 2  | Centro               | 1569.2000 |\n",
       "| Private room | 2  | Churriana            |  460.0000 |\n",
       "| Private room | 2  | Cruz De Humilladero  |  498.5000 |\n",
       "| Private room | 2  | Este                 | 1011.0000 |\n",
       "| Private room | 2  | Palma-Palmilla       |  240.0000 |\n",
       "| Private room | 2  | Teatinos-Universidad |   90.0000 |\n",
       "| Private room | 3  | Carretera de Cadiz   |   70.0000 |\n",
       "| Private room | 3  | Centro               |  723.0000 |\n",
       "| Private room | 3  | Churriana            |    0.0000 |\n",
       "| Private room | 3  | Este                 | 1290.0000 |\n",
       "| Private room | 3  | Palma-Palmilla       | 4660.0000 |\n",
       "| Private room | 4  | Bailen-Miraflores    |   12.5000 |\n",
       "| Private room | 4  | Centro               |  159.5000 |\n",
       "| Private room | 4  | Este                 |  480.0000 |\n",
       "| Private room | 5+ | Ciudad Jardin        |  225.0000 |\n",
       "| Private room | 5+ | Este                 |  750.0000 |\n",
       "| Shared room  | 1  | Centro               |  315.5556 |\n",
       "| Shared room  | 1  | Churriana            |  810.0000 |\n",
       "| Shared room  | 1  | Cruz De Humilladero  | 2400.0000 |\n",
       "| Shared room  | 1  | Este                 |  151.6667 |\n",
       "\n"
      ],
      "text/plain": [
       "    room_type       bedrooms neighbourhood_cleansed mean_revenue_30\n",
       "1   Entire home/apt 0        Bailen-Miraflores       468.0000      \n",
       "2   Entire home/apt 0        Campanillas              50.0000      \n",
       "3   Entire home/apt 0        Carretera de Cadiz      720.0526      \n",
       "4   Entire home/apt 0        Centro                  826.8875      \n",
       "5   Entire home/apt 0        Churriana               811.6250      \n",
       "6   Entire home/apt 0        Ciudad Jardin          1210.0000      \n",
       "7   Entire home/apt 0        Cruz De Humilladero     466.8000      \n",
       "8   Entire home/apt 0        Este                   1003.6957      \n",
       "9   Entire home/apt 0        Palma-Palmilla          616.0000      \n",
       "10  Entire home/apt 0        Puerto de la Torre        0.0000      \n",
       "11  Entire home/apt 1        Bailen-Miraflores       689.1951      \n",
       "12  Entire home/apt 1        Campanillas             700.0000      \n",
       "13  Entire home/apt 1        Carretera de Cadiz     1028.9881      \n",
       "14  Entire home/apt 1        Centro                 1009.3924      \n",
       "15  Entire home/apt 1        Churriana               966.3571      \n",
       "16  Entire home/apt 1        Ciudad Jardin          1254.8750      \n",
       "17  Entire home/apt 1        Cruz De Humilladero     596.2857      \n",
       "18  Entire home/apt 1        Este                   1168.3827      \n",
       "19  Entire home/apt 1        Palma-Palmilla          925.3333      \n",
       "20  Entire home/apt 1        Puerto de la Torre      832.7500      \n",
       "21  Entire home/apt 1        Teatinos-Universidad    633.5714      \n",
       "22  Entire home/apt 2        Bailen-Miraflores       960.1481      \n",
       "23  Entire home/apt 2        Carretera de Cadiz     1444.3840      \n",
       "24  Entire home/apt 2        Centro                 1325.8500      \n",
       "25  Entire home/apt 2        Churriana              1275.1765      \n",
       "26  Entire home/apt 2        Ciudad Jardin          1093.5455      \n",
       "27  Entire home/apt 2        Cruz De Humilladero     969.7083      \n",
       "28  Entire home/apt 2        Este                   1683.2529      \n",
       "29  Entire home/apt 2        Palma-Palmilla         1066.1667      \n",
       "30  Entire home/apt 2        Puerto de la Torre      987.0000      \n",
       "... ...             ...      ...                    ...            \n",
       "78  Private room    1        Carretera de Cadiz      491.2698      \n",
       "79  Private room    1        Centro                  492.1374      \n",
       "80  Private room    1        Churriana               739.5000      \n",
       "81  Private room    1        Ciudad Jardin           556.0833      \n",
       "82  Private room    1        Cruz De Humilladero     281.4118      \n",
       "83  Private room    1        Este                    730.2368      \n",
       "84  Private room    1        Palma-Palmilla          363.0000      \n",
       "85  Private room    1        Puerto de la Torre      190.7500      \n",
       "86  Private room    1        Teatinos-Universidad    317.8333      \n",
       "87  Private room    2        Carretera de Cadiz      556.0000      \n",
       "88  Private room    2        Centro                 1569.2000      \n",
       "89  Private room    2        Churriana               460.0000      \n",
       "90  Private room    2        Cruz De Humilladero     498.5000      \n",
       "91  Private room    2        Este                   1011.0000      \n",
       "92  Private room    2        Palma-Palmilla          240.0000      \n",
       "93  Private room    2        Teatinos-Universidad     90.0000      \n",
       "94  Private room    3        Carretera de Cadiz       70.0000      \n",
       "95  Private room    3        Centro                  723.0000      \n",
       "96  Private room    3        Churriana                 0.0000      \n",
       "97  Private room    3        Este                   1290.0000      \n",
       "98  Private room    3        Palma-Palmilla         4660.0000      \n",
       "99  Private room    4        Bailen-Miraflores        12.5000      \n",
       "100 Private room    4        Centro                  159.5000      \n",
       "101 Private room    4        Este                    480.0000      \n",
       "102 Private room    5+       Ciudad Jardin           225.0000      \n",
       "103 Private room    5+       Este                    750.0000      \n",
       "104 Shared room     1        Centro                  315.5556      \n",
       "105 Shared room     1        Churriana               810.0000      \n",
       "106 Shared room     1        Cruz De Humilladero    2400.0000      \n",
       "107 Shared room     1        Este                    151.6667      "
      ]
     },
     "metadata": {},
     "output_type": "display_data"
    }
   ],
   "source": [
    "aggregated_revenue <- listings %>%\n",
    "    filter(city == selected_city) %>%\n",
    "    group_by(room_type,bedrooms,neighbourhood_cleansed) %>%\n",
    "    summarise(mean_revenue_30 = mean(revenue_30))\n",
    "\n",
    "# Removing NA\n",
    "aggregated_revenue[complete.cases(aggregated_revenue), ]"
   ]
  },
  {
   "cell_type": "markdown",
   "metadata": {},
   "source": [
    "#### 6. What is the distribution of availability over the next 30 days for each room type/ house size / neighborhood?"
   ]
  },
  {
   "cell_type": "code",
   "execution_count": 27,
   "metadata": {},
   "outputs": [
    {
     "name": "stderr",
     "output_type": "stream",
     "text": [
      "Warning message:\n",
      "\"`fun.y` is deprecated. Use `fun` instead.\"\n"
     ]
    },
    {
     "data": {
      "image/png": "[encoded data removed]",
      "text/plain": [
       "plot without title"
      ]
     },
     "metadata": {
      "image/png": {
       "height": 420,
       "width": 420
      }
     },
     "output_type": "display_data"
    }
   ],
   "source": [
    "specified <- listings[complete.cases(listings), ] %>%\n",
    "      filter(city == selected_city)\n",
    "q <- ggplot(specified, aes(bedrooms, availability_30))\n",
    "q+stat_summary(fun.y=\"mean\", geom=\"point\")+facet_grid(room_type~neighbourhood_cleansed)"
   ]
  },
  {
   "cell_type": "markdown",
   "metadata": {},
   "source": [
    "#### 7. What is the distribution of revenue over the next 30 days for each room type / house size / neighborhood? "
   ]
  },
  {
   "cell_type": "code",
   "execution_count": 28,
   "metadata": {},
   "outputs": [
    {
     "name": "stderr",
     "output_type": "stream",
     "text": [
      "Warning message:\n",
      "\"`fun.y` is deprecated. Use `fun` instead.\"\n"
     ]
    },
    {
     "data": {
      "image/png": "[encoded data removed]",
      "text/plain": [
       "plot without title"
      ]
     },
     "metadata": {
      "image/png": {
       "height": 420,
       "width": 420
      }
     },
     "output_type": "display_data"
    }
   ],
   "source": [
    "specified <- listings[complete.cases(listings), ] %>%\n",
    "      filter(city == selected_city)\n",
    "q <- ggplot(specified, aes(bedrooms, revenue_30))\n",
    "q+stat_summary(fun.y=\"mean\", geom=\"point\")+facet_grid(room_type~neighbourhood_cleansed)"
   ]
  },
  {
   "cell_type": "markdown",
   "metadata": {},
   "source": [
    "## Additional Analysis :\n",
    "### Compute the break even point \n",
    "\n",
    "_Break Event Point_ : the point at which a business starts to make as much money as it has spent on a particular product, activity, etc\n",
    "The BEP monitors how fast or how much money is required for the invest to make benefits : it is **widely used by managers to interpret the profitability of a product**, in our case : the profitability of the invest.\n",
    "\n",
    "#### Calculation\n",
    "$$Break Even Point = {\\sum{Fixed Cost} \\over Income – VariableCostsPerUnit}.$$\n",
    "\n",
    "* Fixed costs are costs that are not related to the activity\n",
    "* Variable costs are costs related to the activity\n",
    "* Income is the money earned\n",
    "\n",
    "\n",
    "#### Additionnal Data :\n",
    "In this particular case : \n",
    "* Fixed costs : Price of the Rent\n",
    "* Variable costs : Electricity\n",
    "* Income : Revenue over 365 days\n",
    "Data extracted by this [website](https://www.combien-coute.net/)\n",
    "\n",
    "\n",
    "|Ville| Sevilla  | Malaga | Majorqua  | \n",
    "|--|--|--|--|\n",
    "|Square Meter| **2516.67 €** | **2842.86 €** | **3483.33 €** |\n",
    "|Variable Expenses| **126.44 €** | **112.01 €** | **107.92 €**|\n",
    "\n",
    "#### Consideration : \n",
    "For the ease of the data harvesting we consider that:\n",
    "* the square meter price is even in each city\n",
    "* the average size for a bedroom is 10 square meter\n",
    "* each house as a lounge room of a size : ```1,5*number of room+7,5```\n",
    "* the price of the electricity is the same for every house"
   ]
  },
  {
   "cell_type": "markdown",
   "metadata": {},
   "source": [
    "### Bonus :\n",
    "For each city :\n",
    "- [ ] Fetch the price of squaremeter in each city : fixed cost\n",
    "- [ ] Fetch the price of the electricity and water in each city : variable cost \n",
    "- [ ] Compute the breakeven point in days and in € : Fixed Cost / (Income-variable cost)"
   ]
  },
  {
   "cell_type": "markdown",
   "metadata": {},
   "source": [
    "### For the 3 cities"
   ]
  },
  {
   "cell_type": "code",
   "execution_count": 29,
   "metadata": {},
   "outputs": [],
   "source": [
    "cities <- c(\"sevilla\",\"malaga\", \"mallorca\")\n",
    "square_meter <- c(2516.67,2842.86,3483.33)\n",
    "charges <- c(126.44,112.01,107.92)"
   ]
  },
  {
   "cell_type": "code",
   "execution_count": 30,
   "metadata": {},
   "outputs": [],
   "source": [
    "for(i in 1:length(cities)){\n",
    "    city <- cities[i]\n",
    "    bool_index <- listings_full$city==city\n",
    "    # Creating fixed costs column \n",
    "    fixed_cost<-(square_meter[i]*(listings_full[bool_index,]$bedrooms* 10 + (1.5*listings_full[bool_index,]$bedrooms+8.5)))\n",
    "    listings_full[bool_index, 'fixed_cost'] <- fixed_cost\n",
    "    # Creating var costs column\n",
    "    listings_full[bool_index, 'var_cost'] <- ((charges[i]/31) * (365-as.integer(listings_full[bool_index, ]$availability_365)))\n",
    "    # Break Even Point in Year\n",
    "    listings_full[bool_index,'bep_year'] <- listings_full[bool_index,]$fixed_cost/(listings_full[bool_index,]$revenue_365-listings_full[bool_index,]$var_cost)\n",
    "    # Break Even Point in Turnover\n",
    "    listings_full[bool_index,'bep_turnover'] <- listings_full[bool_index,]$fixed_cost/((listings_full[bool_index,]$revenue_365-listings_full[bool_index,]$var_cost)/listings_full[bool_index,]$revenue_365)\n",
    "}"
   ]
  },
  {
   "cell_type": "code",
   "execution_count": 31,
   "metadata": {},
   "outputs": [
    {
     "data": {
      "text/html": [
       "<table>\n",
       "<caption>A data.frame: 3 × 2</caption>\n",
       "<thead>\n",
       "\t<tr><th scope=col>Group.1</th><th scope=col>x</th></tr>\n",
       "\t<tr><th scope=col>&lt;chr&gt;</th><th scope=col>&lt;dbl&gt;</th></tr>\n",
       "</thead>\n",
       "<tbody>\n",
       "\t<tr><td>malaga  </td><td>61.64183</td></tr>\n",
       "\t<tr><td>mallorca</td><td>84.00211</td></tr>\n",
       "\t<tr><td>sevilla </td><td>81.32288</td></tr>\n",
       "</tbody>\n",
       "</table>\n"
      ],
      "text/latex": [
       "A data.frame: 3 × 2\n",
       "\\begin{tabular}{ll}\n",
       " Group.1 & x\\\\\n",
       " <chr> & <dbl>\\\\\n",
       "\\hline\n",
       "\t malaga   & 61.64183\\\\\n",
       "\t mallorca & 84.00211\\\\\n",
       "\t sevilla  & 81.32288\\\\\n",
       "\\end{tabular}\n"
      ],
      "text/markdown": [
       "\n",
       "A data.frame: 3 × 2\n",
       "\n",
       "| Group.1 &lt;chr&gt; | x &lt;dbl&gt; |\n",
       "|---|---|\n",
       "| malaga   | 61.64183 |\n",
       "| mallorca | 84.00211 |\n",
       "| sevilla  | 81.32288 |\n",
       "\n"
      ],
      "text/plain": [
       "  Group.1  x       \n",
       "1 malaga   61.64183\n",
       "2 mallorca 84.00211\n",
       "3 sevilla  81.32288"
      ]
     },
     "metadata": {},
     "output_type": "display_data"
    }
   ],
   "source": [
    "avg_bep_year <- aggregate(listings_full$bep_year,list(listings_full$city),mean)\n",
    "avg_bep_year"
   ]
  },
  {
   "cell_type": "code",
   "execution_count": 32,
   "metadata": {},
   "outputs": [
    {
     "data": {
      "image/png": "[encoded data removed]",
      "text/plain": [
       "plot without title"
      ]
     },
     "metadata": {
      "image/png": {
       "height": 420,
       "width": 420
      }
     },
     "output_type": "display_data"
    }
   ],
   "source": [
    "distrib_bep_year <- ggplot(listings_full, aes(city, bep_turnover))\n",
    "distrib_bep_year + geom_boxplot(aes(colour = \"red\"), outlier.shape = NA) +\n",
    "    scale_y_continuous(limits = quantile(listings$bep_turnover, c(0.1, 0.9), na.rm = T))"
   ]
  },
  {
   "cell_type": "code",
   "execution_count": 33,
   "metadata": {},
   "outputs": [
    {
     "data": {
      "image/png": "[encoded data removed]",
      "text/plain": [
       "plot without title"
      ]
     },
     "metadata": {
      "image/png": {
       "height": 420,
       "width": 420
      }
     },
     "output_type": "display_data"
    }
   ],
   "source": [
    "# To smooth the Break Even Point in Year\n",
    "listings_full$bep_year[listings_full$bep_year>100] <- 100\n",
    "p<- ggplot(listings_full, aes(x=bep_year, color=city)) +\n",
    "  geom_density(size=0.5)+\n",
    "  labs(title=\"Break Even Point density curve\",x=\"Year\", y = \"Density\")\n",
    "p"
   ]
  },
  {
   "cell_type": "code",
   "execution_count": 34,
   "metadata": {},
   "outputs": [
    {
     "data": {
      "image/png": "[encoded data removed]",
      "text/plain": [
       "plot without title"
      ]
     },
     "metadata": {
      "image/png": {
       "height": 420,
       "width": 420
      }
     },
     "output_type": "display_data"
    }
   ],
   "source": [
    "distrib_bep_year <- ggplot(listings_full, aes(city, bep_year))\n",
    "distrib_bep_year + geom_boxplot(aes(colour = city), outlier.shape = NA) +\n",
    "    scale_y_continuous(limits = quantile(listings$bep_turnover, c(0.1, 0.9), na.rm = T))"
   ]
  },
  {
   "cell_type": "code",
   "execution_count": null,
   "metadata": {},
   "outputs": [],
   "source": []
  }
 ],
 "metadata": {
  "kernelspec": {
   "display_name": "R",
   "language": "R",
   "name": "ir"
  },
  "language_info": {
   "codemirror_mode": "r",
   "file_extension": ".r",
   "mimetype": "text/x-r-source",
   "name": "R",
   "pygments_lexer": "r",
   "version": "4.0.2"
  }
 },
 "nbformat": 4,
 "nbformat_minor": 4
}

{
 "cells": [
  {
   "cell_type": "markdown",
   "metadata": {},
   "source": [
    "# Airbnb Data Analysis\n",
    "\n",
    "Data from [Inside Airbnb](http://insideairbnb.com/get-the-data.html)\n",
    "\n",
    "Command to convert the ipynb to rmkdwn : ```rmarkdown:::convert_ipynb('Airbnb Data Analysis.ipynb')```\n"
   ]
  },
  {
   "cell_type": "markdown",
   "metadata": {},
   "source": [
    "## Data Preparation\n",
    "1. Prepare data set for each city\n",
    "2. Clean data for each city"
   ]
  },
  {
   "cell_type": "code",
   "execution_count": 1,
   "metadata": {},
   "outputs": [
    {
     "name": "stderr",
     "output_type": "stream",
     "text": [
      "\n",
      "Attaching package: ‘dplyr’\n",
      "\n",
      "The following objects are masked from ‘package:stats’:\n",
      "\n",
      "    filter, lag\n",
      "\n",
      "The following objects are masked from ‘package:base’:\n",
      "\n",
      "    intersect, setdiff, setequal, union\n",
      "\n",
      "\n",
      "Attaching package: ‘data.table’\n",
      "\n",
      "The following objects are masked from ‘package:dplyr’:\n",
      "\n",
      "    between, first, last\n",
      "\n"
     ]
    }
   ],
   "source": [
    "library(dplyr)\n",
    "# issue with this one\n",
    "library(stringr)\n",
    "library(ggplot2)\n",
    "library(data.table)"
   ]
  },
  {
   "cell_type": "code",
   "execution_count": 2,
   "metadata": {},
   "outputs": [],
   "source": [
    "# Function from the data_prep script\n",
    "\n",
    "# a generic function to prepare data for a specific city, data_date\n",
    "prepare_data <- function(city, data_date)\n",
    "{\n",
    "    # Cleaning listings dataframe\n",
    "    \n",
    "    # suppose raw data is stored in data_raw/city/data_date/listings.csv.gz\n",
    "    listings_url <- file.path(\"data_raw\", city, data_date, \"listings.csv.gz\")\n",
    "    # suppose raw data is stored in data_raw/city/data_date/calendar.csv.gz\n",
    "    calendar_url <- file.path(\"data_raw\", city, data_date, \"calendar.csv.gz\")\n",
    "    \n",
    "    print(paste0(\"reading data from \", listings_url))\n",
    "    listings <- read.csv(gzfile(listings_url))\n",
    "    print(paste0(\"reading data from \", calendar_url))\n",
    "    calendar <- read.csv(gzfile(calendar_url))\n",
    "    \n",
    "    ## Add Keys: columns city and day date\n",
    "    listings$city <- city\n",
    "    listings$data_date <- data_date\n",
    "    \n",
    "    ## Select interesting columns\n",
    "    ### Most columns don't contain interesting information\n",
    "    columns_listings <- c(\"city\", \"data_date\", \"id\", \"neighbourhood_cleansed\", \n",
    "                          \"latitude\", \"longitude\", \n",
    "                          \"property_type\", \"room_type\", \"accommodates\", \"bedrooms\", \n",
    "                          \"beds\", \"price\", \"minimum_nights\",  \"maximum_nights\")\n",
    "    \n",
    "    listings <- listings %>% \n",
    "        select(columns_listings) %>% \n",
    "        arrange(id)\n",
    "    \n",
    "    \n",
    "    # Cleaning calendar dataframe\n",
    "    \n",
    "    ## arrange by id and date\n",
    "    calendar <- calendar %>% \n",
    "        arrange(listing_id, date)\n",
    "    \n",
    "    ## add day number (starting first day)\n",
    "    calendar <- calendar %>%\n",
    "        group_by(listing_id) %>%\n",
    "        mutate(day_nb = row_number()) %>%\n",
    "        ungroup()\n",
    "    \n",
    "    ## change available column to binary\n",
    "    calendar <- calendar %>%\n",
    "        mutate(available = ifelse(available==\"t\", 1, 0))\n",
    "    \n",
    "    ## clean price column and transform to numeric\n",
    "    calendar <- calendar %>%\n",
    "        mutate(price = str_replace(price, \"\\\\$\", \"\"),\n",
    "               adjusted_price = str_replace(adjusted_price, \"\\\\$\", \"\"))\n",
    "    calendar <- calendar %>%\n",
    "        mutate(price = str_replace(price, \",\", \"\"),\n",
    "               adjusted_price = str_replace(adjusted_price, \",\", \"\"))\n",
    "    calendar <- calendar %>%\n",
    "        mutate(price = as.numeric(price),\n",
    "               adjusted_price = as.numeric(adjusted_price))\n",
    "    \n",
    "    ## calculate estimated revenue for upcoming day\n",
    "    calendar <- calendar %>%\n",
    "        mutate(revenue = price*(1-available))\n",
    "    \n",
    "    ## calculate availability, price, revenue for next 30, 60 days ... for each listing_id\n",
    "    calendar <- calendar %>%\n",
    "        group_by(listing_id) %>%\n",
    "        summarise(availability_30 = sum(available[day_nb<=30], na.rm = TRUE),\n",
    "                  availability_60 = sum(available[day_nb<=60], na.rm = TRUE),\n",
    "                  availability_90 = sum(available[day_nb<=90], na.rm = TRUE),\n",
    "                  availability_365 = sum(available[day_nb<=365], na.rm = TRUE),\n",
    "                  price_30 = mean(price[day_nb<=30 & available==0], na.rm = TRUE),\n",
    "                  price_60 = mean(price[day_nb<=60 & available==0], na.rm = TRUE),\n",
    "                  price_90 = mean(price[day_nb<=90 & available==0], na.rm = TRUE),\n",
    "                  price_365 = mean(price[day_nb<=365 & available==0], na.rm = TRUE),\n",
    "                  revenue_30 = sum(revenue[day_nb<=30], na.rm = TRUE),\n",
    "                  revenue_60 = sum(revenue[day_nb<=60], na.rm = TRUE),\n",
    "                  revenue_90 = sum(revenue[day_nb<=90], na.rm = TRUE),\n",
    "                  revenue_365 = sum(revenue[day_nb<=365], na.rm = TRUE)           \n",
    "        )\n",
    "    \n",
    "    listings_cleansed <- listings %>% left_join(calendar, by = c(\"id\" = \"listing_id\"))\n",
    "    \n",
    "    dir.create(file.path(\"data_cleansed\", city, data_date), recursive = TRUE)\n",
    "    \n",
    "    write.csv(listings_cleansed, file.path(\"data_cleansed\", city, data_date, \"listings.csv\"))\n",
    "    print(paste0(\"saving data into \", file.path(\"data_cleansed\", city, data_date, \"listings.csv\")))\n",
    "    \n",
    "}  "
   ]
  },
  {
   "cell_type": "markdown",
   "metadata": {},
   "source": [
    "# Prepare data for all selected cities "
   ]
  },
  {
   "cell_type": "code",
   "execution_count": 3,
   "metadata": {},
   "outputs": [],
   "source": [
    "# Reading cleansed data\n",
    "cities <- c(\"malaga\", \"mallorca\", \"sevilla\")\n",
    "data_dates <- c(\"2020-06-30\", \"2020-09-19\", \"2020-06-29\")\n",
    "\n",
    "# We are only interested in data between min_date and max_date\n",
    "min_date <- '2020-05-01'\n",
    "max_date <- '2020-11-01'\n",
    "\n",
    "files_paths <- c()"
   ]
  },
  {
   "cell_type": "markdown",
   "metadata": {},
   "source": [
    "### Preparare data for Malaga, mallorca, sevilla"
   ]
  },
  {
   "cell_type": "code",
   "execution_count": 4,
   "metadata": {},
   "outputs": [
    {
     "name": "stdout",
     "output_type": "stream",
     "text": [
      "[1] \"-------------------------------------------------\"\n",
      "[1] \"Preparing data for malaga compiled at 2020-06-30\"\n",
      "[1] \"-------------------------------------------------\"\n",
      "[1] \"Preparing data for mallorca compiled at 2020-09-19\"\n",
      "[1] \"-------------------------------------------------\"\n",
      "[1] \"Preparing data for sevilla compiled at 2020-06-29\"\n"
     ]
    }
   ],
   "source": [
    "for(i in 1:length(cities)){\n",
    "    city <- cities[i]\n",
    "    data_date <- data_dates[i]\n",
    "    print(\"-------------------------------------------------\")\n",
    "    print(paste(c(\"Preparing data for\", city, \"compiled at\", data_date), collapse = \" \"))\n",
    "    prepare_data(city, data_date)\n",
    "}\n",
    "\n",
    "# Clean Environment\n",
    "rm(list=ls())"
   ]
  },
  {
   "cell_type": "code",
   "execution_count": 5,
   "metadata": {},
   "outputs": [],
   "source": [
    "# Reading cleansed data\n",
    "cities <- c(\"malaga\", \"mallorca\", \"sevilla\")\n",
    "data_dates <- c(\"2020-06-30\", \"2020-09-19\", \"2020-06-29\")\n",
    "\n",
    "# We are only interested in data between min_date and max_date\n",
    "min_date <- '2020-05-01'\n",
    "max_date <- '2020-11-01'\n",
    "\n",
    "files_paths <- c()"
   ]
  },
  {
   "cell_type": "markdown",
   "metadata": {},
   "source": [
    "### Read data in cities between min_date and max_date"
   ]
  },
  {
   "cell_type": "code",
   "execution_count": 6,
   "metadata": {},
   "outputs": [],
   "source": [
    "for(city in cities){\n",
    "    file_dir <- file.path(\".\", \"data_cleansed\", city)\n",
    "    file_subdirs <- list.dirs(file_dir)\n",
    "    file_subdirs <- file_subdirs[-1]\n",
    "\n",
    "    for(file_subdir in file_subdirs){\n",
    "        if(file_subdir < file.path(file_dir, min_date) | file_subdir > file.path(file_dir, max_date)  )\n",
    "            file_subdirs = file_subdirs[file_subdirs != file_subdir]\n",
    "    }\n",
    "    files_paths <- c(files_paths, file_subdirs)\n",
    "}\n",
    "files_paths <- file.path(files_paths, \"listings.csv\")\n",
    "listings <- \n",
    "    do.call(rbind,\n",
    "            lapply(files_paths, read.csv, row.names=1))"
   ]
  },
  {
   "cell_type": "markdown",
   "metadata": {},
   "source": [
    "### Preprocessing \n",
    "We considered rooms with 0 bedrooms as outliers."
   ]
  },
  {
   "cell_type": "code",
   "execution_count": 8,
   "metadata": {},
   "outputs": [],
   "source": [
    "# Removing lines where number of bedrooms = 0\n",
    "listings$bedrooms <- ifelse(listings$bedrooms == 0, NaN, listings$bedrooms)\n",
    "listings <- listings[complete.cases(listings), ]"
   ]
  },
  {
   "cell_type": "markdown",
   "metadata": {},
   "source": [
    "### Make a copy of the full dataset"
   ]
  },
  {
   "cell_type": "code",
   "execution_count": 9,
   "metadata": {},
   "outputs": [],
   "source": [
    "listings_full <- listings[complete.cases(listings), ]"
   ]
  },
  {
   "cell_type": "markdown",
   "metadata": {},
   "source": [
    "#### Filtering the number of bedrooms"
   ]
  },
  {
   "cell_type": "code",
   "execution_count": 10,
   "metadata": {},
   "outputs": [],
   "source": [
    "listings$bedrooms <- ifelse(listings$bedrooms >= 5, \"5+\", listings$bedrooms)"
   ]
  },
  {
   "cell_type": "markdown",
   "metadata": {},
   "source": [
    "## Example of analysis"
   ]
  },
  {
   "cell_type": "code",
   "execution_count": 11,
   "metadata": {},
   "outputs": [
    {
     "name": "stderr",
     "output_type": "stream",
     "text": [
      "Warning message:\n",
      "“Removed 4447 rows containing non-finite values (stat_boxplot).”"
     ]
    },
    {
     "data": {
      "image/png": "[encoded data removed]",
      "text/plain": [
       "plot without title"
      ]
     },
     "metadata": {},
     "output_type": "display_data"
    }
   ],
   "source": [
    "# Analysis 1\n",
    "## Comparing the distribution of estimated revenue for the next 30 days of listings\n",
    "## per each city.\n",
    "p <- ggplot(listings, aes(city, revenue_30))\n",
    "p + geom_boxplot(aes(colour = \"red\"), outlier.shape = NA) +\n",
    "    scale_y_continuous(limits = quantile(listings$revenue_30, c(0.1, 0.9), na.rm = T))"
   ]
  },
  {
   "cell_type": "markdown",
   "metadata": {},
   "source": [
    "## Analysis 1 : comparing cities"
   ]
  },
  {
   "cell_type": "markdown",
   "metadata": {},
   "source": [
    "#### 1. Find the \"average availability over 30 days\" of listings per each city"
   ]
  },
  {
   "cell_type": "code",
   "execution_count": 12,
   "metadata": {},
   "outputs": [
    {
     "data": {
      "text/html": [
       "<table>\n",
       "<caption>A data.frame: 3 × 2</caption>\n",
       "<thead>\n",
       "\t<tr><th scope=col>Group.1</th><th scope=col>x</th></tr>\n",
       "\t<tr><th scope=col>&lt;fct&gt;</th><th scope=col>&lt;dbl&gt;</th></tr>\n",
       "</thead>\n",
       "<tbody>\n",
       "\t<tr><td>malaga  </td><td>14.88923</td></tr>\n",
       "\t<tr><td>mallorca</td><td>17.68641</td></tr>\n",
       "\t<tr><td>sevilla </td><td>16.29727</td></tr>\n",
       "</tbody>\n",
       "</table>\n"
      ],
      "text/latex": [
       "A data.frame: 3 × 2\n",
       "\\begin{tabular}{r|ll}\n",
       " Group.1 & x\\\\\n",
       " <fct> & <dbl>\\\\\n",
       "\\hline\n",
       "\t malaga   & 14.88923\\\\\n",
       "\t mallorca & 17.68641\\\\\n",
       "\t sevilla  & 16.29727\\\\\n",
       "\\end{tabular}\n"
      ],
      "text/markdown": [
       "\n",
       "A data.frame: 3 × 2\n",
       "\n",
       "| Group.1 &lt;fct&gt; | x &lt;dbl&gt; |\n",
       "|---|---|\n",
       "| malaga   | 14.88923 |\n",
       "| mallorca | 17.68641 |\n",
       "| sevilla  | 16.29727 |\n",
       "\n"
      ],
      "text/plain": [
       "  Group.1  x       \n",
       "1 malaga   14.88923\n",
       "2 mallorca 17.68641\n",
       "3 sevilla  16.29727"
      ]
     },
     "metadata": {},
     "output_type": "display_data"
    }
   ],
   "source": [
    "avg_av <- aggregate(listings$availability_30, list(listings$city),mean)\n",
    "avg_av"
   ]
  },
  {
   "cell_type": "markdown",
   "metadata": {},
   "source": [
    "#### 2. Find the \"average revenue over 30 days\" of listings per each city"
   ]
  },
  {
   "cell_type": "code",
   "execution_count": 13,
   "metadata": {},
   "outputs": [
    {
     "data": {
      "text/html": [
       "<table>\n",
       "<caption>A data.frame: 3 × 2</caption>\n",
       "<thead>\n",
       "\t<tr><th scope=col>Group.1</th><th scope=col>x</th></tr>\n",
       "\t<tr><th scope=col>&lt;fct&gt;</th><th scope=col>&lt;dbl&gt;</th></tr>\n",
       "</thead>\n",
       "<tbody>\n",
       "\t<tr><td>malaga  </td><td>1497.430</td></tr>\n",
       "\t<tr><td>mallorca</td><td>2853.187</td></tr>\n",
       "\t<tr><td>sevilla </td><td>1395.862</td></tr>\n",
       "</tbody>\n",
       "</table>\n"
      ],
      "text/latex": [
       "A data.frame: 3 × 2\n",
       "\\begin{tabular}{r|ll}\n",
       " Group.1 & x\\\\\n",
       " <fct> & <dbl>\\\\\n",
       "\\hline\n",
       "\t malaga   & 1497.430\\\\\n",
       "\t mallorca & 2853.187\\\\\n",
       "\t sevilla  & 1395.862\\\\\n",
       "\\end{tabular}\n"
      ],
      "text/markdown": [
       "\n",
       "A data.frame: 3 × 2\n",
       "\n",
       "| Group.1 &lt;fct&gt; | x &lt;dbl&gt; |\n",
       "|---|---|\n",
       "| malaga   | 1497.430 |\n",
       "| mallorca | 2853.187 |\n",
       "| sevilla  | 1395.862 |\n",
       "\n"
      ],
      "text/plain": [
       "  Group.1  x       \n",
       "1 malaga   1497.430\n",
       "2 mallorca 2853.187\n",
       "3 sevilla  1395.862"
      ]
     },
     "metadata": {},
     "output_type": "display_data"
    }
   ],
   "source": [
    "avg_rev <- aggregate(listings$revenue_30,list(listings$city),mean)\n",
    "avg_rev"
   ]
  },
  {
   "cell_type": "markdown",
   "metadata": {},
   "source": [
    "#### 3. Compare the distribution of estimated availability for the next 30 days of listings per each city"
   ]
  },
  {
   "cell_type": "code",
   "execution_count": 14,
   "metadata": {},
   "outputs": [
    {
     "data": {
      "image/png": "[encoded data removed]",
      "text/plain": [
       "plot without title"
      ]
     },
     "metadata": {},
     "output_type": "display_data"
    }
   ],
   "source": [
    "distrib_av <- ggplot(listings, aes(city, availability_30))\n",
    "distrib_av + geom_boxplot(aes(colour = \"red\"), outlier.shape = NA) +\n",
    "    scale_y_continuous(limits = quantile(listings$availability_30, c(0.1, 0.9), na.rm = T))"
   ]
  },
  {
   "cell_type": "markdown",
   "metadata": {},
   "source": [
    "#### 4. Compare the distribution of estimated revenue for the next 30 days of listings per each city"
   ]
  },
  {
   "cell_type": "code",
   "execution_count": 15,
   "metadata": {},
   "outputs": [
    {
     "name": "stderr",
     "output_type": "stream",
     "text": [
      "Warning message:\n",
      "“Removed 4447 rows containing non-finite values (stat_boxplot).”"
     ]
    },
    {
     "data": {
      "image/png": "[encoded data removed]",
      "text/plain": [
       "plot without title"
      ]
     },
     "metadata": {},
     "output_type": "display_data"
    }
   ],
   "source": [
    "distrib_rv <- ggplot(listings, aes(city, revenue_30))\n",
    "distrib_rv + geom_boxplot(aes(colour = \"red\"), outlier.shape = NA) +\n",
    "    scale_y_continuous(limits = quantile(listings$revenue_30, c(0.1, 0.9), na.rm = T))"
   ]
  },
  {
   "cell_type": "markdown",
   "metadata": {},
   "source": [
    "#### 5. Compare the distribution of estimated revenue for the next 30 days of listings per each city & for each house size (# of bedrooms)"
   ]
  },
  {
   "cell_type": "code",
   "execution_count": 16,
   "metadata": {},
   "outputs": [
    {
     "name": "stderr",
     "output_type": "stream",
     "text": [
      "Warning message:\n",
      "“Removed 4447 rows containing non-finite values (stat_boxplot).”"
     ]
    },
    {
     "data": {
      "image/png": "[encoded data removed]",
      "text/plain": [
       "plot without title"
      ]
     },
     "metadata": {},
     "output_type": "display_data"
    }
   ],
   "source": [
    "specified <- listings[complete.cases(listings), ]\n",
    "distrib_rv_hsize <- ggplot(specified, aes(bedrooms, revenue_30))\n",
    "distrib_rv_hsize + geom_boxplot(aes(colour = \"red\"), outlier.shape = NA) +\n",
    "    scale_y_continuous(limits = quantile(listings$revenue_30, c(0.1, 0.9), na.rm = T)) + \n",
    "    facet_wrap(~ city)"
   ]
  },
  {
   "cell_type": "markdown",
   "metadata": {},
   "source": [
    "#### 6. Compare the distribution of estimated revenue for the next 30 days of listings per each city  & for each room type (room_type)"
   ]
  },
  {
   "cell_type": "code",
   "execution_count": 17,
   "metadata": {},
   "outputs": [
    {
     "name": "stderr",
     "output_type": "stream",
     "text": [
      "Warning message:\n",
      "“Removed 4447 rows containing non-finite values (stat_boxplot).”"
     ]
    },
    {
     "data": {
      "image/png": "[encoded data removed]",
      "text/plain": [
       "plot without title"
      ]
     },
     "metadata": {},
     "output_type": "display_data"
    }
   ],
   "source": [
    "distrib_rv_hsize <- ggplot(listings, aes(room_type, revenue_30))\n",
    "distrib_rv_hsize + geom_boxplot(aes(colour = \"red\"), outlier.shape = NA) +\n",
    "    scale_y_continuous(limits = quantile(listings$revenue_30, c(0.1, 0.9), na.rm = T)) + \n",
    "    facet_wrap(~ city)+ \n",
    "    theme(axis.text.x = element_text(angle = 45, hjust = 1))"
   ]
  },
  {
   "cell_type": "markdown",
   "metadata": {},
   "source": [
    "## Analysis 2 : Deep Dive in one City Analysis"
   ]
  },
  {
   "cell_type": "markdown",
   "metadata": {},
   "source": [
    "### Functions"
   ]
  },
  {
   "cell_type": "markdown",
   "metadata": {},
   "source": [
    "#### Proportion of each room type"
   ]
  },
  {
   "cell_type": "code",
   "execution_count": 18,
   "metadata": {},
   "outputs": [],
   "source": [
    "aggregated_room_types <- function(selected_city){\n",
    "      listings %>%\n",
    "      filter(city == selected_city) %>%\n",
    "      group_by(room_type) %>%\n",
    "      summarise(nb_rooms = n()) %>%\n",
    "      mutate(freq = nb_rooms / sum(nb_rooms))\n",
    "}"
   ]
  },
  {
   "cell_type": "markdown",
   "metadata": {},
   "source": [
    "#### Proportion of each house size (# of bedroom)"
   ]
  },
  {
   "cell_type": "code",
   "execution_count": 19,
   "metadata": {},
   "outputs": [],
   "source": [
    "aggregated_house_size <- function(selected_city){ \n",
    "    proportion <- listings %>%\n",
    "    filter(city == selected_city) %>%\n",
    "    group_by(bedrooms) %>%\n",
    "    summarise(houze_size = n()) %>%\n",
    "    mutate(freq = houze_size / sum(houze_size))\n",
    "    \n",
    "    # Removing NA\n",
    "    proportion[complete.cases(proportion), ]\n",
    "}"
   ]
  },
  {
   "cell_type": "markdown",
   "metadata": {},
   "source": [
    "#### Proportion of each neighborhood"
   ]
  },
  {
   "cell_type": "code",
   "execution_count": 20,
   "metadata": {},
   "outputs": [],
   "source": [
    "aggregated_neighborhood <- function(selected_city){ \n",
    "    proportion <- listings %>%\n",
    "    filter(city == selected_city) %>%\n",
    "    group_by(neighbourhood_cleansed) %>%\n",
    "    summarise(ngbh = n()) %>%\n",
    "    mutate(freq = ngbh / sum(ngbh))\n",
    "    \n",
    "    # Removing NA\n",
    "    proportion[complete.cases(proportion), ]\n",
    "}\n"
   ]
  },
  {
   "cell_type": "markdown",
   "metadata": {},
   "source": [
    "####  Average availability over the next 30 days for each room type / house size / neighborhood"
   ]
  },
  {
   "cell_type": "code",
   "execution_count": 21,
   "metadata": {},
   "outputs": [],
   "source": [
    "aggregated_availability <- function(selected_city){ \n",
    "    avg_availability <- listings %>%\n",
    "    filter(city == selected_city) %>%\n",
    "    group_by(room_type,bedrooms,neighbourhood_cleansed) %>%\n",
    "    summarise(mean_availability_30 = mean(availability_30))\n",
    "\n",
    "    # Removing NA\n",
    "    avg_availability[complete.cases(avg_availability), ]\n",
    "}"
   ]
  },
  {
   "cell_type": "markdown",
   "metadata": {},
   "source": [
    "#### Average revenue over the next 30 days for each room type / house size / neighborhood"
   ]
  },
  {
   "cell_type": "code",
   "execution_count": 22,
   "metadata": {},
   "outputs": [],
   "source": [
    "aggregated_revenue <- function(selected_city){ \n",
    "    avg_revenue <- listings %>%\n",
    "    filter(city == selected_city) %>%\n",
    "    group_by(room_type,bedrooms,neighbourhood_cleansed) %>%\n",
    "    summarise(mean_revenue_30 = mean(revenue_30))\n",
    "\n",
    "    # Removing NA\n",
    "    avg_revenue[complete.cases(avg_revenue), ]\n",
    "}"
   ]
  },
  {
   "cell_type": "markdown",
   "metadata": {},
   "source": [
    "####  Distribution of availability over the next 30 days for each room type / house size / neighborhood"
   ]
  },
  {
   "cell_type": "code",
   "execution_count": 23,
   "metadata": {},
   "outputs": [],
   "source": [
    "availability_plotting <- function(selected_city){\n",
    "    specified <- listings[complete.cases(listings), ] %>%\n",
    "      filter(city == selected_city)\n",
    "    \n",
    "    q <- ggplot(specified, aes(bedrooms, availability_30))\n",
    "    q+stat_summary(fun.y=\"mean\", geom=\"point\")+\n",
    "    facet_grid(room_type~neighbourhood_cleansed)+\n",
    "    theme(strip.text.x = element_text(angle = 90), strip.text.y = element_text(angle = 0))\n",
    "}"
   ]
  },
  {
   "cell_type": "markdown",
   "metadata": {},
   "source": [
    "####  Distribution of revenue over the next 30 days for each room type / house size / neighborhood"
   ]
  },
  {
   "cell_type": "code",
   "execution_count": 24,
   "metadata": {},
   "outputs": [],
   "source": [
    "revenue_plotting <- function(selected_city){\n",
    "    specified <- listings[complete.cases(listings), ] %>%\n",
    "      filter(city == selected_city)\n",
    "    \n",
    "    q <- ggplot(specified, aes(bedrooms, revenue_30))\n",
    "    q+stat_summary(fun.y=\"mean\", geom=\"point\")+\n",
    "    facet_grid(room_type~neighbourhood_cleansed)+\n",
    "    theme(strip.text.x = element_text(angle = 90), strip.text.y = element_text(angle = 0))\n",
    "}"
   ]
  },
  {
   "cell_type": "markdown",
   "metadata": {},
   "source": [
    "### A. Malaga"
   ]
  },
  {
   "cell_type": "code",
   "execution_count": 25,
   "metadata": {},
   "outputs": [
    {
     "data": {
      "text/html": [
       "'malaga'"
      ],
      "text/latex": [
       "'malaga'"
      ],
      "text/markdown": [
       "'malaga'"
      ],
      "text/plain": [
       "[1] \"malaga\""
      ]
     },
     "metadata": {},
     "output_type": "display_data"
    }
   ],
   "source": [
    "selected_city <- 'malaga'\n",
    "selected_city"
   ]
  },
  {
   "cell_type": "markdown",
   "metadata": {},
   "source": [
    "#### 1. What is the proportion of each room type?"
   ]
  },
  {
   "cell_type": "code",
   "execution_count": 26,
   "metadata": {},
   "outputs": [
    {
     "data": {
      "text/html": [
       "<table>\n",
       "<caption>A tibble: 4 × 3</caption>\n",
       "<thead>\n",
       "\t<tr><th scope=col>room_type</th><th scope=col>nb_rooms</th><th scope=col>freq</th></tr>\n",
       "\t<tr><th scope=col>&lt;fct&gt;</th><th scope=col>&lt;int&gt;</th><th scope=col>&lt;dbl&gt;</th></tr>\n",
       "</thead>\n",
       "<tbody>\n",
       "\t<tr><td>Entire home/apt</td><td>3862</td><td>0.835569018</td></tr>\n",
       "\t<tr><td>Hotel room     </td><td>  36</td><td>0.007788836</td></tr>\n",
       "\t<tr><td>Private room   </td><td> 714</td><td>0.154478581</td></tr>\n",
       "\t<tr><td>Shared room    </td><td>  10</td><td>0.002163566</td></tr>\n",
       "</tbody>\n",
       "</table>\n"
      ],
      "text/latex": [
       "A tibble: 4 × 3\n",
       "\\begin{tabular}{r|lll}\n",
       " room\\_type & nb\\_rooms & freq\\\\\n",
       " <fct> & <int> & <dbl>\\\\\n",
       "\\hline\n",
       "\t Entire home/apt & 3862 & 0.835569018\\\\\n",
       "\t Hotel room      &   36 & 0.007788836\\\\\n",
       "\t Private room    &  714 & 0.154478581\\\\\n",
       "\t Shared room     &   10 & 0.002163566\\\\\n",
       "\\end{tabular}\n"
      ],
      "text/markdown": [
       "\n",
       "A tibble: 4 × 3\n",
       "\n",
       "| room_type &lt;fct&gt; | nb_rooms &lt;int&gt; | freq &lt;dbl&gt; |\n",
       "|---|---|---|\n",
       "| Entire home/apt | 3862 | 0.835569018 |\n",
       "| Hotel room      |   36 | 0.007788836 |\n",
       "| Private room    |  714 | 0.154478581 |\n",
       "| Shared room     |   10 | 0.002163566 |\n",
       "\n"
      ],
      "text/plain": [
       "  room_type       nb_rooms freq       \n",
       "1 Entire home/apt 3862     0.835569018\n",
       "2 Hotel room        36     0.007788836\n",
       "3 Private room     714     0.154478581\n",
       "4 Shared room       10     0.002163566"
      ]
     },
     "metadata": {},
     "output_type": "display_data"
    }
   ],
   "source": [
    "aggregated_room_types(selected_city)"
   ]
  },
  {
   "cell_type": "markdown",
   "metadata": {},
   "source": [
    "#### 2. What is the proportion of each house size (# of bedroom)?"
   ]
  },
  {
   "cell_type": "code",
   "execution_count": 27,
   "metadata": {},
   "outputs": [
    {
     "data": {
      "text/html": [
       "<table>\n",
       "<caption>A tibble: 5 × 3</caption>\n",
       "<thead>\n",
       "\t<tr><th scope=col>bedrooms</th><th scope=col>houze_size</th><th scope=col>freq</th></tr>\n",
       "\t<tr><th scope=col>&lt;chr&gt;</th><th scope=col>&lt;int&gt;</th><th scope=col>&lt;dbl&gt;</th></tr>\n",
       "</thead>\n",
       "<tbody>\n",
       "\t<tr><td>1 </td><td>2271</td><td>0.49134574</td></tr>\n",
       "\t<tr><td>2 </td><td>1307</td><td>0.28277802</td></tr>\n",
       "\t<tr><td>3 </td><td> 733</td><td>0.15858936</td></tr>\n",
       "\t<tr><td>4 </td><td> 212</td><td>0.04586759</td></tr>\n",
       "\t<tr><td>5+</td><td>  99</td><td>0.02141930</td></tr>\n",
       "</tbody>\n",
       "</table>\n"
      ],
      "text/latex": [
       "A tibble: 5 × 3\n",
       "\\begin{tabular}{r|lll}\n",
       " bedrooms & houze\\_size & freq\\\\\n",
       " <chr> & <int> & <dbl>\\\\\n",
       "\\hline\n",
       "\t 1  & 2271 & 0.49134574\\\\\n",
       "\t 2  & 1307 & 0.28277802\\\\\n",
       "\t 3  &  733 & 0.15858936\\\\\n",
       "\t 4  &  212 & 0.04586759\\\\\n",
       "\t 5+ &   99 & 0.02141930\\\\\n",
       "\\end{tabular}\n"
      ],
      "text/markdown": [
       "\n",
       "A tibble: 5 × 3\n",
       "\n",
       "| bedrooms &lt;chr&gt; | houze_size &lt;int&gt; | freq &lt;dbl&gt; |\n",
       "|---|---|---|\n",
       "| 1  | 2271 | 0.49134574 |\n",
       "| 2  | 1307 | 0.28277802 |\n",
       "| 3  |  733 | 0.15858936 |\n",
       "| 4  |  212 | 0.04586759 |\n",
       "| 5+ |   99 | 0.02141930 |\n",
       "\n"
      ],
      "text/plain": [
       "  bedrooms houze_size freq      \n",
       "1 1        2271       0.49134574\n",
       "2 2        1307       0.28277802\n",
       "3 3         733       0.15858936\n",
       "4 4         212       0.04586759\n",
       "5 5+         99       0.02141930"
      ]
     },
     "metadata": {},
     "output_type": "display_data"
    }
   ],
   "source": [
    "aggregated_house_size(selected_city)"
   ]
  },
  {
   "cell_type": "markdown",
   "metadata": {},
   "source": [
    "#### 3. What is the proportion of each neighborhood?"
   ]
  },
  {
   "cell_type": "code",
   "execution_count": 28,
   "metadata": {},
   "outputs": [
    {
     "data": {
      "text/html": [
       "<table>\n",
       "<caption>A tibble: 11 × 3</caption>\n",
       "<thead>\n",
       "\t<tr><th scope=col>neighbourhood_cleansed</th><th scope=col>ngbh</th><th scope=col>freq</th></tr>\n",
       "\t<tr><th scope=col>&lt;fct&gt;</th><th scope=col>&lt;int&gt;</th><th scope=col>&lt;dbl&gt;</th></tr>\n",
       "</thead>\n",
       "<tbody>\n",
       "\t<tr><td>Bailen-Miraflores   </td><td> 127</td><td>0.027477283</td></tr>\n",
       "\t<tr><td>Campanillas         </td><td>  15</td><td>0.003245348</td></tr>\n",
       "\t<tr><td>Carretera de Cadiz  </td><td> 440</td><td>0.095196884</td></tr>\n",
       "\t<tr><td>Centro              </td><td>3022</td><td>0.653829511</td></tr>\n",
       "\t<tr><td>Churriana           </td><td>  75</td><td>0.016226742</td></tr>\n",
       "\t<tr><td>Ciudad Jardin       </td><td>  44</td><td>0.009519688</td></tr>\n",
       "\t<tr><td>Cruz De Humilladero </td><td> 224</td><td>0.048463868</td></tr>\n",
       "\t<tr><td>Este                </td><td> 535</td><td>0.115750757</td></tr>\n",
       "\t<tr><td>Palma-Palmilla      </td><td>  29</td><td>0.006274340</td></tr>\n",
       "\t<tr><td>Puerto de la Torre  </td><td>  26</td><td>0.005625270</td></tr>\n",
       "\t<tr><td>Teatinos-Universidad</td><td>  85</td><td>0.018390307</td></tr>\n",
       "</tbody>\n",
       "</table>\n"
      ],
      "text/latex": [
       "A tibble: 11 × 3\n",
       "\\begin{tabular}{r|lll}\n",
       " neighbourhood\\_cleansed & ngbh & freq\\\\\n",
       " <fct> & <int> & <dbl>\\\\\n",
       "\\hline\n",
       "\t Bailen-Miraflores    &  127 & 0.027477283\\\\\n",
       "\t Campanillas          &   15 & 0.003245348\\\\\n",
       "\t Carretera de Cadiz   &  440 & 0.095196884\\\\\n",
       "\t Centro               & 3022 & 0.653829511\\\\\n",
       "\t Churriana            &   75 & 0.016226742\\\\\n",
       "\t Ciudad Jardin        &   44 & 0.009519688\\\\\n",
       "\t Cruz De Humilladero  &  224 & 0.048463868\\\\\n",
       "\t Este                 &  535 & 0.115750757\\\\\n",
       "\t Palma-Palmilla       &   29 & 0.006274340\\\\\n",
       "\t Puerto de la Torre   &   26 & 0.005625270\\\\\n",
       "\t Teatinos-Universidad &   85 & 0.018390307\\\\\n",
       "\\end{tabular}\n"
      ],
      "text/markdown": [
       "\n",
       "A tibble: 11 × 3\n",
       "\n",
       "| neighbourhood_cleansed &lt;fct&gt; | ngbh &lt;int&gt; | freq &lt;dbl&gt; |\n",
       "|---|---|---|\n",
       "| Bailen-Miraflores    |  127 | 0.027477283 |\n",
       "| Campanillas          |   15 | 0.003245348 |\n",
       "| Carretera de Cadiz   |  440 | 0.095196884 |\n",
       "| Centro               | 3022 | 0.653829511 |\n",
       "| Churriana            |   75 | 0.016226742 |\n",
       "| Ciudad Jardin        |   44 | 0.009519688 |\n",
       "| Cruz De Humilladero  |  224 | 0.048463868 |\n",
       "| Este                 |  535 | 0.115750757 |\n",
       "| Palma-Palmilla       |   29 | 0.006274340 |\n",
       "| Puerto de la Torre   |   26 | 0.005625270 |\n",
       "| Teatinos-Universidad |   85 | 0.018390307 |\n",
       "\n"
      ],
      "text/plain": [
       "   neighbourhood_cleansed ngbh freq       \n",
       "1  Bailen-Miraflores       127 0.027477283\n",
       "2  Campanillas              15 0.003245348\n",
       "3  Carretera de Cadiz      440 0.095196884\n",
       "4  Centro                 3022 0.653829511\n",
       "5  Churriana                75 0.016226742\n",
       "6  Ciudad Jardin            44 0.009519688\n",
       "7  Cruz De Humilladero     224 0.048463868\n",
       "8  Este                    535 0.115750757\n",
       "9  Palma-Palmilla           29 0.006274340\n",
       "10 Puerto de la Torre       26 0.005625270\n",
       "11 Teatinos-Universidad     85 0.018390307"
      ]
     },
     "metadata": {},
     "output_type": "display_data"
    }
   ],
   "source": [
    "aggregated_neighborhood(selected_city)"
   ]
  },
  {
   "cell_type": "markdown",
   "metadata": {},
   "source": [
    "#### 4. What is the average availability over the next 30 days for each room type / house size / neighborhood?"
   ]
  },
  {
   "cell_type": "code",
   "execution_count": 29,
   "metadata": {},
   "outputs": [
    {
     "data": {
      "text/html": [
       "<table>\n",
       "<caption>A grouped_df: 91 × 4</caption>\n",
       "<thead>\n",
       "\t<tr><th scope=col>room_type</th><th scope=col>bedrooms</th><th scope=col>neighbourhood_cleansed</th><th scope=col>mean_availability_30</th></tr>\n",
       "\t<tr><th scope=col>&lt;fct&gt;</th><th scope=col>&lt;chr&gt;</th><th scope=col>&lt;fct&gt;</th><th scope=col>&lt;dbl&gt;</th></tr>\n",
       "</thead>\n",
       "<tbody>\n",
       "\t<tr><td>Entire home/apt</td><td>1</td><td>Bailen-Miraflores   </td><td>15.057143</td></tr>\n",
       "\t<tr><td>Entire home/apt</td><td>1</td><td>Campanillas         </td><td>15.000000</td></tr>\n",
       "\t<tr><td>Entire home/apt</td><td>1</td><td>Carretera de Cadiz  </td><td>12.318841</td></tr>\n",
       "\t<tr><td>Entire home/apt</td><td>1</td><td>Centro              </td><td>15.211039</td></tr>\n",
       "\t<tr><td>Entire home/apt</td><td>1</td><td>Churriana           </td><td>16.416667</td></tr>\n",
       "\t<tr><td>Entire home/apt</td><td>1</td><td>Ciudad Jardin       </td><td> 9.125000</td></tr>\n",
       "\t<tr><td>Entire home/apt</td><td>1</td><td>Cruz De Humilladero </td><td>18.909091</td></tr>\n",
       "\t<tr><td>Entire home/apt</td><td>1</td><td>Este                </td><td>12.534722</td></tr>\n",
       "\t<tr><td>Entire home/apt</td><td>1</td><td>Palma-Palmilla      </td><td> 7.000000</td></tr>\n",
       "\t<tr><td>Entire home/apt</td><td>1</td><td>Puerto de la Torre  </td><td>16.250000</td></tr>\n",
       "\t<tr><td>Entire home/apt</td><td>1</td><td>Teatinos-Universidad</td><td>16.200000</td></tr>\n",
       "\t<tr><td>Entire home/apt</td><td>2</td><td>Bailen-Miraflores   </td><td>13.227273</td></tr>\n",
       "\t<tr><td>Entire home/apt</td><td>2</td><td>Carretera de Cadiz  </td><td>13.719298</td></tr>\n",
       "\t<tr><td>Entire home/apt</td><td>2</td><td>Centro              </td><td>16.024256</td></tr>\n",
       "\t<tr><td>Entire home/apt</td><td>2</td><td>Churriana           </td><td>10.769231</td></tr>\n",
       "\t<tr><td>Entire home/apt</td><td>2</td><td>Ciudad Jardin       </td><td>13.000000</td></tr>\n",
       "\t<tr><td>Entire home/apt</td><td>2</td><td>Cruz De Humilladero </td><td>15.575000</td></tr>\n",
       "\t<tr><td>Entire home/apt</td><td>2</td><td>Este                </td><td>13.397436</td></tr>\n",
       "\t<tr><td>Entire home/apt</td><td>2</td><td>Palma-Palmilla      </td><td>14.200000</td></tr>\n",
       "\t<tr><td>Entire home/apt</td><td>2</td><td>Puerto de la Torre  </td><td> 9.666667</td></tr>\n",
       "\t<tr><td>Entire home/apt</td><td>2</td><td>Teatinos-Universidad</td><td>26.375000</td></tr>\n",
       "\t<tr><td>Entire home/apt</td><td>3</td><td>Bailen-Miraflores   </td><td>16.107143</td></tr>\n",
       "\t<tr><td>Entire home/apt</td><td>3</td><td>Campanillas         </td><td>10.714286</td></tr>\n",
       "\t<tr><td>Entire home/apt</td><td>3</td><td>Carretera de Cadiz  </td><td>15.016129</td></tr>\n",
       "\t<tr><td>Entire home/apt</td><td>3</td><td>Centro              </td><td>15.656593</td></tr>\n",
       "\t<tr><td>Entire home/apt</td><td>3</td><td>Churriana           </td><td>11.555556</td></tr>\n",
       "\t<tr><td>Entire home/apt</td><td>3</td><td>Ciudad Jardin       </td><td> 7.545455</td></tr>\n",
       "\t<tr><td>Entire home/apt</td><td>3</td><td>Cruz De Humilladero </td><td>15.980392</td></tr>\n",
       "\t<tr><td>Entire home/apt</td><td>3</td><td>Este                </td><td>13.974026</td></tr>\n",
       "\t<tr><td>Entire home/apt</td><td>3</td><td>Palma-Palmilla      </td><td> 9.000000</td></tr>\n",
       "\t<tr><td>⋮</td><td>⋮</td><td>⋮</td><td>⋮</td></tr>\n",
       "\t<tr><td>Private room</td><td>1 </td><td>Campanillas         </td><td> 0.000000</td></tr>\n",
       "\t<tr><td>Private room</td><td>1 </td><td>Carretera de Cadiz  </td><td>12.104762</td></tr>\n",
       "\t<tr><td>Private room</td><td>1 </td><td>Centro              </td><td>13.084986</td></tr>\n",
       "\t<tr><td>Private room</td><td>1 </td><td>Churriana           </td><td>15.400000</td></tr>\n",
       "\t<tr><td>Private room</td><td>1 </td><td>Ciudad Jardin       </td><td>18.100000</td></tr>\n",
       "\t<tr><td>Private room</td><td>1 </td><td>Cruz De Humilladero </td><td>14.814286</td></tr>\n",
       "\t<tr><td>Private room</td><td>1 </td><td>Este                </td><td>15.253968</td></tr>\n",
       "\t<tr><td>Private room</td><td>1 </td><td>Palma-Palmilla      </td><td>11.833333</td></tr>\n",
       "\t<tr><td>Private room</td><td>1 </td><td>Puerto de la Torre  </td><td>19.500000</td></tr>\n",
       "\t<tr><td>Private room</td><td>1 </td><td>Teatinos-Universidad</td><td>14.400000</td></tr>\n",
       "\t<tr><td>Private room</td><td>2 </td><td>Carretera de Cadiz  </td><td>11.000000</td></tr>\n",
       "\t<tr><td>Private room</td><td>2 </td><td>Centro              </td><td>10.625000</td></tr>\n",
       "\t<tr><td>Private room</td><td>2 </td><td>Churriana           </td><td>23.333333</td></tr>\n",
       "\t<tr><td>Private room</td><td>2 </td><td>Cruz De Humilladero </td><td>27.000000</td></tr>\n",
       "\t<tr><td>Private room</td><td>2 </td><td>Este                </td><td>10.250000</td></tr>\n",
       "\t<tr><td>Private room</td><td>2 </td><td>Palma-Palmilla      </td><td>14.000000</td></tr>\n",
       "\t<tr><td>Private room</td><td>2 </td><td>Teatinos-Universidad</td><td>27.500000</td></tr>\n",
       "\t<tr><td>Private room</td><td>3 </td><td>Carretera de Cadiz  </td><td>23.000000</td></tr>\n",
       "\t<tr><td>Private room</td><td>3 </td><td>Centro              </td><td>22.000000</td></tr>\n",
       "\t<tr><td>Private room</td><td>3 </td><td>Este                </td><td>22.000000</td></tr>\n",
       "\t<tr><td>Private room</td><td>3 </td><td>Palma-Palmilla      </td><td> 0.000000</td></tr>\n",
       "\t<tr><td>Private room</td><td>4 </td><td>Bailen-Miraflores   </td><td>29.000000</td></tr>\n",
       "\t<tr><td>Private room</td><td>4 </td><td>Centro              </td><td>15.666667</td></tr>\n",
       "\t<tr><td>Private room</td><td>4 </td><td>Este                </td><td> 0.000000</td></tr>\n",
       "\t<tr><td>Private room</td><td>5+</td><td>Ciudad Jardin       </td><td>27.000000</td></tr>\n",
       "\t<tr><td>Private room</td><td>5+</td><td>Este                </td><td>28.000000</td></tr>\n",
       "\t<tr><td>Shared room </td><td>1 </td><td>Centro              </td><td> 7.166667</td></tr>\n",
       "\t<tr><td>Shared room </td><td>1 </td><td>Churriana           </td><td> 0.000000</td></tr>\n",
       "\t<tr><td>Shared room </td><td>1 </td><td>Cruz De Humilladero </td><td> 0.000000</td></tr>\n",
       "\t<tr><td>Shared room </td><td>1 </td><td>Este                </td><td>24.000000</td></tr>\n",
       "</tbody>\n",
       "</table>\n"
      ],
      "text/latex": [
       "A grouped_df: 91 × 4\n",
       "\\begin{tabular}{r|llll}\n",
       " room\\_type & bedrooms & neighbourhood\\_cleansed & mean\\_availability\\_30\\\\\n",
       " <fct> & <chr> & <fct> & <dbl>\\\\\n",
       "\\hline\n",
       "\t Entire home/apt & 1 & Bailen-Miraflores    & 15.057143\\\\\n",
       "\t Entire home/apt & 1 & Campanillas          & 15.000000\\\\\n",
       "\t Entire home/apt & 1 & Carretera de Cadiz   & 12.318841\\\\\n",
       "\t Entire home/apt & 1 & Centro               & 15.211039\\\\\n",
       "\t Entire home/apt & 1 & Churriana            & 16.416667\\\\\n",
       "\t Entire home/apt & 1 & Ciudad Jardin        &  9.125000\\\\\n",
       "\t Entire home/apt & 1 & Cruz De Humilladero  & 18.909091\\\\\n",
       "\t Entire home/apt & 1 & Este                 & 12.534722\\\\\n",
       "\t Entire home/apt & 1 & Palma-Palmilla       &  7.000000\\\\\n",
       "\t Entire home/apt & 1 & Puerto de la Torre   & 16.250000\\\\\n",
       "\t Entire home/apt & 1 & Teatinos-Universidad & 16.200000\\\\\n",
       "\t Entire home/apt & 2 & Bailen-Miraflores    & 13.227273\\\\\n",
       "\t Entire home/apt & 2 & Carretera de Cadiz   & 13.719298\\\\\n",
       "\t Entire home/apt & 2 & Centro               & 16.024256\\\\\n",
       "\t Entire home/apt & 2 & Churriana            & 10.769231\\\\\n",
       "\t Entire home/apt & 2 & Ciudad Jardin        & 13.000000\\\\\n",
       "\t Entire home/apt & 2 & Cruz De Humilladero  & 15.575000\\\\\n",
       "\t Entire home/apt & 2 & Este                 & 13.397436\\\\\n",
       "\t Entire home/apt & 2 & Palma-Palmilla       & 14.200000\\\\\n",
       "\t Entire home/apt & 2 & Puerto de la Torre   &  9.666667\\\\\n",
       "\t Entire home/apt & 2 & Teatinos-Universidad & 26.375000\\\\\n",
       "\t Entire home/apt & 3 & Bailen-Miraflores    & 16.107143\\\\\n",
       "\t Entire home/apt & 3 & Campanillas          & 10.714286\\\\\n",
       "\t Entire home/apt & 3 & Carretera de Cadiz   & 15.016129\\\\\n",
       "\t Entire home/apt & 3 & Centro               & 15.656593\\\\\n",
       "\t Entire home/apt & 3 & Churriana            & 11.555556\\\\\n",
       "\t Entire home/apt & 3 & Ciudad Jardin        &  7.545455\\\\\n",
       "\t Entire home/apt & 3 & Cruz De Humilladero  & 15.980392\\\\\n",
       "\t Entire home/apt & 3 & Este                 & 13.974026\\\\\n",
       "\t Entire home/apt & 3 & Palma-Palmilla       &  9.000000\\\\\n",
       "\t ⋮ & ⋮ & ⋮ & ⋮\\\\\n",
       "\t Private room & 1  & Campanillas          &  0.000000\\\\\n",
       "\t Private room & 1  & Carretera de Cadiz   & 12.104762\\\\\n",
       "\t Private room & 1  & Centro               & 13.084986\\\\\n",
       "\t Private room & 1  & Churriana            & 15.400000\\\\\n",
       "\t Private room & 1  & Ciudad Jardin        & 18.100000\\\\\n",
       "\t Private room & 1  & Cruz De Humilladero  & 14.814286\\\\\n",
       "\t Private room & 1  & Este                 & 15.253968\\\\\n",
       "\t Private room & 1  & Palma-Palmilla       & 11.833333\\\\\n",
       "\t Private room & 1  & Puerto de la Torre   & 19.500000\\\\\n",
       "\t Private room & 1  & Teatinos-Universidad & 14.400000\\\\\n",
       "\t Private room & 2  & Carretera de Cadiz   & 11.000000\\\\\n",
       "\t Private room & 2  & Centro               & 10.625000\\\\\n",
       "\t Private room & 2  & Churriana            & 23.333333\\\\\n",
       "\t Private room & 2  & Cruz De Humilladero  & 27.000000\\\\\n",
       "\t Private room & 2  & Este                 & 10.250000\\\\\n",
       "\t Private room & 2  & Palma-Palmilla       & 14.000000\\\\\n",
       "\t Private room & 2  & Teatinos-Universidad & 27.500000\\\\\n",
       "\t Private room & 3  & Carretera de Cadiz   & 23.000000\\\\\n",
       "\t Private room & 3  & Centro               & 22.000000\\\\\n",
       "\t Private room & 3  & Este                 & 22.000000\\\\\n",
       "\t Private room & 3  & Palma-Palmilla       &  0.000000\\\\\n",
       "\t Private room & 4  & Bailen-Miraflores    & 29.000000\\\\\n",
       "\t Private room & 4  & Centro               & 15.666667\\\\\n",
       "\t Private room & 4  & Este                 &  0.000000\\\\\n",
       "\t Private room & 5+ & Ciudad Jardin        & 27.000000\\\\\n",
       "\t Private room & 5+ & Este                 & 28.000000\\\\\n",
       "\t Shared room  & 1  & Centro               &  7.166667\\\\\n",
       "\t Shared room  & 1  & Churriana            &  0.000000\\\\\n",
       "\t Shared room  & 1  & Cruz De Humilladero  &  0.000000\\\\\n",
       "\t Shared room  & 1  & Este                 & 24.000000\\\\\n",
       "\\end{tabular}\n"
      ],
      "text/markdown": [
       "\n",
       "A grouped_df: 91 × 4\n",
       "\n",
       "| room_type &lt;fct&gt; | bedrooms &lt;chr&gt; | neighbourhood_cleansed &lt;fct&gt; | mean_availability_30 &lt;dbl&gt; |\n",
       "|---|---|---|---|\n",
       "| Entire home/apt | 1 | Bailen-Miraflores    | 15.057143 |\n",
       "| Entire home/apt | 1 | Campanillas          | 15.000000 |\n",
       "| Entire home/apt | 1 | Carretera de Cadiz   | 12.318841 |\n",
       "| Entire home/apt | 1 | Centro               | 15.211039 |\n",
       "| Entire home/apt | 1 | Churriana            | 16.416667 |\n",
       "| Entire home/apt | 1 | Ciudad Jardin        |  9.125000 |\n",
       "| Entire home/apt | 1 | Cruz De Humilladero  | 18.909091 |\n",
       "| Entire home/apt | 1 | Este                 | 12.534722 |\n",
       "| Entire home/apt | 1 | Palma-Palmilla       |  7.000000 |\n",
       "| Entire home/apt | 1 | Puerto de la Torre   | 16.250000 |\n",
       "| Entire home/apt | 1 | Teatinos-Universidad | 16.200000 |\n",
       "| Entire home/apt | 2 | Bailen-Miraflores    | 13.227273 |\n",
       "| Entire home/apt | 2 | Carretera de Cadiz   | 13.719298 |\n",
       "| Entire home/apt | 2 | Centro               | 16.024256 |\n",
       "| Entire home/apt | 2 | Churriana            | 10.769231 |\n",
       "| Entire home/apt | 2 | Ciudad Jardin        | 13.000000 |\n",
       "| Entire home/apt | 2 | Cruz De Humilladero  | 15.575000 |\n",
       "| Entire home/apt | 2 | Este                 | 13.397436 |\n",
       "| Entire home/apt | 2 | Palma-Palmilla       | 14.200000 |\n",
       "| Entire home/apt | 2 | Puerto de la Torre   |  9.666667 |\n",
       "| Entire home/apt | 2 | Teatinos-Universidad | 26.375000 |\n",
       "| Entire home/apt | 3 | Bailen-Miraflores    | 16.107143 |\n",
       "| Entire home/apt | 3 | Campanillas          | 10.714286 |\n",
       "| Entire home/apt | 3 | Carretera de Cadiz   | 15.016129 |\n",
       "| Entire home/apt | 3 | Centro               | 15.656593 |\n",
       "| Entire home/apt | 3 | Churriana            | 11.555556 |\n",
       "| Entire home/apt | 3 | Ciudad Jardin        |  7.545455 |\n",
       "| Entire home/apt | 3 | Cruz De Humilladero  | 15.980392 |\n",
       "| Entire home/apt | 3 | Este                 | 13.974026 |\n",
       "| Entire home/apt | 3 | Palma-Palmilla       |  9.000000 |\n",
       "| ⋮ | ⋮ | ⋮ | ⋮ |\n",
       "| Private room | 1  | Campanillas          |  0.000000 |\n",
       "| Private room | 1  | Carretera de Cadiz   | 12.104762 |\n",
       "| Private room | 1  | Centro               | 13.084986 |\n",
       "| Private room | 1  | Churriana            | 15.400000 |\n",
       "| Private room | 1  | Ciudad Jardin        | 18.100000 |\n",
       "| Private room | 1  | Cruz De Humilladero  | 14.814286 |\n",
       "| Private room | 1  | Este                 | 15.253968 |\n",
       "| Private room | 1  | Palma-Palmilla       | 11.833333 |\n",
       "| Private room | 1  | Puerto de la Torre   | 19.500000 |\n",
       "| Private room | 1  | Teatinos-Universidad | 14.400000 |\n",
       "| Private room | 2  | Carretera de Cadiz   | 11.000000 |\n",
       "| Private room | 2  | Centro               | 10.625000 |\n",
       "| Private room | 2  | Churriana            | 23.333333 |\n",
       "| Private room | 2  | Cruz De Humilladero  | 27.000000 |\n",
       "| Private room | 2  | Este                 | 10.250000 |\n",
       "| Private room | 2  | Palma-Palmilla       | 14.000000 |\n",
       "| Private room | 2  | Teatinos-Universidad | 27.500000 |\n",
       "| Private room | 3  | Carretera de Cadiz   | 23.000000 |\n",
       "| Private room | 3  | Centro               | 22.000000 |\n",
       "| Private room | 3  | Este                 | 22.000000 |\n",
       "| Private room | 3  | Palma-Palmilla       |  0.000000 |\n",
       "| Private room | 4  | Bailen-Miraflores    | 29.000000 |\n",
       "| Private room | 4  | Centro               | 15.666667 |\n",
       "| Private room | 4  | Este                 |  0.000000 |\n",
       "| Private room | 5+ | Ciudad Jardin        | 27.000000 |\n",
       "| Private room | 5+ | Este                 | 28.000000 |\n",
       "| Shared room  | 1  | Centro               |  7.166667 |\n",
       "| Shared room  | 1  | Churriana            |  0.000000 |\n",
       "| Shared room  | 1  | Cruz De Humilladero  |  0.000000 |\n",
       "| Shared room  | 1  | Este                 | 24.000000 |\n",
       "\n"
      ],
      "text/plain": [
       "   room_type       bedrooms neighbourhood_cleansed mean_availability_30\n",
       "1  Entire home/apt 1        Bailen-Miraflores      15.057143           \n",
       "2  Entire home/apt 1        Campanillas            15.000000           \n",
       "3  Entire home/apt 1        Carretera de Cadiz     12.318841           \n",
       "4  Entire home/apt 1        Centro                 15.211039           \n",
       "5  Entire home/apt 1        Churriana              16.416667           \n",
       "6  Entire home/apt 1        Ciudad Jardin           9.125000           \n",
       "7  Entire home/apt 1        Cruz De Humilladero    18.909091           \n",
       "8  Entire home/apt 1        Este                   12.534722           \n",
       "9  Entire home/apt 1        Palma-Palmilla          7.000000           \n",
       "10 Entire home/apt 1        Puerto de la Torre     16.250000           \n",
       "11 Entire home/apt 1        Teatinos-Universidad   16.200000           \n",
       "12 Entire home/apt 2        Bailen-Miraflores      13.227273           \n",
       "13 Entire home/apt 2        Carretera de Cadiz     13.719298           \n",
       "14 Entire home/apt 2        Centro                 16.024256           \n",
       "15 Entire home/apt 2        Churriana              10.769231           \n",
       "16 Entire home/apt 2        Ciudad Jardin          13.000000           \n",
       "17 Entire home/apt 2        Cruz De Humilladero    15.575000           \n",
       "18 Entire home/apt 2        Este                   13.397436           \n",
       "19 Entire home/apt 2        Palma-Palmilla         14.200000           \n",
       "20 Entire home/apt 2        Puerto de la Torre      9.666667           \n",
       "21 Entire home/apt 2        Teatinos-Universidad   26.375000           \n",
       "22 Entire home/apt 3        Bailen-Miraflores      16.107143           \n",
       "23 Entire home/apt 3        Campanillas            10.714286           \n",
       "24 Entire home/apt 3        Carretera de Cadiz     15.016129           \n",
       "25 Entire home/apt 3        Centro                 15.656593           \n",
       "26 Entire home/apt 3        Churriana              11.555556           \n",
       "27 Entire home/apt 3        Ciudad Jardin           7.545455           \n",
       "28 Entire home/apt 3        Cruz De Humilladero    15.980392           \n",
       "29 Entire home/apt 3        Este                   13.974026           \n",
       "30 Entire home/apt 3        Palma-Palmilla          9.000000           \n",
       "⋮  ⋮               ⋮        ⋮                      ⋮                   \n",
       "62 Private room    1        Campanillas             0.000000           \n",
       "63 Private room    1        Carretera de Cadiz     12.104762           \n",
       "64 Private room    1        Centro                 13.084986           \n",
       "65 Private room    1        Churriana              15.400000           \n",
       "66 Private room    1        Ciudad Jardin          18.100000           \n",
       "67 Private room    1        Cruz De Humilladero    14.814286           \n",
       "68 Private room    1        Este                   15.253968           \n",
       "69 Private room    1        Palma-Palmilla         11.833333           \n",
       "70 Private room    1        Puerto de la Torre     19.500000           \n",
       "71 Private room    1        Teatinos-Universidad   14.400000           \n",
       "72 Private room    2        Carretera de Cadiz     11.000000           \n",
       "73 Private room    2        Centro                 10.625000           \n",
       "74 Private room    2        Churriana              23.333333           \n",
       "75 Private room    2        Cruz De Humilladero    27.000000           \n",
       "76 Private room    2        Este                   10.250000           \n",
       "77 Private room    2        Palma-Palmilla         14.000000           \n",
       "78 Private room    2        Teatinos-Universidad   27.500000           \n",
       "79 Private room    3        Carretera de Cadiz     23.000000           \n",
       "80 Private room    3        Centro                 22.000000           \n",
       "81 Private room    3        Este                   22.000000           \n",
       "82 Private room    3        Palma-Palmilla          0.000000           \n",
       "83 Private room    4        Bailen-Miraflores      29.000000           \n",
       "84 Private room    4        Centro                 15.666667           \n",
       "85 Private room    4        Este                    0.000000           \n",
       "86 Private room    5+       Ciudad Jardin          27.000000           \n",
       "87 Private room    5+       Este                   28.000000           \n",
       "88 Shared room     1        Centro                  7.166667           \n",
       "89 Shared room     1        Churriana               0.000000           \n",
       "90 Shared room     1        Cruz De Humilladero     0.000000           \n",
       "91 Shared room     1        Este                   24.000000           "
      ]
     },
     "metadata": {},
     "output_type": "display_data"
    }
   ],
   "source": [
    "aggregated_availability(selected_city)"
   ]
  },
  {
   "cell_type": "markdown",
   "metadata": {},
   "source": [
    "#### 5. What is the average revenue over the next 30 days for each room type / house size / neighborhood?"
   ]
  },
  {
   "cell_type": "code",
   "execution_count": 30,
   "metadata": {},
   "outputs": [
    {
     "data": {
      "text/html": [
       "<table>\n",
       "<caption>A grouped_df: 91 × 4</caption>\n",
       "<thead>\n",
       "\t<tr><th scope=col>room_type</th><th scope=col>bedrooms</th><th scope=col>neighbourhood_cleansed</th><th scope=col>mean_revenue_30</th></tr>\n",
       "\t<tr><th scope=col>&lt;fct&gt;</th><th scope=col>&lt;chr&gt;</th><th scope=col>&lt;fct&gt;</th><th scope=col>&lt;dbl&gt;</th></tr>\n",
       "</thead>\n",
       "<tbody>\n",
       "\t<tr><td>Entire home/apt</td><td>1</td><td>Bailen-Miraflores   </td><td> 807.3429</td></tr>\n",
       "\t<tr><td>Entire home/apt</td><td>1</td><td>Campanillas         </td><td> 700.0000</td></tr>\n",
       "\t<tr><td>Entire home/apt</td><td>1</td><td>Carretera de Cadiz  </td><td>1252.6812</td></tr>\n",
       "\t<tr><td>Entire home/apt</td><td>1</td><td>Centro              </td><td>1336.2979</td></tr>\n",
       "\t<tr><td>Entire home/apt</td><td>1</td><td>Churriana           </td><td>1127.4167</td></tr>\n",
       "\t<tr><td>Entire home/apt</td><td>1</td><td>Ciudad Jardin       </td><td>1254.8750</td></tr>\n",
       "\t<tr><td>Entire home/apt</td><td>1</td><td>Cruz De Humilladero </td><td> 853.7727</td></tr>\n",
       "\t<tr><td>Entire home/apt</td><td>1</td><td>Este                </td><td>1314.4306</td></tr>\n",
       "\t<tr><td>Entire home/apt</td><td>1</td><td>Palma-Palmilla      </td><td>1388.0000</td></tr>\n",
       "\t<tr><td>Entire home/apt</td><td>1</td><td>Puerto de la Torre  </td><td> 832.7500</td></tr>\n",
       "\t<tr><td>Entire home/apt</td><td>1</td><td>Teatinos-Universidad</td><td> 887.0000</td></tr>\n",
       "\t<tr><td>Entire home/apt</td><td>2</td><td>Bailen-Miraflores   </td><td>1178.3636</td></tr>\n",
       "\t<tr><td>Entire home/apt</td><td>2</td><td>Carretera de Cadiz  </td><td>1583.7544</td></tr>\n",
       "\t<tr><td>Entire home/apt</td><td>2</td><td>Centro              </td><td>1676.6814</td></tr>\n",
       "\t<tr><td>Entire home/apt</td><td>2</td><td>Churriana           </td><td>1667.5385</td></tr>\n",
       "\t<tr><td>Entire home/apt</td><td>2</td><td>Ciudad Jardin       </td><td>1093.5455</td></tr>\n",
       "\t<tr><td>Entire home/apt</td><td>2</td><td>Cruz De Humilladero </td><td>1163.6500</td></tr>\n",
       "\t<tr><td>Entire home/apt</td><td>2</td><td>Este                </td><td>1834.3141</td></tr>\n",
       "\t<tr><td>Entire home/apt</td><td>2</td><td>Palma-Palmilla      </td><td>1279.4000</td></tr>\n",
       "\t<tr><td>Entire home/apt</td><td>2</td><td>Puerto de la Torre  </td><td>1645.0000</td></tr>\n",
       "\t<tr><td>Entire home/apt</td><td>2</td><td>Teatinos-Universidad</td><td> 303.2500</td></tr>\n",
       "\t<tr><td>Entire home/apt</td><td>3</td><td>Bailen-Miraflores   </td><td>1153.2857</td></tr>\n",
       "\t<tr><td>Entire home/apt</td><td>3</td><td>Campanillas         </td><td>2954.0000</td></tr>\n",
       "\t<tr><td>Entire home/apt</td><td>3</td><td>Carretera de Cadiz  </td><td>1691.7097</td></tr>\n",
       "\t<tr><td>Entire home/apt</td><td>3</td><td>Centro              </td><td>1745.0137</td></tr>\n",
       "\t<tr><td>Entire home/apt</td><td>3</td><td>Churriana           </td><td>2937.2222</td></tr>\n",
       "\t<tr><td>Entire home/apt</td><td>3</td><td>Ciudad Jardin       </td><td>1694.5455</td></tr>\n",
       "\t<tr><td>Entire home/apt</td><td>3</td><td>Cruz De Humilladero </td><td>1212.9020</td></tr>\n",
       "\t<tr><td>Entire home/apt</td><td>3</td><td>Este                </td><td>2279.4675</td></tr>\n",
       "\t<tr><td>Entire home/apt</td><td>3</td><td>Palma-Palmilla      </td><td>2434.2500</td></tr>\n",
       "\t<tr><td>⋮</td><td>⋮</td><td>⋮</td><td>⋮</td></tr>\n",
       "\t<tr><td>Private room</td><td>1 </td><td>Campanillas         </td><td> 673.0000</td></tr>\n",
       "\t<tr><td>Private room</td><td>1 </td><td>Carretera de Cadiz  </td><td> 548.8571</td></tr>\n",
       "\t<tr><td>Private room</td><td>1 </td><td>Centro              </td><td> 615.4164</td></tr>\n",
       "\t<tr><td>Private room</td><td>1 </td><td>Churriana           </td><td> 887.4000</td></tr>\n",
       "\t<tr><td>Private room</td><td>1 </td><td>Ciudad Jardin       </td><td> 667.3000</td></tr>\n",
       "\t<tr><td>Private room</td><td>1 </td><td>Cruz De Humilladero </td><td> 341.7143</td></tr>\n",
       "\t<tr><td>Private room</td><td>1 </td><td>Este                </td><td> 880.9206</td></tr>\n",
       "\t<tr><td>Private room</td><td>1 </td><td>Palma-Palmilla      </td><td> 544.5000</td></tr>\n",
       "\t<tr><td>Private room</td><td>1 </td><td>Puerto de la Torre  </td><td> 381.5000</td></tr>\n",
       "\t<tr><td>Private room</td><td>1 </td><td>Teatinos-Universidad</td><td> 381.4000</td></tr>\n",
       "\t<tr><td>Private room</td><td>2 </td><td>Carretera de Cadiz  </td><td> 556.0000</td></tr>\n",
       "\t<tr><td>Private room</td><td>2 </td><td>Centro              </td><td>1961.5000</td></tr>\n",
       "\t<tr><td>Private room</td><td>2 </td><td>Churriana           </td><td> 460.0000</td></tr>\n",
       "\t<tr><td>Private room</td><td>2 </td><td>Cruz De Humilladero </td><td> 498.5000</td></tr>\n",
       "\t<tr><td>Private room</td><td>2 </td><td>Este                </td><td>1263.7500</td></tr>\n",
       "\t<tr><td>Private room</td><td>2 </td><td>Palma-Palmilla      </td><td> 480.0000</td></tr>\n",
       "\t<tr><td>Private room</td><td>2 </td><td>Teatinos-Universidad</td><td>  90.0000</td></tr>\n",
       "\t<tr><td>Private room</td><td>3 </td><td>Carretera de Cadiz  </td><td> 210.0000</td></tr>\n",
       "\t<tr><td>Private room</td><td>3 </td><td>Centro              </td><td> 929.5714</td></tr>\n",
       "\t<tr><td>Private room</td><td>3 </td><td>Este                </td><td>1290.0000</td></tr>\n",
       "\t<tr><td>Private room</td><td>3 </td><td>Palma-Palmilla      </td><td>4660.0000</td></tr>\n",
       "\t<tr><td>Private room</td><td>4 </td><td>Bailen-Miraflores   </td><td>  25.0000</td></tr>\n",
       "\t<tr><td>Private room</td><td>4 </td><td>Centro              </td><td> 212.6667</td></tr>\n",
       "\t<tr><td>Private room</td><td>4 </td><td>Este                </td><td> 480.0000</td></tr>\n",
       "\t<tr><td>Private room</td><td>5+</td><td>Ciudad Jardin       </td><td> 225.0000</td></tr>\n",
       "\t<tr><td>Private room</td><td>5+</td><td>Este                </td><td> 750.0000</td></tr>\n",
       "\t<tr><td>Shared room </td><td>1 </td><td>Centro              </td><td> 473.3333</td></tr>\n",
       "\t<tr><td>Shared room </td><td>1 </td><td>Churriana           </td><td> 810.0000</td></tr>\n",
       "\t<tr><td>Shared room </td><td>1 </td><td>Cruz De Humilladero </td><td>2400.0000</td></tr>\n",
       "\t<tr><td>Shared room </td><td>1 </td><td>Este                </td><td> 227.5000</td></tr>\n",
       "</tbody>\n",
       "</table>\n"
      ],
      "text/latex": [
       "A grouped_df: 91 × 4\n",
       "\\begin{tabular}{r|llll}\n",
       " room\\_type & bedrooms & neighbourhood\\_cleansed & mean\\_revenue\\_30\\\\\n",
       " <fct> & <chr> & <fct> & <dbl>\\\\\n",
       "\\hline\n",
       "\t Entire home/apt & 1 & Bailen-Miraflores    &  807.3429\\\\\n",
       "\t Entire home/apt & 1 & Campanillas          &  700.0000\\\\\n",
       "\t Entire home/apt & 1 & Carretera de Cadiz   & 1252.6812\\\\\n",
       "\t Entire home/apt & 1 & Centro               & 1336.2979\\\\\n",
       "\t Entire home/apt & 1 & Churriana            & 1127.4167\\\\\n",
       "\t Entire home/apt & 1 & Ciudad Jardin        & 1254.8750\\\\\n",
       "\t Entire home/apt & 1 & Cruz De Humilladero  &  853.7727\\\\\n",
       "\t Entire home/apt & 1 & Este                 & 1314.4306\\\\\n",
       "\t Entire home/apt & 1 & Palma-Palmilla       & 1388.0000\\\\\n",
       "\t Entire home/apt & 1 & Puerto de la Torre   &  832.7500\\\\\n",
       "\t Entire home/apt & 1 & Teatinos-Universidad &  887.0000\\\\\n",
       "\t Entire home/apt & 2 & Bailen-Miraflores    & 1178.3636\\\\\n",
       "\t Entire home/apt & 2 & Carretera de Cadiz   & 1583.7544\\\\\n",
       "\t Entire home/apt & 2 & Centro               & 1676.6814\\\\\n",
       "\t Entire home/apt & 2 & Churriana            & 1667.5385\\\\\n",
       "\t Entire home/apt & 2 & Ciudad Jardin        & 1093.5455\\\\\n",
       "\t Entire home/apt & 2 & Cruz De Humilladero  & 1163.6500\\\\\n",
       "\t Entire home/apt & 2 & Este                 & 1834.3141\\\\\n",
       "\t Entire home/apt & 2 & Palma-Palmilla       & 1279.4000\\\\\n",
       "\t Entire home/apt & 2 & Puerto de la Torre   & 1645.0000\\\\\n",
       "\t Entire home/apt & 2 & Teatinos-Universidad &  303.2500\\\\\n",
       "\t Entire home/apt & 3 & Bailen-Miraflores    & 1153.2857\\\\\n",
       "\t Entire home/apt & 3 & Campanillas          & 2954.0000\\\\\n",
       "\t Entire home/apt & 3 & Carretera de Cadiz   & 1691.7097\\\\\n",
       "\t Entire home/apt & 3 & Centro               & 1745.0137\\\\\n",
       "\t Entire home/apt & 3 & Churriana            & 2937.2222\\\\\n",
       "\t Entire home/apt & 3 & Ciudad Jardin        & 1694.5455\\\\\n",
       "\t Entire home/apt & 3 & Cruz De Humilladero  & 1212.9020\\\\\n",
       "\t Entire home/apt & 3 & Este                 & 2279.4675\\\\\n",
       "\t Entire home/apt & 3 & Palma-Palmilla       & 2434.2500\\\\\n",
       "\t ⋮ & ⋮ & ⋮ & ⋮\\\\\n",
       "\t Private room & 1  & Campanillas          &  673.0000\\\\\n",
       "\t Private room & 1  & Carretera de Cadiz   &  548.8571\\\\\n",
       "\t Private room & 1  & Centro               &  615.4164\\\\\n",
       "\t Private room & 1  & Churriana            &  887.4000\\\\\n",
       "\t Private room & 1  & Ciudad Jardin        &  667.3000\\\\\n",
       "\t Private room & 1  & Cruz De Humilladero  &  341.7143\\\\\n",
       "\t Private room & 1  & Este                 &  880.9206\\\\\n",
       "\t Private room & 1  & Palma-Palmilla       &  544.5000\\\\\n",
       "\t Private room & 1  & Puerto de la Torre   &  381.5000\\\\\n",
       "\t Private room & 1  & Teatinos-Universidad &  381.4000\\\\\n",
       "\t Private room & 2  & Carretera de Cadiz   &  556.0000\\\\\n",
       "\t Private room & 2  & Centro               & 1961.5000\\\\\n",
       "\t Private room & 2  & Churriana            &  460.0000\\\\\n",
       "\t Private room & 2  & Cruz De Humilladero  &  498.5000\\\\\n",
       "\t Private room & 2  & Este                 & 1263.7500\\\\\n",
       "\t Private room & 2  & Palma-Palmilla       &  480.0000\\\\\n",
       "\t Private room & 2  & Teatinos-Universidad &   90.0000\\\\\n",
       "\t Private room & 3  & Carretera de Cadiz   &  210.0000\\\\\n",
       "\t Private room & 3  & Centro               &  929.5714\\\\\n",
       "\t Private room & 3  & Este                 & 1290.0000\\\\\n",
       "\t Private room & 3  & Palma-Palmilla       & 4660.0000\\\\\n",
       "\t Private room & 4  & Bailen-Miraflores    &   25.0000\\\\\n",
       "\t Private room & 4  & Centro               &  212.6667\\\\\n",
       "\t Private room & 4  & Este                 &  480.0000\\\\\n",
       "\t Private room & 5+ & Ciudad Jardin        &  225.0000\\\\\n",
       "\t Private room & 5+ & Este                 &  750.0000\\\\\n",
       "\t Shared room  & 1  & Centro               &  473.3333\\\\\n",
       "\t Shared room  & 1  & Churriana            &  810.0000\\\\\n",
       "\t Shared room  & 1  & Cruz De Humilladero  & 2400.0000\\\\\n",
       "\t Shared room  & 1  & Este                 &  227.5000\\\\\n",
       "\\end{tabular}\n"
      ],
      "text/markdown": [
       "\n",
       "A grouped_df: 91 × 4\n",
       "\n",
       "| room_type &lt;fct&gt; | bedrooms &lt;chr&gt; | neighbourhood_cleansed &lt;fct&gt; | mean_revenue_30 &lt;dbl&gt; |\n",
       "|---|---|---|---|\n",
       "| Entire home/apt | 1 | Bailen-Miraflores    |  807.3429 |\n",
       "| Entire home/apt | 1 | Campanillas          |  700.0000 |\n",
       "| Entire home/apt | 1 | Carretera de Cadiz   | 1252.6812 |\n",
       "| Entire home/apt | 1 | Centro               | 1336.2979 |\n",
       "| Entire home/apt | 1 | Churriana            | 1127.4167 |\n",
       "| Entire home/apt | 1 | Ciudad Jardin        | 1254.8750 |\n",
       "| Entire home/apt | 1 | Cruz De Humilladero  |  853.7727 |\n",
       "| Entire home/apt | 1 | Este                 | 1314.4306 |\n",
       "| Entire home/apt | 1 | Palma-Palmilla       | 1388.0000 |\n",
       "| Entire home/apt | 1 | Puerto de la Torre   |  832.7500 |\n",
       "| Entire home/apt | 1 | Teatinos-Universidad |  887.0000 |\n",
       "| Entire home/apt | 2 | Bailen-Miraflores    | 1178.3636 |\n",
       "| Entire home/apt | 2 | Carretera de Cadiz   | 1583.7544 |\n",
       "| Entire home/apt | 2 | Centro               | 1676.6814 |\n",
       "| Entire home/apt | 2 | Churriana            | 1667.5385 |\n",
       "| Entire home/apt | 2 | Ciudad Jardin        | 1093.5455 |\n",
       "| Entire home/apt | 2 | Cruz De Humilladero  | 1163.6500 |\n",
       "| Entire home/apt | 2 | Este                 | 1834.3141 |\n",
       "| Entire home/apt | 2 | Palma-Palmilla       | 1279.4000 |\n",
       "| Entire home/apt | 2 | Puerto de la Torre   | 1645.0000 |\n",
       "| Entire home/apt | 2 | Teatinos-Universidad |  303.2500 |\n",
       "| Entire home/apt | 3 | Bailen-Miraflores    | 1153.2857 |\n",
       "| Entire home/apt | 3 | Campanillas          | 2954.0000 |\n",
       "| Entire home/apt | 3 | Carretera de Cadiz   | 1691.7097 |\n",
       "| Entire home/apt | 3 | Centro               | 1745.0137 |\n",
       "| Entire home/apt | 3 | Churriana            | 2937.2222 |\n",
       "| Entire home/apt | 3 | Ciudad Jardin        | 1694.5455 |\n",
       "| Entire home/apt | 3 | Cruz De Humilladero  | 1212.9020 |\n",
       "| Entire home/apt | 3 | Este                 | 2279.4675 |\n",
       "| Entire home/apt | 3 | Palma-Palmilla       | 2434.2500 |\n",
       "| ⋮ | ⋮ | ⋮ | ⋮ |\n",
       "| Private room | 1  | Campanillas          |  673.0000 |\n",
       "| Private room | 1  | Carretera de Cadiz   |  548.8571 |\n",
       "| Private room | 1  | Centro               |  615.4164 |\n",
       "| Private room | 1  | Churriana            |  887.4000 |\n",
       "| Private room | 1  | Ciudad Jardin        |  667.3000 |\n",
       "| Private room | 1  | Cruz De Humilladero  |  341.7143 |\n",
       "| Private room | 1  | Este                 |  880.9206 |\n",
       "| Private room | 1  | Palma-Palmilla       |  544.5000 |\n",
       "| Private room | 1  | Puerto de la Torre   |  381.5000 |\n",
       "| Private room | 1  | Teatinos-Universidad |  381.4000 |\n",
       "| Private room | 2  | Carretera de Cadiz   |  556.0000 |\n",
       "| Private room | 2  | Centro               | 1961.5000 |\n",
       "| Private room | 2  | Churriana            |  460.0000 |\n",
       "| Private room | 2  | Cruz De Humilladero  |  498.5000 |\n",
       "| Private room | 2  | Este                 | 1263.7500 |\n",
       "| Private room | 2  | Palma-Palmilla       |  480.0000 |\n",
       "| Private room | 2  | Teatinos-Universidad |   90.0000 |\n",
       "| Private room | 3  | Carretera de Cadiz   |  210.0000 |\n",
       "| Private room | 3  | Centro               |  929.5714 |\n",
       "| Private room | 3  | Este                 | 1290.0000 |\n",
       "| Private room | 3  | Palma-Palmilla       | 4660.0000 |\n",
       "| Private room | 4  | Bailen-Miraflores    |   25.0000 |\n",
       "| Private room | 4  | Centro               |  212.6667 |\n",
       "| Private room | 4  | Este                 |  480.0000 |\n",
       "| Private room | 5+ | Ciudad Jardin        |  225.0000 |\n",
       "| Private room | 5+ | Este                 |  750.0000 |\n",
       "| Shared room  | 1  | Centro               |  473.3333 |\n",
       "| Shared room  | 1  | Churriana            |  810.0000 |\n",
       "| Shared room  | 1  | Cruz De Humilladero  | 2400.0000 |\n",
       "| Shared room  | 1  | Este                 |  227.5000 |\n",
       "\n"
      ],
      "text/plain": [
       "   room_type       bedrooms neighbourhood_cleansed mean_revenue_30\n",
       "1  Entire home/apt 1        Bailen-Miraflores       807.3429      \n",
       "2  Entire home/apt 1        Campanillas             700.0000      \n",
       "3  Entire home/apt 1        Carretera de Cadiz     1252.6812      \n",
       "4  Entire home/apt 1        Centro                 1336.2979      \n",
       "5  Entire home/apt 1        Churriana              1127.4167      \n",
       "6  Entire home/apt 1        Ciudad Jardin          1254.8750      \n",
       "7  Entire home/apt 1        Cruz De Humilladero     853.7727      \n",
       "8  Entire home/apt 1        Este                   1314.4306      \n",
       "9  Entire home/apt 1        Palma-Palmilla         1388.0000      \n",
       "10 Entire home/apt 1        Puerto de la Torre      832.7500      \n",
       "11 Entire home/apt 1        Teatinos-Universidad    887.0000      \n",
       "12 Entire home/apt 2        Bailen-Miraflores      1178.3636      \n",
       "13 Entire home/apt 2        Carretera de Cadiz     1583.7544      \n",
       "14 Entire home/apt 2        Centro                 1676.6814      \n",
       "15 Entire home/apt 2        Churriana              1667.5385      \n",
       "16 Entire home/apt 2        Ciudad Jardin          1093.5455      \n",
       "17 Entire home/apt 2        Cruz De Humilladero    1163.6500      \n",
       "18 Entire home/apt 2        Este                   1834.3141      \n",
       "19 Entire home/apt 2        Palma-Palmilla         1279.4000      \n",
       "20 Entire home/apt 2        Puerto de la Torre     1645.0000      \n",
       "21 Entire home/apt 2        Teatinos-Universidad    303.2500      \n",
       "22 Entire home/apt 3        Bailen-Miraflores      1153.2857      \n",
       "23 Entire home/apt 3        Campanillas            2954.0000      \n",
       "24 Entire home/apt 3        Carretera de Cadiz     1691.7097      \n",
       "25 Entire home/apt 3        Centro                 1745.0137      \n",
       "26 Entire home/apt 3        Churriana              2937.2222      \n",
       "27 Entire home/apt 3        Ciudad Jardin          1694.5455      \n",
       "28 Entire home/apt 3        Cruz De Humilladero    1212.9020      \n",
       "29 Entire home/apt 3        Este                   2279.4675      \n",
       "30 Entire home/apt 3        Palma-Palmilla         2434.2500      \n",
       "⋮  ⋮               ⋮        ⋮                      ⋮              \n",
       "62 Private room    1        Campanillas             673.0000      \n",
       "63 Private room    1        Carretera de Cadiz      548.8571      \n",
       "64 Private room    1        Centro                  615.4164      \n",
       "65 Private room    1        Churriana               887.4000      \n",
       "66 Private room    1        Ciudad Jardin           667.3000      \n",
       "67 Private room    1        Cruz De Humilladero     341.7143      \n",
       "68 Private room    1        Este                    880.9206      \n",
       "69 Private room    1        Palma-Palmilla          544.5000      \n",
       "70 Private room    1        Puerto de la Torre      381.5000      \n",
       "71 Private room    1        Teatinos-Universidad    381.4000      \n",
       "72 Private room    2        Carretera de Cadiz      556.0000      \n",
       "73 Private room    2        Centro                 1961.5000      \n",
       "74 Private room    2        Churriana               460.0000      \n",
       "75 Private room    2        Cruz De Humilladero     498.5000      \n",
       "76 Private room    2        Este                   1263.7500      \n",
       "77 Private room    2        Palma-Palmilla          480.0000      \n",
       "78 Private room    2        Teatinos-Universidad     90.0000      \n",
       "79 Private room    3        Carretera de Cadiz      210.0000      \n",
       "80 Private room    3        Centro                  929.5714      \n",
       "81 Private room    3        Este                   1290.0000      \n",
       "82 Private room    3        Palma-Palmilla         4660.0000      \n",
       "83 Private room    4        Bailen-Miraflores        25.0000      \n",
       "84 Private room    4        Centro                  212.6667      \n",
       "85 Private room    4        Este                    480.0000      \n",
       "86 Private room    5+       Ciudad Jardin           225.0000      \n",
       "87 Private room    5+       Este                    750.0000      \n",
       "88 Shared room     1        Centro                  473.3333      \n",
       "89 Shared room     1        Churriana               810.0000      \n",
       "90 Shared room     1        Cruz De Humilladero    2400.0000      \n",
       "91 Shared room     1        Este                    227.5000      "
      ]
     },
     "metadata": {},
     "output_type": "display_data"
    }
   ],
   "source": [
    "aggregated_revenue(selected_city)"
   ]
  },
  {
   "cell_type": "markdown",
   "metadata": {},
   "source": [
    "#### 6. What is the distribution of availability over the next 30 days for each room type/ house size / neighborhood?"
   ]
  },
  {
   "cell_type": "code",
   "execution_count": 31,
   "metadata": {},
   "outputs": [
    {
     "data": {
      "image/png": "[encoded data removed]",
      "text/plain": [
       "plot without title"
      ]
     },
     "metadata": {},
     "output_type": "display_data"
    }
   ],
   "source": [
    "availability_plotting(selected_city)"
   ]
  },
  {
   "cell_type": "markdown",
   "metadata": {},
   "source": [
    "#### 7. What is the distribution of revenue over the next 30 days for each room type / house size / neighborhood? "
   ]
  },
  {
   "cell_type": "code",
   "execution_count": 32,
   "metadata": {},
   "outputs": [
    {
     "data": {
      "image/png": "[encoded data removed]",
      "text/plain": [
       "plot without title"
      ]
     },
     "metadata": {},
     "output_type": "display_data"
    }
   ],
   "source": [
    "revenue_plotting(selected_city)"
   ]
  },
  {
   "cell_type": "markdown",
   "metadata": {},
   "source": [
    "### B. Mallorca"
   ]
  },
  {
   "cell_type": "code",
   "execution_count": 33,
   "metadata": {},
   "outputs": [
    {
     "data": {
      "text/html": [
       "'mallorca'"
      ],
      "text/latex": [
       "'mallorca'"
      ],
      "text/markdown": [
       "'mallorca'"
      ],
      "text/plain": [
       "[1] \"mallorca\""
      ]
     },
     "metadata": {},
     "output_type": "display_data"
    }
   ],
   "source": [
    "selected_city <- 'mallorca'\n",
    "selected_city"
   ]
  },
  {
   "cell_type": "markdown",
   "metadata": {},
   "source": [
    "#### 1. What is the proportion of each room type?"
   ]
  },
  {
   "cell_type": "code",
   "execution_count": 34,
   "metadata": {},
   "outputs": [
    {
     "data": {
      "text/html": [
       "<table>\n",
       "<caption>A tibble: 4 × 3</caption>\n",
       "<thead>\n",
       "\t<tr><th scope=col>room_type</th><th scope=col>nb_rooms</th><th scope=col>freq</th></tr>\n",
       "\t<tr><th scope=col>&lt;fct&gt;</th><th scope=col>&lt;int&gt;</th><th scope=col>&lt;dbl&gt;</th></tr>\n",
       "</thead>\n",
       "<tbody>\n",
       "\t<tr><td>Entire home/apt</td><td>11741</td><td>0.9055221348</td></tr>\n",
       "\t<tr><td>Hotel room     </td><td>  160</td><td>0.0123399661</td></tr>\n",
       "\t<tr><td>Private room   </td><td> 1056</td><td>0.0814437760</td></tr>\n",
       "\t<tr><td>Shared room    </td><td>    9</td><td>0.0006941231</td></tr>\n",
       "</tbody>\n",
       "</table>\n"
      ],
      "text/latex": [
       "A tibble: 4 × 3\n",
       "\\begin{tabular}{r|lll}\n",
       " room\\_type & nb\\_rooms & freq\\\\\n",
       " <fct> & <int> & <dbl>\\\\\n",
       "\\hline\n",
       "\t Entire home/apt & 11741 & 0.9055221348\\\\\n",
       "\t Hotel room      &   160 & 0.0123399661\\\\\n",
       "\t Private room    &  1056 & 0.0814437760\\\\\n",
       "\t Shared room     &     9 & 0.0006941231\\\\\n",
       "\\end{tabular}\n"
      ],
      "text/markdown": [
       "\n",
       "A tibble: 4 × 3\n",
       "\n",
       "| room_type &lt;fct&gt; | nb_rooms &lt;int&gt; | freq &lt;dbl&gt; |\n",
       "|---|---|---|\n",
       "| Entire home/apt | 11741 | 0.9055221348 |\n",
       "| Hotel room      |   160 | 0.0123399661 |\n",
       "| Private room    |  1056 | 0.0814437760 |\n",
       "| Shared room     |     9 | 0.0006941231 |\n",
       "\n"
      ],
      "text/plain": [
       "  room_type       nb_rooms freq        \n",
       "1 Entire home/apt 11741    0.9055221348\n",
       "2 Hotel room        160    0.0123399661\n",
       "3 Private room     1056    0.0814437760\n",
       "4 Shared room         9    0.0006941231"
      ]
     },
     "metadata": {},
     "output_type": "display_data"
    }
   ],
   "source": [
    "aggregated_room_types(selected_city)"
   ]
  },
  {
   "cell_type": "markdown",
   "metadata": {},
   "source": [
    "#### 2. What is the proportion of each house size (# of bedroom)?"
   ]
  },
  {
   "cell_type": "code",
   "execution_count": 35,
   "metadata": {},
   "outputs": [
    {
     "data": {
      "text/html": [
       "<table>\n",
       "<caption>A tibble: 5 × 3</caption>\n",
       "<thead>\n",
       "\t<tr><th scope=col>bedrooms</th><th scope=col>houze_size</th><th scope=col>freq</th></tr>\n",
       "\t<tr><th scope=col>&lt;chr&gt;</th><th scope=col>&lt;int&gt;</th><th scope=col>&lt;dbl&gt;</th></tr>\n",
       "</thead>\n",
       "<tbody>\n",
       "\t<tr><td>1 </td><td>2305</td><td>0.1777726</td></tr>\n",
       "\t<tr><td>2 </td><td>2496</td><td>0.1925035</td></tr>\n",
       "\t<tr><td>3 </td><td>4053</td><td>0.3125868</td></tr>\n",
       "\t<tr><td>4 </td><td>2591</td><td>0.1998303</td></tr>\n",
       "\t<tr><td>5+</td><td>1521</td><td>0.1173068</td></tr>\n",
       "</tbody>\n",
       "</table>\n"
      ],
      "text/latex": [
       "A tibble: 5 × 3\n",
       "\\begin{tabular}{r|lll}\n",
       " bedrooms & houze\\_size & freq\\\\\n",
       " <chr> & <int> & <dbl>\\\\\n",
       "\\hline\n",
       "\t 1  & 2305 & 0.1777726\\\\\n",
       "\t 2  & 2496 & 0.1925035\\\\\n",
       "\t 3  & 4053 & 0.3125868\\\\\n",
       "\t 4  & 2591 & 0.1998303\\\\\n",
       "\t 5+ & 1521 & 0.1173068\\\\\n",
       "\\end{tabular}\n"
      ],
      "text/markdown": [
       "\n",
       "A tibble: 5 × 3\n",
       "\n",
       "| bedrooms &lt;chr&gt; | houze_size &lt;int&gt; | freq &lt;dbl&gt; |\n",
       "|---|---|---|\n",
       "| 1  | 2305 | 0.1777726 |\n",
       "| 2  | 2496 | 0.1925035 |\n",
       "| 3  | 4053 | 0.3125868 |\n",
       "| 4  | 2591 | 0.1998303 |\n",
       "| 5+ | 1521 | 0.1173068 |\n",
       "\n"
      ],
      "text/plain": [
       "  bedrooms houze_size freq     \n",
       "1 1        2305       0.1777726\n",
       "2 2        2496       0.1925035\n",
       "3 3        4053       0.3125868\n",
       "4 4        2591       0.1998303\n",
       "5 5+       1521       0.1173068"
      ]
     },
     "metadata": {},
     "output_type": "display_data"
    }
   ],
   "source": [
    "aggregated_house_size(selected_city)"
   ]
  },
  {
   "cell_type": "markdown",
   "metadata": {},
   "source": [
    "#### 3. What is the proportion of each neighborhood?"
   ]
  },
  {
   "cell_type": "code",
   "execution_count": 36,
   "metadata": {},
   "outputs": [
    {
     "data": {
      "text/html": [
       "<table>\n",
       "<caption>A tibble: 53 × 3</caption>\n",
       "<thead>\n",
       "\t<tr><th scope=col>neighbourhood_cleansed</th><th scope=col>ngbh</th><th scope=col>freq</th></tr>\n",
       "\t<tr><th scope=col>&lt;fct&gt;</th><th scope=col>&lt;int&gt;</th><th scope=col>&lt;dbl&gt;</th></tr>\n",
       "</thead>\n",
       "<tbody>\n",
       "\t<tr><td>Alaró                     </td><td>  77</td><td>0.0059386087</td></tr>\n",
       "\t<tr><td>Alcúdia                   </td><td>1283</td><td>0.0989511029</td></tr>\n",
       "\t<tr><td>Algaida                   </td><td> 101</td><td>0.0077896036</td></tr>\n",
       "\t<tr><td>Andratx                   </td><td> 188</td><td>0.0144994601</td></tr>\n",
       "\t<tr><td>Ariany                    </td><td>  53</td><td>0.0040876138</td></tr>\n",
       "\t<tr><td>Artà                      </td><td> 276</td><td>0.0212864415</td></tr>\n",
       "\t<tr><td>Banyalbufar               </td><td>  44</td><td>0.0033934907</td></tr>\n",
       "\t<tr><td>Binissalem                </td><td>  68</td><td>0.0052444856</td></tr>\n",
       "\t<tr><td>Búger                     </td><td> 123</td><td>0.0094863489</td></tr>\n",
       "\t<tr><td>Bunyola                   </td><td>  76</td><td>0.0058614839</td></tr>\n",
       "\t<tr><td>Calvià                    </td><td> 379</td><td>0.0292302946</td></tr>\n",
       "\t<tr><td>Campanet                  </td><td> 128</td><td>0.0098719729</td></tr>\n",
       "\t<tr><td>Campos                    </td><td> 447</td><td>0.0344747802</td></tr>\n",
       "\t<tr><td>Capdepera                 </td><td> 381</td><td>0.0293845442</td></tr>\n",
       "\t<tr><td>Consell                   </td><td>  12</td><td>0.0009254975</td></tr>\n",
       "\t<tr><td>Costitx                   </td><td>  71</td><td>0.0054758599</td></tr>\n",
       "\t<tr><td>Deyá                      </td><td>  62</td><td>0.0047817369</td></tr>\n",
       "\t<tr><td>Escorca                   </td><td>  21</td><td>0.0016196205</td></tr>\n",
       "\t<tr><td>Esporles                  </td><td>  43</td><td>0.0033163659</td></tr>\n",
       "\t<tr><td>Estellencs                </td><td>  17</td><td>0.0013111214</td></tr>\n",
       "\t<tr><td>Felanitx                  </td><td> 493</td><td>0.0380225204</td></tr>\n",
       "\t<tr><td>Fornalutx                 </td><td>  75</td><td>0.0057843591</td></tr>\n",
       "\t<tr><td>Inca                      </td><td> 219</td><td>0.0168903286</td></tr>\n",
       "\t<tr><td>Lloret de Vistalegre      </td><td>  44</td><td>0.0033934907</td></tr>\n",
       "\t<tr><td>Lloseta                   </td><td>  59</td><td>0.0045503625</td></tr>\n",
       "\t<tr><td>Llubí                     </td><td>  85</td><td>0.0065556070</td></tr>\n",
       "\t<tr><td>Llucmajor                 </td><td> 427</td><td>0.0329322844</td></tr>\n",
       "\t<tr><td>Manacor                   </td><td> 660</td><td>0.0509023600</td></tr>\n",
       "\t<tr><td>Mancor de la Vall         </td><td>  40</td><td>0.0030849915</td></tr>\n",
       "\t<tr><td>Maria de la Salut         </td><td>  73</td><td>0.0056301095</td></tr>\n",
       "\t<tr><td>Marratxí                  </td><td> 102</td><td>0.0078667284</td></tr>\n",
       "\t<tr><td>Montuïri                  </td><td>  41</td><td>0.0031621163</td></tr>\n",
       "\t<tr><td>Muro                      </td><td> 322</td><td>0.0248341817</td></tr>\n",
       "\t<tr><td>Palma de Mallorca         </td><td>1452</td><td>0.1119851920</td></tr>\n",
       "\t<tr><td>Petra                     </td><td>  92</td><td>0.0070954805</td></tr>\n",
       "\t<tr><td>Pollença                  </td><td>1829</td><td>0.1410612371</td></tr>\n",
       "\t<tr><td>Porreres                  </td><td>  60</td><td>0.0046274873</td></tr>\n",
       "\t<tr><td>Puigpunyent               </td><td>  32</td><td>0.0024679932</td></tr>\n",
       "\t<tr><td>Sa Pobla                  </td><td> 228</td><td>0.0175844516</td></tr>\n",
       "\t<tr><td>Sant Joan                 </td><td>  43</td><td>0.0033163659</td></tr>\n",
       "\t<tr><td>Sant Llorenç des Cardassar</td><td> 226</td><td>0.0174302021</td></tr>\n",
       "\t<tr><td>Santa Eugènia             </td><td>  19</td><td>0.0014653710</td></tr>\n",
       "\t<tr><td>Santa Margalida           </td><td> 505</td><td>0.0389480179</td></tr>\n",
       "\t<tr><td>Santa María del Camí      </td><td>  56</td><td>0.0043189881</td></tr>\n",
       "\t<tr><td>Santanyí                  </td><td> 638</td><td>0.0492056147</td></tr>\n",
       "\t<tr><td>Selva                     </td><td> 234</td><td>0.0180472004</td></tr>\n",
       "\t<tr><td>Sencelles                 </td><td> 104</td><td>0.0080209779</td></tr>\n",
       "\t<tr><td>Ses Salines               </td><td> 161</td><td>0.0124170909</td></tr>\n",
       "\t<tr><td>Sineu                     </td><td>  97</td><td>0.0074811044</td></tr>\n",
       "\t<tr><td>Sóller                    </td><td> 364</td><td>0.0280734228</td></tr>\n",
       "\t<tr><td>Son Servera               </td><td> 212</td><td>0.0163504550</td></tr>\n",
       "\t<tr><td>Valldemossa               </td><td>  91</td><td>0.0070183557</td></tr>\n",
       "\t<tr><td>Vilafranc de Bonany       </td><td>  33</td><td>0.0025451180</td></tr>\n",
       "</tbody>\n",
       "</table>\n"
      ],
      "text/latex": [
       "A tibble: 53 × 3\n",
       "\\begin{tabular}{r|lll}\n",
       " neighbourhood\\_cleansed & ngbh & freq\\\\\n",
       " <fct> & <int> & <dbl>\\\\\n",
       "\\hline\n",
       "\t Alaró                      &   77 & 0.0059386087\\\\\n",
       "\t Alcúdia                    & 1283 & 0.0989511029\\\\\n",
       "\t Algaida                    &  101 & 0.0077896036\\\\\n",
       "\t Andratx                    &  188 & 0.0144994601\\\\\n",
       "\t Ariany                     &   53 & 0.0040876138\\\\\n",
       "\t Artà                       &  276 & 0.0212864415\\\\\n",
       "\t Banyalbufar                &   44 & 0.0033934907\\\\\n",
       "\t Binissalem                 &   68 & 0.0052444856\\\\\n",
       "\t Búger                      &  123 & 0.0094863489\\\\\n",
       "\t Bunyola                    &   76 & 0.0058614839\\\\\n",
       "\t Calvià                     &  379 & 0.0292302946\\\\\n",
       "\t Campanet                   &  128 & 0.0098719729\\\\\n",
       "\t Campos                     &  447 & 0.0344747802\\\\\n",
       "\t Capdepera                  &  381 & 0.0293845442\\\\\n",
       "\t Consell                    &   12 & 0.0009254975\\\\\n",
       "\t Costitx                    &   71 & 0.0054758599\\\\\n",
       "\t Deyá                       &   62 & 0.0047817369\\\\\n",
       "\t Escorca                    &   21 & 0.0016196205\\\\\n",
       "\t Esporles                   &   43 & 0.0033163659\\\\\n",
       "\t Estellencs                 &   17 & 0.0013111214\\\\\n",
       "\t Felanitx                   &  493 & 0.0380225204\\\\\n",
       "\t Fornalutx                  &   75 & 0.0057843591\\\\\n",
       "\t Inca                       &  219 & 0.0168903286\\\\\n",
       "\t Lloret de Vistalegre       &   44 & 0.0033934907\\\\\n",
       "\t Lloseta                    &   59 & 0.0045503625\\\\\n",
       "\t Llubí                      &   85 & 0.0065556070\\\\\n",
       "\t Llucmajor                  &  427 & 0.0329322844\\\\\n",
       "\t Manacor                    &  660 & 0.0509023600\\\\\n",
       "\t Mancor de la Vall          &   40 & 0.0030849915\\\\\n",
       "\t Maria de la Salut          &   73 & 0.0056301095\\\\\n",
       "\t Marratxí                   &  102 & 0.0078667284\\\\\n",
       "\t Montuïri                   &   41 & 0.0031621163\\\\\n",
       "\t Muro                       &  322 & 0.0248341817\\\\\n",
       "\t Palma de Mallorca          & 1452 & 0.1119851920\\\\\n",
       "\t Petra                      &   92 & 0.0070954805\\\\\n",
       "\t Pollença                   & 1829 & 0.1410612371\\\\\n",
       "\t Porreres                   &   60 & 0.0046274873\\\\\n",
       "\t Puigpunyent                &   32 & 0.0024679932\\\\\n",
       "\t Sa Pobla                   &  228 & 0.0175844516\\\\\n",
       "\t Sant Joan                  &   43 & 0.0033163659\\\\\n",
       "\t Sant Llorenç des Cardassar &  226 & 0.0174302021\\\\\n",
       "\t Santa Eugènia              &   19 & 0.0014653710\\\\\n",
       "\t Santa Margalida            &  505 & 0.0389480179\\\\\n",
       "\t Santa María del Camí       &   56 & 0.0043189881\\\\\n",
       "\t Santanyí                   &  638 & 0.0492056147\\\\\n",
       "\t Selva                      &  234 & 0.0180472004\\\\\n",
       "\t Sencelles                  &  104 & 0.0080209779\\\\\n",
       "\t Ses Salines                &  161 & 0.0124170909\\\\\n",
       "\t Sineu                      &   97 & 0.0074811044\\\\\n",
       "\t Sóller                     &  364 & 0.0280734228\\\\\n",
       "\t Son Servera                &  212 & 0.0163504550\\\\\n",
       "\t Valldemossa                &   91 & 0.0070183557\\\\\n",
       "\t Vilafranc de Bonany        &   33 & 0.0025451180\\\\\n",
       "\\end{tabular}\n"
      ],
      "text/markdown": [
       "\n",
       "A tibble: 53 × 3\n",
       "\n",
       "| neighbourhood_cleansed &lt;fct&gt; | ngbh &lt;int&gt; | freq &lt;dbl&gt; |\n",
       "|---|---|---|\n",
       "| Alaró                      |   77 | 0.0059386087 |\n",
       "| Alcúdia                    | 1283 | 0.0989511029 |\n",
       "| Algaida                    |  101 | 0.0077896036 |\n",
       "| Andratx                    |  188 | 0.0144994601 |\n",
       "| Ariany                     |   53 | 0.0040876138 |\n",
       "| Artà                       |  276 | 0.0212864415 |\n",
       "| Banyalbufar                |   44 | 0.0033934907 |\n",
       "| Binissalem                 |   68 | 0.0052444856 |\n",
       "| Búger                      |  123 | 0.0094863489 |\n",
       "| Bunyola                    |   76 | 0.0058614839 |\n",
       "| Calvià                     |  379 | 0.0292302946 |\n",
       "| Campanet                   |  128 | 0.0098719729 |\n",
       "| Campos                     |  447 | 0.0344747802 |\n",
       "| Capdepera                  |  381 | 0.0293845442 |\n",
       "| Consell                    |   12 | 0.0009254975 |\n",
       "| Costitx                    |   71 | 0.0054758599 |\n",
       "| Deyá                       |   62 | 0.0047817369 |\n",
       "| Escorca                    |   21 | 0.0016196205 |\n",
       "| Esporles                   |   43 | 0.0033163659 |\n",
       "| Estellencs                 |   17 | 0.0013111214 |\n",
       "| Felanitx                   |  493 | 0.0380225204 |\n",
       "| Fornalutx                  |   75 | 0.0057843591 |\n",
       "| Inca                       |  219 | 0.0168903286 |\n",
       "| Lloret de Vistalegre       |   44 | 0.0033934907 |\n",
       "| Lloseta                    |   59 | 0.0045503625 |\n",
       "| Llubí                      |   85 | 0.0065556070 |\n",
       "| Llucmajor                  |  427 | 0.0329322844 |\n",
       "| Manacor                    |  660 | 0.0509023600 |\n",
       "| Mancor de la Vall          |   40 | 0.0030849915 |\n",
       "| Maria de la Salut          |   73 | 0.0056301095 |\n",
       "| Marratxí                   |  102 | 0.0078667284 |\n",
       "| Montuïri                   |   41 | 0.0031621163 |\n",
       "| Muro                       |  322 | 0.0248341817 |\n",
       "| Palma de Mallorca          | 1452 | 0.1119851920 |\n",
       "| Petra                      |   92 | 0.0070954805 |\n",
       "| Pollença                   | 1829 | 0.1410612371 |\n",
       "| Porreres                   |   60 | 0.0046274873 |\n",
       "| Puigpunyent                |   32 | 0.0024679932 |\n",
       "| Sa Pobla                   |  228 | 0.0175844516 |\n",
       "| Sant Joan                  |   43 | 0.0033163659 |\n",
       "| Sant Llorenç des Cardassar |  226 | 0.0174302021 |\n",
       "| Santa Eugènia              |   19 | 0.0014653710 |\n",
       "| Santa Margalida            |  505 | 0.0389480179 |\n",
       "| Santa María del Camí       |   56 | 0.0043189881 |\n",
       "| Santanyí                   |  638 | 0.0492056147 |\n",
       "| Selva                      |  234 | 0.0180472004 |\n",
       "| Sencelles                  |  104 | 0.0080209779 |\n",
       "| Ses Salines                |  161 | 0.0124170909 |\n",
       "| Sineu                      |   97 | 0.0074811044 |\n",
       "| Sóller                     |  364 | 0.0280734228 |\n",
       "| Son Servera                |  212 | 0.0163504550 |\n",
       "| Valldemossa                |   91 | 0.0070183557 |\n",
       "| Vilafranc de Bonany        |   33 | 0.0025451180 |\n",
       "\n"
      ],
      "text/plain": [
       "   neighbourhood_cleansed     ngbh freq        \n",
       "1  Alaró                        77 0.0059386087\n",
       "2  Alcúdia                    1283 0.0989511029\n",
       "3  Algaida                     101 0.0077896036\n",
       "4  Andratx                     188 0.0144994601\n",
       "5  Ariany                       53 0.0040876138\n",
       "6  Artà                        276 0.0212864415\n",
       "7  Banyalbufar                  44 0.0033934907\n",
       "8  Binissalem                   68 0.0052444856\n",
       "9  Búger                       123 0.0094863489\n",
       "10 Bunyola                      76 0.0058614839\n",
       "11 Calvià                      379 0.0292302946\n",
       "12 Campanet                    128 0.0098719729\n",
       "13 Campos                      447 0.0344747802\n",
       "14 Capdepera                   381 0.0293845442\n",
       "15 Consell                      12 0.0009254975\n",
       "16 Costitx                      71 0.0054758599\n",
       "17 Deyá                         62 0.0047817369\n",
       "18 Escorca                      21 0.0016196205\n",
       "19 Esporles                     43 0.0033163659\n",
       "20 Estellencs                   17 0.0013111214\n",
       "21 Felanitx                    493 0.0380225204\n",
       "22 Fornalutx                    75 0.0057843591\n",
       "23 Inca                        219 0.0168903286\n",
       "24 Lloret de Vistalegre         44 0.0033934907\n",
       "25 Lloseta                      59 0.0045503625\n",
       "26 Llubí                        85 0.0065556070\n",
       "27 Llucmajor                   427 0.0329322844\n",
       "28 Manacor                     660 0.0509023600\n",
       "29 Mancor de la Vall            40 0.0030849915\n",
       "30 Maria de la Salut            73 0.0056301095\n",
       "31 Marratxí                    102 0.0078667284\n",
       "32 Montuïri                     41 0.0031621163\n",
       "33 Muro                        322 0.0248341817\n",
       "34 Palma de Mallorca          1452 0.1119851920\n",
       "35 Petra                        92 0.0070954805\n",
       "36 Pollença                   1829 0.1410612371\n",
       "37 Porreres                     60 0.0046274873\n",
       "38 Puigpunyent                  32 0.0024679932\n",
       "39 Sa Pobla                    228 0.0175844516\n",
       "40 Sant Joan                    43 0.0033163659\n",
       "41 Sant Llorenç des Cardassar  226 0.0174302021\n",
       "42 Santa Eugènia                19 0.0014653710\n",
       "43 Santa Margalida             505 0.0389480179\n",
       "44 Santa María del Camí         56 0.0043189881\n",
       "45 Santanyí                    638 0.0492056147\n",
       "46 Selva                       234 0.0180472004\n",
       "47 Sencelles                   104 0.0080209779\n",
       "48 Ses Salines                 161 0.0124170909\n",
       "49 Sineu                        97 0.0074811044\n",
       "50 Sóller                      364 0.0280734228\n",
       "51 Son Servera                 212 0.0163504550\n",
       "52 Valldemossa                  91 0.0070183557\n",
       "53 Vilafranc de Bonany          33 0.0025451180"
      ]
     },
     "metadata": {},
     "output_type": "display_data"
    }
   ],
   "source": [
    "aggregated_neighborhood(selected_city)"
   ]
  },
  {
   "cell_type": "markdown",
   "metadata": {},
   "source": [
    "#### 4. What is the average availability over the next 30 days for each room type / house size / neighborhood?"
   ]
  },
  {
   "cell_type": "code",
   "execution_count": 37,
   "metadata": {},
   "outputs": [
    {
     "data": {
      "text/html": [
       "<table>\n",
       "<caption>A grouped_df: 396 × 4</caption>\n",
       "<thead>\n",
       "\t<tr><th scope=col>room_type</th><th scope=col>bedrooms</th><th scope=col>neighbourhood_cleansed</th><th scope=col>mean_availability_30</th></tr>\n",
       "\t<tr><th scope=col>&lt;fct&gt;</th><th scope=col>&lt;chr&gt;</th><th scope=col>&lt;fct&gt;</th><th scope=col>&lt;dbl&gt;</th></tr>\n",
       "</thead>\n",
       "<tbody>\n",
       "\t<tr><td>Entire home/apt</td><td>1</td><td>Alaró               </td><td>22.87500</td></tr>\n",
       "\t<tr><td>Entire home/apt</td><td>1</td><td>Alcúdia             </td><td>21.19481</td></tr>\n",
       "\t<tr><td>Entire home/apt</td><td>1</td><td>Algaida             </td><td>16.44444</td></tr>\n",
       "\t<tr><td>Entire home/apt</td><td>1</td><td>Andratx             </td><td>20.40000</td></tr>\n",
       "\t<tr><td>Entire home/apt</td><td>1</td><td>Artà                </td><td>17.33333</td></tr>\n",
       "\t<tr><td>Entire home/apt</td><td>1</td><td>Banyalbufar         </td><td>13.66667</td></tr>\n",
       "\t<tr><td>Entire home/apt</td><td>1</td><td>Binissalem          </td><td>17.00000</td></tr>\n",
       "\t<tr><td>Entire home/apt</td><td>1</td><td>Búger               </td><td> 7.00000</td></tr>\n",
       "\t<tr><td>Entire home/apt</td><td>1</td><td>Bunyola             </td><td>11.75000</td></tr>\n",
       "\t<tr><td>Entire home/apt</td><td>1</td><td>Calvià              </td><td>17.50794</td></tr>\n",
       "\t<tr><td>Entire home/apt</td><td>1</td><td>Campanet            </td><td>20.50000</td></tr>\n",
       "\t<tr><td>Entire home/apt</td><td>1</td><td>Campos              </td><td>19.12500</td></tr>\n",
       "\t<tr><td>Entire home/apt</td><td>1</td><td>Capdepera           </td><td>21.44737</td></tr>\n",
       "\t<tr><td>Entire home/apt</td><td>1</td><td>Costitx             </td><td>22.09091</td></tr>\n",
       "\t<tr><td>Entire home/apt</td><td>1</td><td>Deyá                </td><td>19.87500</td></tr>\n",
       "\t<tr><td>Entire home/apt</td><td>1</td><td>Escorca             </td><td>25.00000</td></tr>\n",
       "\t<tr><td>Entire home/apt</td><td>1</td><td>Esporles            </td><td>19.00000</td></tr>\n",
       "\t<tr><td>Entire home/apt</td><td>1</td><td>Estellencs          </td><td>28.00000</td></tr>\n",
       "\t<tr><td>Entire home/apt</td><td>1</td><td>Felanitx            </td><td>15.19565</td></tr>\n",
       "\t<tr><td>Entire home/apt</td><td>1</td><td>Fornalutx           </td><td>16.23077</td></tr>\n",
       "\t<tr><td>Entire home/apt</td><td>1</td><td>Inca                </td><td>18.10000</td></tr>\n",
       "\t<tr><td>Entire home/apt</td><td>1</td><td>Lloret de Vistalegre</td><td>20.75000</td></tr>\n",
       "\t<tr><td>Entire home/apt</td><td>1</td><td>Lloseta             </td><td> 9.00000</td></tr>\n",
       "\t<tr><td>Entire home/apt</td><td>1</td><td>Llubí               </td><td>27.25000</td></tr>\n",
       "\t<tr><td>Entire home/apt</td><td>1</td><td>Llucmajor           </td><td>17.36842</td></tr>\n",
       "\t<tr><td>Entire home/apt</td><td>1</td><td>Manacor             </td><td>16.50000</td></tr>\n",
       "\t<tr><td>Entire home/apt</td><td>1</td><td>Mancor de la Vall   </td><td> 0.00000</td></tr>\n",
       "\t<tr><td>Entire home/apt</td><td>1</td><td>Maria de la Salut   </td><td>14.66667</td></tr>\n",
       "\t<tr><td>Entire home/apt</td><td>1</td><td>Marratxí            </td><td>24.40000</td></tr>\n",
       "\t<tr><td>Entire home/apt</td><td>1</td><td>Montuïri            </td><td>25.75000</td></tr>\n",
       "\t<tr><td>⋮</td><td>⋮</td><td>⋮</td><td>⋮</td></tr>\n",
       "\t<tr><td>Private room</td><td>3 </td><td>Alcúdia          </td><td>24.00000</td></tr>\n",
       "\t<tr><td>Private room</td><td>3 </td><td>Campanet         </td><td>29.00000</td></tr>\n",
       "\t<tr><td>Private room</td><td>3 </td><td>Campos           </td><td>16.00000</td></tr>\n",
       "\t<tr><td>Private room</td><td>3 </td><td>Deyá             </td><td> 0.00000</td></tr>\n",
       "\t<tr><td>Private room</td><td>3 </td><td>Inca             </td><td>29.00000</td></tr>\n",
       "\t<tr><td>Private room</td><td>3 </td><td>Llucmajor        </td><td>10.00000</td></tr>\n",
       "\t<tr><td>Private room</td><td>3 </td><td>Mancor de la Vall</td><td>25.00000</td></tr>\n",
       "\t<tr><td>Private room</td><td>3 </td><td>Palma de Mallorca</td><td>10.83333</td></tr>\n",
       "\t<tr><td>Private room</td><td>3 </td><td>Pollença         </td><td> 7.00000</td></tr>\n",
       "\t<tr><td>Private room</td><td>3 </td><td>Santa Margalida  </td><td> 0.00000</td></tr>\n",
       "\t<tr><td>Private room</td><td>3 </td><td>Sóller           </td><td>27.00000</td></tr>\n",
       "\t<tr><td>Private room</td><td>4 </td><td>Alcúdia          </td><td>14.00000</td></tr>\n",
       "\t<tr><td>Private room</td><td>4 </td><td>Palma de Mallorca</td><td>27.00000</td></tr>\n",
       "\t<tr><td>Private room</td><td>4 </td><td>Pollença         </td><td>23.00000</td></tr>\n",
       "\t<tr><td>Private room</td><td>5+</td><td>Alaró            </td><td> 0.00000</td></tr>\n",
       "\t<tr><td>Private room</td><td>5+</td><td>Búger            </td><td>21.00000</td></tr>\n",
       "\t<tr><td>Private room</td><td>5+</td><td>Fornalutx        </td><td>19.00000</td></tr>\n",
       "\t<tr><td>Private room</td><td>5+</td><td>Manacor          </td><td> 0.00000</td></tr>\n",
       "\t<tr><td>Private room</td><td>5+</td><td>Maria de la Salut</td><td>27.00000</td></tr>\n",
       "\t<tr><td>Private room</td><td>5+</td><td>Muro             </td><td> 0.00000</td></tr>\n",
       "\t<tr><td>Private room</td><td>5+</td><td>Palma de Mallorca</td><td>28.33333</td></tr>\n",
       "\t<tr><td>Private room</td><td>5+</td><td>Pollença         </td><td>29.00000</td></tr>\n",
       "\t<tr><td>Private room</td><td>5+</td><td>Puigpunyent      </td><td>27.00000</td></tr>\n",
       "\t<tr><td>Private room</td><td>5+</td><td>Selva            </td><td>29.00000</td></tr>\n",
       "\t<tr><td>Private room</td><td>5+</td><td>Sencelles        </td><td>21.00000</td></tr>\n",
       "\t<tr><td>Private room</td><td>5+</td><td>Sineu            </td><td>29.00000</td></tr>\n",
       "\t<tr><td>Shared room </td><td>1 </td><td>Calvià           </td><td> 0.00000</td></tr>\n",
       "\t<tr><td>Shared room </td><td>1 </td><td>Esporles         </td><td>29.00000</td></tr>\n",
       "\t<tr><td>Shared room </td><td>1 </td><td>Muro             </td><td>28.00000</td></tr>\n",
       "\t<tr><td>Shared room </td><td>1 </td><td>Palma de Mallorca</td><td> 4.60000</td></tr>\n",
       "</tbody>\n",
       "</table>\n"
      ],
      "text/latex": [
       "A grouped_df: 396 × 4\n",
       "\\begin{tabular}{r|llll}\n",
       " room\\_type & bedrooms & neighbourhood\\_cleansed & mean\\_availability\\_30\\\\\n",
       " <fct> & <chr> & <fct> & <dbl>\\\\\n",
       "\\hline\n",
       "\t Entire home/apt & 1 & Alaró                & 22.87500\\\\\n",
       "\t Entire home/apt & 1 & Alcúdia              & 21.19481\\\\\n",
       "\t Entire home/apt & 1 & Algaida              & 16.44444\\\\\n",
       "\t Entire home/apt & 1 & Andratx              & 20.40000\\\\\n",
       "\t Entire home/apt & 1 & Artà                 & 17.33333\\\\\n",
       "\t Entire home/apt & 1 & Banyalbufar          & 13.66667\\\\\n",
       "\t Entire home/apt & 1 & Binissalem           & 17.00000\\\\\n",
       "\t Entire home/apt & 1 & Búger                &  7.00000\\\\\n",
       "\t Entire home/apt & 1 & Bunyola              & 11.75000\\\\\n",
       "\t Entire home/apt & 1 & Calvià               & 17.50794\\\\\n",
       "\t Entire home/apt & 1 & Campanet             & 20.50000\\\\\n",
       "\t Entire home/apt & 1 & Campos               & 19.12500\\\\\n",
       "\t Entire home/apt & 1 & Capdepera            & 21.44737\\\\\n",
       "\t Entire home/apt & 1 & Costitx              & 22.09091\\\\\n",
       "\t Entire home/apt & 1 & Deyá                 & 19.87500\\\\\n",
       "\t Entire home/apt & 1 & Escorca              & 25.00000\\\\\n",
       "\t Entire home/apt & 1 & Esporles             & 19.00000\\\\\n",
       "\t Entire home/apt & 1 & Estellencs           & 28.00000\\\\\n",
       "\t Entire home/apt & 1 & Felanitx             & 15.19565\\\\\n",
       "\t Entire home/apt & 1 & Fornalutx            & 16.23077\\\\\n",
       "\t Entire home/apt & 1 & Inca                 & 18.10000\\\\\n",
       "\t Entire home/apt & 1 & Lloret de Vistalegre & 20.75000\\\\\n",
       "\t Entire home/apt & 1 & Lloseta              &  9.00000\\\\\n",
       "\t Entire home/apt & 1 & Llubí                & 27.25000\\\\\n",
       "\t Entire home/apt & 1 & Llucmajor            & 17.36842\\\\\n",
       "\t Entire home/apt & 1 & Manacor              & 16.50000\\\\\n",
       "\t Entire home/apt & 1 & Mancor de la Vall    &  0.00000\\\\\n",
       "\t Entire home/apt & 1 & Maria de la Salut    & 14.66667\\\\\n",
       "\t Entire home/apt & 1 & Marratxí             & 24.40000\\\\\n",
       "\t Entire home/apt & 1 & Montuïri             & 25.75000\\\\\n",
       "\t ⋮ & ⋮ & ⋮ & ⋮\\\\\n",
       "\t Private room & 3  & Alcúdia           & 24.00000\\\\\n",
       "\t Private room & 3  & Campanet          & 29.00000\\\\\n",
       "\t Private room & 3  & Campos            & 16.00000\\\\\n",
       "\t Private room & 3  & Deyá              &  0.00000\\\\\n",
       "\t Private room & 3  & Inca              & 29.00000\\\\\n",
       "\t Private room & 3  & Llucmajor         & 10.00000\\\\\n",
       "\t Private room & 3  & Mancor de la Vall & 25.00000\\\\\n",
       "\t Private room & 3  & Palma de Mallorca & 10.83333\\\\\n",
       "\t Private room & 3  & Pollença          &  7.00000\\\\\n",
       "\t Private room & 3  & Santa Margalida   &  0.00000\\\\\n",
       "\t Private room & 3  & Sóller            & 27.00000\\\\\n",
       "\t Private room & 4  & Alcúdia           & 14.00000\\\\\n",
       "\t Private room & 4  & Palma de Mallorca & 27.00000\\\\\n",
       "\t Private room & 4  & Pollença          & 23.00000\\\\\n",
       "\t Private room & 5+ & Alaró             &  0.00000\\\\\n",
       "\t Private room & 5+ & Búger             & 21.00000\\\\\n",
       "\t Private room & 5+ & Fornalutx         & 19.00000\\\\\n",
       "\t Private room & 5+ & Manacor           &  0.00000\\\\\n",
       "\t Private room & 5+ & Maria de la Salut & 27.00000\\\\\n",
       "\t Private room & 5+ & Muro              &  0.00000\\\\\n",
       "\t Private room & 5+ & Palma de Mallorca & 28.33333\\\\\n",
       "\t Private room & 5+ & Pollença          & 29.00000\\\\\n",
       "\t Private room & 5+ & Puigpunyent       & 27.00000\\\\\n",
       "\t Private room & 5+ & Selva             & 29.00000\\\\\n",
       "\t Private room & 5+ & Sencelles         & 21.00000\\\\\n",
       "\t Private room & 5+ & Sineu             & 29.00000\\\\\n",
       "\t Shared room  & 1  & Calvià            &  0.00000\\\\\n",
       "\t Shared room  & 1  & Esporles          & 29.00000\\\\\n",
       "\t Shared room  & 1  & Muro              & 28.00000\\\\\n",
       "\t Shared room  & 1  & Palma de Mallorca &  4.60000\\\\\n",
       "\\end{tabular}\n"
      ],
      "text/markdown": [
       "\n",
       "A grouped_df: 396 × 4\n",
       "\n",
       "| room_type &lt;fct&gt; | bedrooms &lt;chr&gt; | neighbourhood_cleansed &lt;fct&gt; | mean_availability_30 &lt;dbl&gt; |\n",
       "|---|---|---|---|\n",
       "| Entire home/apt | 1 | Alaró                | 22.87500 |\n",
       "| Entire home/apt | 1 | Alcúdia              | 21.19481 |\n",
       "| Entire home/apt | 1 | Algaida              | 16.44444 |\n",
       "| Entire home/apt | 1 | Andratx              | 20.40000 |\n",
       "| Entire home/apt | 1 | Artà                 | 17.33333 |\n",
       "| Entire home/apt | 1 | Banyalbufar          | 13.66667 |\n",
       "| Entire home/apt | 1 | Binissalem           | 17.00000 |\n",
       "| Entire home/apt | 1 | Búger                |  7.00000 |\n",
       "| Entire home/apt | 1 | Bunyola              | 11.75000 |\n",
       "| Entire home/apt | 1 | Calvià               | 17.50794 |\n",
       "| Entire home/apt | 1 | Campanet             | 20.50000 |\n",
       "| Entire home/apt | 1 | Campos               | 19.12500 |\n",
       "| Entire home/apt | 1 | Capdepera            | 21.44737 |\n",
       "| Entire home/apt | 1 | Costitx              | 22.09091 |\n",
       "| Entire home/apt | 1 | Deyá                 | 19.87500 |\n",
       "| Entire home/apt | 1 | Escorca              | 25.00000 |\n",
       "| Entire home/apt | 1 | Esporles             | 19.00000 |\n",
       "| Entire home/apt | 1 | Estellencs           | 28.00000 |\n",
       "| Entire home/apt | 1 | Felanitx             | 15.19565 |\n",
       "| Entire home/apt | 1 | Fornalutx            | 16.23077 |\n",
       "| Entire home/apt | 1 | Inca                 | 18.10000 |\n",
       "| Entire home/apt | 1 | Lloret de Vistalegre | 20.75000 |\n",
       "| Entire home/apt | 1 | Lloseta              |  9.00000 |\n",
       "| Entire home/apt | 1 | Llubí                | 27.25000 |\n",
       "| Entire home/apt | 1 | Llucmajor            | 17.36842 |\n",
       "| Entire home/apt | 1 | Manacor              | 16.50000 |\n",
       "| Entire home/apt | 1 | Mancor de la Vall    |  0.00000 |\n",
       "| Entire home/apt | 1 | Maria de la Salut    | 14.66667 |\n",
       "| Entire home/apt | 1 | Marratxí             | 24.40000 |\n",
       "| Entire home/apt | 1 | Montuïri             | 25.75000 |\n",
       "| ⋮ | ⋮ | ⋮ | ⋮ |\n",
       "| Private room | 3  | Alcúdia           | 24.00000 |\n",
       "| Private room | 3  | Campanet          | 29.00000 |\n",
       "| Private room | 3  | Campos            | 16.00000 |\n",
       "| Private room | 3  | Deyá              |  0.00000 |\n",
       "| Private room | 3  | Inca              | 29.00000 |\n",
       "| Private room | 3  | Llucmajor         | 10.00000 |\n",
       "| Private room | 3  | Mancor de la Vall | 25.00000 |\n",
       "| Private room | 3  | Palma de Mallorca | 10.83333 |\n",
       "| Private room | 3  | Pollença          |  7.00000 |\n",
       "| Private room | 3  | Santa Margalida   |  0.00000 |\n",
       "| Private room | 3  | Sóller            | 27.00000 |\n",
       "| Private room | 4  | Alcúdia           | 14.00000 |\n",
       "| Private room | 4  | Palma de Mallorca | 27.00000 |\n",
       "| Private room | 4  | Pollença          | 23.00000 |\n",
       "| Private room | 5+ | Alaró             |  0.00000 |\n",
       "| Private room | 5+ | Búger             | 21.00000 |\n",
       "| Private room | 5+ | Fornalutx         | 19.00000 |\n",
       "| Private room | 5+ | Manacor           |  0.00000 |\n",
       "| Private room | 5+ | Maria de la Salut | 27.00000 |\n",
       "| Private room | 5+ | Muro              |  0.00000 |\n",
       "| Private room | 5+ | Palma de Mallorca | 28.33333 |\n",
       "| Private room | 5+ | Pollença          | 29.00000 |\n",
       "| Private room | 5+ | Puigpunyent       | 27.00000 |\n",
       "| Private room | 5+ | Selva             | 29.00000 |\n",
       "| Private room | 5+ | Sencelles         | 21.00000 |\n",
       "| Private room | 5+ | Sineu             | 29.00000 |\n",
       "| Shared room  | 1  | Calvià            |  0.00000 |\n",
       "| Shared room  | 1  | Esporles          | 29.00000 |\n",
       "| Shared room  | 1  | Muro              | 28.00000 |\n",
       "| Shared room  | 1  | Palma de Mallorca |  4.60000 |\n",
       "\n"
      ],
      "text/plain": [
       "    room_type       bedrooms neighbourhood_cleansed mean_availability_30\n",
       "1   Entire home/apt 1        Alaró                  22.87500            \n",
       "2   Entire home/apt 1        Alcúdia                21.19481            \n",
       "3   Entire home/apt 1        Algaida                16.44444            \n",
       "4   Entire home/apt 1        Andratx                20.40000            \n",
       "5   Entire home/apt 1        Artà                   17.33333            \n",
       "6   Entire home/apt 1        Banyalbufar            13.66667            \n",
       "7   Entire home/apt 1        Binissalem             17.00000            \n",
       "8   Entire home/apt 1        Búger                   7.00000            \n",
       "9   Entire home/apt 1        Bunyola                11.75000            \n",
       "10  Entire home/apt 1        Calvià                 17.50794            \n",
       "11  Entire home/apt 1        Campanet               20.50000            \n",
       "12  Entire home/apt 1        Campos                 19.12500            \n",
       "13  Entire home/apt 1        Capdepera              21.44737            \n",
       "14  Entire home/apt 1        Costitx                22.09091            \n",
       "15  Entire home/apt 1        Deyá                   19.87500            \n",
       "16  Entire home/apt 1        Escorca                25.00000            \n",
       "17  Entire home/apt 1        Esporles               19.00000            \n",
       "18  Entire home/apt 1        Estellencs             28.00000            \n",
       "19  Entire home/apt 1        Felanitx               15.19565            \n",
       "20  Entire home/apt 1        Fornalutx              16.23077            \n",
       "21  Entire home/apt 1        Inca                   18.10000            \n",
       "22  Entire home/apt 1        Lloret de Vistalegre   20.75000            \n",
       "23  Entire home/apt 1        Lloseta                 9.00000            \n",
       "24  Entire home/apt 1        Llubí                  27.25000            \n",
       "25  Entire home/apt 1        Llucmajor              17.36842            \n",
       "26  Entire home/apt 1        Manacor                16.50000            \n",
       "27  Entire home/apt 1        Mancor de la Vall       0.00000            \n",
       "28  Entire home/apt 1        Maria de la Salut      14.66667            \n",
       "29  Entire home/apt 1        Marratxí               24.40000            \n",
       "30  Entire home/apt 1        Montuïri               25.75000            \n",
       "⋮   ⋮               ⋮        ⋮                      ⋮                   \n",
       "367 Private room    3        Alcúdia                24.00000            \n",
       "368 Private room    3        Campanet               29.00000            \n",
       "369 Private room    3        Campos                 16.00000            \n",
       "370 Private room    3        Deyá                    0.00000            \n",
       "371 Private room    3        Inca                   29.00000            \n",
       "372 Private room    3        Llucmajor              10.00000            \n",
       "373 Private room    3        Mancor de la Vall      25.00000            \n",
       "374 Private room    3        Palma de Mallorca      10.83333            \n",
       "375 Private room    3        Pollença                7.00000            \n",
       "376 Private room    3        Santa Margalida         0.00000            \n",
       "377 Private room    3        Sóller                 27.00000            \n",
       "378 Private room    4        Alcúdia                14.00000            \n",
       "379 Private room    4        Palma de Mallorca      27.00000            \n",
       "380 Private room    4        Pollença               23.00000            \n",
       "381 Private room    5+       Alaró                   0.00000            \n",
       "382 Private room    5+       Búger                  21.00000            \n",
       "383 Private room    5+       Fornalutx              19.00000            \n",
       "384 Private room    5+       Manacor                 0.00000            \n",
       "385 Private room    5+       Maria de la Salut      27.00000            \n",
       "386 Private room    5+       Muro                    0.00000            \n",
       "387 Private room    5+       Palma de Mallorca      28.33333            \n",
       "388 Private room    5+       Pollença               29.00000            \n",
       "389 Private room    5+       Puigpunyent            27.00000            \n",
       "390 Private room    5+       Selva                  29.00000            \n",
       "391 Private room    5+       Sencelles              21.00000            \n",
       "392 Private room    5+       Sineu                  29.00000            \n",
       "393 Shared room     1        Calvià                  0.00000            \n",
       "394 Shared room     1        Esporles               29.00000            \n",
       "395 Shared room     1        Muro                   28.00000            \n",
       "396 Shared room     1        Palma de Mallorca       4.60000            "
      ]
     },
     "metadata": {},
     "output_type": "display_data"
    }
   ],
   "source": [
    "aggregated_availability(selected_city)"
   ]
  },
  {
   "cell_type": "markdown",
   "metadata": {},
   "source": [
    "#### 5. What is the average revenue over the next 30 days for each room type / house size / neighborhood?"
   ]
  },
  {
   "cell_type": "code",
   "execution_count": 38,
   "metadata": {},
   "outputs": [
    {
     "data": {
      "text/html": [
       "<table>\n",
       "<caption>A grouped_df: 396 × 4</caption>\n",
       "<thead>\n",
       "\t<tr><th scope=col>room_type</th><th scope=col>bedrooms</th><th scope=col>neighbourhood_cleansed</th><th scope=col>mean_revenue_30</th></tr>\n",
       "\t<tr><th scope=col>&lt;fct&gt;</th><th scope=col>&lt;chr&gt;</th><th scope=col>&lt;fct&gt;</th><th scope=col>&lt;dbl&gt;</th></tr>\n",
       "</thead>\n",
       "<tbody>\n",
       "\t<tr><td>Entire home/apt</td><td>1</td><td>Alaró               </td><td>1822.2500</td></tr>\n",
       "\t<tr><td>Entire home/apt</td><td>1</td><td>Alcúdia             </td><td> 769.4156</td></tr>\n",
       "\t<tr><td>Entire home/apt</td><td>1</td><td>Algaida             </td><td>1896.8889</td></tr>\n",
       "\t<tr><td>Entire home/apt</td><td>1</td><td>Andratx             </td><td>1077.0000</td></tr>\n",
       "\t<tr><td>Entire home/apt</td><td>1</td><td>Artà                </td><td>1286.3333</td></tr>\n",
       "\t<tr><td>Entire home/apt</td><td>1</td><td>Banyalbufar         </td><td>1745.0000</td></tr>\n",
       "\t<tr><td>Entire home/apt</td><td>1</td><td>Binissalem          </td><td>1727.5000</td></tr>\n",
       "\t<tr><td>Entire home/apt</td><td>1</td><td>Búger               </td><td>2102.5000</td></tr>\n",
       "\t<tr><td>Entire home/apt</td><td>1</td><td>Bunyola             </td><td>1079.5000</td></tr>\n",
       "\t<tr><td>Entire home/apt</td><td>1</td><td>Calvià              </td><td>1172.1429</td></tr>\n",
       "\t<tr><td>Entire home/apt</td><td>1</td><td>Campanet            </td><td> 804.2500</td></tr>\n",
       "\t<tr><td>Entire home/apt</td><td>1</td><td>Campos              </td><td>1072.0000</td></tr>\n",
       "\t<tr><td>Entire home/apt</td><td>1</td><td>Capdepera           </td><td> 885.7895</td></tr>\n",
       "\t<tr><td>Entire home/apt</td><td>1</td><td>Costitx             </td><td>1079.3636</td></tr>\n",
       "\t<tr><td>Entire home/apt</td><td>1</td><td>Deyá                </td><td>1468.3750</td></tr>\n",
       "\t<tr><td>Entire home/apt</td><td>1</td><td>Escorca             </td><td> 460.0000</td></tr>\n",
       "\t<tr><td>Entire home/apt</td><td>1</td><td>Esporles            </td><td> 971.0000</td></tr>\n",
       "\t<tr><td>Entire home/apt</td><td>1</td><td>Estellencs          </td><td> 150.0000</td></tr>\n",
       "\t<tr><td>Entire home/apt</td><td>1</td><td>Felanitx            </td><td>1375.2826</td></tr>\n",
       "\t<tr><td>Entire home/apt</td><td>1</td><td>Fornalutx           </td><td>1517.0769</td></tr>\n",
       "\t<tr><td>Entire home/apt</td><td>1</td><td>Inca                </td><td>1335.9000</td></tr>\n",
       "\t<tr><td>Entire home/apt</td><td>1</td><td>Lloret de Vistalegre</td><td>1083.7500</td></tr>\n",
       "\t<tr><td>Entire home/apt</td><td>1</td><td>Lloseta             </td><td>9895.0000</td></tr>\n",
       "\t<tr><td>Entire home/apt</td><td>1</td><td>Llubí               </td><td> 234.3750</td></tr>\n",
       "\t<tr><td>Entire home/apt</td><td>1</td><td>Llucmajor           </td><td>1254.9737</td></tr>\n",
       "\t<tr><td>Entire home/apt</td><td>1</td><td>Manacor             </td><td>1248.9500</td></tr>\n",
       "\t<tr><td>Entire home/apt</td><td>1</td><td>Mancor de la Vall   </td><td>4626.0000</td></tr>\n",
       "\t<tr><td>Entire home/apt</td><td>1</td><td>Maria de la Salut   </td><td>1241.3333</td></tr>\n",
       "\t<tr><td>Entire home/apt</td><td>1</td><td>Marratxí            </td><td> 390.8000</td></tr>\n",
       "\t<tr><td>Entire home/apt</td><td>1</td><td>Montuïri            </td><td> 455.5000</td></tr>\n",
       "\t<tr><td>⋮</td><td>⋮</td><td>⋮</td><td>⋮</td></tr>\n",
       "\t<tr><td>Private room</td><td>3 </td><td>Alcúdia          </td><td>  624.00000</td></tr>\n",
       "\t<tr><td>Private room</td><td>3 </td><td>Campanet         </td><td>   39.00000</td></tr>\n",
       "\t<tr><td>Private room</td><td>3 </td><td>Campos           </td><td> 4564.00000</td></tr>\n",
       "\t<tr><td>Private room</td><td>3 </td><td>Deyá             </td><td> 3000.00000</td></tr>\n",
       "\t<tr><td>Private room</td><td>3 </td><td>Inca             </td><td>   50.00000</td></tr>\n",
       "\t<tr><td>Private room</td><td>3 </td><td>Llucmajor        </td><td> 3664.50000</td></tr>\n",
       "\t<tr><td>Private room</td><td>3 </td><td>Mancor de la Vall</td><td> 1269.00000</td></tr>\n",
       "\t<tr><td>Private room</td><td>3 </td><td>Palma de Mallorca</td><td> 1735.50000</td></tr>\n",
       "\t<tr><td>Private room</td><td>3 </td><td>Pollença         </td><td> 1656.00000</td></tr>\n",
       "\t<tr><td>Private room</td><td>3 </td><td>Santa Margalida  </td><td>  630.00000</td></tr>\n",
       "\t<tr><td>Private room</td><td>3 </td><td>Sóller           </td><td>  147.00000</td></tr>\n",
       "\t<tr><td>Private room</td><td>4 </td><td>Alcúdia          </td><td> 5520.00000</td></tr>\n",
       "\t<tr><td>Private room</td><td>4 </td><td>Palma de Mallorca</td><td>  786.00000</td></tr>\n",
       "\t<tr><td>Private room</td><td>4 </td><td>Pollença         </td><td> 2275.00000</td></tr>\n",
       "\t<tr><td>Private room</td><td>5+</td><td>Alaró            </td><td> 5400.00000</td></tr>\n",
       "\t<tr><td>Private room</td><td>5+</td><td>Búger            </td><td> 2565.00000</td></tr>\n",
       "\t<tr><td>Private room</td><td>5+</td><td>Fornalutx        </td><td> 5335.00000</td></tr>\n",
       "\t<tr><td>Private room</td><td>5+</td><td>Manacor          </td><td>28200.00000</td></tr>\n",
       "\t<tr><td>Private room</td><td>5+</td><td>Maria de la Salut</td><td>  240.00000</td></tr>\n",
       "\t<tr><td>Private room</td><td>5+</td><td>Muro             </td><td> 4606.00000</td></tr>\n",
       "\t<tr><td>Private room</td><td>5+</td><td>Palma de Mallorca</td><td>   56.66667</td></tr>\n",
       "\t<tr><td>Private room</td><td>5+</td><td>Pollença         </td><td>  165.00000</td></tr>\n",
       "\t<tr><td>Private room</td><td>5+</td><td>Puigpunyent      </td><td> 1850.00000</td></tr>\n",
       "\t<tr><td>Private room</td><td>5+</td><td>Selva            </td><td>  170.00000</td></tr>\n",
       "\t<tr><td>Private room</td><td>5+</td><td>Sencelles        </td><td>14260.00000</td></tr>\n",
       "\t<tr><td>Private room</td><td>5+</td><td>Sineu            </td><td>   99.00000</td></tr>\n",
       "\t<tr><td>Shared room </td><td>1 </td><td>Calvià           </td><td>  600.00000</td></tr>\n",
       "\t<tr><td>Shared room </td><td>1 </td><td>Esporles         </td><td>  242.50000</td></tr>\n",
       "\t<tr><td>Shared room </td><td>1 </td><td>Muro             </td><td>  280.00000</td></tr>\n",
       "\t<tr><td>Shared room </td><td>1 </td><td>Palma de Mallorca</td><td> 1552.60000</td></tr>\n",
       "</tbody>\n",
       "</table>\n"
      ],
      "text/latex": [
       "A grouped_df: 396 × 4\n",
       "\\begin{tabular}{r|llll}\n",
       " room\\_type & bedrooms & neighbourhood\\_cleansed & mean\\_revenue\\_30\\\\\n",
       " <fct> & <chr> & <fct> & <dbl>\\\\\n",
       "\\hline\n",
       "\t Entire home/apt & 1 & Alaró                & 1822.2500\\\\\n",
       "\t Entire home/apt & 1 & Alcúdia              &  769.4156\\\\\n",
       "\t Entire home/apt & 1 & Algaida              & 1896.8889\\\\\n",
       "\t Entire home/apt & 1 & Andratx              & 1077.0000\\\\\n",
       "\t Entire home/apt & 1 & Artà                 & 1286.3333\\\\\n",
       "\t Entire home/apt & 1 & Banyalbufar          & 1745.0000\\\\\n",
       "\t Entire home/apt & 1 & Binissalem           & 1727.5000\\\\\n",
       "\t Entire home/apt & 1 & Búger                & 2102.5000\\\\\n",
       "\t Entire home/apt & 1 & Bunyola              & 1079.5000\\\\\n",
       "\t Entire home/apt & 1 & Calvià               & 1172.1429\\\\\n",
       "\t Entire home/apt & 1 & Campanet             &  804.2500\\\\\n",
       "\t Entire home/apt & 1 & Campos               & 1072.0000\\\\\n",
       "\t Entire home/apt & 1 & Capdepera            &  885.7895\\\\\n",
       "\t Entire home/apt & 1 & Costitx              & 1079.3636\\\\\n",
       "\t Entire home/apt & 1 & Deyá                 & 1468.3750\\\\\n",
       "\t Entire home/apt & 1 & Escorca              &  460.0000\\\\\n",
       "\t Entire home/apt & 1 & Esporles             &  971.0000\\\\\n",
       "\t Entire home/apt & 1 & Estellencs           &  150.0000\\\\\n",
       "\t Entire home/apt & 1 & Felanitx             & 1375.2826\\\\\n",
       "\t Entire home/apt & 1 & Fornalutx            & 1517.0769\\\\\n",
       "\t Entire home/apt & 1 & Inca                 & 1335.9000\\\\\n",
       "\t Entire home/apt & 1 & Lloret de Vistalegre & 1083.7500\\\\\n",
       "\t Entire home/apt & 1 & Lloseta              & 9895.0000\\\\\n",
       "\t Entire home/apt & 1 & Llubí                &  234.3750\\\\\n",
       "\t Entire home/apt & 1 & Llucmajor            & 1254.9737\\\\\n",
       "\t Entire home/apt & 1 & Manacor              & 1248.9500\\\\\n",
       "\t Entire home/apt & 1 & Mancor de la Vall    & 4626.0000\\\\\n",
       "\t Entire home/apt & 1 & Maria de la Salut    & 1241.3333\\\\\n",
       "\t Entire home/apt & 1 & Marratxí             &  390.8000\\\\\n",
       "\t Entire home/apt & 1 & Montuïri             &  455.5000\\\\\n",
       "\t ⋮ & ⋮ & ⋮ & ⋮\\\\\n",
       "\t Private room & 3  & Alcúdia           &   624.00000\\\\\n",
       "\t Private room & 3  & Campanet          &    39.00000\\\\\n",
       "\t Private room & 3  & Campos            &  4564.00000\\\\\n",
       "\t Private room & 3  & Deyá              &  3000.00000\\\\\n",
       "\t Private room & 3  & Inca              &    50.00000\\\\\n",
       "\t Private room & 3  & Llucmajor         &  3664.50000\\\\\n",
       "\t Private room & 3  & Mancor de la Vall &  1269.00000\\\\\n",
       "\t Private room & 3  & Palma de Mallorca &  1735.50000\\\\\n",
       "\t Private room & 3  & Pollença          &  1656.00000\\\\\n",
       "\t Private room & 3  & Santa Margalida   &   630.00000\\\\\n",
       "\t Private room & 3  & Sóller            &   147.00000\\\\\n",
       "\t Private room & 4  & Alcúdia           &  5520.00000\\\\\n",
       "\t Private room & 4  & Palma de Mallorca &   786.00000\\\\\n",
       "\t Private room & 4  & Pollença          &  2275.00000\\\\\n",
       "\t Private room & 5+ & Alaró             &  5400.00000\\\\\n",
       "\t Private room & 5+ & Búger             &  2565.00000\\\\\n",
       "\t Private room & 5+ & Fornalutx         &  5335.00000\\\\\n",
       "\t Private room & 5+ & Manacor           & 28200.00000\\\\\n",
       "\t Private room & 5+ & Maria de la Salut &   240.00000\\\\\n",
       "\t Private room & 5+ & Muro              &  4606.00000\\\\\n",
       "\t Private room & 5+ & Palma de Mallorca &    56.66667\\\\\n",
       "\t Private room & 5+ & Pollença          &   165.00000\\\\\n",
       "\t Private room & 5+ & Puigpunyent       &  1850.00000\\\\\n",
       "\t Private room & 5+ & Selva             &   170.00000\\\\\n",
       "\t Private room & 5+ & Sencelles         & 14260.00000\\\\\n",
       "\t Private room & 5+ & Sineu             &    99.00000\\\\\n",
       "\t Shared room  & 1  & Calvià            &   600.00000\\\\\n",
       "\t Shared room  & 1  & Esporles          &   242.50000\\\\\n",
       "\t Shared room  & 1  & Muro              &   280.00000\\\\\n",
       "\t Shared room  & 1  & Palma de Mallorca &  1552.60000\\\\\n",
       "\\end{tabular}\n"
      ],
      "text/markdown": [
       "\n",
       "A grouped_df: 396 × 4\n",
       "\n",
       "| room_type &lt;fct&gt; | bedrooms &lt;chr&gt; | neighbourhood_cleansed &lt;fct&gt; | mean_revenue_30 &lt;dbl&gt; |\n",
       "|---|---|---|---|\n",
       "| Entire home/apt | 1 | Alaró                | 1822.2500 |\n",
       "| Entire home/apt | 1 | Alcúdia              |  769.4156 |\n",
       "| Entire home/apt | 1 | Algaida              | 1896.8889 |\n",
       "| Entire home/apt | 1 | Andratx              | 1077.0000 |\n",
       "| Entire home/apt | 1 | Artà                 | 1286.3333 |\n",
       "| Entire home/apt | 1 | Banyalbufar          | 1745.0000 |\n",
       "| Entire home/apt | 1 | Binissalem           | 1727.5000 |\n",
       "| Entire home/apt | 1 | Búger                | 2102.5000 |\n",
       "| Entire home/apt | 1 | Bunyola              | 1079.5000 |\n",
       "| Entire home/apt | 1 | Calvià               | 1172.1429 |\n",
       "| Entire home/apt | 1 | Campanet             |  804.2500 |\n",
       "| Entire home/apt | 1 | Campos               | 1072.0000 |\n",
       "| Entire home/apt | 1 | Capdepera            |  885.7895 |\n",
       "| Entire home/apt | 1 | Costitx              | 1079.3636 |\n",
       "| Entire home/apt | 1 | Deyá                 | 1468.3750 |\n",
       "| Entire home/apt | 1 | Escorca              |  460.0000 |\n",
       "| Entire home/apt | 1 | Esporles             |  971.0000 |\n",
       "| Entire home/apt | 1 | Estellencs           |  150.0000 |\n",
       "| Entire home/apt | 1 | Felanitx             | 1375.2826 |\n",
       "| Entire home/apt | 1 | Fornalutx            | 1517.0769 |\n",
       "| Entire home/apt | 1 | Inca                 | 1335.9000 |\n",
       "| Entire home/apt | 1 | Lloret de Vistalegre | 1083.7500 |\n",
       "| Entire home/apt | 1 | Lloseta              | 9895.0000 |\n",
       "| Entire home/apt | 1 | Llubí                |  234.3750 |\n",
       "| Entire home/apt | 1 | Llucmajor            | 1254.9737 |\n",
       "| Entire home/apt | 1 | Manacor              | 1248.9500 |\n",
       "| Entire home/apt | 1 | Mancor de la Vall    | 4626.0000 |\n",
       "| Entire home/apt | 1 | Maria de la Salut    | 1241.3333 |\n",
       "| Entire home/apt | 1 | Marratxí             |  390.8000 |\n",
       "| Entire home/apt | 1 | Montuïri             |  455.5000 |\n",
       "| ⋮ | ⋮ | ⋮ | ⋮ |\n",
       "| Private room | 3  | Alcúdia           |   624.00000 |\n",
       "| Private room | 3  | Campanet          |    39.00000 |\n",
       "| Private room | 3  | Campos            |  4564.00000 |\n",
       "| Private room | 3  | Deyá              |  3000.00000 |\n",
       "| Private room | 3  | Inca              |    50.00000 |\n",
       "| Private room | 3  | Llucmajor         |  3664.50000 |\n",
       "| Private room | 3  | Mancor de la Vall |  1269.00000 |\n",
       "| Private room | 3  | Palma de Mallorca |  1735.50000 |\n",
       "| Private room | 3  | Pollença          |  1656.00000 |\n",
       "| Private room | 3  | Santa Margalida   |   630.00000 |\n",
       "| Private room | 3  | Sóller            |   147.00000 |\n",
       "| Private room | 4  | Alcúdia           |  5520.00000 |\n",
       "| Private room | 4  | Palma de Mallorca |   786.00000 |\n",
       "| Private room | 4  | Pollença          |  2275.00000 |\n",
       "| Private room | 5+ | Alaró             |  5400.00000 |\n",
       "| Private room | 5+ | Búger             |  2565.00000 |\n",
       "| Private room | 5+ | Fornalutx         |  5335.00000 |\n",
       "| Private room | 5+ | Manacor           | 28200.00000 |\n",
       "| Private room | 5+ | Maria de la Salut |   240.00000 |\n",
       "| Private room | 5+ | Muro              |  4606.00000 |\n",
       "| Private room | 5+ | Palma de Mallorca |    56.66667 |\n",
       "| Private room | 5+ | Pollença          |   165.00000 |\n",
       "| Private room | 5+ | Puigpunyent       |  1850.00000 |\n",
       "| Private room | 5+ | Selva             |   170.00000 |\n",
       "| Private room | 5+ | Sencelles         | 14260.00000 |\n",
       "| Private room | 5+ | Sineu             |    99.00000 |\n",
       "| Shared room  | 1  | Calvià            |   600.00000 |\n",
       "| Shared room  | 1  | Esporles          |   242.50000 |\n",
       "| Shared room  | 1  | Muro              |   280.00000 |\n",
       "| Shared room  | 1  | Palma de Mallorca |  1552.60000 |\n",
       "\n"
      ],
      "text/plain": [
       "    room_type       bedrooms neighbourhood_cleansed mean_revenue_30\n",
       "1   Entire home/apt 1        Alaró                  1822.2500      \n",
       "2   Entire home/apt 1        Alcúdia                 769.4156      \n",
       "3   Entire home/apt 1        Algaida                1896.8889      \n",
       "4   Entire home/apt 1        Andratx                1077.0000      \n",
       "5   Entire home/apt 1        Artà                   1286.3333      \n",
       "6   Entire home/apt 1        Banyalbufar            1745.0000      \n",
       "7   Entire home/apt 1        Binissalem             1727.5000      \n",
       "8   Entire home/apt 1        Búger                  2102.5000      \n",
       "9   Entire home/apt 1        Bunyola                1079.5000      \n",
       "10  Entire home/apt 1        Calvià                 1172.1429      \n",
       "11  Entire home/apt 1        Campanet                804.2500      \n",
       "12  Entire home/apt 1        Campos                 1072.0000      \n",
       "13  Entire home/apt 1        Capdepera               885.7895      \n",
       "14  Entire home/apt 1        Costitx                1079.3636      \n",
       "15  Entire home/apt 1        Deyá                   1468.3750      \n",
       "16  Entire home/apt 1        Escorca                 460.0000      \n",
       "17  Entire home/apt 1        Esporles                971.0000      \n",
       "18  Entire home/apt 1        Estellencs              150.0000      \n",
       "19  Entire home/apt 1        Felanitx               1375.2826      \n",
       "20  Entire home/apt 1        Fornalutx              1517.0769      \n",
       "21  Entire home/apt 1        Inca                   1335.9000      \n",
       "22  Entire home/apt 1        Lloret de Vistalegre   1083.7500      \n",
       "23  Entire home/apt 1        Lloseta                9895.0000      \n",
       "24  Entire home/apt 1        Llubí                   234.3750      \n",
       "25  Entire home/apt 1        Llucmajor              1254.9737      \n",
       "26  Entire home/apt 1        Manacor                1248.9500      \n",
       "27  Entire home/apt 1        Mancor de la Vall      4626.0000      \n",
       "28  Entire home/apt 1        Maria de la Salut      1241.3333      \n",
       "29  Entire home/apt 1        Marratxí                390.8000      \n",
       "30  Entire home/apt 1        Montuïri                455.5000      \n",
       "⋮   ⋮               ⋮        ⋮                      ⋮              \n",
       "367 Private room    3        Alcúdia                  624.00000    \n",
       "368 Private room    3        Campanet                  39.00000    \n",
       "369 Private room    3        Campos                  4564.00000    \n",
       "370 Private room    3        Deyá                    3000.00000    \n",
       "371 Private room    3        Inca                      50.00000    \n",
       "372 Private room    3        Llucmajor               3664.50000    \n",
       "373 Private room    3        Mancor de la Vall       1269.00000    \n",
       "374 Private room    3        Palma de Mallorca       1735.50000    \n",
       "375 Private room    3        Pollença                1656.00000    \n",
       "376 Private room    3        Santa Margalida          630.00000    \n",
       "377 Private room    3        Sóller                   147.00000    \n",
       "378 Private room    4        Alcúdia                 5520.00000    \n",
       "379 Private room    4        Palma de Mallorca        786.00000    \n",
       "380 Private room    4        Pollença                2275.00000    \n",
       "381 Private room    5+       Alaró                   5400.00000    \n",
       "382 Private room    5+       Búger                   2565.00000    \n",
       "383 Private room    5+       Fornalutx               5335.00000    \n",
       "384 Private room    5+       Manacor                28200.00000    \n",
       "385 Private room    5+       Maria de la Salut        240.00000    \n",
       "386 Private room    5+       Muro                    4606.00000    \n",
       "387 Private room    5+       Palma de Mallorca         56.66667    \n",
       "388 Private room    5+       Pollença                 165.00000    \n",
       "389 Private room    5+       Puigpunyent             1850.00000    \n",
       "390 Private room    5+       Selva                    170.00000    \n",
       "391 Private room    5+       Sencelles              14260.00000    \n",
       "392 Private room    5+       Sineu                     99.00000    \n",
       "393 Shared room     1        Calvià                   600.00000    \n",
       "394 Shared room     1        Esporles                 242.50000    \n",
       "395 Shared room     1        Muro                     280.00000    \n",
       "396 Shared room     1        Palma de Mallorca       1552.60000    "
      ]
     },
     "metadata": {},
     "output_type": "display_data"
    }
   ],
   "source": [
    "aggregated_revenue(selected_city)"
   ]
  },
  {
   "cell_type": "markdown",
   "metadata": {},
   "source": [
    "#### 6. What is the distribution of availability over the next 30 days for each room type/ house size / neighborhood?"
   ]
  },
  {
   "cell_type": "code",
   "execution_count": 39,
   "metadata": {},
   "outputs": [
    {
     "data": {
      "image/png": "[encoded data removed]",
      "text/plain": [
       "plot without title"
      ]
     },
     "metadata": {},
     "output_type": "display_data"
    }
   ],
   "source": [
    "availability_plotting(selected_city)"
   ]
  },
  {
   "cell_type": "markdown",
   "metadata": {},
   "source": [
    "#### 7. What is the distribution of revenue over the next 30 days for each room type / house size / neighborhood? "
   ]
  },
  {
   "cell_type": "code",
   "execution_count": 40,
   "metadata": {},
   "outputs": [
    {
     "data": {
      "image/png": "[encoded data removed]",
      "text/plain": [
       "plot without title"
      ]
     },
     "metadata": {},
     "output_type": "display_data"
    }
   ],
   "source": [
    "revenue_plotting(selected_city)"
   ]
  },
  {
   "cell_type": "markdown",
   "metadata": {},
   "source": [
    "### C. Sevilla"
   ]
  },
  {
   "cell_type": "code",
   "execution_count": 41,
   "metadata": {},
   "outputs": [
    {
     "data": {
      "text/html": [
       "'sevilla'"
      ],
      "text/latex": [
       "'sevilla'"
      ],
      "text/markdown": [
       "'sevilla'"
      ],
      "text/plain": [
       "[1] \"sevilla\""
      ]
     },
     "metadata": {},
     "output_type": "display_data"
    }
   ],
   "source": [
    "selected_city <- 'sevilla'\n",
    "selected_city"
   ]
  },
  {
   "cell_type": "markdown",
   "metadata": {},
   "source": [
    "#### 1. What is the proportion of each room type?"
   ]
  },
  {
   "cell_type": "code",
   "execution_count": 42,
   "metadata": {},
   "outputs": [
    {
     "data": {
      "text/html": [
       "<table>\n",
       "<caption>A tibble: 4 × 3</caption>\n",
       "<thead>\n",
       "\t<tr><th scope=col>room_type</th><th scope=col>nb_rooms</th><th scope=col>freq</th></tr>\n",
       "\t<tr><th scope=col>&lt;fct&gt;</th><th scope=col>&lt;int&gt;</th><th scope=col>&lt;dbl&gt;</th></tr>\n",
       "</thead>\n",
       "<tbody>\n",
       "\t<tr><td>Entire home/apt</td><td>3652</td><td>0.783859197</td></tr>\n",
       "\t<tr><td>Hotel room     </td><td>  83</td><td>0.017814982</td></tr>\n",
       "\t<tr><td>Private room   </td><td> 916</td><td>0.196608714</td></tr>\n",
       "\t<tr><td>Shared room    </td><td>   8</td><td>0.001717107</td></tr>\n",
       "</tbody>\n",
       "</table>\n"
      ],
      "text/latex": [
       "A tibble: 4 × 3\n",
       "\\begin{tabular}{r|lll}\n",
       " room\\_type & nb\\_rooms & freq\\\\\n",
       " <fct> & <int> & <dbl>\\\\\n",
       "\\hline\n",
       "\t Entire home/apt & 3652 & 0.783859197\\\\\n",
       "\t Hotel room      &   83 & 0.017814982\\\\\n",
       "\t Private room    &  916 & 0.196608714\\\\\n",
       "\t Shared room     &    8 & 0.001717107\\\\\n",
       "\\end{tabular}\n"
      ],
      "text/markdown": [
       "\n",
       "A tibble: 4 × 3\n",
       "\n",
       "| room_type &lt;fct&gt; | nb_rooms &lt;int&gt; | freq &lt;dbl&gt; |\n",
       "|---|---|---|\n",
       "| Entire home/apt | 3652 | 0.783859197 |\n",
       "| Hotel room      |   83 | 0.017814982 |\n",
       "| Private room    |  916 | 0.196608714 |\n",
       "| Shared room     |    8 | 0.001717107 |\n",
       "\n"
      ],
      "text/plain": [
       "  room_type       nb_rooms freq       \n",
       "1 Entire home/apt 3652     0.783859197\n",
       "2 Hotel room        83     0.017814982\n",
       "3 Private room     916     0.196608714\n",
       "4 Shared room        8     0.001717107"
      ]
     },
     "metadata": {},
     "output_type": "display_data"
    }
   ],
   "source": [
    "aggregated_room_types(selected_city)"
   ]
  },
  {
   "cell_type": "markdown",
   "metadata": {},
   "source": [
    "#### 2. What is the proportion of each house size (# of bedroom)?"
   ]
  },
  {
   "cell_type": "code",
   "execution_count": 43,
   "metadata": {},
   "outputs": [
    {
     "data": {
      "text/html": [
       "<table>\n",
       "<caption>A tibble: 5 × 3</caption>\n",
       "<thead>\n",
       "\t<tr><th scope=col>bedrooms</th><th scope=col>houze_size</th><th scope=col>freq</th></tr>\n",
       "\t<tr><th scope=col>&lt;chr&gt;</th><th scope=col>&lt;int&gt;</th><th scope=col>&lt;dbl&gt;</th></tr>\n",
       "</thead>\n",
       "<tbody>\n",
       "\t<tr><td>1 </td><td>2565</td><td>0.55054733</td></tr>\n",
       "\t<tr><td>2 </td><td>1406</td><td>0.30178150</td></tr>\n",
       "\t<tr><td>3 </td><td> 521</td><td>0.11182657</td></tr>\n",
       "\t<tr><td>4 </td><td> 111</td><td>0.02382486</td></tr>\n",
       "\t<tr><td>5+</td><td>  56</td><td>0.01201975</td></tr>\n",
       "</tbody>\n",
       "</table>\n"
      ],
      "text/latex": [
       "A tibble: 5 × 3\n",
       "\\begin{tabular}{r|lll}\n",
       " bedrooms & houze\\_size & freq\\\\\n",
       " <chr> & <int> & <dbl>\\\\\n",
       "\\hline\n",
       "\t 1  & 2565 & 0.55054733\\\\\n",
       "\t 2  & 1406 & 0.30178150\\\\\n",
       "\t 3  &  521 & 0.11182657\\\\\n",
       "\t 4  &  111 & 0.02382486\\\\\n",
       "\t 5+ &   56 & 0.01201975\\\\\n",
       "\\end{tabular}\n"
      ],
      "text/markdown": [
       "\n",
       "A tibble: 5 × 3\n",
       "\n",
       "| bedrooms &lt;chr&gt; | houze_size &lt;int&gt; | freq &lt;dbl&gt; |\n",
       "|---|---|---|\n",
       "| 1  | 2565 | 0.55054733 |\n",
       "| 2  | 1406 | 0.30178150 |\n",
       "| 3  |  521 | 0.11182657 |\n",
       "| 4  |  111 | 0.02382486 |\n",
       "| 5+ |   56 | 0.01201975 |\n",
       "\n"
      ],
      "text/plain": [
       "  bedrooms houze_size freq      \n",
       "1 1        2565       0.55054733\n",
       "2 2        1406       0.30178150\n",
       "3 3         521       0.11182657\n",
       "4 4         111       0.02382486\n",
       "5 5+         56       0.01201975"
      ]
     },
     "metadata": {},
     "output_type": "display_data"
    }
   ],
   "source": [
    "aggregated_house_size(selected_city)"
   ]
  },
  {
   "cell_type": "markdown",
   "metadata": {},
   "source": [
    "#### 3. What is the proportion of each neighborhood?"
   ]
  },
  {
   "cell_type": "code",
   "execution_count": 44,
   "metadata": {},
   "outputs": [
    {
     "data": {
      "text/html": [
       "<table>\n",
       "<caption>A tibble: 102 × 3</caption>\n",
       "<thead>\n",
       "\t<tr><th scope=col>neighbourhood_cleansed</th><th scope=col>ngbh</th><th scope=col>freq</th></tr>\n",
       "\t<tr><th scope=col>&lt;fct&gt;</th><th scope=col>&lt;int&gt;</th><th scope=col>&lt;dbl&gt;</th></tr>\n",
       "</thead>\n",
       "<tbody>\n",
       "\t<tr><td>Alfalfa                                          </td><td>492</td><td>0.1056020605</td></tr>\n",
       "\t<tr><td>Amate                                            </td><td>  4</td><td>0.0008585533</td></tr>\n",
       "\t<tr><td>an Roque                                         </td><td> 53</td><td>0.0113758317</td></tr>\n",
       "\t<tr><td>Arbol Gordo                                      </td><td>  1</td><td>0.0002146383</td></tr>\n",
       "\t<tr><td>Arenal                                           </td><td>351</td><td>0.0753380554</td></tr>\n",
       "\t<tr><td>Avda. de la Paz                                  </td><td>  4</td><td>0.0008585533</td></tr>\n",
       "\t<tr><td>Bami                                             </td><td>  4</td><td>0.0008585533</td></tr>\n",
       "\t<tr><td>Barrio León                                      </td><td> 14</td><td>0.0030049367</td></tr>\n",
       "\t<tr><td>Bda. de Pineda                                   </td><td>  4</td><td>0.0008585533</td></tr>\n",
       "\t<tr><td>Bda. Pino Montano                                </td><td> 16</td><td>0.0034342134</td></tr>\n",
       "\t<tr><td>Begoña, Santa Catalina                           </td><td>  5</td><td>0.0010731917</td></tr>\n",
       "\t<tr><td>Bellavista                                       </td><td>  9</td><td>0.0019317450</td></tr>\n",
       "\t<tr><td>Campos de Soria                                  </td><td>  2</td><td>0.0004292767</td></tr>\n",
       "\t<tr><td>Carretera de Carmona, María Auxiliadora, Fontanal</td><td> 30</td><td>0.0064391500</td></tr>\n",
       "\t<tr><td>Cisneo Alto, Santa María de Graccia              </td><td>  1</td><td>0.0002146383</td></tr>\n",
       "\t<tr><td>Ciudad Jardín                                    </td><td> 10</td><td>0.0021463833</td></tr>\n",
       "\t<tr><td>Colores, Entreparques                            </td><td> 33</td><td>0.0070830650</td></tr>\n",
       "\t<tr><td>Consolación                                      </td><td>  6</td><td>0.0012878300</td></tr>\n",
       "\t<tr><td>Cruz Roja, Capuchinos                            </td><td> 20</td><td>0.0042927667</td></tr>\n",
       "\t<tr><td>Doctor Barraquer, G. Renfe, Policlínico          </td><td> 21</td><td>0.0045074050</td></tr>\n",
       "\t<tr><td>El Cano, Los Bermejales                          </td><td>  6</td><td>0.0012878300</td></tr>\n",
       "\t<tr><td>El Carmen                                        </td><td>  7</td><td>0.0015024683</td></tr>\n",
       "\t<tr><td>El Cerro                                         </td><td> 17</td><td>0.0036488517</td></tr>\n",
       "\t<tr><td>El Juncal, Híspalis                              </td><td>  2</td><td>0.0004292767</td></tr>\n",
       "\t<tr><td>El Plantinar                                     </td><td>  5</td><td>0.0010731917</td></tr>\n",
       "\t<tr><td>El Porvenir                                      </td><td> 22</td><td>0.0047220434</td></tr>\n",
       "\t<tr><td>El Rocío                                         </td><td>  3</td><td>0.0006439150</td></tr>\n",
       "\t<tr><td>El Tardón, El Carmen                             </td><td> 34</td><td>0.0072977034</td></tr>\n",
       "\t<tr><td>El Torrejón, El Cerezo                           </td><td>  6</td><td>0.0012878300</td></tr>\n",
       "\t<tr><td>Encarnación, Regina                              </td><td>266</td><td>0.0570937970</td></tr>\n",
       "\t<tr><td>⋮</td><td>⋮</td><td>⋮</td></tr>\n",
       "\t<tr><td>Rochelambert                                    </td><td>  5</td><td>0.0010731917</td></tr>\n",
       "\t<tr><td>San Bartolomé                                   </td><td>322</td><td>0.0691135437</td></tr>\n",
       "\t<tr><td>San Bernardo                                    </td><td> 73</td><td>0.0156685984</td></tr>\n",
       "\t<tr><td>San Carlos, Tartessos                           </td><td>  3</td><td>0.0006439150</td></tr>\n",
       "\t<tr><td>San Diego                                       </td><td>  3</td><td>0.0006439150</td></tr>\n",
       "\t<tr><td>San Gil                                         </td><td>206</td><td>0.0442154969</td></tr>\n",
       "\t<tr><td>San Jerónimo                                    </td><td> 11</td><td>0.0023610217</td></tr>\n",
       "\t<tr><td>San José Obrero                                 </td><td> 39</td><td>0.0083708950</td></tr>\n",
       "\t<tr><td>San Julián                                      </td><td>144</td><td>0.0309079202</td></tr>\n",
       "\t<tr><td>San Lorenzo                                     </td><td>171</td><td>0.0367031552</td></tr>\n",
       "\t<tr><td>San Matías                                      </td><td>  1</td><td>0.0002146383</td></tr>\n",
       "\t<tr><td>San Pablo A y B                                 </td><td>  9</td><td>0.0019317450</td></tr>\n",
       "\t<tr><td>San Pablo C                                     </td><td>  1</td><td>0.0002146383</td></tr>\n",
       "\t<tr><td>San Pablo D y E                                 </td><td>  6</td><td>0.0012878300</td></tr>\n",
       "\t<tr><td>San Vicente                                     </td><td>209</td><td>0.0448594119</td></tr>\n",
       "\t<tr><td>Santa Aurelia, Cantábrico, Atlántico, La Romería</td><td>  7</td><td>0.0015024683</td></tr>\n",
       "\t<tr><td>Santa Catalina                                  </td><td>165</td><td>0.0354153252</td></tr>\n",
       "\t<tr><td>Santa Clara                                     </td><td>  8</td><td>0.0017171067</td></tr>\n",
       "\t<tr><td>Santa Cruz                                      </td><td>327</td><td>0.0701867354</td></tr>\n",
       "\t<tr><td>Santa Justa y Rufina, Parque Miraflores         </td><td>  1</td><td>0.0002146383</td></tr>\n",
       "\t<tr><td>Santa María de Ordas, San Nicolas               </td><td>  1</td><td>0.0002146383</td></tr>\n",
       "\t<tr><td>Sector Sur, La Palmera, Reina Mercedes          </td><td> 18</td><td>0.0038634900</td></tr>\n",
       "\t<tr><td>Tablada                                         </td><td>  6</td><td>0.0012878300</td></tr>\n",
       "\t<tr><td>Tabladilla, La Estrella                         </td><td>  4</td><td>0.0008585533</td></tr>\n",
       "\t<tr><td>Tiro de Línea, Santa Genoveva                   </td><td> 14</td><td>0.0030049367</td></tr>\n",
       "\t<tr><td>Triana Casco Antiguo                            </td><td>264</td><td>0.0566645203</td></tr>\n",
       "\t<tr><td>Triana Este                                     </td><td>113</td><td>0.0242541318</td></tr>\n",
       "\t<tr><td>Triana Oeste                                    </td><td>108</td><td>0.0231809401</td></tr>\n",
       "\t<tr><td>Valdezorras                                     </td><td>  4</td><td>0.0008585533</td></tr>\n",
       "\t<tr><td>Villegas                                        </td><td>  3</td><td>0.0006439150</td></tr>\n",
       "</tbody>\n",
       "</table>\n"
      ],
      "text/latex": [
       "A tibble: 102 × 3\n",
       "\\begin{tabular}{r|lll}\n",
       " neighbourhood\\_cleansed & ngbh & freq\\\\\n",
       " <fct> & <int> & <dbl>\\\\\n",
       "\\hline\n",
       "\t Alfalfa                                           & 492 & 0.1056020605\\\\\n",
       "\t Amate                                             &   4 & 0.0008585533\\\\\n",
       "\t an Roque                                          &  53 & 0.0113758317\\\\\n",
       "\t Arbol Gordo                                       &   1 & 0.0002146383\\\\\n",
       "\t Arenal                                            & 351 & 0.0753380554\\\\\n",
       "\t Avda. de la Paz                                   &   4 & 0.0008585533\\\\\n",
       "\t Bami                                              &   4 & 0.0008585533\\\\\n",
       "\t Barrio León                                       &  14 & 0.0030049367\\\\\n",
       "\t Bda. de Pineda                                    &   4 & 0.0008585533\\\\\n",
       "\t Bda. Pino Montano                                 &  16 & 0.0034342134\\\\\n",
       "\t Begoña, Santa Catalina                            &   5 & 0.0010731917\\\\\n",
       "\t Bellavista                                        &   9 & 0.0019317450\\\\\n",
       "\t Campos de Soria                                   &   2 & 0.0004292767\\\\\n",
       "\t Carretera de Carmona, María Auxiliadora, Fontanal &  30 & 0.0064391500\\\\\n",
       "\t Cisneo Alto, Santa María de Graccia               &   1 & 0.0002146383\\\\\n",
       "\t Ciudad Jardín                                     &  10 & 0.0021463833\\\\\n",
       "\t Colores, Entreparques                             &  33 & 0.0070830650\\\\\n",
       "\t Consolación                                       &   6 & 0.0012878300\\\\\n",
       "\t Cruz Roja, Capuchinos                             &  20 & 0.0042927667\\\\\n",
       "\t Doctor Barraquer, G. Renfe, Policlínico           &  21 & 0.0045074050\\\\\n",
       "\t El Cano, Los Bermejales                           &   6 & 0.0012878300\\\\\n",
       "\t El Carmen                                         &   7 & 0.0015024683\\\\\n",
       "\t El Cerro                                          &  17 & 0.0036488517\\\\\n",
       "\t El Juncal, Híspalis                               &   2 & 0.0004292767\\\\\n",
       "\t El Plantinar                                      &   5 & 0.0010731917\\\\\n",
       "\t El Porvenir                                       &  22 & 0.0047220434\\\\\n",
       "\t El Rocío                                          &   3 & 0.0006439150\\\\\n",
       "\t El Tardón, El Carmen                              &  34 & 0.0072977034\\\\\n",
       "\t El Torrejón, El Cerezo                            &   6 & 0.0012878300\\\\\n",
       "\t Encarnación, Regina                               & 266 & 0.0570937970\\\\\n",
       "\t ⋮ & ⋮ & ⋮\\\\\n",
       "\t Rochelambert                                     &   5 & 0.0010731917\\\\\n",
       "\t San Bartolomé                                    & 322 & 0.0691135437\\\\\n",
       "\t San Bernardo                                     &  73 & 0.0156685984\\\\\n",
       "\t San Carlos, Tartessos                            &   3 & 0.0006439150\\\\\n",
       "\t San Diego                                        &   3 & 0.0006439150\\\\\n",
       "\t San Gil                                          & 206 & 0.0442154969\\\\\n",
       "\t San Jerónimo                                     &  11 & 0.0023610217\\\\\n",
       "\t San José Obrero                                  &  39 & 0.0083708950\\\\\n",
       "\t San Julián                                       & 144 & 0.0309079202\\\\\n",
       "\t San Lorenzo                                      & 171 & 0.0367031552\\\\\n",
       "\t San Matías                                       &   1 & 0.0002146383\\\\\n",
       "\t San Pablo A y B                                  &   9 & 0.0019317450\\\\\n",
       "\t San Pablo C                                      &   1 & 0.0002146383\\\\\n",
       "\t San Pablo D y E                                  &   6 & 0.0012878300\\\\\n",
       "\t San Vicente                                      & 209 & 0.0448594119\\\\\n",
       "\t Santa Aurelia, Cantábrico, Atlántico, La Romería &   7 & 0.0015024683\\\\\n",
       "\t Santa Catalina                                   & 165 & 0.0354153252\\\\\n",
       "\t Santa Clara                                      &   8 & 0.0017171067\\\\\n",
       "\t Santa Cruz                                       & 327 & 0.0701867354\\\\\n",
       "\t Santa Justa y Rufina, Parque Miraflores          &   1 & 0.0002146383\\\\\n",
       "\t Santa María de Ordas, San Nicolas                &   1 & 0.0002146383\\\\\n",
       "\t Sector Sur, La Palmera, Reina Mercedes           &  18 & 0.0038634900\\\\\n",
       "\t Tablada                                          &   6 & 0.0012878300\\\\\n",
       "\t Tabladilla, La Estrella                          &   4 & 0.0008585533\\\\\n",
       "\t Tiro de Línea, Santa Genoveva                    &  14 & 0.0030049367\\\\\n",
       "\t Triana Casco Antiguo                             & 264 & 0.0566645203\\\\\n",
       "\t Triana Este                                      & 113 & 0.0242541318\\\\\n",
       "\t Triana Oeste                                     & 108 & 0.0231809401\\\\\n",
       "\t Valdezorras                                      &   4 & 0.0008585533\\\\\n",
       "\t Villegas                                         &   3 & 0.0006439150\\\\\n",
       "\\end{tabular}\n"
      ],
      "text/markdown": [
       "\n",
       "A tibble: 102 × 3\n",
       "\n",
       "| neighbourhood_cleansed &lt;fct&gt; | ngbh &lt;int&gt; | freq &lt;dbl&gt; |\n",
       "|---|---|---|\n",
       "| Alfalfa                                           | 492 | 0.1056020605 |\n",
       "| Amate                                             |   4 | 0.0008585533 |\n",
       "| an Roque                                          |  53 | 0.0113758317 |\n",
       "| Arbol Gordo                                       |   1 | 0.0002146383 |\n",
       "| Arenal                                            | 351 | 0.0753380554 |\n",
       "| Avda. de la Paz                                   |   4 | 0.0008585533 |\n",
       "| Bami                                              |   4 | 0.0008585533 |\n",
       "| Barrio León                                       |  14 | 0.0030049367 |\n",
       "| Bda. de Pineda                                    |   4 | 0.0008585533 |\n",
       "| Bda. Pino Montano                                 |  16 | 0.0034342134 |\n",
       "| Begoña, Santa Catalina                            |   5 | 0.0010731917 |\n",
       "| Bellavista                                        |   9 | 0.0019317450 |\n",
       "| Campos de Soria                                   |   2 | 0.0004292767 |\n",
       "| Carretera de Carmona, María Auxiliadora, Fontanal |  30 | 0.0064391500 |\n",
       "| Cisneo Alto, Santa María de Graccia               |   1 | 0.0002146383 |\n",
       "| Ciudad Jardín                                     |  10 | 0.0021463833 |\n",
       "| Colores, Entreparques                             |  33 | 0.0070830650 |\n",
       "| Consolación                                       |   6 | 0.0012878300 |\n",
       "| Cruz Roja, Capuchinos                             |  20 | 0.0042927667 |\n",
       "| Doctor Barraquer, G. Renfe, Policlínico           |  21 | 0.0045074050 |\n",
       "| El Cano, Los Bermejales                           |   6 | 0.0012878300 |\n",
       "| El Carmen                                         |   7 | 0.0015024683 |\n",
       "| El Cerro                                          |  17 | 0.0036488517 |\n",
       "| El Juncal, Híspalis                               |   2 | 0.0004292767 |\n",
       "| El Plantinar                                      |   5 | 0.0010731917 |\n",
       "| El Porvenir                                       |  22 | 0.0047220434 |\n",
       "| El Rocío                                          |   3 | 0.0006439150 |\n",
       "| El Tardón, El Carmen                              |  34 | 0.0072977034 |\n",
       "| El Torrejón, El Cerezo                            |   6 | 0.0012878300 |\n",
       "| Encarnación, Regina                               | 266 | 0.0570937970 |\n",
       "| ⋮ | ⋮ | ⋮ |\n",
       "| Rochelambert                                     |   5 | 0.0010731917 |\n",
       "| San Bartolomé                                    | 322 | 0.0691135437 |\n",
       "| San Bernardo                                     |  73 | 0.0156685984 |\n",
       "| San Carlos, Tartessos                            |   3 | 0.0006439150 |\n",
       "| San Diego                                        |   3 | 0.0006439150 |\n",
       "| San Gil                                          | 206 | 0.0442154969 |\n",
       "| San Jerónimo                                     |  11 | 0.0023610217 |\n",
       "| San José Obrero                                  |  39 | 0.0083708950 |\n",
       "| San Julián                                       | 144 | 0.0309079202 |\n",
       "| San Lorenzo                                      | 171 | 0.0367031552 |\n",
       "| San Matías                                       |   1 | 0.0002146383 |\n",
       "| San Pablo A y B                                  |   9 | 0.0019317450 |\n",
       "| San Pablo C                                      |   1 | 0.0002146383 |\n",
       "| San Pablo D y E                                  |   6 | 0.0012878300 |\n",
       "| San Vicente                                      | 209 | 0.0448594119 |\n",
       "| Santa Aurelia, Cantábrico, Atlántico, La Romería |   7 | 0.0015024683 |\n",
       "| Santa Catalina                                   | 165 | 0.0354153252 |\n",
       "| Santa Clara                                      |   8 | 0.0017171067 |\n",
       "| Santa Cruz                                       | 327 | 0.0701867354 |\n",
       "| Santa Justa y Rufina, Parque Miraflores          |   1 | 0.0002146383 |\n",
       "| Santa María de Ordas, San Nicolas                |   1 | 0.0002146383 |\n",
       "| Sector Sur, La Palmera, Reina Mercedes           |  18 | 0.0038634900 |\n",
       "| Tablada                                          |   6 | 0.0012878300 |\n",
       "| Tabladilla, La Estrella                          |   4 | 0.0008585533 |\n",
       "| Tiro de Línea, Santa Genoveva                    |  14 | 0.0030049367 |\n",
       "| Triana Casco Antiguo                             | 264 | 0.0566645203 |\n",
       "| Triana Este                                      | 113 | 0.0242541318 |\n",
       "| Triana Oeste                                     | 108 | 0.0231809401 |\n",
       "| Valdezorras                                      |   4 | 0.0008585533 |\n",
       "| Villegas                                         |   3 | 0.0006439150 |\n",
       "\n"
      ],
      "text/plain": [
       "    neighbourhood_cleansed                            ngbh freq        \n",
       "1   Alfalfa                                           492  0.1056020605\n",
       "2   Amate                                               4  0.0008585533\n",
       "3   an Roque                                           53  0.0113758317\n",
       "4   Arbol Gordo                                         1  0.0002146383\n",
       "5   Arenal                                            351  0.0753380554\n",
       "6   Avda. de la Paz                                     4  0.0008585533\n",
       "7   Bami                                                4  0.0008585533\n",
       "8   Barrio León                                        14  0.0030049367\n",
       "9   Bda. de Pineda                                      4  0.0008585533\n",
       "10  Bda. Pino Montano                                  16  0.0034342134\n",
       "11  Begoña, Santa Catalina                              5  0.0010731917\n",
       "12  Bellavista                                          9  0.0019317450\n",
       "13  Campos de Soria                                     2  0.0004292767\n",
       "14  Carretera de Carmona, María Auxiliadora, Fontanal  30  0.0064391500\n",
       "15  Cisneo Alto, Santa María de Graccia                 1  0.0002146383\n",
       "16  Ciudad Jardín                                      10  0.0021463833\n",
       "17  Colores, Entreparques                              33  0.0070830650\n",
       "18  Consolación                                         6  0.0012878300\n",
       "19  Cruz Roja, Capuchinos                              20  0.0042927667\n",
       "20  Doctor Barraquer, G. Renfe, Policlínico            21  0.0045074050\n",
       "21  El Cano, Los Bermejales                             6  0.0012878300\n",
       "22  El Carmen                                           7  0.0015024683\n",
       "23  El Cerro                                           17  0.0036488517\n",
       "24  El Juncal, Híspalis                                 2  0.0004292767\n",
       "25  El Plantinar                                        5  0.0010731917\n",
       "26  El Porvenir                                        22  0.0047220434\n",
       "27  El Rocío                                            3  0.0006439150\n",
       "28  El Tardón, El Carmen                               34  0.0072977034\n",
       "29  El Torrejón, El Cerezo                              6  0.0012878300\n",
       "30  Encarnación, Regina                               266  0.0570937970\n",
       "⋮   ⋮                                                 ⋮    ⋮           \n",
       "73  Rochelambert                                        5  0.0010731917\n",
       "74  San Bartolomé                                     322  0.0691135437\n",
       "75  San Bernardo                                       73  0.0156685984\n",
       "76  San Carlos, Tartessos                               3  0.0006439150\n",
       "77  San Diego                                           3  0.0006439150\n",
       "78  San Gil                                           206  0.0442154969\n",
       "79  San Jerónimo                                       11  0.0023610217\n",
       "80  San José Obrero                                    39  0.0083708950\n",
       "81  San Julián                                        144  0.0309079202\n",
       "82  San Lorenzo                                       171  0.0367031552\n",
       "83  San Matías                                          1  0.0002146383\n",
       "84  San Pablo A y B                                     9  0.0019317450\n",
       "85  San Pablo C                                         1  0.0002146383\n",
       "86  San Pablo D y E                                     6  0.0012878300\n",
       "87  San Vicente                                       209  0.0448594119\n",
       "88  Santa Aurelia, Cantábrico, Atlántico, La Romería    7  0.0015024683\n",
       "89  Santa Catalina                                    165  0.0354153252\n",
       "90  Santa Clara                                         8  0.0017171067\n",
       "91  Santa Cruz                                        327  0.0701867354\n",
       "92  Santa Justa y Rufina, Parque Miraflores             1  0.0002146383\n",
       "93  Santa María de Ordas, San Nicolas                   1  0.0002146383\n",
       "94  Sector Sur, La Palmera, Reina Mercedes             18  0.0038634900\n",
       "95  Tablada                                             6  0.0012878300\n",
       "96  Tabladilla, La Estrella                             4  0.0008585533\n",
       "97  Tiro de Línea, Santa Genoveva                      14  0.0030049367\n",
       "98  Triana Casco Antiguo                              264  0.0566645203\n",
       "99  Triana Este                                       113  0.0242541318\n",
       "100 Triana Oeste                                      108  0.0231809401\n",
       "101 Valdezorras                                         4  0.0008585533\n",
       "102 Villegas                                            3  0.0006439150"
      ]
     },
     "metadata": {},
     "output_type": "display_data"
    }
   ],
   "source": [
    "aggregated_neighborhood(selected_city)"
   ]
  },
  {
   "cell_type": "markdown",
   "metadata": {},
   "source": [
    "#### 4. What is the average availability over the next 30 days for each room type / house size / neighborhood?"
   ]
  },
  {
   "cell_type": "code",
   "execution_count": 45,
   "metadata": {},
   "outputs": [
    {
     "data": {
      "text/html": [
       "<table>\n",
       "<caption>A grouped_df: 432 × 4</caption>\n",
       "<thead>\n",
       "\t<tr><th scope=col>room_type</th><th scope=col>bedrooms</th><th scope=col>neighbourhood_cleansed</th><th scope=col>mean_availability_30</th></tr>\n",
       "\t<tr><th scope=col>&lt;fct&gt;</th><th scope=col>&lt;chr&gt;</th><th scope=col>&lt;fct&gt;</th><th scope=col>&lt;dbl&gt;</th></tr>\n",
       "</thead>\n",
       "<tbody>\n",
       "\t<tr><td>Entire home/apt</td><td>1</td><td>Alfalfa                                          </td><td>14.15122</td></tr>\n",
       "\t<tr><td>Entire home/apt</td><td>1</td><td>an Roque                                         </td><td>20.40000</td></tr>\n",
       "\t<tr><td>Entire home/apt</td><td>1</td><td>Arbol Gordo                                      </td><td> 0.00000</td></tr>\n",
       "\t<tr><td>Entire home/apt</td><td>1</td><td>Arenal                                           </td><td>16.88489</td></tr>\n",
       "\t<tr><td>Entire home/apt</td><td>1</td><td>Bami                                             </td><td>23.00000</td></tr>\n",
       "\t<tr><td>Entire home/apt</td><td>1</td><td>Barrio León                                      </td><td>19.33333</td></tr>\n",
       "\t<tr><td>Entire home/apt</td><td>1</td><td>Bda. de Pineda                                   </td><td> 0.00000</td></tr>\n",
       "\t<tr><td>Entire home/apt</td><td>1</td><td>Carretera de Carmona, María Auxiliadora, Fontanal</td><td> 3.00000</td></tr>\n",
       "\t<tr><td>Entire home/apt</td><td>1</td><td>Ciudad Jardín                                    </td><td>23.00000</td></tr>\n",
       "\t<tr><td>Entire home/apt</td><td>1</td><td>Colores, Entreparques                            </td><td> 9.50000</td></tr>\n",
       "\t<tr><td>Entire home/apt</td><td>1</td><td>Consolación                                      </td><td>29.00000</td></tr>\n",
       "\t<tr><td>Entire home/apt</td><td>1</td><td>Cruz Roja, Capuchinos                            </td><td>14.66667</td></tr>\n",
       "\t<tr><td>Entire home/apt</td><td>1</td><td>Doctor Barraquer, G. Renfe, Policlínico          </td><td>20.40000</td></tr>\n",
       "\t<tr><td>Entire home/apt</td><td>1</td><td>El Carmen                                        </td><td>18.00000</td></tr>\n",
       "\t<tr><td>Entire home/apt</td><td>1</td><td>El Cerro                                         </td><td>14.50000</td></tr>\n",
       "\t<tr><td>Entire home/apt</td><td>1</td><td>El Porvenir                                      </td><td> 5.75000</td></tr>\n",
       "\t<tr><td>Entire home/apt</td><td>1</td><td>El Rocío                                         </td><td> 0.00000</td></tr>\n",
       "\t<tr><td>Entire home/apt</td><td>1</td><td>El Torrejón, El Cerezo                           </td><td> 0.00000</td></tr>\n",
       "\t<tr><td>Entire home/apt</td><td>1</td><td>Encarnación, Regina                              </td><td>17.41481</td></tr>\n",
       "\t<tr><td>Entire home/apt</td><td>1</td><td>Feria                                            </td><td>16.23129</td></tr>\n",
       "\t<tr><td>Entire home/apt</td><td>1</td><td>Giralda Sur                                      </td><td>13.33333</td></tr>\n",
       "\t<tr><td>Entire home/apt</td><td>1</td><td>Heliópolis                                       </td><td>23.00000</td></tr>\n",
       "\t<tr><td>Entire home/apt</td><td>1</td><td>Huerta de la Salud                               </td><td>19.33333</td></tr>\n",
       "\t<tr><td>Entire home/apt</td><td>1</td><td>Huerta de Santa Teresa                           </td><td>15.80000</td></tr>\n",
       "\t<tr><td>Entire home/apt</td><td>1</td><td>Huerta del Pilar                                 </td><td>22.00000</td></tr>\n",
       "\t<tr><td>Entire home/apt</td><td>1</td><td>Juan XXIII                                       </td><td> 5.00000</td></tr>\n",
       "\t<tr><td>Entire home/apt</td><td>1</td><td>La Buhaira                                       </td><td>13.44444</td></tr>\n",
       "\t<tr><td>Entire home/apt</td><td>1</td><td>La Calzada                                       </td><td>13.66667</td></tr>\n",
       "\t<tr><td>Entire home/apt</td><td>1</td><td>La Florida                                       </td><td>14.00000</td></tr>\n",
       "\t<tr><td>Entire home/apt</td><td>1</td><td>Las Huertas                                      </td><td> 0.00000</td></tr>\n",
       "\t<tr><td>⋮</td><td>⋮</td><td>⋮</td><td>⋮</td></tr>\n",
       "\t<tr><td>Private room</td><td>2 </td><td>Tablada                      </td><td> 0.0</td></tr>\n",
       "\t<tr><td>Private room</td><td>2 </td><td>Triana Casco Antiguo         </td><td> 0.0</td></tr>\n",
       "\t<tr><td>Private room</td><td>2 </td><td>Triana Este                  </td><td>28.5</td></tr>\n",
       "\t<tr><td>Private room</td><td>3 </td><td>Alfalfa                      </td><td>23.0</td></tr>\n",
       "\t<tr><td>Private room</td><td>3 </td><td>El Tardón, El Carmen         </td><td>29.0</td></tr>\n",
       "\t<tr><td>Private room</td><td>3 </td><td>Encarnación, Regina          </td><td>28.0</td></tr>\n",
       "\t<tr><td>Private room</td><td>3 </td><td>Feria                        </td><td> 0.0</td></tr>\n",
       "\t<tr><td>Private room</td><td>3 </td><td>Heliópolis                   </td><td>12.0</td></tr>\n",
       "\t<tr><td>Private room</td><td>3 </td><td>La Buhaira                   </td><td> 0.0</td></tr>\n",
       "\t<tr><td>Private room</td><td>3 </td><td>Las Almenas                  </td><td> 0.0</td></tr>\n",
       "\t<tr><td>Private room</td><td>3 </td><td>Las Huertas                  </td><td> 0.0</td></tr>\n",
       "\t<tr><td>Private room</td><td>3 </td><td>Los Remedios                 </td><td>28.0</td></tr>\n",
       "\t<tr><td>Private room</td><td>3 </td><td>Nervión                      </td><td>20.0</td></tr>\n",
       "\t<tr><td>Private room</td><td>3 </td><td>San Bartolomé                </td><td>24.0</td></tr>\n",
       "\t<tr><td>Private room</td><td>3 </td><td>San José Obrero              </td><td> 0.0</td></tr>\n",
       "\t<tr><td>Private room</td><td>3 </td><td>San Lorenzo                  </td><td> 0.0</td></tr>\n",
       "\t<tr><td>Private room</td><td>3 </td><td>San Pablo A y B              </td><td> 0.0</td></tr>\n",
       "\t<tr><td>Private room</td><td>3 </td><td>Santa Catalina               </td><td>28.0</td></tr>\n",
       "\t<tr><td>Private room</td><td>3 </td><td>Santa Cruz                   </td><td> 0.0</td></tr>\n",
       "\t<tr><td>Private room</td><td>3 </td><td>Triana Este                  </td><td>29.0</td></tr>\n",
       "\t<tr><td>Private room</td><td>4 </td><td>Alfalfa                      </td><td> 0.0</td></tr>\n",
       "\t<tr><td>Private room</td><td>4 </td><td>no asignado                  </td><td> 0.0</td></tr>\n",
       "\t<tr><td>Private room</td><td>5+</td><td>El Plantinar                 </td><td> 1.0</td></tr>\n",
       "\t<tr><td>Private room</td><td>5+</td><td>San Bartolomé                </td><td>29.0</td></tr>\n",
       "\t<tr><td>Shared room </td><td>1 </td><td>Alfalfa                      </td><td> 0.0</td></tr>\n",
       "\t<tr><td>Shared room </td><td>1 </td><td>Arenal                       </td><td> 0.0</td></tr>\n",
       "\t<tr><td>Shared room </td><td>1 </td><td>Barrio León                  </td><td> 0.0</td></tr>\n",
       "\t<tr><td>Shared room </td><td>1 </td><td>Museo                        </td><td>28.0</td></tr>\n",
       "\t<tr><td>Shared room </td><td>1 </td><td>Santa Catalina               </td><td>20.0</td></tr>\n",
       "\t<tr><td>Shared room </td><td>1 </td><td>Tiro de Línea, Santa Genoveva</td><td> 0.0</td></tr>\n",
       "</tbody>\n",
       "</table>\n"
      ],
      "text/latex": [
       "A grouped_df: 432 × 4\n",
       "\\begin{tabular}{r|llll}\n",
       " room\\_type & bedrooms & neighbourhood\\_cleansed & mean\\_availability\\_30\\\\\n",
       " <fct> & <chr> & <fct> & <dbl>\\\\\n",
       "\\hline\n",
       "\t Entire home/apt & 1 & Alfalfa                                           & 14.15122\\\\\n",
       "\t Entire home/apt & 1 & an Roque                                          & 20.40000\\\\\n",
       "\t Entire home/apt & 1 & Arbol Gordo                                       &  0.00000\\\\\n",
       "\t Entire home/apt & 1 & Arenal                                            & 16.88489\\\\\n",
       "\t Entire home/apt & 1 & Bami                                              & 23.00000\\\\\n",
       "\t Entire home/apt & 1 & Barrio León                                       & 19.33333\\\\\n",
       "\t Entire home/apt & 1 & Bda. de Pineda                                    &  0.00000\\\\\n",
       "\t Entire home/apt & 1 & Carretera de Carmona, María Auxiliadora, Fontanal &  3.00000\\\\\n",
       "\t Entire home/apt & 1 & Ciudad Jardín                                     & 23.00000\\\\\n",
       "\t Entire home/apt & 1 & Colores, Entreparques                             &  9.50000\\\\\n",
       "\t Entire home/apt & 1 & Consolación                                       & 29.00000\\\\\n",
       "\t Entire home/apt & 1 & Cruz Roja, Capuchinos                             & 14.66667\\\\\n",
       "\t Entire home/apt & 1 & Doctor Barraquer, G. Renfe, Policlínico           & 20.40000\\\\\n",
       "\t Entire home/apt & 1 & El Carmen                                         & 18.00000\\\\\n",
       "\t Entire home/apt & 1 & El Cerro                                          & 14.50000\\\\\n",
       "\t Entire home/apt & 1 & El Porvenir                                       &  5.75000\\\\\n",
       "\t Entire home/apt & 1 & El Rocío                                          &  0.00000\\\\\n",
       "\t Entire home/apt & 1 & El Torrejón, El Cerezo                            &  0.00000\\\\\n",
       "\t Entire home/apt & 1 & Encarnación, Regina                               & 17.41481\\\\\n",
       "\t Entire home/apt & 1 & Feria                                             & 16.23129\\\\\n",
       "\t Entire home/apt & 1 & Giralda Sur                                       & 13.33333\\\\\n",
       "\t Entire home/apt & 1 & Heliópolis                                        & 23.00000\\\\\n",
       "\t Entire home/apt & 1 & Huerta de la Salud                                & 19.33333\\\\\n",
       "\t Entire home/apt & 1 & Huerta de Santa Teresa                            & 15.80000\\\\\n",
       "\t Entire home/apt & 1 & Huerta del Pilar                                  & 22.00000\\\\\n",
       "\t Entire home/apt & 1 & Juan XXIII                                        &  5.00000\\\\\n",
       "\t Entire home/apt & 1 & La Buhaira                                        & 13.44444\\\\\n",
       "\t Entire home/apt & 1 & La Calzada                                        & 13.66667\\\\\n",
       "\t Entire home/apt & 1 & La Florida                                        & 14.00000\\\\\n",
       "\t Entire home/apt & 1 & Las Huertas                                       &  0.00000\\\\\n",
       "\t ⋮ & ⋮ & ⋮ & ⋮\\\\\n",
       "\t Private room & 2  & Tablada                       &  0.0\\\\\n",
       "\t Private room & 2  & Triana Casco Antiguo          &  0.0\\\\\n",
       "\t Private room & 2  & Triana Este                   & 28.5\\\\\n",
       "\t Private room & 3  & Alfalfa                       & 23.0\\\\\n",
       "\t Private room & 3  & El Tardón, El Carmen          & 29.0\\\\\n",
       "\t Private room & 3  & Encarnación, Regina           & 28.0\\\\\n",
       "\t Private room & 3  & Feria                         &  0.0\\\\\n",
       "\t Private room & 3  & Heliópolis                    & 12.0\\\\\n",
       "\t Private room & 3  & La Buhaira                    &  0.0\\\\\n",
       "\t Private room & 3  & Las Almenas                   &  0.0\\\\\n",
       "\t Private room & 3  & Las Huertas                   &  0.0\\\\\n",
       "\t Private room & 3  & Los Remedios                  & 28.0\\\\\n",
       "\t Private room & 3  & Nervión                       & 20.0\\\\\n",
       "\t Private room & 3  & San Bartolomé                 & 24.0\\\\\n",
       "\t Private room & 3  & San José Obrero               &  0.0\\\\\n",
       "\t Private room & 3  & San Lorenzo                   &  0.0\\\\\n",
       "\t Private room & 3  & San Pablo A y B               &  0.0\\\\\n",
       "\t Private room & 3  & Santa Catalina                & 28.0\\\\\n",
       "\t Private room & 3  & Santa Cruz                    &  0.0\\\\\n",
       "\t Private room & 3  & Triana Este                   & 29.0\\\\\n",
       "\t Private room & 4  & Alfalfa                       &  0.0\\\\\n",
       "\t Private room & 4  & no asignado                   &  0.0\\\\\n",
       "\t Private room & 5+ & El Plantinar                  &  1.0\\\\\n",
       "\t Private room & 5+ & San Bartolomé                 & 29.0\\\\\n",
       "\t Shared room  & 1  & Alfalfa                       &  0.0\\\\\n",
       "\t Shared room  & 1  & Arenal                        &  0.0\\\\\n",
       "\t Shared room  & 1  & Barrio León                   &  0.0\\\\\n",
       "\t Shared room  & 1  & Museo                         & 28.0\\\\\n",
       "\t Shared room  & 1  & Santa Catalina                & 20.0\\\\\n",
       "\t Shared room  & 1  & Tiro de Línea, Santa Genoveva &  0.0\\\\\n",
       "\\end{tabular}\n"
      ],
      "text/markdown": [
       "\n",
       "A grouped_df: 432 × 4\n",
       "\n",
       "| room_type &lt;fct&gt; | bedrooms &lt;chr&gt; | neighbourhood_cleansed &lt;fct&gt; | mean_availability_30 &lt;dbl&gt; |\n",
       "|---|---|---|---|\n",
       "| Entire home/apt | 1 | Alfalfa                                           | 14.15122 |\n",
       "| Entire home/apt | 1 | an Roque                                          | 20.40000 |\n",
       "| Entire home/apt | 1 | Arbol Gordo                                       |  0.00000 |\n",
       "| Entire home/apt | 1 | Arenal                                            | 16.88489 |\n",
       "| Entire home/apt | 1 | Bami                                              | 23.00000 |\n",
       "| Entire home/apt | 1 | Barrio León                                       | 19.33333 |\n",
       "| Entire home/apt | 1 | Bda. de Pineda                                    |  0.00000 |\n",
       "| Entire home/apt | 1 | Carretera de Carmona, María Auxiliadora, Fontanal |  3.00000 |\n",
       "| Entire home/apt | 1 | Ciudad Jardín                                     | 23.00000 |\n",
       "| Entire home/apt | 1 | Colores, Entreparques                             |  9.50000 |\n",
       "| Entire home/apt | 1 | Consolación                                       | 29.00000 |\n",
       "| Entire home/apt | 1 | Cruz Roja, Capuchinos                             | 14.66667 |\n",
       "| Entire home/apt | 1 | Doctor Barraquer, G. Renfe, Policlínico           | 20.40000 |\n",
       "| Entire home/apt | 1 | El Carmen                                         | 18.00000 |\n",
       "| Entire home/apt | 1 | El Cerro                                          | 14.50000 |\n",
       "| Entire home/apt | 1 | El Porvenir                                       |  5.75000 |\n",
       "| Entire home/apt | 1 | El Rocío                                          |  0.00000 |\n",
       "| Entire home/apt | 1 | El Torrejón, El Cerezo                            |  0.00000 |\n",
       "| Entire home/apt | 1 | Encarnación, Regina                               | 17.41481 |\n",
       "| Entire home/apt | 1 | Feria                                             | 16.23129 |\n",
       "| Entire home/apt | 1 | Giralda Sur                                       | 13.33333 |\n",
       "| Entire home/apt | 1 | Heliópolis                                        | 23.00000 |\n",
       "| Entire home/apt | 1 | Huerta de la Salud                                | 19.33333 |\n",
       "| Entire home/apt | 1 | Huerta de Santa Teresa                            | 15.80000 |\n",
       "| Entire home/apt | 1 | Huerta del Pilar                                  | 22.00000 |\n",
       "| Entire home/apt | 1 | Juan XXIII                                        |  5.00000 |\n",
       "| Entire home/apt | 1 | La Buhaira                                        | 13.44444 |\n",
       "| Entire home/apt | 1 | La Calzada                                        | 13.66667 |\n",
       "| Entire home/apt | 1 | La Florida                                        | 14.00000 |\n",
       "| Entire home/apt | 1 | Las Huertas                                       |  0.00000 |\n",
       "| ⋮ | ⋮ | ⋮ | ⋮ |\n",
       "| Private room | 2  | Tablada                       |  0.0 |\n",
       "| Private room | 2  | Triana Casco Antiguo          |  0.0 |\n",
       "| Private room | 2  | Triana Este                   | 28.5 |\n",
       "| Private room | 3  | Alfalfa                       | 23.0 |\n",
       "| Private room | 3  | El Tardón, El Carmen          | 29.0 |\n",
       "| Private room | 3  | Encarnación, Regina           | 28.0 |\n",
       "| Private room | 3  | Feria                         |  0.0 |\n",
       "| Private room | 3  | Heliópolis                    | 12.0 |\n",
       "| Private room | 3  | La Buhaira                    |  0.0 |\n",
       "| Private room | 3  | Las Almenas                   |  0.0 |\n",
       "| Private room | 3  | Las Huertas                   |  0.0 |\n",
       "| Private room | 3  | Los Remedios                  | 28.0 |\n",
       "| Private room | 3  | Nervión                       | 20.0 |\n",
       "| Private room | 3  | San Bartolomé                 | 24.0 |\n",
       "| Private room | 3  | San José Obrero               |  0.0 |\n",
       "| Private room | 3  | San Lorenzo                   |  0.0 |\n",
       "| Private room | 3  | San Pablo A y B               |  0.0 |\n",
       "| Private room | 3  | Santa Catalina                | 28.0 |\n",
       "| Private room | 3  | Santa Cruz                    |  0.0 |\n",
       "| Private room | 3  | Triana Este                   | 29.0 |\n",
       "| Private room | 4  | Alfalfa                       |  0.0 |\n",
       "| Private room | 4  | no asignado                   |  0.0 |\n",
       "| Private room | 5+ | El Plantinar                  |  1.0 |\n",
       "| Private room | 5+ | San Bartolomé                 | 29.0 |\n",
       "| Shared room  | 1  | Alfalfa                       |  0.0 |\n",
       "| Shared room  | 1  | Arenal                        |  0.0 |\n",
       "| Shared room  | 1  | Barrio León                   |  0.0 |\n",
       "| Shared room  | 1  | Museo                         | 28.0 |\n",
       "| Shared room  | 1  | Santa Catalina                | 20.0 |\n",
       "| Shared room  | 1  | Tiro de Línea, Santa Genoveva |  0.0 |\n",
       "\n"
      ],
      "text/plain": [
       "    room_type       bedrooms neighbourhood_cleansed                           \n",
       "1   Entire home/apt 1        Alfalfa                                          \n",
       "2   Entire home/apt 1        an Roque                                         \n",
       "3   Entire home/apt 1        Arbol Gordo                                      \n",
       "4   Entire home/apt 1        Arenal                                           \n",
       "5   Entire home/apt 1        Bami                                             \n",
       "6   Entire home/apt 1        Barrio León                                      \n",
       "7   Entire home/apt 1        Bda. de Pineda                                   \n",
       "8   Entire home/apt 1        Carretera de Carmona, María Auxiliadora, Fontanal\n",
       "9   Entire home/apt 1        Ciudad Jardín                                    \n",
       "10  Entire home/apt 1        Colores, Entreparques                            \n",
       "11  Entire home/apt 1        Consolación                                      \n",
       "12  Entire home/apt 1        Cruz Roja, Capuchinos                            \n",
       "13  Entire home/apt 1        Doctor Barraquer, G. Renfe, Policlínico          \n",
       "14  Entire home/apt 1        El Carmen                                        \n",
       "15  Entire home/apt 1        El Cerro                                         \n",
       "16  Entire home/apt 1        El Porvenir                                      \n",
       "17  Entire home/apt 1        El Rocío                                         \n",
       "18  Entire home/apt 1        El Torrejón, El Cerezo                           \n",
       "19  Entire home/apt 1        Encarnación, Regina                              \n",
       "20  Entire home/apt 1        Feria                                            \n",
       "21  Entire home/apt 1        Giralda Sur                                      \n",
       "22  Entire home/apt 1        Heliópolis                                       \n",
       "23  Entire home/apt 1        Huerta de la Salud                               \n",
       "24  Entire home/apt 1        Huerta de Santa Teresa                           \n",
       "25  Entire home/apt 1        Huerta del Pilar                                 \n",
       "26  Entire home/apt 1        Juan XXIII                                       \n",
       "27  Entire home/apt 1        La Buhaira                                       \n",
       "28  Entire home/apt 1        La Calzada                                       \n",
       "29  Entire home/apt 1        La Florida                                       \n",
       "30  Entire home/apt 1        Las Huertas                                      \n",
       "⋮   ⋮               ⋮        ⋮                                                \n",
       "403 Private room    2        Tablada                                          \n",
       "404 Private room    2        Triana Casco Antiguo                             \n",
       "405 Private room    2        Triana Este                                      \n",
       "406 Private room    3        Alfalfa                                          \n",
       "407 Private room    3        El Tardón, El Carmen                             \n",
       "408 Private room    3        Encarnación, Regina                              \n",
       "409 Private room    3        Feria                                            \n",
       "410 Private room    3        Heliópolis                                       \n",
       "411 Private room    3        La Buhaira                                       \n",
       "412 Private room    3        Las Almenas                                      \n",
       "413 Private room    3        Las Huertas                                      \n",
       "414 Private room    3        Los Remedios                                     \n",
       "415 Private room    3        Nervión                                          \n",
       "416 Private room    3        San Bartolomé                                    \n",
       "417 Private room    3        San José Obrero                                  \n",
       "418 Private room    3        San Lorenzo                                      \n",
       "419 Private room    3        San Pablo A y B                                  \n",
       "420 Private room    3        Santa Catalina                                   \n",
       "421 Private room    3        Santa Cruz                                       \n",
       "422 Private room    3        Triana Este                                      \n",
       "423 Private room    4        Alfalfa                                          \n",
       "424 Private room    4        no asignado                                      \n",
       "425 Private room    5+       El Plantinar                                     \n",
       "426 Private room    5+       San Bartolomé                                    \n",
       "427 Shared room     1        Alfalfa                                          \n",
       "428 Shared room     1        Arenal                                           \n",
       "429 Shared room     1        Barrio León                                      \n",
       "430 Shared room     1        Museo                                            \n",
       "431 Shared room     1        Santa Catalina                                   \n",
       "432 Shared room     1        Tiro de Línea, Santa Genoveva                    \n",
       "    mean_availability_30\n",
       "1   14.15122            \n",
       "2   20.40000            \n",
       "3    0.00000            \n",
       "4   16.88489            \n",
       "5   23.00000            \n",
       "6   19.33333            \n",
       "7    0.00000            \n",
       "8    3.00000            \n",
       "9   23.00000            \n",
       "10   9.50000            \n",
       "11  29.00000            \n",
       "12  14.66667            \n",
       "13  20.40000            \n",
       "14  18.00000            \n",
       "15  14.50000            \n",
       "16   5.75000            \n",
       "17   0.00000            \n",
       "18   0.00000            \n",
       "19  17.41481            \n",
       "20  16.23129            \n",
       "21  13.33333            \n",
       "22  23.00000            \n",
       "23  19.33333            \n",
       "24  15.80000            \n",
       "25  22.00000            \n",
       "26   5.00000            \n",
       "27  13.44444            \n",
       "28  13.66667            \n",
       "29  14.00000            \n",
       "30   0.00000            \n",
       "⋮   ⋮                   \n",
       "403  0.0                \n",
       "404  0.0                \n",
       "405 28.5                \n",
       "406 23.0                \n",
       "407 29.0                \n",
       "408 28.0                \n",
       "409  0.0                \n",
       "410 12.0                \n",
       "411  0.0                \n",
       "412  0.0                \n",
       "413  0.0                \n",
       "414 28.0                \n",
       "415 20.0                \n",
       "416 24.0                \n",
       "417  0.0                \n",
       "418  0.0                \n",
       "419  0.0                \n",
       "420 28.0                \n",
       "421  0.0                \n",
       "422 29.0                \n",
       "423  0.0                \n",
       "424  0.0                \n",
       "425  1.0                \n",
       "426 29.0                \n",
       "427  0.0                \n",
       "428  0.0                \n",
       "429  0.0                \n",
       "430 28.0                \n",
       "431 20.0                \n",
       "432  0.0                "
      ]
     },
     "metadata": {},
     "output_type": "display_data"
    }
   ],
   "source": [
    "aggregated_availability(selected_city)"
   ]
  },
  {
   "cell_type": "markdown",
   "metadata": {},
   "source": [
    "#### 5. What is the average revenue over the next 30 days for each room type / house size / neighborhood?"
   ]
  },
  {
   "cell_type": "code",
   "execution_count": 46,
   "metadata": {},
   "outputs": [
    {
     "data": {
      "text/html": [
       "<table>\n",
       "<caption>A grouped_df: 432 × 4</caption>\n",
       "<thead>\n",
       "\t<tr><th scope=col>room_type</th><th scope=col>bedrooms</th><th scope=col>neighbourhood_cleansed</th><th scope=col>mean_revenue_30</th></tr>\n",
       "\t<tr><th scope=col>&lt;fct&gt;</th><th scope=col>&lt;chr&gt;</th><th scope=col>&lt;fct&gt;</th><th scope=col>&lt;dbl&gt;</th></tr>\n",
       "</thead>\n",
       "<tbody>\n",
       "\t<tr><td>Entire home/apt</td><td>1</td><td>Alfalfa                                          </td><td>1480.3463</td></tr>\n",
       "\t<tr><td>Entire home/apt</td><td>1</td><td>an Roque                                         </td><td> 580.6000</td></tr>\n",
       "\t<tr><td>Entire home/apt</td><td>1</td><td>Arbol Gordo                                      </td><td>4500.0000</td></tr>\n",
       "\t<tr><td>Entire home/apt</td><td>1</td><td>Arenal                                           </td><td>1076.7266</td></tr>\n",
       "\t<tr><td>Entire home/apt</td><td>1</td><td>Bami                                             </td><td> 441.0000</td></tr>\n",
       "\t<tr><td>Entire home/apt</td><td>1</td><td>Barrio León                                      </td><td> 499.3333</td></tr>\n",
       "\t<tr><td>Entire home/apt</td><td>1</td><td>Bda. de Pineda                                   </td><td>1280.0000</td></tr>\n",
       "\t<tr><td>Entire home/apt</td><td>1</td><td>Carretera de Carmona, María Auxiliadora, Fontanal</td><td>2573.0000</td></tr>\n",
       "\t<tr><td>Entire home/apt</td><td>1</td><td>Ciudad Jardín                                    </td><td> 385.0000</td></tr>\n",
       "\t<tr><td>Entire home/apt</td><td>1</td><td>Colores, Entreparques                            </td><td> 520.0000</td></tr>\n",
       "\t<tr><td>Entire home/apt</td><td>1</td><td>Consolación                                      </td><td>  50.0000</td></tr>\n",
       "\t<tr><td>Entire home/apt</td><td>1</td><td>Cruz Roja, Capuchinos                            </td><td> 626.6667</td></tr>\n",
       "\t<tr><td>Entire home/apt</td><td>1</td><td>Doctor Barraquer, G. Renfe, Policlínico          </td><td> 548.8000</td></tr>\n",
       "\t<tr><td>Entire home/apt</td><td>1</td><td>El Carmen                                        </td><td> 353.0000</td></tr>\n",
       "\t<tr><td>Entire home/apt</td><td>1</td><td>El Cerro                                         </td><td>2947.5000</td></tr>\n",
       "\t<tr><td>Entire home/apt</td><td>1</td><td>El Porvenir                                      </td><td>1377.5000</td></tr>\n",
       "\t<tr><td>Entire home/apt</td><td>1</td><td>El Rocío                                         </td><td> 940.0000</td></tr>\n",
       "\t<tr><td>Entire home/apt</td><td>1</td><td>El Torrejón, El Cerezo                           </td><td> 640.0000</td></tr>\n",
       "\t<tr><td>Entire home/apt</td><td>1</td><td>Encarnación, Regina                              </td><td> 786.4370</td></tr>\n",
       "\t<tr><td>Entire home/apt</td><td>1</td><td>Feria                                            </td><td>1040.1224</td></tr>\n",
       "\t<tr><td>Entire home/apt</td><td>1</td><td>Giralda Sur                                      </td><td>4425.0000</td></tr>\n",
       "\t<tr><td>Entire home/apt</td><td>1</td><td>Heliópolis                                       </td><td> 316.0000</td></tr>\n",
       "\t<tr><td>Entire home/apt</td><td>1</td><td>Huerta de la Salud                               </td><td>1043.3333</td></tr>\n",
       "\t<tr><td>Entire home/apt</td><td>1</td><td>Huerta de Santa Teresa                           </td><td> 602.2000</td></tr>\n",
       "\t<tr><td>Entire home/apt</td><td>1</td><td>Huerta del Pilar                                 </td><td> 640.0000</td></tr>\n",
       "\t<tr><td>Entire home/apt</td><td>1</td><td>Juan XXIII                                       </td><td> 750.0000</td></tr>\n",
       "\t<tr><td>Entire home/apt</td><td>1</td><td>La Buhaira                                       </td><td> 957.0000</td></tr>\n",
       "\t<tr><td>Entire home/apt</td><td>1</td><td>La Calzada                                       </td><td> 754.3333</td></tr>\n",
       "\t<tr><td>Entire home/apt</td><td>1</td><td>La Florida                                       </td><td>1161.3333</td></tr>\n",
       "\t<tr><td>Entire home/apt</td><td>1</td><td>Las Huertas                                      </td><td>1818.0000</td></tr>\n",
       "\t<tr><td>⋮</td><td>⋮</td><td>⋮</td><td>⋮</td></tr>\n",
       "\t<tr><td>Private room</td><td>2 </td><td>Tablada                      </td><td>  856.0000</td></tr>\n",
       "\t<tr><td>Private room</td><td>2 </td><td>Triana Casco Antiguo         </td><td> 1374.0000</td></tr>\n",
       "\t<tr><td>Private room</td><td>2 </td><td>Triana Este                  </td><td>   57.5000</td></tr>\n",
       "\t<tr><td>Private room</td><td>3 </td><td>Alfalfa                      </td><td> 1444.5000</td></tr>\n",
       "\t<tr><td>Private room</td><td>3 </td><td>El Tardón, El Carmen         </td><td>   18.0000</td></tr>\n",
       "\t<tr><td>Private room</td><td>3 </td><td>Encarnación, Regina          </td><td>  142.0000</td></tr>\n",
       "\t<tr><td>Private room</td><td>3 </td><td>Feria                        </td><td> 1470.0000</td></tr>\n",
       "\t<tr><td>Private room</td><td>3 </td><td>Heliópolis                   </td><td> 1845.0000</td></tr>\n",
       "\t<tr><td>Private room</td><td>3 </td><td>La Buhaira                   </td><td> 2060.0000</td></tr>\n",
       "\t<tr><td>Private room</td><td>3 </td><td>Las Almenas                  </td><td> 1214.0000</td></tr>\n",
       "\t<tr><td>Private room</td><td>3 </td><td>Las Huertas                  </td><td> 2250.0000</td></tr>\n",
       "\t<tr><td>Private room</td><td>3 </td><td>Los Remedios                 </td><td>  100.0000</td></tr>\n",
       "\t<tr><td>Private room</td><td>3 </td><td>Nervión                      </td><td> 3000.0000</td></tr>\n",
       "\t<tr><td>Private room</td><td>3 </td><td>San Bartolomé                </td><td>  570.0000</td></tr>\n",
       "\t<tr><td>Private room</td><td>3 </td><td>San José Obrero              </td><td> 1800.0000</td></tr>\n",
       "\t<tr><td>Private room</td><td>3 </td><td>San Lorenzo                  </td><td>  812.0000</td></tr>\n",
       "\t<tr><td>Private room</td><td>3 </td><td>San Pablo A y B              </td><td> 3150.0000</td></tr>\n",
       "\t<tr><td>Private room</td><td>3 </td><td>Santa Catalina               </td><td>  310.0000</td></tr>\n",
       "\t<tr><td>Private room</td><td>3 </td><td>Santa Cruz                   </td><td> 2130.0000</td></tr>\n",
       "\t<tr><td>Private room</td><td>3 </td><td>Triana Este                  </td><td>   58.5000</td></tr>\n",
       "\t<tr><td>Private room</td><td>4 </td><td>Alfalfa                      </td><td>  780.0000</td></tr>\n",
       "\t<tr><td>Private room</td><td>4 </td><td>no asignado                  </td><td> 2520.0000</td></tr>\n",
       "\t<tr><td>Private room</td><td>5+</td><td>El Plantinar                 </td><td> 1305.0000</td></tr>\n",
       "\t<tr><td>Private room</td><td>5+</td><td>San Bartolomé                </td><td>   80.0000</td></tr>\n",
       "\t<tr><td>Shared room </td><td>1 </td><td>Alfalfa                      </td><td>11136.0000</td></tr>\n",
       "\t<tr><td>Shared room </td><td>1 </td><td>Arenal                       </td><td>  960.6667</td></tr>\n",
       "\t<tr><td>Shared room </td><td>1 </td><td>Barrio León                  </td><td> 1350.0000</td></tr>\n",
       "\t<tr><td>Shared room </td><td>1 </td><td>Museo                        </td><td>   36.0000</td></tr>\n",
       "\t<tr><td>Shared room </td><td>1 </td><td>Santa Catalina               </td><td>  150.0000</td></tr>\n",
       "\t<tr><td>Shared room </td><td>1 </td><td>Tiro de Línea, Santa Genoveva</td><td>  690.0000</td></tr>\n",
       "</tbody>\n",
       "</table>\n"
      ],
      "text/latex": [
       "A grouped_df: 432 × 4\n",
       "\\begin{tabular}{r|llll}\n",
       " room\\_type & bedrooms & neighbourhood\\_cleansed & mean\\_revenue\\_30\\\\\n",
       " <fct> & <chr> & <fct> & <dbl>\\\\\n",
       "\\hline\n",
       "\t Entire home/apt & 1 & Alfalfa                                           & 1480.3463\\\\\n",
       "\t Entire home/apt & 1 & an Roque                                          &  580.6000\\\\\n",
       "\t Entire home/apt & 1 & Arbol Gordo                                       & 4500.0000\\\\\n",
       "\t Entire home/apt & 1 & Arenal                                            & 1076.7266\\\\\n",
       "\t Entire home/apt & 1 & Bami                                              &  441.0000\\\\\n",
       "\t Entire home/apt & 1 & Barrio León                                       &  499.3333\\\\\n",
       "\t Entire home/apt & 1 & Bda. de Pineda                                    & 1280.0000\\\\\n",
       "\t Entire home/apt & 1 & Carretera de Carmona, María Auxiliadora, Fontanal & 2573.0000\\\\\n",
       "\t Entire home/apt & 1 & Ciudad Jardín                                     &  385.0000\\\\\n",
       "\t Entire home/apt & 1 & Colores, Entreparques                             &  520.0000\\\\\n",
       "\t Entire home/apt & 1 & Consolación                                       &   50.0000\\\\\n",
       "\t Entire home/apt & 1 & Cruz Roja, Capuchinos                             &  626.6667\\\\\n",
       "\t Entire home/apt & 1 & Doctor Barraquer, G. Renfe, Policlínico           &  548.8000\\\\\n",
       "\t Entire home/apt & 1 & El Carmen                                         &  353.0000\\\\\n",
       "\t Entire home/apt & 1 & El Cerro                                          & 2947.5000\\\\\n",
       "\t Entire home/apt & 1 & El Porvenir                                       & 1377.5000\\\\\n",
       "\t Entire home/apt & 1 & El Rocío                                          &  940.0000\\\\\n",
       "\t Entire home/apt & 1 & El Torrejón, El Cerezo                            &  640.0000\\\\\n",
       "\t Entire home/apt & 1 & Encarnación, Regina                               &  786.4370\\\\\n",
       "\t Entire home/apt & 1 & Feria                                             & 1040.1224\\\\\n",
       "\t Entire home/apt & 1 & Giralda Sur                                       & 4425.0000\\\\\n",
       "\t Entire home/apt & 1 & Heliópolis                                        &  316.0000\\\\\n",
       "\t Entire home/apt & 1 & Huerta de la Salud                                & 1043.3333\\\\\n",
       "\t Entire home/apt & 1 & Huerta de Santa Teresa                            &  602.2000\\\\\n",
       "\t Entire home/apt & 1 & Huerta del Pilar                                  &  640.0000\\\\\n",
       "\t Entire home/apt & 1 & Juan XXIII                                        &  750.0000\\\\\n",
       "\t Entire home/apt & 1 & La Buhaira                                        &  957.0000\\\\\n",
       "\t Entire home/apt & 1 & La Calzada                                        &  754.3333\\\\\n",
       "\t Entire home/apt & 1 & La Florida                                        & 1161.3333\\\\\n",
       "\t Entire home/apt & 1 & Las Huertas                                       & 1818.0000\\\\\n",
       "\t ⋮ & ⋮ & ⋮ & ⋮\\\\\n",
       "\t Private room & 2  & Tablada                       &   856.0000\\\\\n",
       "\t Private room & 2  & Triana Casco Antiguo          &  1374.0000\\\\\n",
       "\t Private room & 2  & Triana Este                   &    57.5000\\\\\n",
       "\t Private room & 3  & Alfalfa                       &  1444.5000\\\\\n",
       "\t Private room & 3  & El Tardón, El Carmen          &    18.0000\\\\\n",
       "\t Private room & 3  & Encarnación, Regina           &   142.0000\\\\\n",
       "\t Private room & 3  & Feria                         &  1470.0000\\\\\n",
       "\t Private room & 3  & Heliópolis                    &  1845.0000\\\\\n",
       "\t Private room & 3  & La Buhaira                    &  2060.0000\\\\\n",
       "\t Private room & 3  & Las Almenas                   &  1214.0000\\\\\n",
       "\t Private room & 3  & Las Huertas                   &  2250.0000\\\\\n",
       "\t Private room & 3  & Los Remedios                  &   100.0000\\\\\n",
       "\t Private room & 3  & Nervión                       &  3000.0000\\\\\n",
       "\t Private room & 3  & San Bartolomé                 &   570.0000\\\\\n",
       "\t Private room & 3  & San José Obrero               &  1800.0000\\\\\n",
       "\t Private room & 3  & San Lorenzo                   &   812.0000\\\\\n",
       "\t Private room & 3  & San Pablo A y B               &  3150.0000\\\\\n",
       "\t Private room & 3  & Santa Catalina                &   310.0000\\\\\n",
       "\t Private room & 3  & Santa Cruz                    &  2130.0000\\\\\n",
       "\t Private room & 3  & Triana Este                   &    58.5000\\\\\n",
       "\t Private room & 4  & Alfalfa                       &   780.0000\\\\\n",
       "\t Private room & 4  & no asignado                   &  2520.0000\\\\\n",
       "\t Private room & 5+ & El Plantinar                  &  1305.0000\\\\\n",
       "\t Private room & 5+ & San Bartolomé                 &    80.0000\\\\\n",
       "\t Shared room  & 1  & Alfalfa                       & 11136.0000\\\\\n",
       "\t Shared room  & 1  & Arenal                        &   960.6667\\\\\n",
       "\t Shared room  & 1  & Barrio León                   &  1350.0000\\\\\n",
       "\t Shared room  & 1  & Museo                         &    36.0000\\\\\n",
       "\t Shared room  & 1  & Santa Catalina                &   150.0000\\\\\n",
       "\t Shared room  & 1  & Tiro de Línea, Santa Genoveva &   690.0000\\\\\n",
       "\\end{tabular}\n"
      ],
      "text/markdown": [
       "\n",
       "A grouped_df: 432 × 4\n",
       "\n",
       "| room_type &lt;fct&gt; | bedrooms &lt;chr&gt; | neighbourhood_cleansed &lt;fct&gt; | mean_revenue_30 &lt;dbl&gt; |\n",
       "|---|---|---|---|\n",
       "| Entire home/apt | 1 | Alfalfa                                           | 1480.3463 |\n",
       "| Entire home/apt | 1 | an Roque                                          |  580.6000 |\n",
       "| Entire home/apt | 1 | Arbol Gordo                                       | 4500.0000 |\n",
       "| Entire home/apt | 1 | Arenal                                            | 1076.7266 |\n",
       "| Entire home/apt | 1 | Bami                                              |  441.0000 |\n",
       "| Entire home/apt | 1 | Barrio León                                       |  499.3333 |\n",
       "| Entire home/apt | 1 | Bda. de Pineda                                    | 1280.0000 |\n",
       "| Entire home/apt | 1 | Carretera de Carmona, María Auxiliadora, Fontanal | 2573.0000 |\n",
       "| Entire home/apt | 1 | Ciudad Jardín                                     |  385.0000 |\n",
       "| Entire home/apt | 1 | Colores, Entreparques                             |  520.0000 |\n",
       "| Entire home/apt | 1 | Consolación                                       |   50.0000 |\n",
       "| Entire home/apt | 1 | Cruz Roja, Capuchinos                             |  626.6667 |\n",
       "| Entire home/apt | 1 | Doctor Barraquer, G. Renfe, Policlínico           |  548.8000 |\n",
       "| Entire home/apt | 1 | El Carmen                                         |  353.0000 |\n",
       "| Entire home/apt | 1 | El Cerro                                          | 2947.5000 |\n",
       "| Entire home/apt | 1 | El Porvenir                                       | 1377.5000 |\n",
       "| Entire home/apt | 1 | El Rocío                                          |  940.0000 |\n",
       "| Entire home/apt | 1 | El Torrejón, El Cerezo                            |  640.0000 |\n",
       "| Entire home/apt | 1 | Encarnación, Regina                               |  786.4370 |\n",
       "| Entire home/apt | 1 | Feria                                             | 1040.1224 |\n",
       "| Entire home/apt | 1 | Giralda Sur                                       | 4425.0000 |\n",
       "| Entire home/apt | 1 | Heliópolis                                        |  316.0000 |\n",
       "| Entire home/apt | 1 | Huerta de la Salud                                | 1043.3333 |\n",
       "| Entire home/apt | 1 | Huerta de Santa Teresa                            |  602.2000 |\n",
       "| Entire home/apt | 1 | Huerta del Pilar                                  |  640.0000 |\n",
       "| Entire home/apt | 1 | Juan XXIII                                        |  750.0000 |\n",
       "| Entire home/apt | 1 | La Buhaira                                        |  957.0000 |\n",
       "| Entire home/apt | 1 | La Calzada                                        |  754.3333 |\n",
       "| Entire home/apt | 1 | La Florida                                        | 1161.3333 |\n",
       "| Entire home/apt | 1 | Las Huertas                                       | 1818.0000 |\n",
       "| ⋮ | ⋮ | ⋮ | ⋮ |\n",
       "| Private room | 2  | Tablada                       |   856.0000 |\n",
       "| Private room | 2  | Triana Casco Antiguo          |  1374.0000 |\n",
       "| Private room | 2  | Triana Este                   |    57.5000 |\n",
       "| Private room | 3  | Alfalfa                       |  1444.5000 |\n",
       "| Private room | 3  | El Tardón, El Carmen          |    18.0000 |\n",
       "| Private room | 3  | Encarnación, Regina           |   142.0000 |\n",
       "| Private room | 3  | Feria                         |  1470.0000 |\n",
       "| Private room | 3  | Heliópolis                    |  1845.0000 |\n",
       "| Private room | 3  | La Buhaira                    |  2060.0000 |\n",
       "| Private room | 3  | Las Almenas                   |  1214.0000 |\n",
       "| Private room | 3  | Las Huertas                   |  2250.0000 |\n",
       "| Private room | 3  | Los Remedios                  |   100.0000 |\n",
       "| Private room | 3  | Nervión                       |  3000.0000 |\n",
       "| Private room | 3  | San Bartolomé                 |   570.0000 |\n",
       "| Private room | 3  | San José Obrero               |  1800.0000 |\n",
       "| Private room | 3  | San Lorenzo                   |   812.0000 |\n",
       "| Private room | 3  | San Pablo A y B               |  3150.0000 |\n",
       "| Private room | 3  | Santa Catalina                |   310.0000 |\n",
       "| Private room | 3  | Santa Cruz                    |  2130.0000 |\n",
       "| Private room | 3  | Triana Este                   |    58.5000 |\n",
       "| Private room | 4  | Alfalfa                       |   780.0000 |\n",
       "| Private room | 4  | no asignado                   |  2520.0000 |\n",
       "| Private room | 5+ | El Plantinar                  |  1305.0000 |\n",
       "| Private room | 5+ | San Bartolomé                 |    80.0000 |\n",
       "| Shared room  | 1  | Alfalfa                       | 11136.0000 |\n",
       "| Shared room  | 1  | Arenal                        |   960.6667 |\n",
       "| Shared room  | 1  | Barrio León                   |  1350.0000 |\n",
       "| Shared room  | 1  | Museo                         |    36.0000 |\n",
       "| Shared room  | 1  | Santa Catalina                |   150.0000 |\n",
       "| Shared room  | 1  | Tiro de Línea, Santa Genoveva |   690.0000 |\n",
       "\n"
      ],
      "text/plain": [
       "    room_type       bedrooms neighbourhood_cleansed                           \n",
       "1   Entire home/apt 1        Alfalfa                                          \n",
       "2   Entire home/apt 1        an Roque                                         \n",
       "3   Entire home/apt 1        Arbol Gordo                                      \n",
       "4   Entire home/apt 1        Arenal                                           \n",
       "5   Entire home/apt 1        Bami                                             \n",
       "6   Entire home/apt 1        Barrio León                                      \n",
       "7   Entire home/apt 1        Bda. de Pineda                                   \n",
       "8   Entire home/apt 1        Carretera de Carmona, María Auxiliadora, Fontanal\n",
       "9   Entire home/apt 1        Ciudad Jardín                                    \n",
       "10  Entire home/apt 1        Colores, Entreparques                            \n",
       "11  Entire home/apt 1        Consolación                                      \n",
       "12  Entire home/apt 1        Cruz Roja, Capuchinos                            \n",
       "13  Entire home/apt 1        Doctor Barraquer, G. Renfe, Policlínico          \n",
       "14  Entire home/apt 1        El Carmen                                        \n",
       "15  Entire home/apt 1        El Cerro                                         \n",
       "16  Entire home/apt 1        El Porvenir                                      \n",
       "17  Entire home/apt 1        El Rocío                                         \n",
       "18  Entire home/apt 1        El Torrejón, El Cerezo                           \n",
       "19  Entire home/apt 1        Encarnación, Regina                              \n",
       "20  Entire home/apt 1        Feria                                            \n",
       "21  Entire home/apt 1        Giralda Sur                                      \n",
       "22  Entire home/apt 1        Heliópolis                                       \n",
       "23  Entire home/apt 1        Huerta de la Salud                               \n",
       "24  Entire home/apt 1        Huerta de Santa Teresa                           \n",
       "25  Entire home/apt 1        Huerta del Pilar                                 \n",
       "26  Entire home/apt 1        Juan XXIII                                       \n",
       "27  Entire home/apt 1        La Buhaira                                       \n",
       "28  Entire home/apt 1        La Calzada                                       \n",
       "29  Entire home/apt 1        La Florida                                       \n",
       "30  Entire home/apt 1        Las Huertas                                      \n",
       "⋮   ⋮               ⋮        ⋮                                                \n",
       "403 Private room    2        Tablada                                          \n",
       "404 Private room    2        Triana Casco Antiguo                             \n",
       "405 Private room    2        Triana Este                                      \n",
       "406 Private room    3        Alfalfa                                          \n",
       "407 Private room    3        El Tardón, El Carmen                             \n",
       "408 Private room    3        Encarnación, Regina                              \n",
       "409 Private room    3        Feria                                            \n",
       "410 Private room    3        Heliópolis                                       \n",
       "411 Private room    3        La Buhaira                                       \n",
       "412 Private room    3        Las Almenas                                      \n",
       "413 Private room    3        Las Huertas                                      \n",
       "414 Private room    3        Los Remedios                                     \n",
       "415 Private room    3        Nervión                                          \n",
       "416 Private room    3        San Bartolomé                                    \n",
       "417 Private room    3        San José Obrero                                  \n",
       "418 Private room    3        San Lorenzo                                      \n",
       "419 Private room    3        San Pablo A y B                                  \n",
       "420 Private room    3        Santa Catalina                                   \n",
       "421 Private room    3        Santa Cruz                                       \n",
       "422 Private room    3        Triana Este                                      \n",
       "423 Private room    4        Alfalfa                                          \n",
       "424 Private room    4        no asignado                                      \n",
       "425 Private room    5+       El Plantinar                                     \n",
       "426 Private room    5+       San Bartolomé                                    \n",
       "427 Shared room     1        Alfalfa                                          \n",
       "428 Shared room     1        Arenal                                           \n",
       "429 Shared room     1        Barrio León                                      \n",
       "430 Shared room     1        Museo                                            \n",
       "431 Shared room     1        Santa Catalina                                   \n",
       "432 Shared room     1        Tiro de Línea, Santa Genoveva                    \n",
       "    mean_revenue_30\n",
       "1   1480.3463      \n",
       "2    580.6000      \n",
       "3   4500.0000      \n",
       "4   1076.7266      \n",
       "5    441.0000      \n",
       "6    499.3333      \n",
       "7   1280.0000      \n",
       "8   2573.0000      \n",
       "9    385.0000      \n",
       "10   520.0000      \n",
       "11    50.0000      \n",
       "12   626.6667      \n",
       "13   548.8000      \n",
       "14   353.0000      \n",
       "15  2947.5000      \n",
       "16  1377.5000      \n",
       "17   940.0000      \n",
       "18   640.0000      \n",
       "19   786.4370      \n",
       "20  1040.1224      \n",
       "21  4425.0000      \n",
       "22   316.0000      \n",
       "23  1043.3333      \n",
       "24   602.2000      \n",
       "25   640.0000      \n",
       "26   750.0000      \n",
       "27   957.0000      \n",
       "28   754.3333      \n",
       "29  1161.3333      \n",
       "30  1818.0000      \n",
       "⋮   ⋮              \n",
       "403   856.0000     \n",
       "404  1374.0000     \n",
       "405    57.5000     \n",
       "406  1444.5000     \n",
       "407    18.0000     \n",
       "408   142.0000     \n",
       "409  1470.0000     \n",
       "410  1845.0000     \n",
       "411  2060.0000     \n",
       "412  1214.0000     \n",
       "413  2250.0000     \n",
       "414   100.0000     \n",
       "415  3000.0000     \n",
       "416   570.0000     \n",
       "417  1800.0000     \n",
       "418   812.0000     \n",
       "419  3150.0000     \n",
       "420   310.0000     \n",
       "421  2130.0000     \n",
       "422    58.5000     \n",
       "423   780.0000     \n",
       "424  2520.0000     \n",
       "425  1305.0000     \n",
       "426    80.0000     \n",
       "427 11136.0000     \n",
       "428   960.6667     \n",
       "429  1350.0000     \n",
       "430    36.0000     \n",
       "431   150.0000     \n",
       "432   690.0000     "
      ]
     },
     "metadata": {},
     "output_type": "display_data"
    }
   ],
   "source": [
    "aggregated_revenue(selected_city)"
   ]
  },
  {
   "cell_type": "markdown",
   "metadata": {},
   "source": [
    "#### 6. What is the distribution of availability over the next 30 days for each room type/ house size / neighborhood?"
   ]
  },
  {
   "cell_type": "code",
   "execution_count": 47,
   "metadata": {},
   "outputs": [
    {
     "data": {
      "image/png": "[encoded data removed]",
      "text/plain": [
       "plot without title"
      ]
     },
     "metadata": {},
     "output_type": "display_data"
    }
   ],
   "source": [
    "availability_plotting(selected_city)"
   ]
  },
  {
   "cell_type": "markdown",
   "metadata": {},
   "source": [
    "#### 7. What is the distribution of revenue over the next 30 days for each room type / house size / neighborhood? "
   ]
  },
  {
   "cell_type": "code",
   "execution_count": 48,
   "metadata": {},
   "outputs": [
    {
     "data": {
      "image/png": "[encoded data removed]",
      "text/plain": [
       "plot without title"
      ]
     },
     "metadata": {},
     "output_type": "display_data"
    }
   ],
   "source": [
    "revenue_plotting(selected_city)"
   ]
  },
  {
   "cell_type": "markdown",
   "metadata": {},
   "source": [
    "## Additional Analysis :\n",
    "### Compute the break even point \n",
    "\n",
    "_Break Event Point_ : the point at which a business starts to make as much money as it has spent on a particular product, activity, etc\n",
    "The BEP monitors how fast or how much money is required for the invest to make benefits : it is **widely used by managers to interpret the profitability of a product**, in our case : the profitability of the invest.\n",
    "\n",
    "#### Calculation\n",
    "$$Break Even Point = {\\sum{Fixed Cost} \\over Income – VariableCostsPerUnit}.$$\n",
    "\n",
    "* Fixed costs are costs that are not related to the activity\n",
    "* Variable costs are costs related to the activity\n",
    "* Income is the money earned\n",
    "\n",
    "\n",
    "#### Additionnal Data :\n",
    "In this particular case : \n",
    "* Fixed costs : Price of the Rent\n",
    "* Variable costs : Electricity\n",
    "* Income : Revenue over 365 days\n",
    "Data extracted by this [website](https://www.combien-coute.net/)\n",
    "\n",
    "\n",
    "|Ville| Sevilla  | Malaga | Majorqua  | \n",
    "|--|--|--|--|\n",
    "|Square Meter| **2516.67 €** | **2842.86 €** | **3483.33 €** |\n",
    "|Variable Expenses| **126.44 €** | **112.01 €** | **107.92 €**|\n",
    "\n",
    "#### Consideration : \n",
    "For the ease of the data harvesting we consider that:\n",
    "* the square meter price is even in each city\n",
    "* the average size for a bedroom is 10 square meter\n",
    "* each house as a lounge room of a size : ```1,5*number of room+7,5```\n",
    "* the price of the electricity is the same for every house"
   ]
  },
  {
   "cell_type": "markdown",
   "metadata": {},
   "source": [
    "### For the 3 cities"
   ]
  },
  {
   "cell_type": "code",
   "execution_count": 49,
   "metadata": {},
   "outputs": [],
   "source": [
    "cities <- c(\"sevilla\",\"malaga\", \"mallorca\")\n",
    "square_meter <- c(2516.67,2842.86,3483.33)\n",
    "charges <- c(126.44,112.01,107.92)"
   ]
  },
  {
   "cell_type": "code",
   "execution_count": 50,
   "metadata": {},
   "outputs": [],
   "source": [
    "for(i in 1:length(cities)){\n",
    "    city <- cities[i]\n",
    "    bool_index <- listings_full$city==city\n",
    "    # Creating fixed costs column \n",
    "    fixed_cost<-(square_meter[i]*(listings_full[bool_index,]$bedrooms* 10 + (1.5*listings_full[bool_index,]$bedrooms+8.5)))\n",
    "    listings_full[bool_index, 'fixed_cost'] <- fixed_cost\n",
    "    # Creating var costs column\n",
    "    listings_full[bool_index, 'var_cost'] <- ((charges[i]/31) * (365-as.integer(listings_full[bool_index, ]$availability_365)))\n",
    "    # Break Even Point in Year\n",
    "    listings_full[bool_index,'bep_year'] <- listings_full[bool_index,]$fixed_cost/(listings_full[bool_index,]$revenue_365-listings_full[bool_index,]$var_cost)\n",
    "    # Break Even Point in Turnover\n",
    "    listings_full[bool_index,'bep_turnover'] <- listings_full[bool_index,]$fixed_cost/((listings_full[bool_index,]$revenue_365-listings_full[bool_index,]$var_cost)/listings_full[bool_index,]$revenue_365)\n",
    "}"
   ]
  },
  {
   "cell_type": "code",
   "execution_count": 51,
   "metadata": {},
   "outputs": [
    {
     "data": {
      "text/html": [
       "<table>\n",
       "<caption>A data.frame: 3 × 2</caption>\n",
       "<thead>\n",
       "\t<tr><th scope=col>Group.1</th><th scope=col>x</th></tr>\n",
       "\t<tr><th scope=col>&lt;fct&gt;</th><th scope=col>&lt;dbl&gt;</th></tr>\n",
       "</thead>\n",
       "<tbody>\n",
       "\t<tr><td>malaga  </td><td>64.13687</td></tr>\n",
       "\t<tr><td>mallorca</td><td>84.00211</td></tr>\n",
       "\t<tr><td>sevilla </td><td>83.89228</td></tr>\n",
       "</tbody>\n",
       "</table>\n"
      ],
      "text/latex": [
       "A data.frame: 3 × 2\n",
       "\\begin{tabular}{r|ll}\n",
       " Group.1 & x\\\\\n",
       " <fct> & <dbl>\\\\\n",
       "\\hline\n",
       "\t malaga   & 64.13687\\\\\n",
       "\t mallorca & 84.00211\\\\\n",
       "\t sevilla  & 83.89228\\\\\n",
       "\\end{tabular}\n"
      ],
      "text/markdown": [
       "\n",
       "A data.frame: 3 × 2\n",
       "\n",
       "| Group.1 &lt;fct&gt; | x &lt;dbl&gt; |\n",
       "|---|---|\n",
       "| malaga   | 64.13687 |\n",
       "| mallorca | 84.00211 |\n",
       "| sevilla  | 83.89228 |\n",
       "\n"
      ],
      "text/plain": [
       "  Group.1  x       \n",
       "1 malaga   64.13687\n",
       "2 mallorca 84.00211\n",
       "3 sevilla  83.89228"
      ]
     },
     "metadata": {},
     "output_type": "display_data"
    }
   ],
   "source": [
    "avg_bep_year <- aggregate(listings_full$bep_year,list(listings_full$city),mean)\n",
    "avg_bep_year"
   ]
  },
  {
   "cell_type": "code",
   "execution_count": 52,
   "metadata": {},
   "outputs": [
    {
     "data": {
      "image/png": "[encoded data removed]",
      "text/plain": [
       "plot without title"
      ]
     },
     "metadata": {},
     "output_type": "display_data"
    }
   ],
   "source": [
    "distrib_bep_year <- ggplot(listings_full, aes(city, bep_turnover))\n",
    "distrib_bep_year + geom_boxplot(aes(colour = \"red\"), outlier.shape = NA) +\n",
    "    scale_y_continuous(limits = quantile(listings$bep_turnover, c(0.1, 0.9), na.rm = T))"
   ]
  },
  {
   "cell_type": "code",
   "execution_count": 53,
   "metadata": {},
   "outputs": [
    {
     "data": {
      "image/png": "[encoded data removed]",
      "text/plain": [
       "plot without title"
      ]
     },
     "metadata": {},
     "output_type": "display_data"
    }
   ],
   "source": [
    "# To smooth the Break Even Point in Year\n",
    "listings_full$bep_year[listings_full$bep_year>100] <- 100\n",
    "p<- ggplot(listings_full, aes(x=bep_year, color=city)) +\n",
    "  geom_density(size=0.5)+\n",
    "  labs(title=\"Break Even Point density curve\",x=\"Year\", y = \"Density\")\n",
    "p"
   ]
  },
  {
   "cell_type": "code",
   "execution_count": 54,
   "metadata": {},
   "outputs": [
    {
     "data": {
      "image/png": "[encoded data removed]",
      "text/plain": [
       "plot without title"
      ]
     },
     "metadata": {},
     "output_type": "display_data"
    }
   ],
   "source": [
    "distrib_bep_year <- ggplot(listings_full, aes(city, bep_year))\n",
    "distrib_bep_year + geom_boxplot(aes(colour = city), outlier.shape = NA) +\n",
    "    scale_y_continuous(limits = quantile(listings$bep_turnover, c(0.1, 0.9), na.rm = T))"
   ]
  },
  {
   "cell_type": "code",
   "execution_count": null,
   "metadata": {},
   "outputs": [],
   "source": []
  }
 ],
 "metadata": {
  "kernelspec": {
   "display_name": "R",
   "language": "R",
   "name": "ir"
  },
  "language_info": {
   "codemirror_mode": "r",
   "file_extension": ".r",
   "mimetype": "text/x-r-source",
   "name": "R",
   "pygments_lexer": "r",
   "version": "3.6.1"
  }
 },
 "nbformat": 4,
 "nbformat_minor": 4
}

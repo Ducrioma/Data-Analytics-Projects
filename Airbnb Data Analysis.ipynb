{
 "cells": [
  {
   "cell_type": "markdown",
   "metadata": {},
   "source": [
    "# Airbnb Data Analysis\n",
    "\n",
    "Data from [Inside Airbnb](http://insideairbnb.com/get-the-data.html)"
   ]
  },
  {
   "cell_type": "markdown",
   "metadata": {},
   "source": [
    "## Data Preparation\n",
    "1. Prepare data set for each city\n",
    "2. Clean data for each city"
   ]
  },
  {
   "cell_type": "code",
   "execution_count": 1,
   "metadata": {},
   "outputs": [],
   "source": [
    "# need to install this package first\n",
    "# install.packages(\"stringi\")"
   ]
  },
  {
   "cell_type": "code",
   "execution_count": 2,
   "metadata": {},
   "outputs": [
    {
     "name": "stderr",
     "output_type": "stream",
     "text": [
      "\n",
      "Attaching package: ‘dplyr’\n",
      "\n",
      "The following objects are masked from ‘package:stats’:\n",
      "\n",
      "    filter, lag\n",
      "\n",
      "The following objects are masked from ‘package:base’:\n",
      "\n",
      "    intersect, setdiff, setequal, union\n",
      "\n",
      "\n",
      "Attaching package: ‘data.table’\n",
      "\n",
      "The following objects are masked from ‘package:dplyr’:\n",
      "\n",
      "    between, first, last\n",
      "\n"
     ]
    }
   ],
   "source": [
    "library(dplyr)\n",
    "# issue with this one\n",
    "library(stringr)\n",
    "library(ggplot2)\n",
    "library(data.table)"
   ]
  },
  {
   "cell_type": "code",
   "execution_count": 3,
   "metadata": {},
   "outputs": [],
   "source": [
    "# Function from the data_prep script\n",
    "\n",
    "# a generic function to prepare data for a specific city, data_date\n",
    "prepare_data <- function(city, data_date)\n",
    "{\n",
    "    # Cleaning listings dataframe\n",
    "    \n",
    "    # suppose raw data is stored in data_raw/city/data_date/listings.csv.gz\n",
    "    listings_url <- file.path(\"data_raw\", city, data_date, \"listings.csv.gz\")\n",
    "    # suppose raw data is stored in data_raw/city/data_date/calendar.csv.gz\n",
    "    calendar_url <- file.path(\"data_raw\", city, data_date, \"calendar.csv.gz\")\n",
    "    \n",
    "    print(paste0(\"reading data from \", listings_url))\n",
    "    listings <- read.csv(gzfile(listings_url))\n",
    "    print(paste0(\"reading data from \", calendar_url))\n",
    "    calendar <- read.csv(gzfile(calendar_url))\n",
    "    \n",
    "    ## Add Keys: columns city and day date\n",
    "    listings$city <- city\n",
    "    listings$data_date <- data_date\n",
    "    \n",
    "    ## Select interesting columns\n",
    "    ### Most columns don't contain interesting information\n",
    "    columns_listings <- c(\"city\", \"data_date\", \"id\", \"neighbourhood_cleansed\", \n",
    "                          \"latitude\", \"longitude\", \n",
    "                          \"property_type\", \"room_type\", \"accommodates\", \"bedrooms\", \n",
    "                          \"beds\", \"price\", \"minimum_nights\",  \"maximum_nights\")\n",
    "    \n",
    "    listings <- listings %>% \n",
    "        select(columns_listings) %>% \n",
    "        arrange(id)\n",
    "    \n",
    "    \n",
    "    # Cleaning calendar dataframe\n",
    "    \n",
    "    ## arrange by id and date\n",
    "    calendar <- calendar %>% \n",
    "        arrange(listing_id, date)\n",
    "    \n",
    "    ## add day number (starting first day)\n",
    "    calendar <- calendar %>%\n",
    "        group_by(listing_id) %>%\n",
    "        mutate(day_nb = row_number()) %>%\n",
    "        ungroup()\n",
    "    \n",
    "    ## change available column to binary\n",
    "    calendar <- calendar %>%\n",
    "        mutate(available = ifelse(available==\"t\", 1, 0))\n",
    "    \n",
    "    ## clean price column and transform to numeric\n",
    "    calendar <- calendar %>%\n",
    "        mutate(price = str_replace(price, \"\\\\$\", \"\"),\n",
    "               adjusted_price = str_replace(adjusted_price, \"\\\\$\", \"\"))\n",
    "    calendar <- calendar %>%\n",
    "        mutate(price = str_replace(price, \",\", \"\"),\n",
    "               adjusted_price = str_replace(adjusted_price, \",\", \"\"))\n",
    "    calendar <- calendar %>%\n",
    "        mutate(price = as.numeric(price),\n",
    "               adjusted_price = as.numeric(adjusted_price))\n",
    "    \n",
    "    ## calculate estimated revenue for upcoming day\n",
    "    calendar <- calendar %>%\n",
    "        mutate(revenue = price*(1-available))\n",
    "    \n",
    "    ## calculate availability, price, revenue for next 30, 60 days ... for each listing_id\n",
    "    calendar <- calendar %>%\n",
    "        group_by(listing_id) %>%\n",
    "        summarise(availability_30 = sum(available[day_nb<=30], na.rm = TRUE),\n",
    "                  availability_60 = sum(available[day_nb<=60], na.rm = TRUE),\n",
    "                  availability_90 = sum(available[day_nb<=90], na.rm = TRUE),\n",
    "                  availability_365 = sum(available[day_nb<=365], na.rm = TRUE),\n",
    "                  price_30 = mean(price[day_nb<=30 & available==0], na.rm = TRUE),\n",
    "                  price_60 = mean(price[day_nb<=60 & available==0], na.rm = TRUE),\n",
    "                  price_90 = mean(price[day_nb<=90 & available==0], na.rm = TRUE),\n",
    "                  price_365 = mean(price[day_nb<=365 & available==0], na.rm = TRUE),\n",
    "                  revenue_30 = sum(revenue[day_nb<=30], na.rm = TRUE),\n",
    "                  revenue_60 = sum(revenue[day_nb<=60], na.rm = TRUE),\n",
    "                  revenue_90 = sum(revenue[day_nb<=90], na.rm = TRUE),\n",
    "                  revenue_365 = sum(revenue[day_nb<=365], na.rm = TRUE)           \n",
    "        )\n",
    "    \n",
    "    listings_cleansed <- listings %>% left_join(calendar, by = c(\"id\" = \"listing_id\"))\n",
    "    \n",
    "    dir.create(file.path(\"data_cleansed\", city, data_date), recursive = TRUE)\n",
    "    \n",
    "    write.csv(listings_cleansed, file.path(\"data_cleansed\", city, data_date, \"listings.csv\"))\n",
    "    print(paste0(\"saving data into \", file.path(\"data_cleansed\", city, data_date, \"listings.csv\")))\n",
    "    \n",
    "}  "
   ]
  },
  {
   "cell_type": "markdown",
   "metadata": {},
   "source": [
    "### Unit test : Reading data for malaga:\n",
    "#### Preparing data, working ✅"
   ]
  },
  {
   "cell_type": "code",
   "execution_count": 4,
   "metadata": {},
   "outputs": [],
   "source": [
    "# city <- \"malaga\"\n",
    "# data_date <- \"2020-06-30\"\n",
    "# prepare_data(city,data_date)"
   ]
  },
  {
   "cell_type": "markdown",
   "metadata": {},
   "source": [
    "# Prepare data for all selected cities "
   ]
  },
  {
   "cell_type": "code",
   "execution_count": 12,
   "metadata": {},
   "outputs": [],
   "source": [
    "# Reading cleansed data\n",
    "cities <- c(\"malaga\", \"mallorca\", \"sevilla\")\n",
    "data_dates <- c(\"2020-06-30\", \"2020-09-19\", \"2020-06-29\")\n",
    "\n",
    "# We are only interested in data between min_date and max_date\n",
    "min_date <- '2020-05-01'\n",
    "max_date <- '2020-11-01'\n",
    "\n",
    "files_paths <- c()"
   ]
  },
  {
   "cell_type": "markdown",
   "metadata": {},
   "source": [
    "### Preparare data for Malaga, mallorca, sevilla"
   ]
  },
  {
   "cell_type": "code",
   "execution_count": 6,
   "metadata": {},
   "outputs": [
    {
     "name": "stdout",
     "output_type": "stream",
     "text": [
      "[1] \"-------------------------------------------------\"\n",
      "[1] \"Preparing data for malaga compiled at 2020-06-30\"\n",
      "[1] \"reading data from data_raw/malaga/2020-06-30/listings.csv.gz\"\n",
      "[1] \"reading data from data_raw/malaga/2020-06-30/calendar.csv.gz\"\n"
     ]
    },
    {
     "name": "stderr",
     "output_type": "stream",
     "text": [
      "Warning message in dir.create(file.path(\"data_cleansed\", city, data_date), recursive = TRUE):\n",
      "“'data_cleansed/malaga/2020-06-30' already exists”"
     ]
    },
    {
     "name": "stdout",
     "output_type": "stream",
     "text": [
      "[1] \"saving data into data_cleansed/malaga/2020-06-30/listings.csv\"\n",
      "[1] \"-------------------------------------------------\"\n",
      "[1] \"Preparing data for mallorca compiled at 2020-09-19\"\n",
      "[1] \"reading data from data_raw/mallorca/2020-09-19/listings.csv.gz\"\n",
      "[1] \"reading data from data_raw/mallorca/2020-09-19/calendar.csv.gz\"\n"
     ]
    },
    {
     "name": "stderr",
     "output_type": "stream",
     "text": [
      "Warning message in dir.create(file.path(\"data_cleansed\", city, data_date), recursive = TRUE):\n",
      "“'data_cleansed/mallorca/2020-09-19' already exists”"
     ]
    },
    {
     "name": "stdout",
     "output_type": "stream",
     "text": [
      "[1] \"saving data into data_cleansed/mallorca/2020-09-19/listings.csv\"\n",
      "[1] \"-------------------------------------------------\"\n",
      "[1] \"Preparing data for sevilla compiled at 2020-06-29\"\n",
      "[1] \"reading data from data_raw/sevilla/2020-06-29/listings.csv.gz\"\n",
      "[1] \"reading data from data_raw/sevilla/2020-06-29/calendar.csv.gz\"\n"
     ]
    },
    {
     "name": "stderr",
     "output_type": "stream",
     "text": [
      "Warning message in dir.create(file.path(\"data_cleansed\", city, data_date), recursive = TRUE):\n",
      "“'data_cleansed/sevilla/2020-06-29' already exists”"
     ]
    },
    {
     "name": "stdout",
     "output_type": "stream",
     "text": [
      "[1] \"saving data into data_cleansed/sevilla/2020-06-29/listings.csv\"\n"
     ]
    }
   ],
   "source": [
    "for(i in 1:length(cities)){\n",
    "    city <- cities[i]\n",
    "    data_date <- data_dates[i]\n",
    "    print(\"-------------------------------------------------\")\n",
    "    print(paste(c(\"Preparing data for\", city, \"compiled at\", data_date), collapse = \" \"))\n",
    "    prepare_data(city, data_date)\n",
    "}\n",
    "\n",
    "# Clean Environment\n",
    "rm(list=ls())"
   ]
  },
  {
   "cell_type": "markdown",
   "metadata": {},
   "source": [
    "### Read data in cities between min_date and max_date"
   ]
  },
  {
   "cell_type": "code",
   "execution_count": 13,
   "metadata": {},
   "outputs": [],
   "source": [
    "for(city in cities){\n",
    "    file_dir <- file.path(\".\", \"data_cleansed\", city)\n",
    "    file_subdirs <- list.dirs(file_dir)\n",
    "    file_subdirs <- file_subdirs[-1]\n",
    "\n",
    "    for(file_subdir in file_subdirs){\n",
    "        if(file_subdir < file.path(file_dir, min_date) | file_subdir > file.path(file_dir, max_date)  )\n",
    "            file_subdirs = file_subdirs[file_subdirs != file_subdir]\n",
    "    }\n",
    "    files_paths <- c(files_paths, file_subdirs)\n",
    "}\n",
    "files_paths <- file.path(files_paths, \"listings.csv\")\n",
    "listings <- \n",
    "    do.call(rbind,\n",
    "            lapply(files_paths, read.csv, row.names=1))"
   ]
  },
  {
   "cell_type": "code",
   "execution_count": 15,
   "metadata": {},
   "outputs": [
    {
     "data": {
      "text/plain": [
       "       city            data_date           id          \n",
       " malaga  : 6301   2020-06-30: 6301   Min.   :   11547  \n",
       " mallorca:17608   2020-09-19:17608   1st Qu.:17278276  \n",
       " sevilla : 6668   2020-06-29: 6668   Median :26547472  \n",
       "                                     Mean   :26203204  \n",
       "                                     3rd Qu.:37310559  \n",
       "                                     Max.   :45499210  \n",
       "                                                       \n",
       "       neighbourhood_cleansed    latitude       longitude      \n",
       " Centro           : 4327      Min.   :36.64   Min.   :-6.0165  \n",
       " Pollença         : 2268      1st Qu.:37.39   1st Qu.:-4.4354  \n",
       " Palma de Mallorca: 1952      Median :39.43   Median : 2.6531  \n",
       " Alcúdia          : 1732      Mean   :38.56   Mean   :-0.4932  \n",
       " Manacor          :  902      3rd Qu.:39.71   3rd Qu.: 3.0743  \n",
       " Santanyí         :  887      Max.   :39.93   Max.   : 3.4755  \n",
       " (Other)          :18509                                       \n",
       "          property_type             room_type      accommodates   \n",
       " Apartment       :10440   Entire home/apt:26365   Min.   : 0.000  \n",
       " Entire villa    : 4878   Hotel room     :  383   1st Qu.: 4.000  \n",
       " Entire house    : 4823   Private room   : 3778   Median : 4.000  \n",
       " Entire apartment: 3259   Shared room    :   51   Mean   : 5.139  \n",
       " Entire cottage  :  880                           3rd Qu.: 6.000  \n",
       " House           :  723                           Max.   :28.000  \n",
       " (Other)         : 5574                                           \n",
       "    bedrooms           beds            price       minimum_nights    \n",
       " Min.   : 0.000   Min.   : 0.000   $60.00 :  829   Min.   :   1.000  \n",
       " 1st Qu.: 1.000   1st Qu.: 2.000   $50.00 :  825   1st Qu.:   1.000  \n",
       " Median : 2.000   Median : 3.000   $100.00:  718   Median :   2.000  \n",
       " Mean   : 2.388   Mean   : 3.613   $70.00 :  706   Mean   :   4.264  \n",
       " 3rd Qu.: 3.000   3rd Qu.: 5.000   $80.00 :  689   3rd Qu.:   5.000  \n",
       " Max.   :40.000   Max.   :50.000   $90.00 :  579   Max.   :1124.000  \n",
       " NA's   :284      NA's   :130      (Other):26231                     \n",
       " maximum_nights   availability_30 availability_60 availability_90\n",
       " Min.   :   1.0   Min.   : 0.00   Min.   : 0.0    Min.   : 0.00  \n",
       " 1st Qu.: 300.0   1st Qu.:11.00   1st Qu.:27.0    1st Qu.:36.00  \n",
       " Median :1125.0   Median :25.00   Median :48.0    Median :72.00  \n",
       " Mean   : 823.6   Mean   :19.95   Mean   :39.9    Mean   :59.03  \n",
       " 3rd Qu.:1125.0   3rd Qu.:29.00   3rd Qu.:59.0    3rd Qu.:88.00  \n",
       " Max.   :5000.0   Max.   :30.00   Max.   :60.0    Max.   :90.00  \n",
       "                                                                 \n",
       " availability_365    price_30           price_60           price_90       \n",
       " Min.   :  0.0    Min.   :    0.00   Min.   :    0.00   Min.   :    0.00  \n",
       " 1st Qu.:118.0    1st Qu.:   64.82   1st Qu.:   67.12   1st Qu.:   68.82  \n",
       " Median :242.0    Median :  114.00   Median :  116.00   Median :  115.04  \n",
       " Mean   :222.1    Mean   :  173.91   Mean   :  179.25   Mean   :  182.72  \n",
       " 3rd Qu.:347.0    3rd Qu.:  200.00   3rd Qu.:  204.50   3rd Qu.:  205.94  \n",
       " Max.   :365.0    Max.   :11400.00   Max.   :11400.00   Max.   :11400.00  \n",
       "                  NA's   :7387       NA's   :5712       NA's   :5075      \n",
       "   price_365          revenue_30       revenue_60       revenue_90    \n",
       " Min.   :    0.00   Min.   :     0   Min.   :     0   Min.   :     0  \n",
       " 1st Qu.:   70.71   1st Qu.:    35   1st Qu.:   110   1st Qu.:   183  \n",
       " Median :  125.00   Median :   496   Median :  1280   Median :  1869  \n",
       " Mean   :  320.10   Mean   :  1704   Mean   :  3573   Mean   :  5884  \n",
       " 3rd Qu.:  240.00   3rd Qu.:  1890   3rd Qu.:  4060   3rd Qu.:  6563  \n",
       " Max.   :11400.00   Max.   :300000   Max.   :600000   Max.   :900000  \n",
       " NA's   :2867                                                         \n",
       "  revenue_365     \n",
       " Min.   :      0  \n",
       " 1st Qu.:   2240  \n",
       " Median :  12380  \n",
       " Mean   :  49014  \n",
       " 3rd Qu.:  31995  \n",
       " Max.   :3362015  \n",
       "                  "
      ]
     },
     "metadata": {},
     "output_type": "display_data"
    }
   ],
   "source": [
    "summary(listings)"
   ]
  },
  {
   "cell_type": "markdown",
   "metadata": {},
   "source": [
    "### Preprocessing "
   ]
  },
  {
   "cell_type": "code",
   "execution_count": 16,
   "metadata": {},
   "outputs": [],
   "source": [
    "listings$bedrooms <- ifelse(listings$bedrooms >= 5, \"5+\", listings$bedrooms)\n",
    "\n",
    "# to do : break even point\n",
    "# steps 1 : find the average price for the squarre meter in the city --> fixed costs \n",
    "# steps 2 : find the average price for the electricity and gas for --> variable costs \n",
    "# steps 3 : compute the break even point in day"
   ]
  },
  {
   "cell_type": "code",
   "execution_count": 20,
   "metadata": {},
   "outputs": [
    {
     "data": {
      "text/html": [
       "<ol class=list-inline>\n",
       "\t<li>'city'</li>\n",
       "\t<li>'data_date'</li>\n",
       "\t<li>'id'</li>\n",
       "\t<li>'neighbourhood_cleansed'</li>\n",
       "\t<li>'latitude'</li>\n",
       "\t<li>'longitude'</li>\n",
       "\t<li>'property_type'</li>\n",
       "\t<li>'room_type'</li>\n",
       "\t<li>'accommodates'</li>\n",
       "\t<li>'bedrooms'</li>\n",
       "\t<li>'beds'</li>\n",
       "\t<li>'price'</li>\n",
       "\t<li>'minimum_nights'</li>\n",
       "\t<li>'maximum_nights'</li>\n",
       "\t<li>'availability_30'</li>\n",
       "\t<li>'availability_60'</li>\n",
       "\t<li>'availability_90'</li>\n",
       "\t<li>'availability_365'</li>\n",
       "\t<li>'price_30'</li>\n",
       "\t<li>'price_60'</li>\n",
       "\t<li>'price_90'</li>\n",
       "\t<li>'price_365'</li>\n",
       "\t<li>'revenue_30'</li>\n",
       "\t<li>'revenue_60'</li>\n",
       "\t<li>'revenue_90'</li>\n",
       "\t<li>'revenue_365'</li>\n",
       "</ol>\n"
      ],
      "text/latex": [
       "\\begin{enumerate*}\n",
       "\\item 'city'\n",
       "\\item 'data\\_date'\n",
       "\\item 'id'\n",
       "\\item 'neighbourhood\\_cleansed'\n",
       "\\item 'latitude'\n",
       "\\item 'longitude'\n",
       "\\item 'property\\_type'\n",
       "\\item 'room\\_type'\n",
       "\\item 'accommodates'\n",
       "\\item 'bedrooms'\n",
       "\\item 'beds'\n",
       "\\item 'price'\n",
       "\\item 'minimum\\_nights'\n",
       "\\item 'maximum\\_nights'\n",
       "\\item 'availability\\_30'\n",
       "\\item 'availability\\_60'\n",
       "\\item 'availability\\_90'\n",
       "\\item 'availability\\_365'\n",
       "\\item 'price\\_30'\n",
       "\\item 'price\\_60'\n",
       "\\item 'price\\_90'\n",
       "\\item 'price\\_365'\n",
       "\\item 'revenue\\_30'\n",
       "\\item 'revenue\\_60'\n",
       "\\item 'revenue\\_90'\n",
       "\\item 'revenue\\_365'\n",
       "\\end{enumerate*}\n"
      ],
      "text/markdown": [
       "1. 'city'\n",
       "2. 'data_date'\n",
       "3. 'id'\n",
       "4. 'neighbourhood_cleansed'\n",
       "5. 'latitude'\n",
       "6. 'longitude'\n",
       "7. 'property_type'\n",
       "8. 'room_type'\n",
       "9. 'accommodates'\n",
       "10. 'bedrooms'\n",
       "11. 'beds'\n",
       "12. 'price'\n",
       "13. 'minimum_nights'\n",
       "14. 'maximum_nights'\n",
       "15. 'availability_30'\n",
       "16. 'availability_60'\n",
       "17. 'availability_90'\n",
       "18. 'availability_365'\n",
       "19. 'price_30'\n",
       "20. 'price_60'\n",
       "21. 'price_90'\n",
       "22. 'price_365'\n",
       "23. 'revenue_30'\n",
       "24. 'revenue_60'\n",
       "25. 'revenue_90'\n",
       "26. 'revenue_365'\n",
       "\n",
       "\n"
      ],
      "text/plain": [
       " [1] \"city\"                   \"data_date\"              \"id\"                    \n",
       " [4] \"neighbourhood_cleansed\" \"latitude\"               \"longitude\"             \n",
       " [7] \"property_type\"          \"room_type\"              \"accommodates\"          \n",
       "[10] \"bedrooms\"               \"beds\"                   \"price\"                 \n",
       "[13] \"minimum_nights\"         \"maximum_nights\"         \"availability_30\"       \n",
       "[16] \"availability_60\"        \"availability_90\"        \"availability_365\"      \n",
       "[19] \"price_30\"               \"price_60\"               \"price_90\"              \n",
       "[22] \"price_365\"              \"revenue_30\"             \"revenue_60\"            \n",
       "[25] \"revenue_90\"             \"revenue_365\"           "
      ]
     },
     "metadata": {},
     "output_type": "display_data"
    }
   ],
   "source": [
    "names(listings)"
   ]
  },
  {
   "cell_type": "markdown",
   "metadata": {},
   "source": [
    "## Example of analysis"
   ]
  },
  {
   "cell_type": "code",
   "execution_count": 21,
   "metadata": {},
   "outputs": [
    {
     "name": "stderr",
     "output_type": "stream",
     "text": [
      "Warning message:\n",
      "“Removed 3058 rows containing non-finite values (stat_boxplot).”"
     ]
    },
    {
     "data": {
      "image/png": "[encoded data removed]",
      "text/plain": [
       "plot without title"
      ]
     },
     "metadata": {},
     "output_type": "display_data"
    }
   ],
   "source": [
    "# Analysis 1\n",
    "## Comparing the distribution of estimated revenue for the next 30 days of listings\n",
    "## per each city.\n",
    "p <- ggplot(listings, aes(city, revenue_30))\n",
    "p + geom_boxplot(aes(colour = \"red\"), outlier.shape = NA) +\n",
    "    scale_y_continuous(limits = quantile(listings$revenue_30, c(0.1, 0.9), na.rm = T))"
   ]
  },
  {
   "cell_type": "markdown",
   "metadata": {},
   "source": [
    "## Analysis : comparing cities"
   ]
  },
  {
   "cell_type": "markdown",
   "metadata": {},
   "source": [
    "#### 1. Find the \"average availability over 30 days\" of listings per each city"
   ]
  },
  {
   "cell_type": "code",
   "execution_count": 30,
   "metadata": {},
   "outputs": [
    {
     "data": {
      "text/html": [
       "<ol class=list-inline>\n",
       "\t<li>30577</li>\n",
       "\t<li>26</li>\n",
       "</ol>\n"
      ],
      "text/latex": [
       "\\begin{enumerate*}\n",
       "\\item 30577\n",
       "\\item 26\n",
       "\\end{enumerate*}\n"
      ],
      "text/markdown": [
       "1. 30577\n",
       "2. 26\n",
       "\n",
       "\n"
      ],
      "text/plain": [
       "[1] 30577    26"
      ]
     },
     "metadata": {},
     "output_type": "display_data"
    }
   ],
   "source": [
    "dim(listings$availability_30)"
   ]
  },
  {
   "cell_type": "code",
   "execution_count": 22,
   "metadata": {},
   "outputs": [
    {
     "ename": "ERROR",
     "evalue": "Error in apply(listings$availability_30, 2, mean): dim(X) must have a positive length\n",
     "output_type": "error",
     "traceback": [
      "Error in apply(listings$availability_30, 2, mean): dim(X) must have a positive length\nTraceback:\n",
      "1. apply(listings$availability_30, 2, mean)",
      "2. stop(\"dim(X) must have a positive length\")"
     ]
    }
   ],
   "source": [
    "apply(listings$availability_30, 2, mean)"
   ]
  },
  {
   "cell_type": "code",
   "execution_count": null,
   "metadata": {},
   "outputs": [],
   "source": []
  }
 ],
 "metadata": {
  "kernelspec": {
   "display_name": "R",
   "language": "R",
   "name": "ir"
  },
  "language_info": {
   "codemirror_mode": "r",
   "file_extension": ".r",
   "mimetype": "text/x-r-source",
   "name": "R",
   "pygments_lexer": "r",
   "version": "3.6.1"
  }
 },
 "nbformat": 4,
 "nbformat_minor": 4
}

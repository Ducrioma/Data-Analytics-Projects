{
 "cells": [
  {
   "cell_type": "markdown",
   "metadata": {},
   "source": [
    "# Airbnb Data Analysis\n",
    "\n",
    "Data from [Inside Airbnb](http://insideairbnb.com/get-the-data.html)\n",
    "\n",
    "Command to convert the ipynb to rmkdwn : ```rmarkdown:::convert_ipynb('Airbnb Data Analysis.ipynb')```\n"
   ]
  },
  {
   "cell_type": "markdown",
   "metadata": {},
   "source": [
    "## Data Preparation\n",
    "1. Prepare data set for each city\n",
    "2. Clean data for each city"
   ]
  },
  {
   "cell_type": "code",
   "execution_count": 1,
   "metadata": {},
   "outputs": [],
   "source": [
    "# Need to install this package first\n",
    "# install.packages(\"stringi\")"
   ]
  },
  {
   "cell_type": "code",
   "execution_count": 2,
   "metadata": {},
   "outputs": [
    {
     "name": "stderr",
     "output_type": "stream",
     "text": [
      "\n",
      "Attaching package: 'dplyr'\n",
      "\n",
      "\n",
      "The following objects are masked from 'package:stats':\n",
      "\n",
      "    filter, lag\n",
      "\n",
      "\n",
      "The following objects are masked from 'package:base':\n",
      "\n",
      "    intersect, setdiff, setequal, union\n",
      "\n",
      "\n",
      "Warning message:\n",
      "\"package 'ggplot2' was built under R version 4.0.3\"\n",
      "Warning message:\n",
      "\"package 'data.table' was built under R version 4.0.3\"\n",
      "\n",
      "Attaching package: 'data.table'\n",
      "\n",
      "\n",
      "The following objects are masked from 'package:dplyr':\n",
      "\n",
      "    between, first, last\n",
      "\n",
      "\n"
     ]
    }
   ],
   "source": [
    "library(dplyr)\n",
    "# issue with this one\n",
    "library(stringr)\n",
    "library(ggplot2)\n",
    "library(data.table)"
   ]
  },
  {
   "cell_type": "code",
   "execution_count": 3,
   "metadata": {},
   "outputs": [],
   "source": [
    "# Function from the data_prep script\n",
    "\n",
    "# a generic function to prepare data for a specific city, data_date\n",
    "prepare_data <- function(city, data_date)\n",
    "{\n",
    "    # Cleaning listings dataframe\n",
    "    \n",
    "    # suppose raw data is stored in data_raw/city/data_date/listings.csv.gz\n",
    "    listings_url <- file.path(\"data_raw\", city, data_date, \"listings.csv.gz\")\n",
    "    # suppose raw data is stored in data_raw/city/data_date/calendar.csv.gz\n",
    "    calendar_url <- file.path(\"data_raw\", city, data_date, \"calendar.csv.gz\")\n",
    "    \n",
    "    print(paste0(\"reading data from \", listings_url))\n",
    "    listings <- read.csv(gzfile(listings_url))\n",
    "    print(paste0(\"reading data from \", calendar_url))\n",
    "    calendar <- read.csv(gzfile(calendar_url))\n",
    "    \n",
    "    ## Add Keys: columns city and day date\n",
    "    listings$city <- city\n",
    "    listings$data_date <- data_date\n",
    "    \n",
    "    ## Select interesting columns\n",
    "    ### Most columns don't contain interesting information\n",
    "    columns_listings <- c(\"city\", \"data_date\", \"id\", \"neighbourhood_cleansed\", \n",
    "                          \"latitude\", \"longitude\", \n",
    "                          \"property_type\", \"room_type\", \"accommodates\", \"bedrooms\", \n",
    "                          \"beds\", \"price\", \"minimum_nights\",  \"maximum_nights\")\n",
    "    \n",
    "    listings <- listings %>% \n",
    "        select(columns_listings) %>% \n",
    "        arrange(id)\n",
    "    \n",
    "    \n",
    "    # Cleaning calendar dataframe\n",
    "    \n",
    "    ## arrange by id and date\n",
    "    calendar <- calendar %>% \n",
    "        arrange(listing_id, date)\n",
    "    \n",
    "    ## add day number (starting first day)\n",
    "    calendar <- calendar %>%\n",
    "        group_by(listing_id) %>%\n",
    "        mutate(day_nb = row_number()) %>%\n",
    "        ungroup()\n",
    "    \n",
    "    ## change available column to binary\n",
    "    calendar <- calendar %>%\n",
    "        mutate(available = ifelse(available==\"t\", 1, 0))\n",
    "    \n",
    "    ## clean price column and transform to numeric\n",
    "    calendar <- calendar %>%\n",
    "        mutate(price = str_replace(price, \"\\\\$\", \"\"),\n",
    "               adjusted_price = str_replace(adjusted_price, \"\\\\$\", \"\"))\n",
    "    calendar <- calendar %>%\n",
    "        mutate(price = str_replace(price, \",\", \"\"),\n",
    "               adjusted_price = str_replace(adjusted_price, \",\", \"\"))\n",
    "    calendar <- calendar %>%\n",
    "        mutate(price = as.numeric(price),\n",
    "               adjusted_price = as.numeric(adjusted_price))\n",
    "    \n",
    "    ## calculate estimated revenue for upcoming day\n",
    "    calendar <- calendar %>%\n",
    "        mutate(revenue = price*(1-available))\n",
    "    \n",
    "    ## calculate availability, price, revenue for next 30, 60 days ... for each listing_id\n",
    "    calendar <- calendar %>%\n",
    "        group_by(listing_id) %>%\n",
    "        summarise(availability_30 = sum(available[day_nb<=30], na.rm = TRUE),\n",
    "                  availability_60 = sum(available[day_nb<=60], na.rm = TRUE),\n",
    "                  availability_90 = sum(available[day_nb<=90], na.rm = TRUE),\n",
    "                  availability_365 = sum(available[day_nb<=365], na.rm = TRUE),\n",
    "                  price_30 = mean(price[day_nb<=30 & available==0], na.rm = TRUE),\n",
    "                  price_60 = mean(price[day_nb<=60 & available==0], na.rm = TRUE),\n",
    "                  price_90 = mean(price[day_nb<=90 & available==0], na.rm = TRUE),\n",
    "                  price_365 = mean(price[day_nb<=365 & available==0], na.rm = TRUE),\n",
    "                  revenue_30 = sum(revenue[day_nb<=30], na.rm = TRUE),\n",
    "                  revenue_60 = sum(revenue[day_nb<=60], na.rm = TRUE),\n",
    "                  revenue_90 = sum(revenue[day_nb<=90], na.rm = TRUE),\n",
    "                  revenue_365 = sum(revenue[day_nb<=365], na.rm = TRUE)           \n",
    "        )\n",
    "    \n",
    "    listings_cleansed <- listings %>% left_join(calendar, by = c(\"id\" = \"listing_id\"))\n",
    "    \n",
    "    dir.create(file.path(\"data_cleansed\", city, data_date), recursive = TRUE)\n",
    "    \n",
    "    write.csv(listings_cleansed, file.path(\"data_cleansed\", city, data_date, \"listings.csv\"))\n",
    "    print(paste0(\"saving data into \", file.path(\"data_cleansed\", city, data_date, \"listings.csv\")))\n",
    "    \n",
    "}  "
   ]
  },
  {
   "cell_type": "markdown",
   "metadata": {},
   "source": [
    "### Unit test : Reading data for malaga:\n",
    "#### Preparing data, working ✅"
   ]
  },
  {
   "cell_type": "code",
   "execution_count": 4,
   "metadata": {},
   "outputs": [],
   "source": [
    "# city <- \"malaga\"\n",
    "# data_date <- \"2020-06-30\"\n",
    "# prepare_data(city,data_date)"
   ]
  },
  {
   "cell_type": "markdown",
   "metadata": {},
   "source": [
    "# Prepare data for all selected cities "
   ]
  },
  {
   "cell_type": "code",
   "execution_count": 5,
   "metadata": {},
   "outputs": [],
   "source": [
    "# Reading cleansed data\n",
    "cities <- c(\"malaga\", \"mallorca\", \"sevilla\")\n",
    "data_dates <- c(\"2020-06-30\", \"2020-09-19\", \"2020-06-29\")\n",
    "\n",
    "# We are only interested in data between min_date and max_date\n",
    "min_date <- '2020-05-01'\n",
    "max_date <- '2020-11-01'\n",
    "\n",
    "files_paths <- c()"
   ]
  },
  {
   "cell_type": "markdown",
   "metadata": {},
   "source": [
    "### Preparare data for Malaga, mallorca, sevilla"
   ]
  },
  {
   "cell_type": "code",
   "execution_count": 6,
   "metadata": {},
   "outputs": [
    {
     "name": "stdout",
     "output_type": "stream",
     "text": [
      "[1] \"-------------------------------------------------\"\n",
      "[1] \"Preparing data for malaga compiled at 2020-06-30\"\n",
      "[1] \"reading data from data_raw/malaga/2020-06-30/listings.csv.gz\"\n",
      "[1] \"reading data from data_raw/malaga/2020-06-30/calendar.csv.gz\"\n"
     ]
    },
    {
     "name": "stderr",
     "output_type": "stream",
     "text": [
      "Note: Using an external vector in selections is ambiguous.\n",
      "\u001b[34mi\u001b[39m Use `all_of(columns_listings)` instead of `columns_listings` to silence this message.\n",
      "\u001b[34mi\u001b[39m See <https://tidyselect.r-lib.org/reference/faq-external-vector.html>.\n",
      "\u001b[90mThis message is displayed once per session.\u001b[39m\n",
      "\n",
      "`summarise()` ungrouping output (override with `.groups` argument)\n",
      "\n",
      "Warning message in dir.create(file.path(\"data_cleansed\", city, data_date), recursive = TRUE):\n",
      "\"'data_cleansed\\malaga\\2020-06-30' existe déjà\"\n"
     ]
    },
    {
     "name": "stdout",
     "output_type": "stream",
     "text": [
      "[1] \"saving data into data_cleansed/malaga/2020-06-30/listings.csv\"\n",
      "[1] \"-------------------------------------------------\"\n",
      "[1] \"Preparing data for mallorca compiled at 2020-09-19\"\n",
      "[1] \"reading data from data_raw/mallorca/2020-09-19/listings.csv.gz\"\n",
      "[1] \"reading data from data_raw/mallorca/2020-09-19/calendar.csv.gz\"\n"
     ]
    },
    {
     "name": "stderr",
     "output_type": "stream",
     "text": [
      "`summarise()` ungrouping output (override with `.groups` argument)\n",
      "\n",
      "Warning message in dir.create(file.path(\"data_cleansed\", city, data_date), recursive = TRUE):\n",
      "\"'data_cleansed\\mallorca\\2020-09-19' existe déjà\"\n"
     ]
    },
    {
     "name": "stdout",
     "output_type": "stream",
     "text": [
      "[1] \"saving data into data_cleansed/mallorca/2020-09-19/listings.csv\"\n",
      "[1] \"-------------------------------------------------\"\n",
      "[1] \"Preparing data for sevilla compiled at 2020-06-29\"\n",
      "[1] \"reading data from data_raw/sevilla/2020-06-29/listings.csv.gz\"\n",
      "[1] \"reading data from data_raw/sevilla/2020-06-29/calendar.csv.gz\"\n"
     ]
    },
    {
     "name": "stderr",
     "output_type": "stream",
     "text": [
      "`summarise()` ungrouping output (override with `.groups` argument)\n",
      "\n",
      "Warning message in dir.create(file.path(\"data_cleansed\", city, data_date), recursive = TRUE):\n",
      "\"'data_cleansed\\sevilla\\2020-06-29' existe déjà\"\n"
     ]
    },
    {
     "name": "stdout",
     "output_type": "stream",
     "text": [
      "[1] \"saving data into data_cleansed/sevilla/2020-06-29/listings.csv\"\n"
     ]
    }
   ],
   "source": [
    "for(i in 1:length(cities)){\n",
    "    city <- cities[i]\n",
    "    data_date <- data_dates[i]\n",
    "    print(\"-------------------------------------------------\")\n",
    "    print(paste(c(\"Preparing data for\", city, \"compiled at\", data_date), collapse = \" \"))\n",
    "    prepare_data(city, data_date)\n",
    "}\n",
    "\n",
    "# Clean Environment\n",
    "rm(list=ls())"
   ]
  },
  {
   "cell_type": "code",
   "execution_count": 7,
   "metadata": {},
   "outputs": [],
   "source": [
    "# Reading cleansed data\n",
    "cities <- c(\"malaga\", \"mallorca\", \"sevilla\")\n",
    "data_dates <- c(\"2020-06-30\", \"2020-09-19\", \"2020-06-29\")\n",
    "\n",
    "# We are only interested in data between min_date and max_date\n",
    "min_date <- '2020-05-01'\n",
    "max_date <- '2020-11-01'\n",
    "\n",
    "files_paths <- c()"
   ]
  },
  {
   "cell_type": "markdown",
   "metadata": {},
   "source": [
    "### Read data in cities between min_date and max_date"
   ]
  },
  {
   "cell_type": "code",
   "execution_count": 8,
   "metadata": {},
   "outputs": [],
   "source": [
    "for(city in cities){\n",
    "    file_dir <- file.path(\".\", \"data_cleansed\", city)\n",
    "    file_subdirs <- list.dirs(file_dir)\n",
    "    file_subdirs <- file_subdirs[-1]\n",
    "\n",
    "    for(file_subdir in file_subdirs){\n",
    "        if(file_subdir < file.path(file_dir, min_date) | file_subdir > file.path(file_dir, max_date)  )\n",
    "            file_subdirs = file_subdirs[file_subdirs != file_subdir]\n",
    "    }\n",
    "    files_paths <- c(files_paths, file_subdirs)\n",
    "}\n",
    "files_paths <- file.path(files_paths, \"listings.csv\")\n",
    "listings <- \n",
    "    do.call(rbind,\n",
    "            lapply(files_paths, read.csv, row.names=1))"
   ]
  },
  {
   "cell_type": "code",
   "execution_count": 9,
   "metadata": {},
   "outputs": [
    {
     "data": {
      "text/plain": [
       "     city            data_date               id          \n",
       " Length:30577       Length:30577       Min.   :   11547  \n",
       " Class :character   Class :character   1st Qu.:17278276  \n",
       " Mode  :character   Mode  :character   Median :26547472  \n",
       "                                       Mean   :26203204  \n",
       "                                       3rd Qu.:37310559  \n",
       "                                       Max.   :45499210  \n",
       "                                                         \n",
       " neighbourhood_cleansed    latitude       longitude       property_type     \n",
       " Length:30577           Min.   :36.64   Min.   :-6.0165   Length:30577      \n",
       " Class :character       1st Qu.:37.39   1st Qu.:-4.4354   Class :character  \n",
       " Mode  :character       Median :39.43   Median : 2.6531   Mode  :character  \n",
       "                        Mean   :38.56   Mean   :-0.4932                     \n",
       "                        3rd Qu.:39.71   3rd Qu.: 3.0743                     \n",
       "                        Max.   :39.93   Max.   : 3.4755                     \n",
       "                                                                            \n",
       "  room_type          accommodates       bedrooms           beds       \n",
       " Length:30577       Min.   : 0.000   Min.   : 0.000   Min.   : 0.000  \n",
       " Class :character   1st Qu.: 4.000   1st Qu.: 1.000   1st Qu.: 2.000  \n",
       " Mode  :character   Median : 4.000   Median : 2.000   Median : 3.000  \n",
       "                    Mean   : 5.139   Mean   : 2.388   Mean   : 3.613  \n",
       "                    3rd Qu.: 6.000   3rd Qu.: 3.000   3rd Qu.: 5.000  \n",
       "                    Max.   :28.000   Max.   :40.000   Max.   :50.000  \n",
       "                                     NA's   :284      NA's   :130     \n",
       "    price           minimum_nights     maximum_nights   availability_30\n",
       " Length:30577       Min.   :   1.000   Min.   :   1.0   Min.   : 0.00  \n",
       " Class :character   1st Qu.:   1.000   1st Qu.: 300.0   1st Qu.:11.00  \n",
       " Mode  :character   Median :   2.000   Median :1125.0   Median :25.00  \n",
       "                    Mean   :   4.264   Mean   : 823.6   Mean   :19.95  \n",
       "                    3rd Qu.:   5.000   3rd Qu.:1125.0   3rd Qu.:29.00  \n",
       "                    Max.   :1124.000   Max.   :5000.0   Max.   :30.00  \n",
       "                                                                       \n",
       " availability_60 availability_90 availability_365    price_30       \n",
       " Min.   : 0.0    Min.   : 0.00   Min.   :  0.0    Min.   :    0.00  \n",
       " 1st Qu.:27.0    1st Qu.:36.00   1st Qu.:118.0    1st Qu.:   64.82  \n",
       " Median :48.0    Median :72.00   Median :242.0    Median :  114.00  \n",
       " Mean   :39.9    Mean   :59.03   Mean   :222.1    Mean   :  173.91  \n",
       " 3rd Qu.:59.0    3rd Qu.:88.00   3rd Qu.:347.0    3rd Qu.:  200.00  \n",
       " Max.   :60.0    Max.   :90.00   Max.   :365.0    Max.   :11400.00  \n",
       "                                                  NA's   :7387      \n",
       "    price_60           price_90          price_365          revenue_30    \n",
       " Min.   :    0.00   Min.   :    0.00   Min.   :    0.00   Min.   :     0  \n",
       " 1st Qu.:   67.12   1st Qu.:   68.82   1st Qu.:   70.71   1st Qu.:    35  \n",
       " Median :  116.00   Median :  115.04   Median :  125.00   Median :   496  \n",
       " Mean   :  179.25   Mean   :  182.72   Mean   :  320.10   Mean   :  1704  \n",
       " 3rd Qu.:  204.50   3rd Qu.:  205.94   3rd Qu.:  240.00   3rd Qu.:  1890  \n",
       " Max.   :11400.00   Max.   :11400.00   Max.   :11400.00   Max.   :300000  \n",
       " NA's   :5712       NA's   :5075       NA's   :2867                       \n",
       "   revenue_60       revenue_90      revenue_365     \n",
       " Min.   :     0   Min.   :     0   Min.   :      0  \n",
       " 1st Qu.:   110   1st Qu.:   183   1st Qu.:   2240  \n",
       " Median :  1280   Median :  1869   Median :  12380  \n",
       " Mean   :  3573   Mean   :  5884   Mean   :  49014  \n",
       " 3rd Qu.:  4060   3rd Qu.:  6563   3rd Qu.:  31995  \n",
       " Max.   :600000   Max.   :900000   Max.   :3362015  \n",
       "                                                    "
      ]
     },
     "metadata": {},
     "output_type": "display_data"
    }
   ],
   "source": [
    "summary(listings)"
   ]
  },
  {
   "cell_type": "markdown",
   "metadata": {},
   "source": [
    "### Make a copy of the full dataset"
   ]
  },
  {
   "cell_type": "code",
   "execution_count": 10,
   "metadata": {},
   "outputs": [],
   "source": [
    "listings_full <- listings[complete.cases(listings), ]"
   ]
  },
  {
   "cell_type": "markdown",
   "metadata": {},
   "source": [
    "### Preprocessing "
   ]
  },
  {
   "cell_type": "code",
   "execution_count": 11,
   "metadata": {},
   "outputs": [],
   "source": [
    "listings$bedrooms <- ifelse(listings$bedrooms >= 5, \"5+\", listings$bedrooms)\n",
    "\n",
    "# to do : break even point\n",
    "# steps 1 : find the average price for the squarre meter in the city --> fixed costs \n",
    "# steps 2 : find the average price for the electricity and gas for --> variable costs \n",
    "# steps 3 : compute the break even point in day"
   ]
  },
  {
   "cell_type": "code",
   "execution_count": 12,
   "metadata": {},
   "outputs": [
    {
     "data": {
      "text/plain": [
       "     city            data_date               id          \n",
       " Length:30577       Length:30577       Min.   :   11547  \n",
       " Class :character   Class :character   1st Qu.:17278276  \n",
       " Mode  :character   Mode  :character   Median :26547472  \n",
       "                                       Mean   :26203204  \n",
       "                                       3rd Qu.:37310559  \n",
       "                                       Max.   :45499210  \n",
       "                                                         \n",
       " neighbourhood_cleansed    latitude       longitude       property_type     \n",
       " Length:30577           Min.   :36.64   Min.   :-6.0165   Length:30577      \n",
       " Class :character       1st Qu.:37.39   1st Qu.:-4.4354   Class :character  \n",
       " Mode  :character       Median :39.43   Median : 2.6531   Mode  :character  \n",
       "                        Mean   :38.56   Mean   :-0.4932                     \n",
       "                        3rd Qu.:39.71   3rd Qu.: 3.0743                     \n",
       "                        Max.   :39.93   Max.   : 3.4755                     \n",
       "                                                                            \n",
       "  room_type          accommodates      bedrooms              beds       \n",
       " Length:30577       Min.   : 0.000   Length:30577       Min.   : 0.000  \n",
       " Class :character   1st Qu.: 4.000   Class :character   1st Qu.: 2.000  \n",
       " Mode  :character   Median : 4.000   Mode  :character   Median : 3.000  \n",
       "                    Mean   : 5.139                      Mean   : 3.613  \n",
       "                    3rd Qu.: 6.000                      3rd Qu.: 5.000  \n",
       "                    Max.   :28.000                      Max.   :50.000  \n",
       "                                                        NA's   :130     \n",
       "    price           minimum_nights     maximum_nights   availability_30\n",
       " Length:30577       Min.   :   1.000   Min.   :   1.0   Min.   : 0.00  \n",
       " Class :character   1st Qu.:   1.000   1st Qu.: 300.0   1st Qu.:11.00  \n",
       " Mode  :character   Median :   2.000   Median :1125.0   Median :25.00  \n",
       "                    Mean   :   4.264   Mean   : 823.6   Mean   :19.95  \n",
       "                    3rd Qu.:   5.000   3rd Qu.:1125.0   3rd Qu.:29.00  \n",
       "                    Max.   :1124.000   Max.   :5000.0   Max.   :30.00  \n",
       "                                                                       \n",
       " availability_60 availability_90 availability_365    price_30       \n",
       " Min.   : 0.0    Min.   : 0.00   Min.   :  0.0    Min.   :    0.00  \n",
       " 1st Qu.:27.0    1st Qu.:36.00   1st Qu.:118.0    1st Qu.:   64.82  \n",
       " Median :48.0    Median :72.00   Median :242.0    Median :  114.00  \n",
       " Mean   :39.9    Mean   :59.03   Mean   :222.1    Mean   :  173.91  \n",
       " 3rd Qu.:59.0    3rd Qu.:88.00   3rd Qu.:347.0    3rd Qu.:  200.00  \n",
       " Max.   :60.0    Max.   :90.00   Max.   :365.0    Max.   :11400.00  \n",
       "                                                  NA's   :7387      \n",
       "    price_60           price_90          price_365          revenue_30    \n",
       " Min.   :    0.00   Min.   :    0.00   Min.   :    0.00   Min.   :     0  \n",
       " 1st Qu.:   67.12   1st Qu.:   68.82   1st Qu.:   70.71   1st Qu.:    35  \n",
       " Median :  116.00   Median :  115.04   Median :  125.00   Median :   496  \n",
       " Mean   :  179.25   Mean   :  182.72   Mean   :  320.10   Mean   :  1704  \n",
       " 3rd Qu.:  204.50   3rd Qu.:  205.94   3rd Qu.:  240.00   3rd Qu.:  1890  \n",
       " Max.   :11400.00   Max.   :11400.00   Max.   :11400.00   Max.   :300000  \n",
       " NA's   :5712       NA's   :5075       NA's   :2867                       \n",
       "   revenue_60       revenue_90      revenue_365     \n",
       " Min.   :     0   Min.   :     0   Min.   :      0  \n",
       " 1st Qu.:   110   1st Qu.:   183   1st Qu.:   2240  \n",
       " Median :  1280   Median :  1869   Median :  12380  \n",
       " Mean   :  3573   Mean   :  5884   Mean   :  49014  \n",
       " 3rd Qu.:  4060   3rd Qu.:  6563   3rd Qu.:  31995  \n",
       " Max.   :600000   Max.   :900000   Max.   :3362015  \n",
       "                                                    "
      ]
     },
     "metadata": {},
     "output_type": "display_data"
    }
   ],
   "source": [
    "summary(listings)"
   ]
  },
  {
   "cell_type": "markdown",
   "metadata": {},
   "source": [
    "## Example of analysis"
   ]
  },
  {
   "cell_type": "code",
   "execution_count": 13,
   "metadata": {},
   "outputs": [
    {
     "name": "stderr",
     "output_type": "stream",
     "text": [
      "Warning message:\n",
      "\"Removed 3058 rows containing non-finite values (stat_boxplot).\"\n"
     ]
    },
    {
     "data": {
      "image/png": "[encoded data removed]",
      "text/plain": [
       "plot without title"
      ]
     },
     "metadata": {
      "image/png": {
       "height": 420,
       "width": 420
      }
     },
     "output_type": "display_data"
    }
   ],
   "source": [
    "# Analysis 1\n",
    "## Comparing the distribution of estimated revenue for the next 30 days of listings\n",
    "## per each city.\n",
    "p <- ggplot(listings, aes(city, revenue_30))\n",
    "p + geom_boxplot(aes(colour = \"red\"), outlier.shape = NA) +\n",
    "    scale_y_continuous(limits = quantile(listings$revenue_30, c(0.1, 0.9), na.rm = T))"
   ]
  },
  {
   "cell_type": "markdown",
   "metadata": {},
   "source": [
    "## Analysis 1 : comparing cities"
   ]
  },
  {
   "cell_type": "markdown",
   "metadata": {},
   "source": [
    "#### 1. Find the \"average availability over 30 days\" of listings per each city"
   ]
  },
  {
   "cell_type": "code",
   "execution_count": 14,
   "metadata": {},
   "outputs": [],
   "source": [
    "avg_av <- aggregate(listings$availability_30, list(listings$city),mean)"
   ]
  },
  {
   "cell_type": "code",
   "execution_count": 15,
   "metadata": {},
   "outputs": [
    {
     "data": {
      "text/html": [
       "<table>\n",
       "<caption>A data.frame: 3 × 2</caption>\n",
       "<thead>\n",
       "\t<tr><th scope=col>Group.1</th><th scope=col>x</th></tr>\n",
       "\t<tr><th scope=col>&lt;chr&gt;</th><th scope=col>&lt;dbl&gt;</th></tr>\n",
       "</thead>\n",
       "<tbody>\n",
       "\t<tr><td>malaga  </td><td>17.96286</td></tr>\n",
       "\t<tr><td>mallorca</td><td>20.67787</td></tr>\n",
       "\t<tr><td>sevilla </td><td>19.89412</td></tr>\n",
       "</tbody>\n",
       "</table>\n"
      ],
      "text/latex": [
       "A data.frame: 3 × 2\n",
       "\\begin{tabular}{ll}\n",
       " Group.1 & x\\\\\n",
       " <chr> & <dbl>\\\\\n",
       "\\hline\n",
       "\t malaga   & 17.96286\\\\\n",
       "\t mallorca & 20.67787\\\\\n",
       "\t sevilla  & 19.89412\\\\\n",
       "\\end{tabular}\n"
      ],
      "text/markdown": [
       "\n",
       "A data.frame: 3 × 2\n",
       "\n",
       "| Group.1 &lt;chr&gt; | x &lt;dbl&gt; |\n",
       "|---|---|\n",
       "| malaga   | 17.96286 |\n",
       "| mallorca | 20.67787 |\n",
       "| sevilla  | 19.89412 |\n",
       "\n"
      ],
      "text/plain": [
       "  Group.1  x       \n",
       "1 malaga   17.96286\n",
       "2 mallorca 20.67787\n",
       "3 sevilla  19.89412"
      ]
     },
     "metadata": {},
     "output_type": "display_data"
    }
   ],
   "source": [
    "avg_av"
   ]
  },
  {
   "cell_type": "markdown",
   "metadata": {},
   "source": [
    "#### 2. Find the \"average revenue over 30 days\" of listings per each city"
   ]
  },
  {
   "cell_type": "code",
   "execution_count": 16,
   "metadata": {},
   "outputs": [],
   "source": [
    "avg_rev <- aggregate(listings$revenue_30,list(listings$city),mean)"
   ]
  },
  {
   "cell_type": "code",
   "execution_count": 17,
   "metadata": {},
   "outputs": [
    {
     "data": {
      "text/html": [
       "<table>\n",
       "<caption>A data.frame: 3 × 2</caption>\n",
       "<thead>\n",
       "\t<tr><th scope=col>Group.1</th><th scope=col>x</th></tr>\n",
       "\t<tr><th scope=col>&lt;chr&gt;</th><th scope=col>&lt;dbl&gt;</th></tr>\n",
       "</thead>\n",
       "<tbody>\n",
       "\t<tr><td>malaga  </td><td>1165.814</td></tr>\n",
       "\t<tr><td>mallorca</td><td>2158.894</td></tr>\n",
       "\t<tr><td>sevilla </td><td>1012.779</td></tr>\n",
       "</tbody>\n",
       "</table>\n"
      ],
      "text/latex": [
       "A data.frame: 3 × 2\n",
       "\\begin{tabular}{ll}\n",
       " Group.1 & x\\\\\n",
       " <chr> & <dbl>\\\\\n",
       "\\hline\n",
       "\t malaga   & 1165.814\\\\\n",
       "\t mallorca & 2158.894\\\\\n",
       "\t sevilla  & 1012.779\\\\\n",
       "\\end{tabular}\n"
      ],
      "text/markdown": [
       "\n",
       "A data.frame: 3 × 2\n",
       "\n",
       "| Group.1 &lt;chr&gt; | x &lt;dbl&gt; |\n",
       "|---|---|\n",
       "| malaga   | 1165.814 |\n",
       "| mallorca | 2158.894 |\n",
       "| sevilla  | 1012.779 |\n",
       "\n"
      ],
      "text/plain": [
       "  Group.1  x       \n",
       "1 malaga   1165.814\n",
       "2 mallorca 2158.894\n",
       "3 sevilla  1012.779"
      ]
     },
     "metadata": {},
     "output_type": "display_data"
    }
   ],
   "source": [
    "avg_rev"
   ]
  },
  {
   "cell_type": "markdown",
   "metadata": {},
   "source": [
    "#### 3. Compare the distribution of estimated availability for the next 30 days of listings per each city\n",
    "[source](http://www.sthda.com/french/wiki/ggplot2-courbe-de-distribution-guide-de-demarrage-rapide-logiciel-r-et-visualisation-de-donnees)"
   ]
  },
  {
   "cell_type": "code",
   "execution_count": 18,
   "metadata": {},
   "outputs": [
    {
     "data": {
      "image/png": "[encoded data removed]",
      "text/plain": [
       "plot without title"
      ]
     },
     "metadata": {
      "image/png": {
       "height": 420,
       "width": 420
      }
     },
     "output_type": "display_data"
    }
   ],
   "source": [
    "distrib_av <- ggplot(listings, aes(city, availability_30))\n",
    "distrib_av + geom_boxplot(aes(colour = \"red\"), outlier.shape = NA) +\n",
    "    scale_y_continuous(limits = quantile(listings$availability_30, c(0.1, 0.9), na.rm = T))"
   ]
  },
  {
   "cell_type": "markdown",
   "metadata": {},
   "source": [
    "#### 4. Compare the distribution of estimated revenue for the next 30 days of listings per each city"
   ]
  },
  {
   "cell_type": "code",
   "execution_count": 19,
   "metadata": {},
   "outputs": [
    {
     "name": "stderr",
     "output_type": "stream",
     "text": [
      "Warning message:\n",
      "\"Removed 3058 rows containing non-finite values (stat_boxplot).\"\n"
     ]
    },
    {
     "data": {
      "image/png": "[encoded data removed]",
      "text/plain": [
       "plot without title"
      ]
     },
     "metadata": {
      "image/png": {
       "height": 420,
       "width": 420
      }
     },
     "output_type": "display_data"
    }
   ],
   "source": [
    "distrib_rv <- ggplot(listings, aes(city, revenue_30))\n",
    "distrib_rv + geom_boxplot(aes(colour = \"red\"), outlier.shape = NA) +\n",
    "    scale_y_continuous(limits = quantile(listings$revenue_30, c(0.1, 0.9), na.rm = T))"
   ]
  },
  {
   "cell_type": "markdown",
   "metadata": {},
   "source": [
    "#### 5. Compare the distribution of estimated revenue for the next 30 days of listings per each city & for each house size (# of bedrooms)"
   ]
  },
  {
   "cell_type": "code",
   "execution_count": 20,
   "metadata": {},
   "outputs": [
    {
     "name": "stderr",
     "output_type": "stream",
     "text": [
      "Warning message:\n",
      "\"Removed 3028 rows containing non-finite values (stat_boxplot).\"\n"
     ]
    },
    {
     "data": {
      "image/png": "[encoded data removed]",
      "text/plain": [
       "plot without title"
      ]
     },
     "metadata": {
      "image/png": {
       "height": 420,
       "width": 420
      }
     },
     "output_type": "display_data"
    }
   ],
   "source": [
    "specified <- listings[complete.cases(listings), ]\n",
    "distrib_rv_hsize <- ggplot(specified, aes(bedrooms, revenue_30))\n",
    "distrib_rv_hsize + geom_boxplot(aes(colour = \"red\"), outlier.shape = NA) +\n",
    "    scale_y_continuous(limits = quantile(listings$revenue_30, c(0.1, 0.9), na.rm = T)) + \n",
    "    facet_wrap(~ city)"
   ]
  },
  {
   "cell_type": "markdown",
   "metadata": {},
   "source": [
    "#### 6. Compare the distribution of estimated revenue for the next 30 days of listings per each city  & for each room type (room_type)"
   ]
  },
  {
   "cell_type": "code",
   "execution_count": 21,
   "metadata": {},
   "outputs": [
    {
     "name": "stderr",
     "output_type": "stream",
     "text": [
      "Warning message:\n",
      "\"Removed 3058 rows containing non-finite values (stat_boxplot).\"\n"
     ]
    },
    {
     "data": {
      "image/png": "[encoded data removed]",
      "text/plain": [
       "plot without title"
      ]
     },
     "metadata": {
      "image/png": {
       "height": 420,
       "width": 420
      }
     },
     "output_type": "display_data"
    }
   ],
   "source": [
    "distrib_rv_hsize <- ggplot(listings, aes(room_type, revenue_30))\n",
    "distrib_rv_hsize + geom_boxplot(aes(colour = \"red\"), outlier.shape = NA) +\n",
    "    scale_y_continuous(limits = quantile(listings$revenue_30, c(0.1, 0.9), na.rm = T)) + \n",
    "    facet_wrap(~ city)"
   ]
  },
  {
   "cell_type": "markdown",
   "metadata": {},
   "source": [
    "## Analysis 2 : Deep Dive in one City Analysis"
   ]
  },
  {
   "cell_type": "markdown",
   "metadata": {},
   "source": [
    "### Functions"
   ]
  },
  {
   "cell_type": "markdown",
   "metadata": {},
   "source": [
    "#### Proportion of each room type"
   ]
  },
  {
   "cell_type": "code",
   "execution_count": 22,
   "metadata": {},
   "outputs": [],
   "source": [
    "aggregated_room_types <- function(selected_city){\n",
    "      listings %>%\n",
    "      filter(city == selected_city) %>%\n",
    "      group_by(room_type) %>%\n",
    "      summarise(nb_rooms = n()) %>%\n",
    "      mutate(freq = nb_rooms / sum(nb_rooms))\n",
    "}"
   ]
  },
  {
   "cell_type": "markdown",
   "metadata": {},
   "source": [
    "#### Proportion of each house size (# of bedroom)"
   ]
  },
  {
   "cell_type": "code",
   "execution_count": 23,
   "metadata": {},
   "outputs": [],
   "source": [
    "aggregated_house_size <- function(selected_city){ \n",
    "    proportion <- listings %>%\n",
    "    filter(city == selected_city) %>%\n",
    "    group_by(bedrooms) %>%\n",
    "    summarise(houze_size = n()) %>%\n",
    "    mutate(freq = houze_size / sum(houze_size))\n",
    "    \n",
    "    # Removing NA\n",
    "    proportion[complete.cases(proportion), ]\n",
    "}"
   ]
  },
  {
   "cell_type": "markdown",
   "metadata": {},
   "source": [
    "#### Proportion of each neighborhood"
   ]
  },
  {
   "cell_type": "code",
   "execution_count": 24,
   "metadata": {},
   "outputs": [],
   "source": [
    "aggregated_neighborhood <- function(selected_city){ \n",
    "    proportion <- listings %>%\n",
    "    filter(city == selected_city) %>%\n",
    "    group_by(neighbourhood_cleansed) %>%\n",
    "    summarise(ngbh = n()) %>%\n",
    "    mutate(freq = ngbh / sum(ngbh))\n",
    "    \n",
    "    # Removing NA\n",
    "    proportion[complete.cases(proportion), ]\n",
    "}\n"
   ]
  },
  {
   "cell_type": "markdown",
   "metadata": {},
   "source": [
    "####  Average availability over the next 30 days for each room type / house size / neighborhood"
   ]
  },
  {
   "cell_type": "code",
   "execution_count": 25,
   "metadata": {},
   "outputs": [],
   "source": [
    "aggregated_availability <- function(selected_city){ \n",
    "    avg_availability <- listings %>%\n",
    "    filter(city == selected_city) %>%\n",
    "    group_by(room_type,bedrooms,neighbourhood_cleansed) %>%\n",
    "    summarise(mean_availability_30 = mean(availability_30))\n",
    "\n",
    "    # Removing NA\n",
    "    avg_availability[complete.cases(avg_availability), ]\n",
    "}"
   ]
  },
  {
   "cell_type": "markdown",
   "metadata": {},
   "source": [
    "#### Average revenue over the next 30 days for each room type / house size / neighborhood"
   ]
  },
  {
   "cell_type": "code",
   "execution_count": 26,
   "metadata": {},
   "outputs": [],
   "source": [
    "aggregated_revenue <- function(selected_city){ \n",
    "    avg_revenue <- listings %>%\n",
    "    filter(city == selected_city) %>%\n",
    "    group_by(room_type,bedrooms,neighbourhood_cleansed) %>%\n",
    "    summarise(mean_revenue_30 = mean(revenue_30))\n",
    "\n",
    "    # Removing NA\n",
    "    avg_revenue[complete.cases(avg_revenue), ]\n",
    "}"
   ]
  },
  {
   "cell_type": "markdown",
   "metadata": {},
   "source": [
    "####  Distribution of availability over the next 30 days for each room type / house size / neighborhood"
   ]
  },
  {
   "cell_type": "code",
   "execution_count": 27,
   "metadata": {},
   "outputs": [],
   "source": [
    "availability_plotting <- function(selected_city){\n",
    "    specified <- listings[complete.cases(listings), ] %>%\n",
    "      filter(city == selected_city)\n",
    "    \n",
    "    q <- ggplot(specified, aes(bedrooms, availability_30))\n",
    "    q+stat_summary(fun.y=\"mean\", geom=\"point\")+facet_grid(room_type~neighbourhood_cleansed)\n",
    "}"
   ]
  },
  {
   "cell_type": "markdown",
   "metadata": {},
   "source": [
    "####  Distribution of revenue over the next 30 days for each room type / house size / neighborhood"
   ]
  },
  {
   "cell_type": "code",
   "execution_count": 28,
   "metadata": {},
   "outputs": [],
   "source": [
    "revenue_plotting <- function(selected_city){\n",
    "    specified <- listings[complete.cases(listings), ] %>%\n",
    "      filter(city == selected_city)\n",
    "    \n",
    "    q <- ggplot(specified, aes(bedrooms, revenue_30))\n",
    "    q+stat_summary(fun.y=\"mean\", geom=\"point\")+facet_grid(room_type~neighbourhood_cleansed)\n",
    "}"
   ]
  },
  {
   "cell_type": "markdown",
   "metadata": {},
   "source": [
    "### A. Malaga"
   ]
  },
  {
   "cell_type": "code",
   "execution_count": 29,
   "metadata": {},
   "outputs": [
    {
     "data": {
      "text/html": [
       "'malaga'"
      ],
      "text/latex": [
       "'malaga'"
      ],
      "text/markdown": [
       "'malaga'"
      ],
      "text/plain": [
       "[1] \"malaga\""
      ]
     },
     "metadata": {},
     "output_type": "display_data"
    }
   ],
   "source": [
    "selected_city <- 'malaga'\n",
    "selected_city"
   ]
  },
  {
   "cell_type": "markdown",
   "metadata": {},
   "source": [
    "#### 1. What is the proportion of each room type?"
   ]
  },
  {
   "cell_type": "code",
   "execution_count": 30,
   "metadata": {},
   "outputs": [
    {
     "name": "stderr",
     "output_type": "stream",
     "text": [
      "`summarise()` ungrouping output (override with `.groups` argument)\n",
      "\n"
     ]
    },
    {
     "data": {
      "text/html": [
       "<table>\n",
       "<caption>A tibble: 4 × 3</caption>\n",
       "<thead>\n",
       "\t<tr><th scope=col>room_type</th><th scope=col>nb_rooms</th><th scope=col>freq</th></tr>\n",
       "\t<tr><th scope=col>&lt;chr&gt;</th><th scope=col>&lt;int&gt;</th><th scope=col>&lt;dbl&gt;</th></tr>\n",
       "</thead>\n",
       "<tbody>\n",
       "\t<tr><td>Entire home/apt</td><td>5345</td><td>0.848278051</td></tr>\n",
       "\t<tr><td>Hotel room     </td><td>  39</td><td>0.006189494</td></tr>\n",
       "\t<tr><td>Private room   </td><td> 903</td><td>0.143310586</td></tr>\n",
       "\t<tr><td>Shared room    </td><td>  14</td><td>0.002221870</td></tr>\n",
       "</tbody>\n",
       "</table>\n"
      ],
      "text/latex": [
       "A tibble: 4 × 3\n",
       "\\begin{tabular}{lll}\n",
       " room\\_type & nb\\_rooms & freq\\\\\n",
       " <chr> & <int> & <dbl>\\\\\n",
       "\\hline\n",
       "\t Entire home/apt & 5345 & 0.848278051\\\\\n",
       "\t Hotel room      &   39 & 0.006189494\\\\\n",
       "\t Private room    &  903 & 0.143310586\\\\\n",
       "\t Shared room     &   14 & 0.002221870\\\\\n",
       "\\end{tabular}\n"
      ],
      "text/markdown": [
       "\n",
       "A tibble: 4 × 3\n",
       "\n",
       "| room_type &lt;chr&gt; | nb_rooms &lt;int&gt; | freq &lt;dbl&gt; |\n",
       "|---|---|---|\n",
       "| Entire home/apt | 5345 | 0.848278051 |\n",
       "| Hotel room      |   39 | 0.006189494 |\n",
       "| Private room    |  903 | 0.143310586 |\n",
       "| Shared room     |   14 | 0.002221870 |\n",
       "\n"
      ],
      "text/plain": [
       "  room_type       nb_rooms freq       \n",
       "1 Entire home/apt 5345     0.848278051\n",
       "2 Hotel room        39     0.006189494\n",
       "3 Private room     903     0.143310586\n",
       "4 Shared room       14     0.002221870"
      ]
     },
     "metadata": {},
     "output_type": "display_data"
    }
   ],
   "source": [
    "aggregated_room_types(selected_city)"
   ]
  },
  {
   "cell_type": "markdown",
   "metadata": {},
   "source": [
    "#### 2. What is the proportion of each house size (# of bedroom)?"
   ]
  },
  {
   "cell_type": "code",
   "execution_count": 31,
   "metadata": {},
   "outputs": [
    {
     "name": "stderr",
     "output_type": "stream",
     "text": [
      "`summarise()` ungrouping output (override with `.groups` argument)\n",
      "\n"
     ]
    },
    {
     "data": {
      "text/html": [
       "<table>\n",
       "<caption>A tibble: 6 × 3</caption>\n",
       "<thead>\n",
       "\t<tr><th scope=col>bedrooms</th><th scope=col>houze_size</th><th scope=col>freq</th></tr>\n",
       "\t<tr><th scope=col>&lt;chr&gt;</th><th scope=col>&lt;int&gt;</th><th scope=col>&lt;dbl&gt;</th></tr>\n",
       "</thead>\n",
       "<tbody>\n",
       "\t<tr><td>0 </td><td> 512</td><td>0.08125694</td></tr>\n",
       "\t<tr><td>1 </td><td>2905</td><td>0.46103793</td></tr>\n",
       "\t<tr><td>2 </td><td>1596</td><td>0.25329313</td></tr>\n",
       "\t<tr><td>3 </td><td> 892</td><td>0.14156483</td></tr>\n",
       "\t<tr><td>4 </td><td> 262</td><td>0.04158070</td></tr>\n",
       "\t<tr><td>5+</td><td> 127</td><td>0.02015553</td></tr>\n",
       "</tbody>\n",
       "</table>\n"
      ],
      "text/latex": [
       "A tibble: 6 × 3\n",
       "\\begin{tabular}{lll}\n",
       " bedrooms & houze\\_size & freq\\\\\n",
       " <chr> & <int> & <dbl>\\\\\n",
       "\\hline\n",
       "\t 0  &  512 & 0.08125694\\\\\n",
       "\t 1  & 2905 & 0.46103793\\\\\n",
       "\t 2  & 1596 & 0.25329313\\\\\n",
       "\t 3  &  892 & 0.14156483\\\\\n",
       "\t 4  &  262 & 0.04158070\\\\\n",
       "\t 5+ &  127 & 0.02015553\\\\\n",
       "\\end{tabular}\n"
      ],
      "text/markdown": [
       "\n",
       "A tibble: 6 × 3\n",
       "\n",
       "| bedrooms &lt;chr&gt; | houze_size &lt;int&gt; | freq &lt;dbl&gt; |\n",
       "|---|---|---|\n",
       "| 0  |  512 | 0.08125694 |\n",
       "| 1  | 2905 | 0.46103793 |\n",
       "| 2  | 1596 | 0.25329313 |\n",
       "| 3  |  892 | 0.14156483 |\n",
       "| 4  |  262 | 0.04158070 |\n",
       "| 5+ |  127 | 0.02015553 |\n",
       "\n"
      ],
      "text/plain": [
       "  bedrooms houze_size freq      \n",
       "1 0         512       0.08125694\n",
       "2 1        2905       0.46103793\n",
       "3 2        1596       0.25329313\n",
       "4 3         892       0.14156483\n",
       "5 4         262       0.04158070\n",
       "6 5+        127       0.02015553"
      ]
     },
     "metadata": {},
     "output_type": "display_data"
    }
   ],
   "source": [
    "aggregated_house_size(selected_city)"
   ]
  },
  {
   "cell_type": "markdown",
   "metadata": {},
   "source": [
    "#### 3. What is the proportion of each neighborhood?"
   ]
  },
  {
   "cell_type": "code",
   "execution_count": 32,
   "metadata": {},
   "outputs": [
    {
     "name": "stderr",
     "output_type": "stream",
     "text": [
      "`summarise()` ungrouping output (override with `.groups` argument)\n",
      "\n"
     ]
    },
    {
     "data": {
      "text/html": [
       "<table>\n",
       "<caption>A tibble: 11 × 3</caption>\n",
       "<thead>\n",
       "\t<tr><th scope=col>neighbourhood_cleansed</th><th scope=col>ngbh</th><th scope=col>freq</th></tr>\n",
       "\t<tr><th scope=col>&lt;chr&gt;</th><th scope=col>&lt;int&gt;</th><th scope=col>&lt;dbl&gt;</th></tr>\n",
       "</thead>\n",
       "<tbody>\n",
       "\t<tr><td>Bailen-Miraflores   </td><td> 165</td><td>0.026186320</td></tr>\n",
       "\t<tr><td>Campanillas         </td><td>  18</td><td>0.002856689</td></tr>\n",
       "\t<tr><td>Carretera de Cadiz  </td><td> 539</td><td>0.085541977</td></tr>\n",
       "\t<tr><td>Centro              </td><td>4327</td><td>0.686716394</td></tr>\n",
       "\t<tr><td>Churriana           </td><td>  99</td><td>0.015711792</td></tr>\n",
       "\t<tr><td>Ciudad Jardin       </td><td>  50</td><td>0.007935248</td></tr>\n",
       "\t<tr><td>Cruz De Humilladero </td><td> 287</td><td>0.045548326</td></tr>\n",
       "\t<tr><td>Este                </td><td> 643</td><td>0.102047294</td></tr>\n",
       "\t<tr><td>Palma-Palmilla      </td><td>  41</td><td>0.006506904</td></tr>\n",
       "\t<tr><td>Puerto de la Torre  </td><td>  31</td><td>0.004919854</td></tr>\n",
       "\t<tr><td>Teatinos-Universidad</td><td> 101</td><td>0.016029202</td></tr>\n",
       "</tbody>\n",
       "</table>\n"
      ],
      "text/latex": [
       "A tibble: 11 × 3\n",
       "\\begin{tabular}{lll}\n",
       " neighbourhood\\_cleansed & ngbh & freq\\\\\n",
       " <chr> & <int> & <dbl>\\\\\n",
       "\\hline\n",
       "\t Bailen-Miraflores    &  165 & 0.026186320\\\\\n",
       "\t Campanillas          &   18 & 0.002856689\\\\\n",
       "\t Carretera de Cadiz   &  539 & 0.085541977\\\\\n",
       "\t Centro               & 4327 & 0.686716394\\\\\n",
       "\t Churriana            &   99 & 0.015711792\\\\\n",
       "\t Ciudad Jardin        &   50 & 0.007935248\\\\\n",
       "\t Cruz De Humilladero  &  287 & 0.045548326\\\\\n",
       "\t Este                 &  643 & 0.102047294\\\\\n",
       "\t Palma-Palmilla       &   41 & 0.006506904\\\\\n",
       "\t Puerto de la Torre   &   31 & 0.004919854\\\\\n",
       "\t Teatinos-Universidad &  101 & 0.016029202\\\\\n",
       "\\end{tabular}\n"
      ],
      "text/markdown": [
       "\n",
       "A tibble: 11 × 3\n",
       "\n",
       "| neighbourhood_cleansed &lt;chr&gt; | ngbh &lt;int&gt; | freq &lt;dbl&gt; |\n",
       "|---|---|---|\n",
       "| Bailen-Miraflores    |  165 | 0.026186320 |\n",
       "| Campanillas          |   18 | 0.002856689 |\n",
       "| Carretera de Cadiz   |  539 | 0.085541977 |\n",
       "| Centro               | 4327 | 0.686716394 |\n",
       "| Churriana            |   99 | 0.015711792 |\n",
       "| Ciudad Jardin        |   50 | 0.007935248 |\n",
       "| Cruz De Humilladero  |  287 | 0.045548326 |\n",
       "| Este                 |  643 | 0.102047294 |\n",
       "| Palma-Palmilla       |   41 | 0.006506904 |\n",
       "| Puerto de la Torre   |   31 | 0.004919854 |\n",
       "| Teatinos-Universidad |  101 | 0.016029202 |\n",
       "\n"
      ],
      "text/plain": [
       "   neighbourhood_cleansed ngbh freq       \n",
       "1  Bailen-Miraflores       165 0.026186320\n",
       "2  Campanillas              18 0.002856689\n",
       "3  Carretera de Cadiz      539 0.085541977\n",
       "4  Centro                 4327 0.686716394\n",
       "5  Churriana                99 0.015711792\n",
       "6  Ciudad Jardin            50 0.007935248\n",
       "7  Cruz De Humilladero     287 0.045548326\n",
       "8  Este                    643 0.102047294\n",
       "9  Palma-Palmilla           41 0.006506904\n",
       "10 Puerto de la Torre       31 0.004919854\n",
       "11 Teatinos-Universidad    101 0.016029202"
      ]
     },
     "metadata": {},
     "output_type": "display_data"
    }
   ],
   "source": [
    "aggregated_neighborhood(selected_city)"
   ]
  },
  {
   "cell_type": "markdown",
   "metadata": {},
   "source": [
    "#### 4. What is the average availability over the next 30 days for each room type / house size / neighborhood?"
   ]
  },
  {
   "cell_type": "code",
   "execution_count": 33,
   "metadata": {},
   "outputs": [
    {
     "name": "stderr",
     "output_type": "stream",
     "text": [
      "`summarise()` regrouping output by 'room_type', 'bedrooms' (override with `.groups` argument)\n",
      "\n"
     ]
    },
    {
     "data": {
      "text/html": [
       "<table>\n",
       "<caption>A grouped_df: 107 × 4</caption>\n",
       "<thead>\n",
       "\t<tr><th scope=col>room_type</th><th scope=col>bedrooms</th><th scope=col>neighbourhood_cleansed</th><th scope=col>mean_availability_30</th></tr>\n",
       "\t<tr><th scope=col>&lt;chr&gt;</th><th scope=col>&lt;chr&gt;</th><th scope=col>&lt;chr&gt;</th><th scope=col>&lt;dbl&gt;</th></tr>\n",
       "</thead>\n",
       "<tbody>\n",
       "\t<tr><td>Entire home/apt</td><td>0</td><td>Bailen-Miraflores   </td><td>19.00000</td></tr>\n",
       "\t<tr><td>Entire home/apt</td><td>0</td><td>Campanillas         </td><td>29.00000</td></tr>\n",
       "\t<tr><td>Entire home/apt</td><td>0</td><td>Carretera de Cadiz  </td><td>21.31579</td></tr>\n",
       "\t<tr><td>Entire home/apt</td><td>0</td><td>Centro              </td><td>18.86797</td></tr>\n",
       "\t<tr><td>Entire home/apt</td><td>0</td><td>Churriana           </td><td>20.12500</td></tr>\n",
       "\t<tr><td>Entire home/apt</td><td>0</td><td>Ciudad Jardin       </td><td>15.00000</td></tr>\n",
       "\t<tr><td>Entire home/apt</td><td>0</td><td>Cruz De Humilladero </td><td>19.00000</td></tr>\n",
       "\t<tr><td>Entire home/apt</td><td>0</td><td>Este                </td><td>14.06522</td></tr>\n",
       "\t<tr><td>Entire home/apt</td><td>0</td><td>Palma-Palmilla      </td><td>17.00000</td></tr>\n",
       "\t<tr><td>Entire home/apt</td><td>0</td><td>Puerto de la Torre  </td><td>30.00000</td></tr>\n",
       "\t<tr><td>Entire home/apt</td><td>1</td><td>Bailen-Miraflores   </td><td>17.24390</td></tr>\n",
       "\t<tr><td>Entire home/apt</td><td>1</td><td>Campanillas         </td><td>15.00000</td></tr>\n",
       "\t<tr><td>Entire home/apt</td><td>1</td><td>Carretera de Cadiz  </td><td>15.47619</td></tr>\n",
       "\t<tr><td>Entire home/apt</td><td>1</td><td>Centro              </td><td>18.82894</td></tr>\n",
       "\t<tr><td>Entire home/apt</td><td>1</td><td>Churriana           </td><td>18.35714</td></tr>\n",
       "\t<tr><td>Entire home/apt</td><td>1</td><td>Ciudad Jardin       </td><td> 9.12500</td></tr>\n",
       "\t<tr><td>Entire home/apt</td><td>1</td><td>Cruz De Humilladero </td><td>22.25397</td></tr>\n",
       "\t<tr><td>Entire home/apt</td><td>1</td><td>Este                </td><td>14.47531</td></tr>\n",
       "\t<tr><td>Entire home/apt</td><td>1</td><td>Palma-Palmilla      </td><td>14.66667</td></tr>\n",
       "\t<tr><td>Entire home/apt</td><td>1</td><td>Puerto de la Torre  </td><td>16.25000</td></tr>\n",
       "\t<tr><td>Entire home/apt</td><td>1</td><td>Teatinos-Universidad</td><td>20.14286</td></tr>\n",
       "\t<tr><td>Entire home/apt</td><td>2</td><td>Bailen-Miraflores   </td><td>16.33333</td></tr>\n",
       "\t<tr><td>Entire home/apt</td><td>2</td><td>Carretera de Cadiz  </td><td>15.15200</td></tr>\n",
       "\t<tr><td>Entire home/apt</td><td>2</td><td>Centro              </td><td>18.94856</td></tr>\n",
       "\t<tr><td>Entire home/apt</td><td>2</td><td>Churriana           </td><td>15.29412</td></tr>\n",
       "\t<tr><td>Entire home/apt</td><td>2</td><td>Ciudad Jardin       </td><td>13.00000</td></tr>\n",
       "\t<tr><td>Entire home/apt</td><td>2</td><td>Cruz De Humilladero </td><td>17.97917</td></tr>\n",
       "\t<tr><td>Entire home/apt</td><td>2</td><td>Este                </td><td>14.76471</td></tr>\n",
       "\t<tr><td>Entire home/apt</td><td>2</td><td>Palma-Palmilla      </td><td>16.83333</td></tr>\n",
       "\t<tr><td>Entire home/apt</td><td>2</td><td>Puerto de la Torre  </td><td>17.80000</td></tr>\n",
       "\t<tr><td>...</td><td>...</td><td>...</td><td>...</td></tr>\n",
       "\t<tr><td>Private room</td><td>1 </td><td>Carretera de Cadiz  </td><td>14.61111</td></tr>\n",
       "\t<tr><td>Private room</td><td>1 </td><td>Centro              </td><td>16.43919</td></tr>\n",
       "\t<tr><td>Private room</td><td>1 </td><td>Churriana           </td><td>17.83333</td></tr>\n",
       "\t<tr><td>Private room</td><td>1 </td><td>Ciudad Jardin       </td><td>20.08333</td></tr>\n",
       "\t<tr><td>Private room</td><td>1 </td><td>Cruz De Humilladero </td><td>17.49412</td></tr>\n",
       "\t<tr><td>Private room</td><td>1 </td><td>Este                </td><td>17.77632</td></tr>\n",
       "\t<tr><td>Private room</td><td>1 </td><td>Palma-Palmilla      </td><td>17.88889</td></tr>\n",
       "\t<tr><td>Private room</td><td>1 </td><td>Puerto de la Torre  </td><td>24.75000</td></tr>\n",
       "\t<tr><td>Private room</td><td>1 </td><td>Teatinos-Universidad</td><td>17.00000</td></tr>\n",
       "\t<tr><td>Private room</td><td>2 </td><td>Carretera de Cadiz  </td><td>11.00000</td></tr>\n",
       "\t<tr><td>Private room</td><td>2 </td><td>Centro              </td><td>14.50000</td></tr>\n",
       "\t<tr><td>Private room</td><td>2 </td><td>Churriana           </td><td>23.33333</td></tr>\n",
       "\t<tr><td>Private room</td><td>2 </td><td>Cruz De Humilladero </td><td>27.00000</td></tr>\n",
       "\t<tr><td>Private room</td><td>2 </td><td>Este                </td><td>14.20000</td></tr>\n",
       "\t<tr><td>Private room</td><td>2 </td><td>Palma-Palmilla      </td><td>22.00000</td></tr>\n",
       "\t<tr><td>Private room</td><td>2 </td><td>Teatinos-Universidad</td><td>27.50000</td></tr>\n",
       "\t<tr><td>Private room</td><td>3 </td><td>Carretera de Cadiz  </td><td>27.66667</td></tr>\n",
       "\t<tr><td>Private room</td><td>3 </td><td>Centro              </td><td>23.77778</td></tr>\n",
       "\t<tr><td>Private room</td><td>3 </td><td>Churriana           </td><td>30.00000</td></tr>\n",
       "\t<tr><td>Private room</td><td>3 </td><td>Este                </td><td>22.00000</td></tr>\n",
       "\t<tr><td>Private room</td><td>3 </td><td>Palma-Palmilla      </td><td> 0.00000</td></tr>\n",
       "\t<tr><td>Private room</td><td>4 </td><td>Bailen-Miraflores   </td><td>29.50000</td></tr>\n",
       "\t<tr><td>Private room</td><td>4 </td><td>Centro              </td><td>19.25000</td></tr>\n",
       "\t<tr><td>Private room</td><td>4 </td><td>Este                </td><td> 0.00000</td></tr>\n",
       "\t<tr><td>Private room</td><td>5+</td><td>Ciudad Jardin       </td><td>27.00000</td></tr>\n",
       "\t<tr><td>Private room</td><td>5+</td><td>Este                </td><td>28.00000</td></tr>\n",
       "\t<tr><td>Shared room </td><td>1 </td><td>Centro              </td><td>14.77778</td></tr>\n",
       "\t<tr><td>Shared room </td><td>1 </td><td>Churriana           </td><td> 0.00000</td></tr>\n",
       "\t<tr><td>Shared room </td><td>1 </td><td>Cruz De Humilladero </td><td> 0.00000</td></tr>\n",
       "\t<tr><td>Shared room </td><td>1 </td><td>Este                </td><td>26.00000</td></tr>\n",
       "</tbody>\n",
       "</table>\n"
      ],
      "text/latex": [
       "A grouped\\_df: 107 × 4\n",
       "\\begin{tabular}{llll}\n",
       " room\\_type & bedrooms & neighbourhood\\_cleansed & mean\\_availability\\_30\\\\\n",
       " <chr> & <chr> & <chr> & <dbl>\\\\\n",
       "\\hline\n",
       "\t Entire home/apt & 0 & Bailen-Miraflores    & 19.00000\\\\\n",
       "\t Entire home/apt & 0 & Campanillas          & 29.00000\\\\\n",
       "\t Entire home/apt & 0 & Carretera de Cadiz   & 21.31579\\\\\n",
       "\t Entire home/apt & 0 & Centro               & 18.86797\\\\\n",
       "\t Entire home/apt & 0 & Churriana            & 20.12500\\\\\n",
       "\t Entire home/apt & 0 & Ciudad Jardin        & 15.00000\\\\\n",
       "\t Entire home/apt & 0 & Cruz De Humilladero  & 19.00000\\\\\n",
       "\t Entire home/apt & 0 & Este                 & 14.06522\\\\\n",
       "\t Entire home/apt & 0 & Palma-Palmilla       & 17.00000\\\\\n",
       "\t Entire home/apt & 0 & Puerto de la Torre   & 30.00000\\\\\n",
       "\t Entire home/apt & 1 & Bailen-Miraflores    & 17.24390\\\\\n",
       "\t Entire home/apt & 1 & Campanillas          & 15.00000\\\\\n",
       "\t Entire home/apt & 1 & Carretera de Cadiz   & 15.47619\\\\\n",
       "\t Entire home/apt & 1 & Centro               & 18.82894\\\\\n",
       "\t Entire home/apt & 1 & Churriana            & 18.35714\\\\\n",
       "\t Entire home/apt & 1 & Ciudad Jardin        &  9.12500\\\\\n",
       "\t Entire home/apt & 1 & Cruz De Humilladero  & 22.25397\\\\\n",
       "\t Entire home/apt & 1 & Este                 & 14.47531\\\\\n",
       "\t Entire home/apt & 1 & Palma-Palmilla       & 14.66667\\\\\n",
       "\t Entire home/apt & 1 & Puerto de la Torre   & 16.25000\\\\\n",
       "\t Entire home/apt & 1 & Teatinos-Universidad & 20.14286\\\\\n",
       "\t Entire home/apt & 2 & Bailen-Miraflores    & 16.33333\\\\\n",
       "\t Entire home/apt & 2 & Carretera de Cadiz   & 15.15200\\\\\n",
       "\t Entire home/apt & 2 & Centro               & 18.94856\\\\\n",
       "\t Entire home/apt & 2 & Churriana            & 15.29412\\\\\n",
       "\t Entire home/apt & 2 & Ciudad Jardin        & 13.00000\\\\\n",
       "\t Entire home/apt & 2 & Cruz De Humilladero  & 17.97917\\\\\n",
       "\t Entire home/apt & 2 & Este                 & 14.76471\\\\\n",
       "\t Entire home/apt & 2 & Palma-Palmilla       & 16.83333\\\\\n",
       "\t Entire home/apt & 2 & Puerto de la Torre   & 17.80000\\\\\n",
       "\t ... & ... & ... & ...\\\\\n",
       "\t Private room & 1  & Carretera de Cadiz   & 14.61111\\\\\n",
       "\t Private room & 1  & Centro               & 16.43919\\\\\n",
       "\t Private room & 1  & Churriana            & 17.83333\\\\\n",
       "\t Private room & 1  & Ciudad Jardin        & 20.08333\\\\\n",
       "\t Private room & 1  & Cruz De Humilladero  & 17.49412\\\\\n",
       "\t Private room & 1  & Este                 & 17.77632\\\\\n",
       "\t Private room & 1  & Palma-Palmilla       & 17.88889\\\\\n",
       "\t Private room & 1  & Puerto de la Torre   & 24.75000\\\\\n",
       "\t Private room & 1  & Teatinos-Universidad & 17.00000\\\\\n",
       "\t Private room & 2  & Carretera de Cadiz   & 11.00000\\\\\n",
       "\t Private room & 2  & Centro               & 14.50000\\\\\n",
       "\t Private room & 2  & Churriana            & 23.33333\\\\\n",
       "\t Private room & 2  & Cruz De Humilladero  & 27.00000\\\\\n",
       "\t Private room & 2  & Este                 & 14.20000\\\\\n",
       "\t Private room & 2  & Palma-Palmilla       & 22.00000\\\\\n",
       "\t Private room & 2  & Teatinos-Universidad & 27.50000\\\\\n",
       "\t Private room & 3  & Carretera de Cadiz   & 27.66667\\\\\n",
       "\t Private room & 3  & Centro               & 23.77778\\\\\n",
       "\t Private room & 3  & Churriana            & 30.00000\\\\\n",
       "\t Private room & 3  & Este                 & 22.00000\\\\\n",
       "\t Private room & 3  & Palma-Palmilla       &  0.00000\\\\\n",
       "\t Private room & 4  & Bailen-Miraflores    & 29.50000\\\\\n",
       "\t Private room & 4  & Centro               & 19.25000\\\\\n",
       "\t Private room & 4  & Este                 &  0.00000\\\\\n",
       "\t Private room & 5+ & Ciudad Jardin        & 27.00000\\\\\n",
       "\t Private room & 5+ & Este                 & 28.00000\\\\\n",
       "\t Shared room  & 1  & Centro               & 14.77778\\\\\n",
       "\t Shared room  & 1  & Churriana            &  0.00000\\\\\n",
       "\t Shared room  & 1  & Cruz De Humilladero  &  0.00000\\\\\n",
       "\t Shared room  & 1  & Este                 & 26.00000\\\\\n",
       "\\end{tabular}\n"
      ],
      "text/markdown": [
       "\n",
       "A grouped_df: 107 × 4\n",
       "\n",
       "| room_type &lt;chr&gt; | bedrooms &lt;chr&gt; | neighbourhood_cleansed &lt;chr&gt; | mean_availability_30 &lt;dbl&gt; |\n",
       "|---|---|---|---|\n",
       "| Entire home/apt | 0 | Bailen-Miraflores    | 19.00000 |\n",
       "| Entire home/apt | 0 | Campanillas          | 29.00000 |\n",
       "| Entire home/apt | 0 | Carretera de Cadiz   | 21.31579 |\n",
       "| Entire home/apt | 0 | Centro               | 18.86797 |\n",
       "| Entire home/apt | 0 | Churriana            | 20.12500 |\n",
       "| Entire home/apt | 0 | Ciudad Jardin        | 15.00000 |\n",
       "| Entire home/apt | 0 | Cruz De Humilladero  | 19.00000 |\n",
       "| Entire home/apt | 0 | Este                 | 14.06522 |\n",
       "| Entire home/apt | 0 | Palma-Palmilla       | 17.00000 |\n",
       "| Entire home/apt | 0 | Puerto de la Torre   | 30.00000 |\n",
       "| Entire home/apt | 1 | Bailen-Miraflores    | 17.24390 |\n",
       "| Entire home/apt | 1 | Campanillas          | 15.00000 |\n",
       "| Entire home/apt | 1 | Carretera de Cadiz   | 15.47619 |\n",
       "| Entire home/apt | 1 | Centro               | 18.82894 |\n",
       "| Entire home/apt | 1 | Churriana            | 18.35714 |\n",
       "| Entire home/apt | 1 | Ciudad Jardin        |  9.12500 |\n",
       "| Entire home/apt | 1 | Cruz De Humilladero  | 22.25397 |\n",
       "| Entire home/apt | 1 | Este                 | 14.47531 |\n",
       "| Entire home/apt | 1 | Palma-Palmilla       | 14.66667 |\n",
       "| Entire home/apt | 1 | Puerto de la Torre   | 16.25000 |\n",
       "| Entire home/apt | 1 | Teatinos-Universidad | 20.14286 |\n",
       "| Entire home/apt | 2 | Bailen-Miraflores    | 16.33333 |\n",
       "| Entire home/apt | 2 | Carretera de Cadiz   | 15.15200 |\n",
       "| Entire home/apt | 2 | Centro               | 18.94856 |\n",
       "| Entire home/apt | 2 | Churriana            | 15.29412 |\n",
       "| Entire home/apt | 2 | Ciudad Jardin        | 13.00000 |\n",
       "| Entire home/apt | 2 | Cruz De Humilladero  | 17.97917 |\n",
       "| Entire home/apt | 2 | Este                 | 14.76471 |\n",
       "| Entire home/apt | 2 | Palma-Palmilla       | 16.83333 |\n",
       "| Entire home/apt | 2 | Puerto de la Torre   | 17.80000 |\n",
       "| ... | ... | ... | ... |\n",
       "| Private room | 1  | Carretera de Cadiz   | 14.61111 |\n",
       "| Private room | 1  | Centro               | 16.43919 |\n",
       "| Private room | 1  | Churriana            | 17.83333 |\n",
       "| Private room | 1  | Ciudad Jardin        | 20.08333 |\n",
       "| Private room | 1  | Cruz De Humilladero  | 17.49412 |\n",
       "| Private room | 1  | Este                 | 17.77632 |\n",
       "| Private room | 1  | Palma-Palmilla       | 17.88889 |\n",
       "| Private room | 1  | Puerto de la Torre   | 24.75000 |\n",
       "| Private room | 1  | Teatinos-Universidad | 17.00000 |\n",
       "| Private room | 2  | Carretera de Cadiz   | 11.00000 |\n",
       "| Private room | 2  | Centro               | 14.50000 |\n",
       "| Private room | 2  | Churriana            | 23.33333 |\n",
       "| Private room | 2  | Cruz De Humilladero  | 27.00000 |\n",
       "| Private room | 2  | Este                 | 14.20000 |\n",
       "| Private room | 2  | Palma-Palmilla       | 22.00000 |\n",
       "| Private room | 2  | Teatinos-Universidad | 27.50000 |\n",
       "| Private room | 3  | Carretera de Cadiz   | 27.66667 |\n",
       "| Private room | 3  | Centro               | 23.77778 |\n",
       "| Private room | 3  | Churriana            | 30.00000 |\n",
       "| Private room | 3  | Este                 | 22.00000 |\n",
       "| Private room | 3  | Palma-Palmilla       |  0.00000 |\n",
       "| Private room | 4  | Bailen-Miraflores    | 29.50000 |\n",
       "| Private room | 4  | Centro               | 19.25000 |\n",
       "| Private room | 4  | Este                 |  0.00000 |\n",
       "| Private room | 5+ | Ciudad Jardin        | 27.00000 |\n",
       "| Private room | 5+ | Este                 | 28.00000 |\n",
       "| Shared room  | 1  | Centro               | 14.77778 |\n",
       "| Shared room  | 1  | Churriana            |  0.00000 |\n",
       "| Shared room  | 1  | Cruz De Humilladero  |  0.00000 |\n",
       "| Shared room  | 1  | Este                 | 26.00000 |\n",
       "\n"
      ],
      "text/plain": [
       "    room_type       bedrooms neighbourhood_cleansed mean_availability_30\n",
       "1   Entire home/apt 0        Bailen-Miraflores      19.00000            \n",
       "2   Entire home/apt 0        Campanillas            29.00000            \n",
       "3   Entire home/apt 0        Carretera de Cadiz     21.31579            \n",
       "4   Entire home/apt 0        Centro                 18.86797            \n",
       "5   Entire home/apt 0        Churriana              20.12500            \n",
       "6   Entire home/apt 0        Ciudad Jardin          15.00000            \n",
       "7   Entire home/apt 0        Cruz De Humilladero    19.00000            \n",
       "8   Entire home/apt 0        Este                   14.06522            \n",
       "9   Entire home/apt 0        Palma-Palmilla         17.00000            \n",
       "10  Entire home/apt 0        Puerto de la Torre     30.00000            \n",
       "11  Entire home/apt 1        Bailen-Miraflores      17.24390            \n",
       "12  Entire home/apt 1        Campanillas            15.00000            \n",
       "13  Entire home/apt 1        Carretera de Cadiz     15.47619            \n",
       "14  Entire home/apt 1        Centro                 18.82894            \n",
       "15  Entire home/apt 1        Churriana              18.35714            \n",
       "16  Entire home/apt 1        Ciudad Jardin           9.12500            \n",
       "17  Entire home/apt 1        Cruz De Humilladero    22.25397            \n",
       "18  Entire home/apt 1        Este                   14.47531            \n",
       "19  Entire home/apt 1        Palma-Palmilla         14.66667            \n",
       "20  Entire home/apt 1        Puerto de la Torre     16.25000            \n",
       "21  Entire home/apt 1        Teatinos-Universidad   20.14286            \n",
       "22  Entire home/apt 2        Bailen-Miraflores      16.33333            \n",
       "23  Entire home/apt 2        Carretera de Cadiz     15.15200            \n",
       "24  Entire home/apt 2        Centro                 18.94856            \n",
       "25  Entire home/apt 2        Churriana              15.29412            \n",
       "26  Entire home/apt 2        Ciudad Jardin          13.00000            \n",
       "27  Entire home/apt 2        Cruz De Humilladero    17.97917            \n",
       "28  Entire home/apt 2        Este                   14.76471            \n",
       "29  Entire home/apt 2        Palma-Palmilla         16.83333            \n",
       "30  Entire home/apt 2        Puerto de la Torre     17.80000            \n",
       "... ...             ...      ...                    ...                 \n",
       "78  Private room    1        Carretera de Cadiz     14.61111            \n",
       "79  Private room    1        Centro                 16.43919            \n",
       "80  Private room    1        Churriana              17.83333            \n",
       "81  Private room    1        Ciudad Jardin          20.08333            \n",
       "82  Private room    1        Cruz De Humilladero    17.49412            \n",
       "83  Private room    1        Este                   17.77632            \n",
       "84  Private room    1        Palma-Palmilla         17.88889            \n",
       "85  Private room    1        Puerto de la Torre     24.75000            \n",
       "86  Private room    1        Teatinos-Universidad   17.00000            \n",
       "87  Private room    2        Carretera de Cadiz     11.00000            \n",
       "88  Private room    2        Centro                 14.50000            \n",
       "89  Private room    2        Churriana              23.33333            \n",
       "90  Private room    2        Cruz De Humilladero    27.00000            \n",
       "91  Private room    2        Este                   14.20000            \n",
       "92  Private room    2        Palma-Palmilla         22.00000            \n",
       "93  Private room    2        Teatinos-Universidad   27.50000            \n",
       "94  Private room    3        Carretera de Cadiz     27.66667            \n",
       "95  Private room    3        Centro                 23.77778            \n",
       "96  Private room    3        Churriana              30.00000            \n",
       "97  Private room    3        Este                   22.00000            \n",
       "98  Private room    3        Palma-Palmilla          0.00000            \n",
       "99  Private room    4        Bailen-Miraflores      29.50000            \n",
       "100 Private room    4        Centro                 19.25000            \n",
       "101 Private room    4        Este                    0.00000            \n",
       "102 Private room    5+       Ciudad Jardin          27.00000            \n",
       "103 Private room    5+       Este                   28.00000            \n",
       "104 Shared room     1        Centro                 14.77778            \n",
       "105 Shared room     1        Churriana               0.00000            \n",
       "106 Shared room     1        Cruz De Humilladero     0.00000            \n",
       "107 Shared room     1        Este                   26.00000            "
      ]
     },
     "metadata": {},
     "output_type": "display_data"
    }
   ],
   "source": [
    "aggregated_availability(selected_city)"
   ]
  },
  {
   "cell_type": "markdown",
   "metadata": {},
   "source": [
    "#### 5. What is the average revenue over the next 30 days for each room type / house size / neighborhood?"
   ]
  },
  {
   "cell_type": "code",
   "execution_count": 34,
   "metadata": {},
   "outputs": [
    {
     "name": "stderr",
     "output_type": "stream",
     "text": [
      "`summarise()` regrouping output by 'room_type', 'bedrooms' (override with `.groups` argument)\n",
      "\n"
     ]
    },
    {
     "data": {
      "text/html": [
       "<table>\n",
       "<caption>A grouped_df: 107 × 4</caption>\n",
       "<thead>\n",
       "\t<tr><th scope=col>room_type</th><th scope=col>bedrooms</th><th scope=col>neighbourhood_cleansed</th><th scope=col>mean_revenue_30</th></tr>\n",
       "\t<tr><th scope=col>&lt;chr&gt;</th><th scope=col>&lt;chr&gt;</th><th scope=col>&lt;chr&gt;</th><th scope=col>&lt;dbl&gt;</th></tr>\n",
       "</thead>\n",
       "<tbody>\n",
       "\t<tr><td>Entire home/apt</td><td>0</td><td>Bailen-Miraflores   </td><td> 468.0000</td></tr>\n",
       "\t<tr><td>Entire home/apt</td><td>0</td><td>Campanillas         </td><td>  50.0000</td></tr>\n",
       "\t<tr><td>Entire home/apt</td><td>0</td><td>Carretera de Cadiz  </td><td> 720.0526</td></tr>\n",
       "\t<tr><td>Entire home/apt</td><td>0</td><td>Centro              </td><td> 826.8875</td></tr>\n",
       "\t<tr><td>Entire home/apt</td><td>0</td><td>Churriana           </td><td> 811.6250</td></tr>\n",
       "\t<tr><td>Entire home/apt</td><td>0</td><td>Ciudad Jardin       </td><td>1210.0000</td></tr>\n",
       "\t<tr><td>Entire home/apt</td><td>0</td><td>Cruz De Humilladero </td><td> 466.8000</td></tr>\n",
       "\t<tr><td>Entire home/apt</td><td>0</td><td>Este                </td><td>1003.6957</td></tr>\n",
       "\t<tr><td>Entire home/apt</td><td>0</td><td>Palma-Palmilla      </td><td> 616.0000</td></tr>\n",
       "\t<tr><td>Entire home/apt</td><td>0</td><td>Puerto de la Torre  </td><td>   0.0000</td></tr>\n",
       "\t<tr><td>Entire home/apt</td><td>1</td><td>Bailen-Miraflores   </td><td> 689.1951</td></tr>\n",
       "\t<tr><td>Entire home/apt</td><td>1</td><td>Campanillas         </td><td> 700.0000</td></tr>\n",
       "\t<tr><td>Entire home/apt</td><td>1</td><td>Carretera de Cadiz  </td><td>1028.9881</td></tr>\n",
       "\t<tr><td>Entire home/apt</td><td>1</td><td>Centro              </td><td>1009.3924</td></tr>\n",
       "\t<tr><td>Entire home/apt</td><td>1</td><td>Churriana           </td><td> 966.3571</td></tr>\n",
       "\t<tr><td>Entire home/apt</td><td>1</td><td>Ciudad Jardin       </td><td>1254.8750</td></tr>\n",
       "\t<tr><td>Entire home/apt</td><td>1</td><td>Cruz De Humilladero </td><td> 596.2857</td></tr>\n",
       "\t<tr><td>Entire home/apt</td><td>1</td><td>Este                </td><td>1168.3827</td></tr>\n",
       "\t<tr><td>Entire home/apt</td><td>1</td><td>Palma-Palmilla      </td><td> 925.3333</td></tr>\n",
       "\t<tr><td>Entire home/apt</td><td>1</td><td>Puerto de la Torre  </td><td> 832.7500</td></tr>\n",
       "\t<tr><td>Entire home/apt</td><td>1</td><td>Teatinos-Universidad</td><td> 633.5714</td></tr>\n",
       "\t<tr><td>Entire home/apt</td><td>2</td><td>Bailen-Miraflores   </td><td> 960.1481</td></tr>\n",
       "\t<tr><td>Entire home/apt</td><td>2</td><td>Carretera de Cadiz  </td><td>1444.3840</td></tr>\n",
       "\t<tr><td>Entire home/apt</td><td>2</td><td>Centro              </td><td>1325.8500</td></tr>\n",
       "\t<tr><td>Entire home/apt</td><td>2</td><td>Churriana           </td><td>1275.1765</td></tr>\n",
       "\t<tr><td>Entire home/apt</td><td>2</td><td>Ciudad Jardin       </td><td>1093.5455</td></tr>\n",
       "\t<tr><td>Entire home/apt</td><td>2</td><td>Cruz De Humilladero </td><td> 969.7083</td></tr>\n",
       "\t<tr><td>Entire home/apt</td><td>2</td><td>Este                </td><td>1683.2529</td></tr>\n",
       "\t<tr><td>Entire home/apt</td><td>2</td><td>Palma-Palmilla      </td><td>1066.1667</td></tr>\n",
       "\t<tr><td>Entire home/apt</td><td>2</td><td>Puerto de la Torre  </td><td> 987.0000</td></tr>\n",
       "\t<tr><td>...</td><td>...</td><td>...</td><td>...</td></tr>\n",
       "\t<tr><td>Private room</td><td>1 </td><td>Carretera de Cadiz  </td><td> 491.2698</td></tr>\n",
       "\t<tr><td>Private room</td><td>1 </td><td>Centro              </td><td> 492.1374</td></tr>\n",
       "\t<tr><td>Private room</td><td>1 </td><td>Churriana           </td><td> 739.5000</td></tr>\n",
       "\t<tr><td>Private room</td><td>1 </td><td>Ciudad Jardin       </td><td> 556.0833</td></tr>\n",
       "\t<tr><td>Private room</td><td>1 </td><td>Cruz De Humilladero </td><td> 281.4118</td></tr>\n",
       "\t<tr><td>Private room</td><td>1 </td><td>Este                </td><td> 730.2368</td></tr>\n",
       "\t<tr><td>Private room</td><td>1 </td><td>Palma-Palmilla      </td><td> 363.0000</td></tr>\n",
       "\t<tr><td>Private room</td><td>1 </td><td>Puerto de la Torre  </td><td> 190.7500</td></tr>\n",
       "\t<tr><td>Private room</td><td>1 </td><td>Teatinos-Universidad</td><td> 317.8333</td></tr>\n",
       "\t<tr><td>Private room</td><td>2 </td><td>Carretera de Cadiz  </td><td> 556.0000</td></tr>\n",
       "\t<tr><td>Private room</td><td>2 </td><td>Centro              </td><td>1569.2000</td></tr>\n",
       "\t<tr><td>Private room</td><td>2 </td><td>Churriana           </td><td> 460.0000</td></tr>\n",
       "\t<tr><td>Private room</td><td>2 </td><td>Cruz De Humilladero </td><td> 498.5000</td></tr>\n",
       "\t<tr><td>Private room</td><td>2 </td><td>Este                </td><td>1011.0000</td></tr>\n",
       "\t<tr><td>Private room</td><td>2 </td><td>Palma-Palmilla      </td><td> 240.0000</td></tr>\n",
       "\t<tr><td>Private room</td><td>2 </td><td>Teatinos-Universidad</td><td>  90.0000</td></tr>\n",
       "\t<tr><td>Private room</td><td>3 </td><td>Carretera de Cadiz  </td><td>  70.0000</td></tr>\n",
       "\t<tr><td>Private room</td><td>3 </td><td>Centro              </td><td> 723.0000</td></tr>\n",
       "\t<tr><td>Private room</td><td>3 </td><td>Churriana           </td><td>   0.0000</td></tr>\n",
       "\t<tr><td>Private room</td><td>3 </td><td>Este                </td><td>1290.0000</td></tr>\n",
       "\t<tr><td>Private room</td><td>3 </td><td>Palma-Palmilla      </td><td>4660.0000</td></tr>\n",
       "\t<tr><td>Private room</td><td>4 </td><td>Bailen-Miraflores   </td><td>  12.5000</td></tr>\n",
       "\t<tr><td>Private room</td><td>4 </td><td>Centro              </td><td> 159.5000</td></tr>\n",
       "\t<tr><td>Private room</td><td>4 </td><td>Este                </td><td> 480.0000</td></tr>\n",
       "\t<tr><td>Private room</td><td>5+</td><td>Ciudad Jardin       </td><td> 225.0000</td></tr>\n",
       "\t<tr><td>Private room</td><td>5+</td><td>Este                </td><td> 750.0000</td></tr>\n",
       "\t<tr><td>Shared room </td><td>1 </td><td>Centro              </td><td> 315.5556</td></tr>\n",
       "\t<tr><td>Shared room </td><td>1 </td><td>Churriana           </td><td> 810.0000</td></tr>\n",
       "\t<tr><td>Shared room </td><td>1 </td><td>Cruz De Humilladero </td><td>2400.0000</td></tr>\n",
       "\t<tr><td>Shared room </td><td>1 </td><td>Este                </td><td> 151.6667</td></tr>\n",
       "</tbody>\n",
       "</table>\n"
      ],
      "text/latex": [
       "A grouped\\_df: 107 × 4\n",
       "\\begin{tabular}{llll}\n",
       " room\\_type & bedrooms & neighbourhood\\_cleansed & mean\\_revenue\\_30\\\\\n",
       " <chr> & <chr> & <chr> & <dbl>\\\\\n",
       "\\hline\n",
       "\t Entire home/apt & 0 & Bailen-Miraflores    &  468.0000\\\\\n",
       "\t Entire home/apt & 0 & Campanillas          &   50.0000\\\\\n",
       "\t Entire home/apt & 0 & Carretera de Cadiz   &  720.0526\\\\\n",
       "\t Entire home/apt & 0 & Centro               &  826.8875\\\\\n",
       "\t Entire home/apt & 0 & Churriana            &  811.6250\\\\\n",
       "\t Entire home/apt & 0 & Ciudad Jardin        & 1210.0000\\\\\n",
       "\t Entire home/apt & 0 & Cruz De Humilladero  &  466.8000\\\\\n",
       "\t Entire home/apt & 0 & Este                 & 1003.6957\\\\\n",
       "\t Entire home/apt & 0 & Palma-Palmilla       &  616.0000\\\\\n",
       "\t Entire home/apt & 0 & Puerto de la Torre   &    0.0000\\\\\n",
       "\t Entire home/apt & 1 & Bailen-Miraflores    &  689.1951\\\\\n",
       "\t Entire home/apt & 1 & Campanillas          &  700.0000\\\\\n",
       "\t Entire home/apt & 1 & Carretera de Cadiz   & 1028.9881\\\\\n",
       "\t Entire home/apt & 1 & Centro               & 1009.3924\\\\\n",
       "\t Entire home/apt & 1 & Churriana            &  966.3571\\\\\n",
       "\t Entire home/apt & 1 & Ciudad Jardin        & 1254.8750\\\\\n",
       "\t Entire home/apt & 1 & Cruz De Humilladero  &  596.2857\\\\\n",
       "\t Entire home/apt & 1 & Este                 & 1168.3827\\\\\n",
       "\t Entire home/apt & 1 & Palma-Palmilla       &  925.3333\\\\\n",
       "\t Entire home/apt & 1 & Puerto de la Torre   &  832.7500\\\\\n",
       "\t Entire home/apt & 1 & Teatinos-Universidad &  633.5714\\\\\n",
       "\t Entire home/apt & 2 & Bailen-Miraflores    &  960.1481\\\\\n",
       "\t Entire home/apt & 2 & Carretera de Cadiz   & 1444.3840\\\\\n",
       "\t Entire home/apt & 2 & Centro               & 1325.8500\\\\\n",
       "\t Entire home/apt & 2 & Churriana            & 1275.1765\\\\\n",
       "\t Entire home/apt & 2 & Ciudad Jardin        & 1093.5455\\\\\n",
       "\t Entire home/apt & 2 & Cruz De Humilladero  &  969.7083\\\\\n",
       "\t Entire home/apt & 2 & Este                 & 1683.2529\\\\\n",
       "\t Entire home/apt & 2 & Palma-Palmilla       & 1066.1667\\\\\n",
       "\t Entire home/apt & 2 & Puerto de la Torre   &  987.0000\\\\\n",
       "\t ... & ... & ... & ...\\\\\n",
       "\t Private room & 1  & Carretera de Cadiz   &  491.2698\\\\\n",
       "\t Private room & 1  & Centro               &  492.1374\\\\\n",
       "\t Private room & 1  & Churriana            &  739.5000\\\\\n",
       "\t Private room & 1  & Ciudad Jardin        &  556.0833\\\\\n",
       "\t Private room & 1  & Cruz De Humilladero  &  281.4118\\\\\n",
       "\t Private room & 1  & Este                 &  730.2368\\\\\n",
       "\t Private room & 1  & Palma-Palmilla       &  363.0000\\\\\n",
       "\t Private room & 1  & Puerto de la Torre   &  190.7500\\\\\n",
       "\t Private room & 1  & Teatinos-Universidad &  317.8333\\\\\n",
       "\t Private room & 2  & Carretera de Cadiz   &  556.0000\\\\\n",
       "\t Private room & 2  & Centro               & 1569.2000\\\\\n",
       "\t Private room & 2  & Churriana            &  460.0000\\\\\n",
       "\t Private room & 2  & Cruz De Humilladero  &  498.5000\\\\\n",
       "\t Private room & 2  & Este                 & 1011.0000\\\\\n",
       "\t Private room & 2  & Palma-Palmilla       &  240.0000\\\\\n",
       "\t Private room & 2  & Teatinos-Universidad &   90.0000\\\\\n",
       "\t Private room & 3  & Carretera de Cadiz   &   70.0000\\\\\n",
       "\t Private room & 3  & Centro               &  723.0000\\\\\n",
       "\t Private room & 3  & Churriana            &    0.0000\\\\\n",
       "\t Private room & 3  & Este                 & 1290.0000\\\\\n",
       "\t Private room & 3  & Palma-Palmilla       & 4660.0000\\\\\n",
       "\t Private room & 4  & Bailen-Miraflores    &   12.5000\\\\\n",
       "\t Private room & 4  & Centro               &  159.5000\\\\\n",
       "\t Private room & 4  & Este                 &  480.0000\\\\\n",
       "\t Private room & 5+ & Ciudad Jardin        &  225.0000\\\\\n",
       "\t Private room & 5+ & Este                 &  750.0000\\\\\n",
       "\t Shared room  & 1  & Centro               &  315.5556\\\\\n",
       "\t Shared room  & 1  & Churriana            &  810.0000\\\\\n",
       "\t Shared room  & 1  & Cruz De Humilladero  & 2400.0000\\\\\n",
       "\t Shared room  & 1  & Este                 &  151.6667\\\\\n",
       "\\end{tabular}\n"
      ],
      "text/markdown": [
       "\n",
       "A grouped_df: 107 × 4\n",
       "\n",
       "| room_type &lt;chr&gt; | bedrooms &lt;chr&gt; | neighbourhood_cleansed &lt;chr&gt; | mean_revenue_30 &lt;dbl&gt; |\n",
       "|---|---|---|---|\n",
       "| Entire home/apt | 0 | Bailen-Miraflores    |  468.0000 |\n",
       "| Entire home/apt | 0 | Campanillas          |   50.0000 |\n",
       "| Entire home/apt | 0 | Carretera de Cadiz   |  720.0526 |\n",
       "| Entire home/apt | 0 | Centro               |  826.8875 |\n",
       "| Entire home/apt | 0 | Churriana            |  811.6250 |\n",
       "| Entire home/apt | 0 | Ciudad Jardin        | 1210.0000 |\n",
       "| Entire home/apt | 0 | Cruz De Humilladero  |  466.8000 |\n",
       "| Entire home/apt | 0 | Este                 | 1003.6957 |\n",
       "| Entire home/apt | 0 | Palma-Palmilla       |  616.0000 |\n",
       "| Entire home/apt | 0 | Puerto de la Torre   |    0.0000 |\n",
       "| Entire home/apt | 1 | Bailen-Miraflores    |  689.1951 |\n",
       "| Entire home/apt | 1 | Campanillas          |  700.0000 |\n",
       "| Entire home/apt | 1 | Carretera de Cadiz   | 1028.9881 |\n",
       "| Entire home/apt | 1 | Centro               | 1009.3924 |\n",
       "| Entire home/apt | 1 | Churriana            |  966.3571 |\n",
       "| Entire home/apt | 1 | Ciudad Jardin        | 1254.8750 |\n",
       "| Entire home/apt | 1 | Cruz De Humilladero  |  596.2857 |\n",
       "| Entire home/apt | 1 | Este                 | 1168.3827 |\n",
       "| Entire home/apt | 1 | Palma-Palmilla       |  925.3333 |\n",
       "| Entire home/apt | 1 | Puerto de la Torre   |  832.7500 |\n",
       "| Entire home/apt | 1 | Teatinos-Universidad |  633.5714 |\n",
       "| Entire home/apt | 2 | Bailen-Miraflores    |  960.1481 |\n",
       "| Entire home/apt | 2 | Carretera de Cadiz   | 1444.3840 |\n",
       "| Entire home/apt | 2 | Centro               | 1325.8500 |\n",
       "| Entire home/apt | 2 | Churriana            | 1275.1765 |\n",
       "| Entire home/apt | 2 | Ciudad Jardin        | 1093.5455 |\n",
       "| Entire home/apt | 2 | Cruz De Humilladero  |  969.7083 |\n",
       "| Entire home/apt | 2 | Este                 | 1683.2529 |\n",
       "| Entire home/apt | 2 | Palma-Palmilla       | 1066.1667 |\n",
       "| Entire home/apt | 2 | Puerto de la Torre   |  987.0000 |\n",
       "| ... | ... | ... | ... |\n",
       "| Private room | 1  | Carretera de Cadiz   |  491.2698 |\n",
       "| Private room | 1  | Centro               |  492.1374 |\n",
       "| Private room | 1  | Churriana            |  739.5000 |\n",
       "| Private room | 1  | Ciudad Jardin        |  556.0833 |\n",
       "| Private room | 1  | Cruz De Humilladero  |  281.4118 |\n",
       "| Private room | 1  | Este                 |  730.2368 |\n",
       "| Private room | 1  | Palma-Palmilla       |  363.0000 |\n",
       "| Private room | 1  | Puerto de la Torre   |  190.7500 |\n",
       "| Private room | 1  | Teatinos-Universidad |  317.8333 |\n",
       "| Private room | 2  | Carretera de Cadiz   |  556.0000 |\n",
       "| Private room | 2  | Centro               | 1569.2000 |\n",
       "| Private room | 2  | Churriana            |  460.0000 |\n",
       "| Private room | 2  | Cruz De Humilladero  |  498.5000 |\n",
       "| Private room | 2  | Este                 | 1011.0000 |\n",
       "| Private room | 2  | Palma-Palmilla       |  240.0000 |\n",
       "| Private room | 2  | Teatinos-Universidad |   90.0000 |\n",
       "| Private room | 3  | Carretera de Cadiz   |   70.0000 |\n",
       "| Private room | 3  | Centro               |  723.0000 |\n",
       "| Private room | 3  | Churriana            |    0.0000 |\n",
       "| Private room | 3  | Este                 | 1290.0000 |\n",
       "| Private room | 3  | Palma-Palmilla       | 4660.0000 |\n",
       "| Private room | 4  | Bailen-Miraflores    |   12.5000 |\n",
       "| Private room | 4  | Centro               |  159.5000 |\n",
       "| Private room | 4  | Este                 |  480.0000 |\n",
       "| Private room | 5+ | Ciudad Jardin        |  225.0000 |\n",
       "| Private room | 5+ | Este                 |  750.0000 |\n",
       "| Shared room  | 1  | Centro               |  315.5556 |\n",
       "| Shared room  | 1  | Churriana            |  810.0000 |\n",
       "| Shared room  | 1  | Cruz De Humilladero  | 2400.0000 |\n",
       "| Shared room  | 1  | Este                 |  151.6667 |\n",
       "\n"
      ],
      "text/plain": [
       "    room_type       bedrooms neighbourhood_cleansed mean_revenue_30\n",
       "1   Entire home/apt 0        Bailen-Miraflores       468.0000      \n",
       "2   Entire home/apt 0        Campanillas              50.0000      \n",
       "3   Entire home/apt 0        Carretera de Cadiz      720.0526      \n",
       "4   Entire home/apt 0        Centro                  826.8875      \n",
       "5   Entire home/apt 0        Churriana               811.6250      \n",
       "6   Entire home/apt 0        Ciudad Jardin          1210.0000      \n",
       "7   Entire home/apt 0        Cruz De Humilladero     466.8000      \n",
       "8   Entire home/apt 0        Este                   1003.6957      \n",
       "9   Entire home/apt 0        Palma-Palmilla          616.0000      \n",
       "10  Entire home/apt 0        Puerto de la Torre        0.0000      \n",
       "11  Entire home/apt 1        Bailen-Miraflores       689.1951      \n",
       "12  Entire home/apt 1        Campanillas             700.0000      \n",
       "13  Entire home/apt 1        Carretera de Cadiz     1028.9881      \n",
       "14  Entire home/apt 1        Centro                 1009.3924      \n",
       "15  Entire home/apt 1        Churriana               966.3571      \n",
       "16  Entire home/apt 1        Ciudad Jardin          1254.8750      \n",
       "17  Entire home/apt 1        Cruz De Humilladero     596.2857      \n",
       "18  Entire home/apt 1        Este                   1168.3827      \n",
       "19  Entire home/apt 1        Palma-Palmilla          925.3333      \n",
       "20  Entire home/apt 1        Puerto de la Torre      832.7500      \n",
       "21  Entire home/apt 1        Teatinos-Universidad    633.5714      \n",
       "22  Entire home/apt 2        Bailen-Miraflores       960.1481      \n",
       "23  Entire home/apt 2        Carretera de Cadiz     1444.3840      \n",
       "24  Entire home/apt 2        Centro                 1325.8500      \n",
       "25  Entire home/apt 2        Churriana              1275.1765      \n",
       "26  Entire home/apt 2        Ciudad Jardin          1093.5455      \n",
       "27  Entire home/apt 2        Cruz De Humilladero     969.7083      \n",
       "28  Entire home/apt 2        Este                   1683.2529      \n",
       "29  Entire home/apt 2        Palma-Palmilla         1066.1667      \n",
       "30  Entire home/apt 2        Puerto de la Torre      987.0000      \n",
       "... ...             ...      ...                    ...            \n",
       "78  Private room    1        Carretera de Cadiz      491.2698      \n",
       "79  Private room    1        Centro                  492.1374      \n",
       "80  Private room    1        Churriana               739.5000      \n",
       "81  Private room    1        Ciudad Jardin           556.0833      \n",
       "82  Private room    1        Cruz De Humilladero     281.4118      \n",
       "83  Private room    1        Este                    730.2368      \n",
       "84  Private room    1        Palma-Palmilla          363.0000      \n",
       "85  Private room    1        Puerto de la Torre      190.7500      \n",
       "86  Private room    1        Teatinos-Universidad    317.8333      \n",
       "87  Private room    2        Carretera de Cadiz      556.0000      \n",
       "88  Private room    2        Centro                 1569.2000      \n",
       "89  Private room    2        Churriana               460.0000      \n",
       "90  Private room    2        Cruz De Humilladero     498.5000      \n",
       "91  Private room    2        Este                   1011.0000      \n",
       "92  Private room    2        Palma-Palmilla          240.0000      \n",
       "93  Private room    2        Teatinos-Universidad     90.0000      \n",
       "94  Private room    3        Carretera de Cadiz       70.0000      \n",
       "95  Private room    3        Centro                  723.0000      \n",
       "96  Private room    3        Churriana                 0.0000      \n",
       "97  Private room    3        Este                   1290.0000      \n",
       "98  Private room    3        Palma-Palmilla         4660.0000      \n",
       "99  Private room    4        Bailen-Miraflores        12.5000      \n",
       "100 Private room    4        Centro                  159.5000      \n",
       "101 Private room    4        Este                    480.0000      \n",
       "102 Private room    5+       Ciudad Jardin           225.0000      \n",
       "103 Private room    5+       Este                    750.0000      \n",
       "104 Shared room     1        Centro                  315.5556      \n",
       "105 Shared room     1        Churriana               810.0000      \n",
       "106 Shared room     1        Cruz De Humilladero    2400.0000      \n",
       "107 Shared room     1        Este                    151.6667      "
      ]
     },
     "metadata": {},
     "output_type": "display_data"
    }
   ],
   "source": [
    "aggregated_revenue(selected_city)"
   ]
  },
  {
   "cell_type": "markdown",
   "metadata": {},
   "source": [
    "#### 6. What is the distribution of availability over the next 30 days for each room type/ house size / neighborhood?"
   ]
  },
  {
   "cell_type": "code",
   "execution_count": 35,
   "metadata": {},
   "outputs": [
    {
     "name": "stderr",
     "output_type": "stream",
     "text": [
      "Warning message:\n",
      "\"`fun.y` is deprecated. Use `fun` instead.\"\n"
     ]
    },
    {
     "data": {
      "image/png": "[encoded data removed]",
      "text/plain": [
       "plot without title"
      ]
     },
     "metadata": {
      "image/png": {
       "height": 420,
       "width": 420
      }
     },
     "output_type": "display_data"
    }
   ],
   "source": [
    "availability_plotting(selected_city)"
   ]
  },
  {
   "cell_type": "markdown",
   "metadata": {},
   "source": [
    "#### 7. What is the distribution of revenue over the next 30 days for each room type / house size / neighborhood? "
   ]
  },
  {
   "cell_type": "code",
   "execution_count": 36,
   "metadata": {},
   "outputs": [
    {
     "name": "stderr",
     "output_type": "stream",
     "text": [
      "Warning message:\n",
      "\"`fun.y` is deprecated. Use `fun` instead.\"\n"
     ]
    },
    {
     "data": {
      "image/png": "[encoded data removed]",
      "text/plain": [
       "plot without title"
      ]
     },
     "metadata": {
      "image/png": {
       "height": 420,
       "width": 420
      }
     },
     "output_type": "display_data"
    }
   ],
   "source": [
    "revenue_plotting(selected_city)"
   ]
  },
  {
   "cell_type": "markdown",
   "metadata": {},
   "source": [
    "### B. Mallorca"
   ]
  },
  {
   "cell_type": "code",
   "execution_count": 37,
   "metadata": {},
   "outputs": [
    {
     "data": {
      "text/html": [
       "'mallorca'"
      ],
      "text/latex": [
       "'mallorca'"
      ],
      "text/markdown": [
       "'mallorca'"
      ],
      "text/plain": [
       "[1] \"mallorca\""
      ]
     },
     "metadata": {},
     "output_type": "display_data"
    }
   ],
   "source": [
    "selected_city <- 'mallorca'\n",
    "selected_city"
   ]
  },
  {
   "cell_type": "markdown",
   "metadata": {},
   "source": [
    "#### 1. What is the proportion of each room type?"
   ]
  },
  {
   "cell_type": "code",
   "execution_count": 38,
   "metadata": {},
   "outputs": [
    {
     "name": "stderr",
     "output_type": "stream",
     "text": [
      "`summarise()` ungrouping output (override with `.groups` argument)\n",
      "\n"
     ]
    },
    {
     "data": {
      "text/html": [
       "<table>\n",
       "<caption>A tibble: 4 × 3</caption>\n",
       "<thead>\n",
       "\t<tr><th scope=col>room_type</th><th scope=col>nb_rooms</th><th scope=col>freq</th></tr>\n",
       "\t<tr><th scope=col>&lt;chr&gt;</th><th scope=col>&lt;int&gt;</th><th scope=col>&lt;dbl&gt;</th></tr>\n",
       "</thead>\n",
       "<tbody>\n",
       "\t<tr><td>Entire home/apt</td><td>15770</td><td>0.895615629</td></tr>\n",
       "\t<tr><td>Hotel room     </td><td>  230</td><td>0.013062244</td></tr>\n",
       "\t<tr><td>Private room   </td><td> 1589</td><td>0.090243071</td></tr>\n",
       "\t<tr><td>Shared room    </td><td>   19</td><td>0.001079055</td></tr>\n",
       "</tbody>\n",
       "</table>\n"
      ],
      "text/latex": [
       "A tibble: 4 × 3\n",
       "\\begin{tabular}{lll}\n",
       " room\\_type & nb\\_rooms & freq\\\\\n",
       " <chr> & <int> & <dbl>\\\\\n",
       "\\hline\n",
       "\t Entire home/apt & 15770 & 0.895615629\\\\\n",
       "\t Hotel room      &   230 & 0.013062244\\\\\n",
       "\t Private room    &  1589 & 0.090243071\\\\\n",
       "\t Shared room     &    19 & 0.001079055\\\\\n",
       "\\end{tabular}\n"
      ],
      "text/markdown": [
       "\n",
       "A tibble: 4 × 3\n",
       "\n",
       "| room_type &lt;chr&gt; | nb_rooms &lt;int&gt; | freq &lt;dbl&gt; |\n",
       "|---|---|---|\n",
       "| Entire home/apt | 15770 | 0.895615629 |\n",
       "| Hotel room      |   230 | 0.013062244 |\n",
       "| Private room    |  1589 | 0.090243071 |\n",
       "| Shared room     |    19 | 0.001079055 |\n",
       "\n"
      ],
      "text/plain": [
       "  room_type       nb_rooms freq       \n",
       "1 Entire home/apt 15770    0.895615629\n",
       "2 Hotel room        230    0.013062244\n",
       "3 Private room     1589    0.090243071\n",
       "4 Shared room        19    0.001079055"
      ]
     },
     "metadata": {},
     "output_type": "display_data"
    }
   ],
   "source": [
    "aggregated_room_types(selected_city)"
   ]
  },
  {
   "cell_type": "markdown",
   "metadata": {},
   "source": [
    "#### 2. What is the proportion of each house size (# of bedroom)?"
   ]
  },
  {
   "cell_type": "code",
   "execution_count": 39,
   "metadata": {},
   "outputs": [
    {
     "name": "stderr",
     "output_type": "stream",
     "text": [
      "`summarise()` ungrouping output (override with `.groups` argument)\n",
      "\n"
     ]
    },
    {
     "data": {
      "text/html": [
       "<table>\n",
       "<caption>A tibble: 5 × 3</caption>\n",
       "<thead>\n",
       "\t<tr><th scope=col>bedrooms</th><th scope=col>houze_size</th><th scope=col>freq</th></tr>\n",
       "\t<tr><th scope=col>&lt;chr&gt;</th><th scope=col>&lt;int&gt;</th><th scope=col>&lt;dbl&gt;</th></tr>\n",
       "</thead>\n",
       "<tbody>\n",
       "\t<tr><td>1 </td><td>3200</td><td>0.1817356</td></tr>\n",
       "\t<tr><td>2 </td><td>3299</td><td>0.1873580</td></tr>\n",
       "\t<tr><td>3 </td><td>5368</td><td>0.3048614</td></tr>\n",
       "\t<tr><td>4 </td><td>3452</td><td>0.1960473</td></tr>\n",
       "\t<tr><td>5+</td><td>2014</td><td>0.1143798</td></tr>\n",
       "</tbody>\n",
       "</table>\n"
      ],
      "text/latex": [
       "A tibble: 5 × 3\n",
       "\\begin{tabular}{lll}\n",
       " bedrooms & houze\\_size & freq\\\\\n",
       " <chr> & <int> & <dbl>\\\\\n",
       "\\hline\n",
       "\t 1  & 3200 & 0.1817356\\\\\n",
       "\t 2  & 3299 & 0.1873580\\\\\n",
       "\t 3  & 5368 & 0.3048614\\\\\n",
       "\t 4  & 3452 & 0.1960473\\\\\n",
       "\t 5+ & 2014 & 0.1143798\\\\\n",
       "\\end{tabular}\n"
      ],
      "text/markdown": [
       "\n",
       "A tibble: 5 × 3\n",
       "\n",
       "| bedrooms &lt;chr&gt; | houze_size &lt;int&gt; | freq &lt;dbl&gt; |\n",
       "|---|---|---|\n",
       "| 1  | 3200 | 0.1817356 |\n",
       "| 2  | 3299 | 0.1873580 |\n",
       "| 3  | 5368 | 0.3048614 |\n",
       "| 4  | 3452 | 0.1960473 |\n",
       "| 5+ | 2014 | 0.1143798 |\n",
       "\n"
      ],
      "text/plain": [
       "  bedrooms houze_size freq     \n",
       "1 1        3200       0.1817356\n",
       "2 2        3299       0.1873580\n",
       "3 3        5368       0.3048614\n",
       "4 4        3452       0.1960473\n",
       "5 5+       2014       0.1143798"
      ]
     },
     "metadata": {},
     "output_type": "display_data"
    }
   ],
   "source": [
    "aggregated_house_size(selected_city)"
   ]
  },
  {
   "cell_type": "markdown",
   "metadata": {},
   "source": [
    "#### 3. What is the proportion of each neighborhood?"
   ]
  },
  {
   "cell_type": "code",
   "execution_count": 40,
   "metadata": {},
   "outputs": [
    {
     "name": "stderr",
     "output_type": "stream",
     "text": [
      "`summarise()` ungrouping output (override with `.groups` argument)\n",
      "\n"
     ]
    },
    {
     "data": {
      "text/html": [
       "<table>\n",
       "<caption>A tibble: 53 × 3</caption>\n",
       "<thead>\n",
       "\t<tr><th scope=col>neighbourhood_cleansed</th><th scope=col>ngbh</th><th scope=col>freq</th></tr>\n",
       "\t<tr><th scope=col>&lt;chr&gt;</th><th scope=col>&lt;int&gt;</th><th scope=col>&lt;dbl&gt;</th></tr>\n",
       "</thead>\n",
       "<tbody>\n",
       "\t<tr><td>AlarÃ³                     </td><td> 115</td><td>0.006531122</td></tr>\n",
       "\t<tr><td>AlcÃºdia                   </td><td>1732</td><td>0.098364380</td></tr>\n",
       "\t<tr><td>Algaida                    </td><td> 126</td><td>0.007155838</td></tr>\n",
       "\t<tr><td>Andratx                    </td><td> 260</td><td>0.014766015</td></tr>\n",
       "\t<tr><td>Ariany                     </td><td>  90</td><td>0.005111313</td></tr>\n",
       "\t<tr><td>ArtÃ                       </td><td> 416</td><td>0.023625625</td></tr>\n",
       "\t<tr><td>Banyalbufar                </td><td>  53</td><td>0.003009995</td></tr>\n",
       "\t<tr><td>BÃºger                     </td><td> 172</td><td>0.009768287</td></tr>\n",
       "\t<tr><td>Binissalem                 </td><td>  99</td><td>0.005622444</td></tr>\n",
       "\t<tr><td>Bunyola                    </td><td> 102</td><td>0.005792821</td></tr>\n",
       "\t<tr><td>CalviÃ                     </td><td> 589</td><td>0.033450704</td></tr>\n",
       "\t<tr><td>Campanet                   </td><td> 172</td><td>0.009768287</td></tr>\n",
       "\t<tr><td>Campos                     </td><td> 592</td><td>0.033621081</td></tr>\n",
       "\t<tr><td>Capdepera                  </td><td> 557</td><td>0.031633348</td></tr>\n",
       "\t<tr><td>Consell                    </td><td>  18</td><td>0.001022263</td></tr>\n",
       "\t<tr><td>Costitx                    </td><td>  84</td><td>0.004770559</td></tr>\n",
       "\t<tr><td>DeyÃ¡                      </td><td>  80</td><td>0.004543389</td></tr>\n",
       "\t<tr><td>Escorca                    </td><td>  27</td><td>0.001533394</td></tr>\n",
       "\t<tr><td>Esporles                   </td><td>  60</td><td>0.003407542</td></tr>\n",
       "\t<tr><td>Estellencs                 </td><td>  20</td><td>0.001135847</td></tr>\n",
       "\t<tr><td>Felanitx                   </td><td> 651</td><td>0.036971831</td></tr>\n",
       "\t<tr><td>Fornalutx                  </td><td>  89</td><td>0.005054521</td></tr>\n",
       "\t<tr><td>Inca                       </td><td> 275</td><td>0.015617901</td></tr>\n",
       "\t<tr><td>Lloret de Vistalegre       </td><td>  60</td><td>0.003407542</td></tr>\n",
       "\t<tr><td>Lloseta                    </td><td>  73</td><td>0.004145843</td></tr>\n",
       "\t<tr><td>LlubÃ­                     </td><td> 122</td><td>0.006928669</td></tr>\n",
       "\t<tr><td>Llucmajor                  </td><td> 611</td><td>0.034700136</td></tr>\n",
       "\t<tr><td>Manacor                    </td><td> 902</td><td>0.051226715</td></tr>\n",
       "\t<tr><td>Mancor de la Vall          </td><td>  52</td><td>0.002953203</td></tr>\n",
       "\t<tr><td>Maria de la Salut          </td><td>  89</td><td>0.005054521</td></tr>\n",
       "\t<tr><td>MarratxÃ­                  </td><td> 135</td><td>0.007666970</td></tr>\n",
       "\t<tr><td>MontuÃ¯ri                  </td><td>  54</td><td>0.003066788</td></tr>\n",
       "\t<tr><td>Muro                       </td><td> 452</td><td>0.025670150</td></tr>\n",
       "\t<tr><td>Palma de Mallorca          </td><td>1952</td><td>0.110858701</td></tr>\n",
       "\t<tr><td>Petra                      </td><td> 143</td><td>0.008121308</td></tr>\n",
       "\t<tr><td>PollenÃ§a                  </td><td>2268</td><td>0.128805089</td></tr>\n",
       "\t<tr><td>Porreres                   </td><td>  91</td><td>0.005168105</td></tr>\n",
       "\t<tr><td>Puigpunyent                </td><td>  39</td><td>0.002214902</td></tr>\n",
       "\t<tr><td>Sa Pobla                   </td><td> 330</td><td>0.018741481</td></tr>\n",
       "\t<tr><td>SÃ³ller                    </td><td> 509</td><td>0.028907315</td></tr>\n",
       "\t<tr><td>Sant Joan                  </td><td>  55</td><td>0.003123580</td></tr>\n",
       "\t<tr><td>Sant LlorenÃ§ des Cardassar</td><td> 327</td><td>0.018571104</td></tr>\n",
       "\t<tr><td>Santa EugÃ¨nia             </td><td>  29</td><td>0.001646979</td></tr>\n",
       "\t<tr><td>Santa MarÃ­a del CamÃ­     </td><td>  69</td><td>0.003918673</td></tr>\n",
       "\t<tr><td>Santa Margalida            </td><td> 729</td><td>0.041401636</td></tr>\n",
       "\t<tr><td>SantanyÃ­                  </td><td> 887</td><td>0.050374830</td></tr>\n",
       "\t<tr><td>Selva                      </td><td> 318</td><td>0.018059973</td></tr>\n",
       "\t<tr><td>Sencelles                  </td><td> 134</td><td>0.007610177</td></tr>\n",
       "\t<tr><td>Ses Salines                </td><td> 214</td><td>0.012153567</td></tr>\n",
       "\t<tr><td>Sineu                      </td><td> 121</td><td>0.006871876</td></tr>\n",
       "\t<tr><td>Son Servera                </td><td> 305</td><td>0.017321672</td></tr>\n",
       "\t<tr><td>Valldemossa                </td><td> 115</td><td>0.006531122</td></tr>\n",
       "\t<tr><td>Vilafranc de Bonany        </td><td>  44</td><td>0.002498864</td></tr>\n",
       "</tbody>\n",
       "</table>\n"
      ],
      "text/latex": [
       "A tibble: 53 × 3\n",
       "\\begin{tabular}{lll}\n",
       " neighbourhood\\_cleansed & ngbh & freq\\\\\n",
       " <chr> & <int> & <dbl>\\\\\n",
       "\\hline\n",
       "\t AlarÃ³                      &  115 & 0.006531122\\\\\n",
       "\t AlcÃºdia                    & 1732 & 0.098364380\\\\\n",
       "\t Algaida                     &  126 & 0.007155838\\\\\n",
       "\t Andratx                     &  260 & 0.014766015\\\\\n",
       "\t Ariany                      &   90 & 0.005111313\\\\\n",
       "\t ArtÃ                        &  416 & 0.023625625\\\\\n",
       "\t Banyalbufar                 &   53 & 0.003009995\\\\\n",
       "\t BÃºger                      &  172 & 0.009768287\\\\\n",
       "\t Binissalem                  &   99 & 0.005622444\\\\\n",
       "\t Bunyola                     &  102 & 0.005792821\\\\\n",
       "\t CalviÃ                      &  589 & 0.033450704\\\\\n",
       "\t Campanet                    &  172 & 0.009768287\\\\\n",
       "\t Campos                      &  592 & 0.033621081\\\\\n",
       "\t Capdepera                   &  557 & 0.031633348\\\\\n",
       "\t Consell                     &   18 & 0.001022263\\\\\n",
       "\t Costitx                     &   84 & 0.004770559\\\\\n",
       "\t DeyÃ¡                       &   80 & 0.004543389\\\\\n",
       "\t Escorca                     &   27 & 0.001533394\\\\\n",
       "\t Esporles                    &   60 & 0.003407542\\\\\n",
       "\t Estellencs                  &   20 & 0.001135847\\\\\n",
       "\t Felanitx                    &  651 & 0.036971831\\\\\n",
       "\t Fornalutx                   &   89 & 0.005054521\\\\\n",
       "\t Inca                        &  275 & 0.015617901\\\\\n",
       "\t Lloret de Vistalegre        &   60 & 0.003407542\\\\\n",
       "\t Lloseta                     &   73 & 0.004145843\\\\\n",
       "\t LlubÃ­                      &  122 & 0.006928669\\\\\n",
       "\t Llucmajor                   &  611 & 0.034700136\\\\\n",
       "\t Manacor                     &  902 & 0.051226715\\\\\n",
       "\t Mancor de la Vall           &   52 & 0.002953203\\\\\n",
       "\t Maria de la Salut           &   89 & 0.005054521\\\\\n",
       "\t MarratxÃ­                   &  135 & 0.007666970\\\\\n",
       "\t MontuÃ¯ri                   &   54 & 0.003066788\\\\\n",
       "\t Muro                        &  452 & 0.025670150\\\\\n",
       "\t Palma de Mallorca           & 1952 & 0.110858701\\\\\n",
       "\t Petra                       &  143 & 0.008121308\\\\\n",
       "\t PollenÃ§a                   & 2268 & 0.128805089\\\\\n",
       "\t Porreres                    &   91 & 0.005168105\\\\\n",
       "\t Puigpunyent                 &   39 & 0.002214902\\\\\n",
       "\t Sa Pobla                    &  330 & 0.018741481\\\\\n",
       "\t SÃ³ller                     &  509 & 0.028907315\\\\\n",
       "\t Sant Joan                   &   55 & 0.003123580\\\\\n",
       "\t Sant LlorenÃ§ des Cardassar &  327 & 0.018571104\\\\\n",
       "\t Santa EugÃ¨nia              &   29 & 0.001646979\\\\\n",
       "\t Santa MarÃ­a del CamÃ­      &   69 & 0.003918673\\\\\n",
       "\t Santa Margalida             &  729 & 0.041401636\\\\\n",
       "\t SantanyÃ­                   &  887 & 0.050374830\\\\\n",
       "\t Selva                       &  318 & 0.018059973\\\\\n",
       "\t Sencelles                   &  134 & 0.007610177\\\\\n",
       "\t Ses Salines                 &  214 & 0.012153567\\\\\n",
       "\t Sineu                       &  121 & 0.006871876\\\\\n",
       "\t Son Servera                 &  305 & 0.017321672\\\\\n",
       "\t Valldemossa                 &  115 & 0.006531122\\\\\n",
       "\t Vilafranc de Bonany         &   44 & 0.002498864\\\\\n",
       "\\end{tabular}\n"
      ],
      "text/markdown": [
       "\n",
       "A tibble: 53 × 3\n",
       "\n",
       "| neighbourhood_cleansed &lt;chr&gt; | ngbh &lt;int&gt; | freq &lt;dbl&gt; |\n",
       "|---|---|---|\n",
       "| AlarÃ³                      |  115 | 0.006531122 |\n",
       "| AlcÃºdia                    | 1732 | 0.098364380 |\n",
       "| Algaida                     |  126 | 0.007155838 |\n",
       "| Andratx                     |  260 | 0.014766015 |\n",
       "| Ariany                      |   90 | 0.005111313 |\n",
       "| ArtÃ                        |  416 | 0.023625625 |\n",
       "| Banyalbufar                 |   53 | 0.003009995 |\n",
       "| BÃºger                      |  172 | 0.009768287 |\n",
       "| Binissalem                  |   99 | 0.005622444 |\n",
       "| Bunyola                     |  102 | 0.005792821 |\n",
       "| CalviÃ                      |  589 | 0.033450704 |\n",
       "| Campanet                    |  172 | 0.009768287 |\n",
       "| Campos                      |  592 | 0.033621081 |\n",
       "| Capdepera                   |  557 | 0.031633348 |\n",
       "| Consell                     |   18 | 0.001022263 |\n",
       "| Costitx                     |   84 | 0.004770559 |\n",
       "| DeyÃ¡                       |   80 | 0.004543389 |\n",
       "| Escorca                     |   27 | 0.001533394 |\n",
       "| Esporles                    |   60 | 0.003407542 |\n",
       "| Estellencs                  |   20 | 0.001135847 |\n",
       "| Felanitx                    |  651 | 0.036971831 |\n",
       "| Fornalutx                   |   89 | 0.005054521 |\n",
       "| Inca                        |  275 | 0.015617901 |\n",
       "| Lloret de Vistalegre        |   60 | 0.003407542 |\n",
       "| Lloseta                     |   73 | 0.004145843 |\n",
       "| LlubÃ­                      |  122 | 0.006928669 |\n",
       "| Llucmajor                   |  611 | 0.034700136 |\n",
       "| Manacor                     |  902 | 0.051226715 |\n",
       "| Mancor de la Vall           |   52 | 0.002953203 |\n",
       "| Maria de la Salut           |   89 | 0.005054521 |\n",
       "| MarratxÃ­                   |  135 | 0.007666970 |\n",
       "| MontuÃ¯ri                   |   54 | 0.003066788 |\n",
       "| Muro                        |  452 | 0.025670150 |\n",
       "| Palma de Mallorca           | 1952 | 0.110858701 |\n",
       "| Petra                       |  143 | 0.008121308 |\n",
       "| PollenÃ§a                   | 2268 | 0.128805089 |\n",
       "| Porreres                    |   91 | 0.005168105 |\n",
       "| Puigpunyent                 |   39 | 0.002214902 |\n",
       "| Sa Pobla                    |  330 | 0.018741481 |\n",
       "| SÃ³ller                     |  509 | 0.028907315 |\n",
       "| Sant Joan                   |   55 | 0.003123580 |\n",
       "| Sant LlorenÃ§ des Cardassar |  327 | 0.018571104 |\n",
       "| Santa EugÃ¨nia              |   29 | 0.001646979 |\n",
       "| Santa MarÃ­a del CamÃ­      |   69 | 0.003918673 |\n",
       "| Santa Margalida             |  729 | 0.041401636 |\n",
       "| SantanyÃ­                   |  887 | 0.050374830 |\n",
       "| Selva                       |  318 | 0.018059973 |\n",
       "| Sencelles                   |  134 | 0.007610177 |\n",
       "| Ses Salines                 |  214 | 0.012153567 |\n",
       "| Sineu                       |  121 | 0.006871876 |\n",
       "| Son Servera                 |  305 | 0.017321672 |\n",
       "| Valldemossa                 |  115 | 0.006531122 |\n",
       "| Vilafranc de Bonany         |   44 | 0.002498864 |\n",
       "\n"
      ],
      "text/plain": [
       "   neighbourhood_cleansed      ngbh freq       \n",
       "1  AlarÃ³                       115 0.006531122\n",
       "2  AlcÃºdia                    1732 0.098364380\n",
       "3  Algaida                      126 0.007155838\n",
       "4  Andratx                      260 0.014766015\n",
       "5  Ariany                        90 0.005111313\n",
       "6  ArtÃ                         416 0.023625625\n",
       "7  Banyalbufar                   53 0.003009995\n",
       "8  BÃºger                       172 0.009768287\n",
       "9  Binissalem                    99 0.005622444\n",
       "10 Bunyola                      102 0.005792821\n",
       "11 CalviÃ                       589 0.033450704\n",
       "12 Campanet                     172 0.009768287\n",
       "13 Campos                       592 0.033621081\n",
       "14 Capdepera                    557 0.031633348\n",
       "15 Consell                       18 0.001022263\n",
       "16 Costitx                       84 0.004770559\n",
       "17 DeyÃ¡                         80 0.004543389\n",
       "18 Escorca                       27 0.001533394\n",
       "19 Esporles                      60 0.003407542\n",
       "20 Estellencs                    20 0.001135847\n",
       "21 Felanitx                     651 0.036971831\n",
       "22 Fornalutx                     89 0.005054521\n",
       "23 Inca                         275 0.015617901\n",
       "24 Lloret de Vistalegre          60 0.003407542\n",
       "25 Lloseta                       73 0.004145843\n",
       "26 LlubÃ­                       122 0.006928669\n",
       "27 Llucmajor                    611 0.034700136\n",
       "28 Manacor                      902 0.051226715\n",
       "29 Mancor de la Vall             52 0.002953203\n",
       "30 Maria de la Salut             89 0.005054521\n",
       "31 MarratxÃ­                    135 0.007666970\n",
       "32 MontuÃ¯ri                     54 0.003066788\n",
       "33 Muro                         452 0.025670150\n",
       "34 Palma de Mallorca           1952 0.110858701\n",
       "35 Petra                        143 0.008121308\n",
       "36 PollenÃ§a                   2268 0.128805089\n",
       "37 Porreres                      91 0.005168105\n",
       "38 Puigpunyent                   39 0.002214902\n",
       "39 Sa Pobla                     330 0.018741481\n",
       "40 SÃ³ller                      509 0.028907315\n",
       "41 Sant Joan                     55 0.003123580\n",
       "42 Sant LlorenÃ§ des Cardassar  327 0.018571104\n",
       "43 Santa EugÃ¨nia                29 0.001646979\n",
       "44 Santa MarÃ­a del CamÃ­        69 0.003918673\n",
       "45 Santa Margalida              729 0.041401636\n",
       "46 SantanyÃ­                    887 0.050374830\n",
       "47 Selva                        318 0.018059973\n",
       "48 Sencelles                    134 0.007610177\n",
       "49 Ses Salines                  214 0.012153567\n",
       "50 Sineu                        121 0.006871876\n",
       "51 Son Servera                  305 0.017321672\n",
       "52 Valldemossa                  115 0.006531122\n",
       "53 Vilafranc de Bonany           44 0.002498864"
      ]
     },
     "metadata": {},
     "output_type": "display_data"
    }
   ],
   "source": [
    "aggregated_neighborhood(selected_city)"
   ]
  },
  {
   "cell_type": "markdown",
   "metadata": {},
   "source": [
    "#### 4. What is the average availability over the next 30 days for each room type / house size / neighborhood?"
   ]
  },
  {
   "cell_type": "code",
   "execution_count": 41,
   "metadata": {},
   "outputs": [
    {
     "name": "stderr",
     "output_type": "stream",
     "text": [
      "`summarise()` regrouping output by 'room_type', 'bedrooms' (override with `.groups` argument)\n",
      "\n"
     ]
    },
    {
     "data": {
      "text/html": [
       "<table>\n",
       "<caption>A grouped_df: 418 × 4</caption>\n",
       "<thead>\n",
       "\t<tr><th scope=col>room_type</th><th scope=col>bedrooms</th><th scope=col>neighbourhood_cleansed</th><th scope=col>mean_availability_30</th></tr>\n",
       "\t<tr><th scope=col>&lt;chr&gt;</th><th scope=col>&lt;chr&gt;</th><th scope=col>&lt;chr&gt;</th><th scope=col>&lt;dbl&gt;</th></tr>\n",
       "</thead>\n",
       "<tbody>\n",
       "\t<tr><td>Entire home/apt</td><td>1</td><td>AlarÃ³              </td><td>22.87500</td></tr>\n",
       "\t<tr><td>Entire home/apt</td><td>1</td><td>AlcÃºdia            </td><td>23.41748</td></tr>\n",
       "\t<tr><td>Entire home/apt</td><td>1</td><td>Algaida             </td><td>18.90909</td></tr>\n",
       "\t<tr><td>Entire home/apt</td><td>1</td><td>Andratx             </td><td>21.27273</td></tr>\n",
       "\t<tr><td>Entire home/apt</td><td>1</td><td>ArtÃ                </td><td>21.05882</td></tr>\n",
       "\t<tr><td>Entire home/apt</td><td>1</td><td>Banyalbufar         </td><td>20.20000</td></tr>\n",
       "\t<tr><td>Entire home/apt</td><td>1</td><td>BÃºger              </td><td> 7.00000</td></tr>\n",
       "\t<tr><td>Entire home/apt</td><td>1</td><td>Binissalem          </td><td>17.00000</td></tr>\n",
       "\t<tr><td>Entire home/apt</td><td>1</td><td>Bunyola             </td><td>19.57143</td></tr>\n",
       "\t<tr><td>Entire home/apt</td><td>1</td><td>CalviÃ              </td><td>19.23762</td></tr>\n",
       "\t<tr><td>Entire home/apt</td><td>1</td><td>Campanet            </td><td>22.40000</td></tr>\n",
       "\t<tr><td>Entire home/apt</td><td>1</td><td>Campos              </td><td>21.07692</td></tr>\n",
       "\t<tr><td>Entire home/apt</td><td>1</td><td>Capdepera           </td><td>25.42254</td></tr>\n",
       "\t<tr><td>Entire home/apt</td><td>1</td><td>Costitx             </td><td>22.09091</td></tr>\n",
       "\t<tr><td>Entire home/apt</td><td>1</td><td>DeyÃ¡               </td><td>19.87500</td></tr>\n",
       "\t<tr><td>Entire home/apt</td><td>1</td><td>Escorca             </td><td>25.00000</td></tr>\n",
       "\t<tr><td>Entire home/apt</td><td>1</td><td>Esporles            </td><td>24.50000</td></tr>\n",
       "\t<tr><td>Entire home/apt</td><td>1</td><td>Estellencs          </td><td>28.00000</td></tr>\n",
       "\t<tr><td>Entire home/apt</td><td>1</td><td>Felanitx            </td><td>18.83607</td></tr>\n",
       "\t<tr><td>Entire home/apt</td><td>1</td><td>Fornalutx           </td><td>19.47059</td></tr>\n",
       "\t<tr><td>Entire home/apt</td><td>1</td><td>Inca                </td><td>20.48000</td></tr>\n",
       "\t<tr><td>Entire home/apt</td><td>1</td><td>Lloret de Vistalegre</td><td>26.30000</td></tr>\n",
       "\t<tr><td>Entire home/apt</td><td>1</td><td>Lloseta             </td><td>19.50000</td></tr>\n",
       "\t<tr><td>Entire home/apt</td><td>1</td><td>LlubÃ­              </td><td>27.25000</td></tr>\n",
       "\t<tr><td>Entire home/apt</td><td>1</td><td>Llucmajor           </td><td>20.40000</td></tr>\n",
       "\t<tr><td>Entire home/apt</td><td>1</td><td>Manacor             </td><td>20.35714</td></tr>\n",
       "\t<tr><td>Entire home/apt</td><td>1</td><td>Mancor de la Vall   </td><td>20.00000</td></tr>\n",
       "\t<tr><td>Entire home/apt</td><td>1</td><td>Maria de la Salut   </td><td>14.66667</td></tr>\n",
       "\t<tr><td>Entire home/apt</td><td>1</td><td>MarratxÃ­           </td><td>24.40000</td></tr>\n",
       "\t<tr><td>Entire home/apt</td><td>1</td><td>MontuÃ¯ri           </td><td>27.57143</td></tr>\n",
       "\t<tr><td>...</td><td>...</td><td>...</td><td>...</td></tr>\n",
       "\t<tr><td>Private room</td><td>3 </td><td>Mancor de la Vall</td><td>25.00000</td></tr>\n",
       "\t<tr><td>Private room</td><td>3 </td><td>Palma de Mallorca</td><td>17.22222</td></tr>\n",
       "\t<tr><td>Private room</td><td>3 </td><td>PollenÃ§a        </td><td> 7.00000</td></tr>\n",
       "\t<tr><td>Private room</td><td>3 </td><td>SÃ³ller          </td><td>29.00000</td></tr>\n",
       "\t<tr><td>Private room</td><td>3 </td><td>Santa Margalida  </td><td> 0.00000</td></tr>\n",
       "\t<tr><td>Private room</td><td>4 </td><td>AlcÃºdia         </td><td>14.00000</td></tr>\n",
       "\t<tr><td>Private room</td><td>4 </td><td>Llucmajor        </td><td>30.00000</td></tr>\n",
       "\t<tr><td>Private room</td><td>4 </td><td>Palma de Mallorca</td><td>28.50000</td></tr>\n",
       "\t<tr><td>Private room</td><td>4 </td><td>PollenÃ§a        </td><td>23.00000</td></tr>\n",
       "\t<tr><td>Private room</td><td>5+</td><td>AlarÃ³           </td><td> 0.00000</td></tr>\n",
       "\t<tr><td>Private room</td><td>5+</td><td>ArtÃ             </td><td>30.00000</td></tr>\n",
       "\t<tr><td>Private room</td><td>5+</td><td>BÃºger           </td><td>21.00000</td></tr>\n",
       "\t<tr><td>Private room</td><td>5+</td><td>Fornalutx        </td><td>19.00000</td></tr>\n",
       "\t<tr><td>Private room</td><td>5+</td><td>Manacor          </td><td> 0.00000</td></tr>\n",
       "\t<tr><td>Private room</td><td>5+</td><td>Maria de la Salut</td><td>27.00000</td></tr>\n",
       "\t<tr><td>Private room</td><td>5+</td><td>Muro             </td><td> 0.00000</td></tr>\n",
       "\t<tr><td>Private room</td><td>5+</td><td>Palma de Mallorca</td><td>28.75000</td></tr>\n",
       "\t<tr><td>Private room</td><td>5+</td><td>PollenÃ§a        </td><td>29.50000</td></tr>\n",
       "\t<tr><td>Private room</td><td>5+</td><td>Puigpunyent      </td><td>27.00000</td></tr>\n",
       "\t<tr><td>Private room</td><td>5+</td><td>Sa Pobla         </td><td>30.00000</td></tr>\n",
       "\t<tr><td>Private room</td><td>5+</td><td>Selva            </td><td>29.00000</td></tr>\n",
       "\t<tr><td>Private room</td><td>5+</td><td>Sencelles        </td><td>21.00000</td></tr>\n",
       "\t<tr><td>Private room</td><td>5+</td><td>Sineu            </td><td>29.00000</td></tr>\n",
       "\t<tr><td>Shared room </td><td>1 </td><td>CalviÃ           </td><td> 0.00000</td></tr>\n",
       "\t<tr><td>Shared room </td><td>1 </td><td>Esporles         </td><td>29.00000</td></tr>\n",
       "\t<tr><td>Shared room </td><td>1 </td><td>MontuÃ¯ri        </td><td>30.00000</td></tr>\n",
       "\t<tr><td>Shared room </td><td>1 </td><td>Muro             </td><td>28.00000</td></tr>\n",
       "\t<tr><td>Shared room </td><td>1 </td><td>Palma de Mallorca</td><td>19.41667</td></tr>\n",
       "\t<tr><td>Shared room </td><td>1 </td><td>Sa Pobla         </td><td>30.00000</td></tr>\n",
       "\t<tr><td>Shared room </td><td>1 </td><td>Sineu            </td><td>30.00000</td></tr>\n",
       "</tbody>\n",
       "</table>\n"
      ],
      "text/latex": [
       "A grouped\\_df: 418 × 4\n",
       "\\begin{tabular}{llll}\n",
       " room\\_type & bedrooms & neighbourhood\\_cleansed & mean\\_availability\\_30\\\\\n",
       " <chr> & <chr> & <chr> & <dbl>\\\\\n",
       "\\hline\n",
       "\t Entire home/apt & 1 & AlarÃ³               & 22.87500\\\\\n",
       "\t Entire home/apt & 1 & AlcÃºdia             & 23.41748\\\\\n",
       "\t Entire home/apt & 1 & Algaida              & 18.90909\\\\\n",
       "\t Entire home/apt & 1 & Andratx              & 21.27273\\\\\n",
       "\t Entire home/apt & 1 & ArtÃ                 & 21.05882\\\\\n",
       "\t Entire home/apt & 1 & Banyalbufar          & 20.20000\\\\\n",
       "\t Entire home/apt & 1 & BÃºger               &  7.00000\\\\\n",
       "\t Entire home/apt & 1 & Binissalem           & 17.00000\\\\\n",
       "\t Entire home/apt & 1 & Bunyola              & 19.57143\\\\\n",
       "\t Entire home/apt & 1 & CalviÃ               & 19.23762\\\\\n",
       "\t Entire home/apt & 1 & Campanet             & 22.40000\\\\\n",
       "\t Entire home/apt & 1 & Campos               & 21.07692\\\\\n",
       "\t Entire home/apt & 1 & Capdepera            & 25.42254\\\\\n",
       "\t Entire home/apt & 1 & Costitx              & 22.09091\\\\\n",
       "\t Entire home/apt & 1 & DeyÃ¡                & 19.87500\\\\\n",
       "\t Entire home/apt & 1 & Escorca              & 25.00000\\\\\n",
       "\t Entire home/apt & 1 & Esporles             & 24.50000\\\\\n",
       "\t Entire home/apt & 1 & Estellencs           & 28.00000\\\\\n",
       "\t Entire home/apt & 1 & Felanitx             & 18.83607\\\\\n",
       "\t Entire home/apt & 1 & Fornalutx            & 19.47059\\\\\n",
       "\t Entire home/apt & 1 & Inca                 & 20.48000\\\\\n",
       "\t Entire home/apt & 1 & Lloret de Vistalegre & 26.30000\\\\\n",
       "\t Entire home/apt & 1 & Lloseta              & 19.50000\\\\\n",
       "\t Entire home/apt & 1 & LlubÃ­               & 27.25000\\\\\n",
       "\t Entire home/apt & 1 & Llucmajor            & 20.40000\\\\\n",
       "\t Entire home/apt & 1 & Manacor              & 20.35714\\\\\n",
       "\t Entire home/apt & 1 & Mancor de la Vall    & 20.00000\\\\\n",
       "\t Entire home/apt & 1 & Maria de la Salut    & 14.66667\\\\\n",
       "\t Entire home/apt & 1 & MarratxÃ­            & 24.40000\\\\\n",
       "\t Entire home/apt & 1 & MontuÃ¯ri            & 27.57143\\\\\n",
       "\t ... & ... & ... & ...\\\\\n",
       "\t Private room & 3  & Mancor de la Vall & 25.00000\\\\\n",
       "\t Private room & 3  & Palma de Mallorca & 17.22222\\\\\n",
       "\t Private room & 3  & PollenÃ§a         &  7.00000\\\\\n",
       "\t Private room & 3  & SÃ³ller           & 29.00000\\\\\n",
       "\t Private room & 3  & Santa Margalida   &  0.00000\\\\\n",
       "\t Private room & 4  & AlcÃºdia          & 14.00000\\\\\n",
       "\t Private room & 4  & Llucmajor         & 30.00000\\\\\n",
       "\t Private room & 4  & Palma de Mallorca & 28.50000\\\\\n",
       "\t Private room & 4  & PollenÃ§a         & 23.00000\\\\\n",
       "\t Private room & 5+ & AlarÃ³            &  0.00000\\\\\n",
       "\t Private room & 5+ & ArtÃ              & 30.00000\\\\\n",
       "\t Private room & 5+ & BÃºger            & 21.00000\\\\\n",
       "\t Private room & 5+ & Fornalutx         & 19.00000\\\\\n",
       "\t Private room & 5+ & Manacor           &  0.00000\\\\\n",
       "\t Private room & 5+ & Maria de la Salut & 27.00000\\\\\n",
       "\t Private room & 5+ & Muro              &  0.00000\\\\\n",
       "\t Private room & 5+ & Palma de Mallorca & 28.75000\\\\\n",
       "\t Private room & 5+ & PollenÃ§a         & 29.50000\\\\\n",
       "\t Private room & 5+ & Puigpunyent       & 27.00000\\\\\n",
       "\t Private room & 5+ & Sa Pobla          & 30.00000\\\\\n",
       "\t Private room & 5+ & Selva             & 29.00000\\\\\n",
       "\t Private room & 5+ & Sencelles         & 21.00000\\\\\n",
       "\t Private room & 5+ & Sineu             & 29.00000\\\\\n",
       "\t Shared room  & 1  & CalviÃ            &  0.00000\\\\\n",
       "\t Shared room  & 1  & Esporles          & 29.00000\\\\\n",
       "\t Shared room  & 1  & MontuÃ¯ri         & 30.00000\\\\\n",
       "\t Shared room  & 1  & Muro              & 28.00000\\\\\n",
       "\t Shared room  & 1  & Palma de Mallorca & 19.41667\\\\\n",
       "\t Shared room  & 1  & Sa Pobla          & 30.00000\\\\\n",
       "\t Shared room  & 1  & Sineu             & 30.00000\\\\\n",
       "\\end{tabular}\n"
      ],
      "text/markdown": [
       "\n",
       "A grouped_df: 418 × 4\n",
       "\n",
       "| room_type &lt;chr&gt; | bedrooms &lt;chr&gt; | neighbourhood_cleansed &lt;chr&gt; | mean_availability_30 &lt;dbl&gt; |\n",
       "|---|---|---|---|\n",
       "| Entire home/apt | 1 | AlarÃ³               | 22.87500 |\n",
       "| Entire home/apt | 1 | AlcÃºdia             | 23.41748 |\n",
       "| Entire home/apt | 1 | Algaida              | 18.90909 |\n",
       "| Entire home/apt | 1 | Andratx              | 21.27273 |\n",
       "| Entire home/apt | 1 | ArtÃ                 | 21.05882 |\n",
       "| Entire home/apt | 1 | Banyalbufar          | 20.20000 |\n",
       "| Entire home/apt | 1 | BÃºger               |  7.00000 |\n",
       "| Entire home/apt | 1 | Binissalem           | 17.00000 |\n",
       "| Entire home/apt | 1 | Bunyola              | 19.57143 |\n",
       "| Entire home/apt | 1 | CalviÃ               | 19.23762 |\n",
       "| Entire home/apt | 1 | Campanet             | 22.40000 |\n",
       "| Entire home/apt | 1 | Campos               | 21.07692 |\n",
       "| Entire home/apt | 1 | Capdepera            | 25.42254 |\n",
       "| Entire home/apt | 1 | Costitx              | 22.09091 |\n",
       "| Entire home/apt | 1 | DeyÃ¡                | 19.87500 |\n",
       "| Entire home/apt | 1 | Escorca              | 25.00000 |\n",
       "| Entire home/apt | 1 | Esporles             | 24.50000 |\n",
       "| Entire home/apt | 1 | Estellencs           | 28.00000 |\n",
       "| Entire home/apt | 1 | Felanitx             | 18.83607 |\n",
       "| Entire home/apt | 1 | Fornalutx            | 19.47059 |\n",
       "| Entire home/apt | 1 | Inca                 | 20.48000 |\n",
       "| Entire home/apt | 1 | Lloret de Vistalegre | 26.30000 |\n",
       "| Entire home/apt | 1 | Lloseta              | 19.50000 |\n",
       "| Entire home/apt | 1 | LlubÃ­               | 27.25000 |\n",
       "| Entire home/apt | 1 | Llucmajor            | 20.40000 |\n",
       "| Entire home/apt | 1 | Manacor              | 20.35714 |\n",
       "| Entire home/apt | 1 | Mancor de la Vall    | 20.00000 |\n",
       "| Entire home/apt | 1 | Maria de la Salut    | 14.66667 |\n",
       "| Entire home/apt | 1 | MarratxÃ­            | 24.40000 |\n",
       "| Entire home/apt | 1 | MontuÃ¯ri            | 27.57143 |\n",
       "| ... | ... | ... | ... |\n",
       "| Private room | 3  | Mancor de la Vall | 25.00000 |\n",
       "| Private room | 3  | Palma de Mallorca | 17.22222 |\n",
       "| Private room | 3  | PollenÃ§a         |  7.00000 |\n",
       "| Private room | 3  | SÃ³ller           | 29.00000 |\n",
       "| Private room | 3  | Santa Margalida   |  0.00000 |\n",
       "| Private room | 4  | AlcÃºdia          | 14.00000 |\n",
       "| Private room | 4  | Llucmajor         | 30.00000 |\n",
       "| Private room | 4  | Palma de Mallorca | 28.50000 |\n",
       "| Private room | 4  | PollenÃ§a         | 23.00000 |\n",
       "| Private room | 5+ | AlarÃ³            |  0.00000 |\n",
       "| Private room | 5+ | ArtÃ              | 30.00000 |\n",
       "| Private room | 5+ | BÃºger            | 21.00000 |\n",
       "| Private room | 5+ | Fornalutx         | 19.00000 |\n",
       "| Private room | 5+ | Manacor           |  0.00000 |\n",
       "| Private room | 5+ | Maria de la Salut | 27.00000 |\n",
       "| Private room | 5+ | Muro              |  0.00000 |\n",
       "| Private room | 5+ | Palma de Mallorca | 28.75000 |\n",
       "| Private room | 5+ | PollenÃ§a         | 29.50000 |\n",
       "| Private room | 5+ | Puigpunyent       | 27.00000 |\n",
       "| Private room | 5+ | Sa Pobla          | 30.00000 |\n",
       "| Private room | 5+ | Selva             | 29.00000 |\n",
       "| Private room | 5+ | Sencelles         | 21.00000 |\n",
       "| Private room | 5+ | Sineu             | 29.00000 |\n",
       "| Shared room  | 1  | CalviÃ            |  0.00000 |\n",
       "| Shared room  | 1  | Esporles          | 29.00000 |\n",
       "| Shared room  | 1  | MontuÃ¯ri         | 30.00000 |\n",
       "| Shared room  | 1  | Muro              | 28.00000 |\n",
       "| Shared room  | 1  | Palma de Mallorca | 19.41667 |\n",
       "| Shared room  | 1  | Sa Pobla          | 30.00000 |\n",
       "| Shared room  | 1  | Sineu             | 30.00000 |\n",
       "\n"
      ],
      "text/plain": [
       "    room_type       bedrooms neighbourhood_cleansed mean_availability_30\n",
       "1   Entire home/apt 1        AlarÃ³                 22.87500            \n",
       "2   Entire home/apt 1        AlcÃºdia               23.41748            \n",
       "3   Entire home/apt 1        Algaida                18.90909            \n",
       "4   Entire home/apt 1        Andratx                21.27273            \n",
       "5   Entire home/apt 1        ArtÃ                   21.05882            \n",
       "6   Entire home/apt 1        Banyalbufar            20.20000            \n",
       "7   Entire home/apt 1        BÃºger                  7.00000            \n",
       "8   Entire home/apt 1        Binissalem             17.00000            \n",
       "9   Entire home/apt 1        Bunyola                19.57143            \n",
       "10  Entire home/apt 1        CalviÃ                 19.23762            \n",
       "11  Entire home/apt 1        Campanet               22.40000            \n",
       "12  Entire home/apt 1        Campos                 21.07692            \n",
       "13  Entire home/apt 1        Capdepera              25.42254            \n",
       "14  Entire home/apt 1        Costitx                22.09091            \n",
       "15  Entire home/apt 1        DeyÃ¡                  19.87500            \n",
       "16  Entire home/apt 1        Escorca                25.00000            \n",
       "17  Entire home/apt 1        Esporles               24.50000            \n",
       "18  Entire home/apt 1        Estellencs             28.00000            \n",
       "19  Entire home/apt 1        Felanitx               18.83607            \n",
       "20  Entire home/apt 1        Fornalutx              19.47059            \n",
       "21  Entire home/apt 1        Inca                   20.48000            \n",
       "22  Entire home/apt 1        Lloret de Vistalegre   26.30000            \n",
       "23  Entire home/apt 1        Lloseta                19.50000            \n",
       "24  Entire home/apt 1        LlubÃ­                 27.25000            \n",
       "25  Entire home/apt 1        Llucmajor              20.40000            \n",
       "26  Entire home/apt 1        Manacor                20.35714            \n",
       "27  Entire home/apt 1        Mancor de la Vall      20.00000            \n",
       "28  Entire home/apt 1        Maria de la Salut      14.66667            \n",
       "29  Entire home/apt 1        MarratxÃ­              24.40000            \n",
       "30  Entire home/apt 1        MontuÃ¯ri              27.57143            \n",
       "... ...             ...      ...                    ...                 \n",
       "389 Private room    3        Mancor de la Vall      25.00000            \n",
       "390 Private room    3        Palma de Mallorca      17.22222            \n",
       "391 Private room    3        PollenÃ§a               7.00000            \n",
       "392 Private room    3        SÃ³ller                29.00000            \n",
       "393 Private room    3        Santa Margalida         0.00000            \n",
       "394 Private room    4        AlcÃºdia               14.00000            \n",
       "395 Private room    4        Llucmajor              30.00000            \n",
       "396 Private room    4        Palma de Mallorca      28.50000            \n",
       "397 Private room    4        PollenÃ§a              23.00000            \n",
       "398 Private room    5+       AlarÃ³                  0.00000            \n",
       "399 Private room    5+       ArtÃ                   30.00000            \n",
       "400 Private room    5+       BÃºger                 21.00000            \n",
       "401 Private room    5+       Fornalutx              19.00000            \n",
       "402 Private room    5+       Manacor                 0.00000            \n",
       "403 Private room    5+       Maria de la Salut      27.00000            \n",
       "404 Private room    5+       Muro                    0.00000            \n",
       "405 Private room    5+       Palma de Mallorca      28.75000            \n",
       "406 Private room    5+       PollenÃ§a              29.50000            \n",
       "407 Private room    5+       Puigpunyent            27.00000            \n",
       "408 Private room    5+       Sa Pobla               30.00000            \n",
       "409 Private room    5+       Selva                  29.00000            \n",
       "410 Private room    5+       Sencelles              21.00000            \n",
       "411 Private room    5+       Sineu                  29.00000            \n",
       "412 Shared room     1        CalviÃ                  0.00000            \n",
       "413 Shared room     1        Esporles               29.00000            \n",
       "414 Shared room     1        MontuÃ¯ri              30.00000            \n",
       "415 Shared room     1        Muro                   28.00000            \n",
       "416 Shared room     1        Palma de Mallorca      19.41667            \n",
       "417 Shared room     1        Sa Pobla               30.00000            \n",
       "418 Shared room     1        Sineu                  30.00000            "
      ]
     },
     "metadata": {},
     "output_type": "display_data"
    }
   ],
   "source": [
    "aggregated_availability(selected_city)"
   ]
  },
  {
   "cell_type": "markdown",
   "metadata": {},
   "source": [
    "#### 5. What is the average revenue over the next 30 days for each room type / house size / neighborhood?"
   ]
  },
  {
   "cell_type": "code",
   "execution_count": 42,
   "metadata": {},
   "outputs": [
    {
     "name": "stderr",
     "output_type": "stream",
     "text": [
      "`summarise()` regrouping output by 'room_type', 'bedrooms' (override with `.groups` argument)\n",
      "\n"
     ]
    },
    {
     "data": {
      "text/html": [
       "<table>\n",
       "<caption>A grouped_df: 418 × 4</caption>\n",
       "<thead>\n",
       "\t<tr><th scope=col>room_type</th><th scope=col>bedrooms</th><th scope=col>neighbourhood_cleansed</th><th scope=col>mean_revenue_30</th></tr>\n",
       "\t<tr><th scope=col>&lt;chr&gt;</th><th scope=col>&lt;chr&gt;</th><th scope=col>&lt;chr&gt;</th><th scope=col>&lt;dbl&gt;</th></tr>\n",
       "</thead>\n",
       "<tbody>\n",
       "\t<tr><td>Entire home/apt</td><td>1</td><td>AlarÃ³              </td><td>1822.2500</td></tr>\n",
       "\t<tr><td>Entire home/apt</td><td>1</td><td>AlcÃºdia            </td><td> 575.1942</td></tr>\n",
       "\t<tr><td>Entire home/apt</td><td>1</td><td>Algaida             </td><td>1552.0000</td></tr>\n",
       "\t<tr><td>Entire home/apt</td><td>1</td><td>Andratx             </td><td> 979.0909</td></tr>\n",
       "\t<tr><td>Entire home/apt</td><td>1</td><td>ArtÃ                </td><td> 908.0000</td></tr>\n",
       "\t<tr><td>Entire home/apt</td><td>1</td><td>Banyalbufar         </td><td>1047.0000</td></tr>\n",
       "\t<tr><td>Entire home/apt</td><td>1</td><td>BÃºger              </td><td>2102.5000</td></tr>\n",
       "\t<tr><td>Entire home/apt</td><td>1</td><td>Binissalem          </td><td>1727.5000</td></tr>\n",
       "\t<tr><td>Entire home/apt</td><td>1</td><td>Bunyola             </td><td> 616.8571</td></tr>\n",
       "\t<tr><td>Entire home/apt</td><td>1</td><td>CalviÃ              </td><td>3698.4653</td></tr>\n",
       "\t<tr><td>Entire home/apt</td><td>1</td><td>Campanet            </td><td> 643.4000</td></tr>\n",
       "\t<tr><td>Entire home/apt</td><td>1</td><td>Campos              </td><td> 879.5897</td></tr>\n",
       "\t<tr><td>Entire home/apt</td><td>1</td><td>Capdepera           </td><td> 474.0845</td></tr>\n",
       "\t<tr><td>Entire home/apt</td><td>1</td><td>Costitx             </td><td>1079.3636</td></tr>\n",
       "\t<tr><td>Entire home/apt</td><td>1</td><td>DeyÃ¡               </td><td>1468.3750</td></tr>\n",
       "\t<tr><td>Entire home/apt</td><td>1</td><td>Escorca             </td><td> 460.0000</td></tr>\n",
       "\t<tr><td>Entire home/apt</td><td>1</td><td>Esporles            </td><td> 485.5000</td></tr>\n",
       "\t<tr><td>Entire home/apt</td><td>1</td><td>Estellencs          </td><td> 150.0000</td></tr>\n",
       "\t<tr><td>Entire home/apt</td><td>1</td><td>Felanitx            </td><td>1037.0984</td></tr>\n",
       "\t<tr><td>Entire home/apt</td><td>1</td><td>Fornalutx           </td><td>1160.1176</td></tr>\n",
       "\t<tr><td>Entire home/apt</td><td>1</td><td>Inca                </td><td>1068.7200</td></tr>\n",
       "\t<tr><td>Entire home/apt</td><td>1</td><td>Lloret de Vistalegre</td><td> 433.5000</td></tr>\n",
       "\t<tr><td>Entire home/apt</td><td>1</td><td>Lloseta             </td><td>4947.5000</td></tr>\n",
       "\t<tr><td>Entire home/apt</td><td>1</td><td>LlubÃ­              </td><td> 234.3750</td></tr>\n",
       "\t<tr><td>Entire home/apt</td><td>1</td><td>Llucmajor           </td><td> 953.7800</td></tr>\n",
       "\t<tr><td>Entire home/apt</td><td>1</td><td>Manacor             </td><td> 892.1071</td></tr>\n",
       "\t<tr><td>Entire home/apt</td><td>1</td><td>Mancor de la Vall   </td><td>1542.0000</td></tr>\n",
       "\t<tr><td>Entire home/apt</td><td>1</td><td>Maria de la Salut   </td><td>1241.3333</td></tr>\n",
       "\t<tr><td>Entire home/apt</td><td>1</td><td>MarratxÃ­           </td><td> 390.8000</td></tr>\n",
       "\t<tr><td>Entire home/apt</td><td>1</td><td>MontuÃ¯ri           </td><td> 260.2857</td></tr>\n",
       "\t<tr><td>...</td><td>...</td><td>...</td><td>...</td></tr>\n",
       "\t<tr><td>Private room</td><td>3 </td><td>Mancor de la Vall</td><td> 1269.0000</td></tr>\n",
       "\t<tr><td>Private room</td><td>3 </td><td>Palma de Mallorca</td><td> 1157.0000</td></tr>\n",
       "\t<tr><td>Private room</td><td>3 </td><td>PollenÃ§a        </td><td> 1656.0000</td></tr>\n",
       "\t<tr><td>Private room</td><td>3 </td><td>SÃ³ller          </td><td>   49.0000</td></tr>\n",
       "\t<tr><td>Private room</td><td>3 </td><td>Santa Margalida  </td><td>  630.0000</td></tr>\n",
       "\t<tr><td>Private room</td><td>4 </td><td>AlcÃºdia         </td><td> 5520.0000</td></tr>\n",
       "\t<tr><td>Private room</td><td>4 </td><td>Llucmajor        </td><td>    0.0000</td></tr>\n",
       "\t<tr><td>Private room</td><td>4 </td><td>Palma de Mallorca</td><td>  393.0000</td></tr>\n",
       "\t<tr><td>Private room</td><td>4 </td><td>PollenÃ§a        </td><td> 2275.0000</td></tr>\n",
       "\t<tr><td>Private room</td><td>5+</td><td>AlarÃ³           </td><td> 5400.0000</td></tr>\n",
       "\t<tr><td>Private room</td><td>5+</td><td>ArtÃ             </td><td>    0.0000</td></tr>\n",
       "\t<tr><td>Private room</td><td>5+</td><td>BÃºger           </td><td> 2565.0000</td></tr>\n",
       "\t<tr><td>Private room</td><td>5+</td><td>Fornalutx        </td><td> 5335.0000</td></tr>\n",
       "\t<tr><td>Private room</td><td>5+</td><td>Manacor          </td><td>28200.0000</td></tr>\n",
       "\t<tr><td>Private room</td><td>5+</td><td>Maria de la Salut</td><td>  240.0000</td></tr>\n",
       "\t<tr><td>Private room</td><td>5+</td><td>Muro             </td><td> 4606.0000</td></tr>\n",
       "\t<tr><td>Private room</td><td>5+</td><td>Palma de Mallorca</td><td>   42.5000</td></tr>\n",
       "\t<tr><td>Private room</td><td>5+</td><td>PollenÃ§a        </td><td>   82.5000</td></tr>\n",
       "\t<tr><td>Private room</td><td>5+</td><td>Puigpunyent      </td><td> 1850.0000</td></tr>\n",
       "\t<tr><td>Private room</td><td>5+</td><td>Sa Pobla         </td><td>    0.0000</td></tr>\n",
       "\t<tr><td>Private room</td><td>5+</td><td>Selva            </td><td>  170.0000</td></tr>\n",
       "\t<tr><td>Private room</td><td>5+</td><td>Sencelles        </td><td>14260.0000</td></tr>\n",
       "\t<tr><td>Private room</td><td>5+</td><td>Sineu            </td><td>   99.0000</td></tr>\n",
       "\t<tr><td>Shared room </td><td>1 </td><td>CalviÃ           </td><td>  600.0000</td></tr>\n",
       "\t<tr><td>Shared room </td><td>1 </td><td>Esporles         </td><td>  242.5000</td></tr>\n",
       "\t<tr><td>Shared room </td><td>1 </td><td>MontuÃ¯ri        </td><td>    0.0000</td></tr>\n",
       "\t<tr><td>Shared room </td><td>1 </td><td>Muro             </td><td>  280.0000</td></tr>\n",
       "\t<tr><td>Shared room </td><td>1 </td><td>Palma de Mallorca</td><td>  646.9167</td></tr>\n",
       "\t<tr><td>Shared room </td><td>1 </td><td>Sa Pobla         </td><td>    0.0000</td></tr>\n",
       "\t<tr><td>Shared room </td><td>1 </td><td>Sineu            </td><td>    0.0000</td></tr>\n",
       "</tbody>\n",
       "</table>\n"
      ],
      "text/latex": [
       "A grouped\\_df: 418 × 4\n",
       "\\begin{tabular}{llll}\n",
       " room\\_type & bedrooms & neighbourhood\\_cleansed & mean\\_revenue\\_30\\\\\n",
       " <chr> & <chr> & <chr> & <dbl>\\\\\n",
       "\\hline\n",
       "\t Entire home/apt & 1 & AlarÃ³               & 1822.2500\\\\\n",
       "\t Entire home/apt & 1 & AlcÃºdia             &  575.1942\\\\\n",
       "\t Entire home/apt & 1 & Algaida              & 1552.0000\\\\\n",
       "\t Entire home/apt & 1 & Andratx              &  979.0909\\\\\n",
       "\t Entire home/apt & 1 & ArtÃ                 &  908.0000\\\\\n",
       "\t Entire home/apt & 1 & Banyalbufar          & 1047.0000\\\\\n",
       "\t Entire home/apt & 1 & BÃºger               & 2102.5000\\\\\n",
       "\t Entire home/apt & 1 & Binissalem           & 1727.5000\\\\\n",
       "\t Entire home/apt & 1 & Bunyola              &  616.8571\\\\\n",
       "\t Entire home/apt & 1 & CalviÃ               & 3698.4653\\\\\n",
       "\t Entire home/apt & 1 & Campanet             &  643.4000\\\\\n",
       "\t Entire home/apt & 1 & Campos               &  879.5897\\\\\n",
       "\t Entire home/apt & 1 & Capdepera            &  474.0845\\\\\n",
       "\t Entire home/apt & 1 & Costitx              & 1079.3636\\\\\n",
       "\t Entire home/apt & 1 & DeyÃ¡                & 1468.3750\\\\\n",
       "\t Entire home/apt & 1 & Escorca              &  460.0000\\\\\n",
       "\t Entire home/apt & 1 & Esporles             &  485.5000\\\\\n",
       "\t Entire home/apt & 1 & Estellencs           &  150.0000\\\\\n",
       "\t Entire home/apt & 1 & Felanitx             & 1037.0984\\\\\n",
       "\t Entire home/apt & 1 & Fornalutx            & 1160.1176\\\\\n",
       "\t Entire home/apt & 1 & Inca                 & 1068.7200\\\\\n",
       "\t Entire home/apt & 1 & Lloret de Vistalegre &  433.5000\\\\\n",
       "\t Entire home/apt & 1 & Lloseta              & 4947.5000\\\\\n",
       "\t Entire home/apt & 1 & LlubÃ­               &  234.3750\\\\\n",
       "\t Entire home/apt & 1 & Llucmajor            &  953.7800\\\\\n",
       "\t Entire home/apt & 1 & Manacor              &  892.1071\\\\\n",
       "\t Entire home/apt & 1 & Mancor de la Vall    & 1542.0000\\\\\n",
       "\t Entire home/apt & 1 & Maria de la Salut    & 1241.3333\\\\\n",
       "\t Entire home/apt & 1 & MarratxÃ­            &  390.8000\\\\\n",
       "\t Entire home/apt & 1 & MontuÃ¯ri            &  260.2857\\\\\n",
       "\t ... & ... & ... & ...\\\\\n",
       "\t Private room & 3  & Mancor de la Vall &  1269.0000\\\\\n",
       "\t Private room & 3  & Palma de Mallorca &  1157.0000\\\\\n",
       "\t Private room & 3  & PollenÃ§a         &  1656.0000\\\\\n",
       "\t Private room & 3  & SÃ³ller           &    49.0000\\\\\n",
       "\t Private room & 3  & Santa Margalida   &   630.0000\\\\\n",
       "\t Private room & 4  & AlcÃºdia          &  5520.0000\\\\\n",
       "\t Private room & 4  & Llucmajor         &     0.0000\\\\\n",
       "\t Private room & 4  & Palma de Mallorca &   393.0000\\\\\n",
       "\t Private room & 4  & PollenÃ§a         &  2275.0000\\\\\n",
       "\t Private room & 5+ & AlarÃ³            &  5400.0000\\\\\n",
       "\t Private room & 5+ & ArtÃ              &     0.0000\\\\\n",
       "\t Private room & 5+ & BÃºger            &  2565.0000\\\\\n",
       "\t Private room & 5+ & Fornalutx         &  5335.0000\\\\\n",
       "\t Private room & 5+ & Manacor           & 28200.0000\\\\\n",
       "\t Private room & 5+ & Maria de la Salut &   240.0000\\\\\n",
       "\t Private room & 5+ & Muro              &  4606.0000\\\\\n",
       "\t Private room & 5+ & Palma de Mallorca &    42.5000\\\\\n",
       "\t Private room & 5+ & PollenÃ§a         &    82.5000\\\\\n",
       "\t Private room & 5+ & Puigpunyent       &  1850.0000\\\\\n",
       "\t Private room & 5+ & Sa Pobla          &     0.0000\\\\\n",
       "\t Private room & 5+ & Selva             &   170.0000\\\\\n",
       "\t Private room & 5+ & Sencelles         & 14260.0000\\\\\n",
       "\t Private room & 5+ & Sineu             &    99.0000\\\\\n",
       "\t Shared room  & 1  & CalviÃ            &   600.0000\\\\\n",
       "\t Shared room  & 1  & Esporles          &   242.5000\\\\\n",
       "\t Shared room  & 1  & MontuÃ¯ri         &     0.0000\\\\\n",
       "\t Shared room  & 1  & Muro              &   280.0000\\\\\n",
       "\t Shared room  & 1  & Palma de Mallorca &   646.9167\\\\\n",
       "\t Shared room  & 1  & Sa Pobla          &     0.0000\\\\\n",
       "\t Shared room  & 1  & Sineu             &     0.0000\\\\\n",
       "\\end{tabular}\n"
      ],
      "text/markdown": [
       "\n",
       "A grouped_df: 418 × 4\n",
       "\n",
       "| room_type &lt;chr&gt; | bedrooms &lt;chr&gt; | neighbourhood_cleansed &lt;chr&gt; | mean_revenue_30 &lt;dbl&gt; |\n",
       "|---|---|---|---|\n",
       "| Entire home/apt | 1 | AlarÃ³               | 1822.2500 |\n",
       "| Entire home/apt | 1 | AlcÃºdia             |  575.1942 |\n",
       "| Entire home/apt | 1 | Algaida              | 1552.0000 |\n",
       "| Entire home/apt | 1 | Andratx              |  979.0909 |\n",
       "| Entire home/apt | 1 | ArtÃ                 |  908.0000 |\n",
       "| Entire home/apt | 1 | Banyalbufar          | 1047.0000 |\n",
       "| Entire home/apt | 1 | BÃºger               | 2102.5000 |\n",
       "| Entire home/apt | 1 | Binissalem           | 1727.5000 |\n",
       "| Entire home/apt | 1 | Bunyola              |  616.8571 |\n",
       "| Entire home/apt | 1 | CalviÃ               | 3698.4653 |\n",
       "| Entire home/apt | 1 | Campanet             |  643.4000 |\n",
       "| Entire home/apt | 1 | Campos               |  879.5897 |\n",
       "| Entire home/apt | 1 | Capdepera            |  474.0845 |\n",
       "| Entire home/apt | 1 | Costitx              | 1079.3636 |\n",
       "| Entire home/apt | 1 | DeyÃ¡                | 1468.3750 |\n",
       "| Entire home/apt | 1 | Escorca              |  460.0000 |\n",
       "| Entire home/apt | 1 | Esporles             |  485.5000 |\n",
       "| Entire home/apt | 1 | Estellencs           |  150.0000 |\n",
       "| Entire home/apt | 1 | Felanitx             | 1037.0984 |\n",
       "| Entire home/apt | 1 | Fornalutx            | 1160.1176 |\n",
       "| Entire home/apt | 1 | Inca                 | 1068.7200 |\n",
       "| Entire home/apt | 1 | Lloret de Vistalegre |  433.5000 |\n",
       "| Entire home/apt | 1 | Lloseta              | 4947.5000 |\n",
       "| Entire home/apt | 1 | LlubÃ­               |  234.3750 |\n",
       "| Entire home/apt | 1 | Llucmajor            |  953.7800 |\n",
       "| Entire home/apt | 1 | Manacor              |  892.1071 |\n",
       "| Entire home/apt | 1 | Mancor de la Vall    | 1542.0000 |\n",
       "| Entire home/apt | 1 | Maria de la Salut    | 1241.3333 |\n",
       "| Entire home/apt | 1 | MarratxÃ­            |  390.8000 |\n",
       "| Entire home/apt | 1 | MontuÃ¯ri            |  260.2857 |\n",
       "| ... | ... | ... | ... |\n",
       "| Private room | 3  | Mancor de la Vall |  1269.0000 |\n",
       "| Private room | 3  | Palma de Mallorca |  1157.0000 |\n",
       "| Private room | 3  | PollenÃ§a         |  1656.0000 |\n",
       "| Private room | 3  | SÃ³ller           |    49.0000 |\n",
       "| Private room | 3  | Santa Margalida   |   630.0000 |\n",
       "| Private room | 4  | AlcÃºdia          |  5520.0000 |\n",
       "| Private room | 4  | Llucmajor         |     0.0000 |\n",
       "| Private room | 4  | Palma de Mallorca |   393.0000 |\n",
       "| Private room | 4  | PollenÃ§a         |  2275.0000 |\n",
       "| Private room | 5+ | AlarÃ³            |  5400.0000 |\n",
       "| Private room | 5+ | ArtÃ              |     0.0000 |\n",
       "| Private room | 5+ | BÃºger            |  2565.0000 |\n",
       "| Private room | 5+ | Fornalutx         |  5335.0000 |\n",
       "| Private room | 5+ | Manacor           | 28200.0000 |\n",
       "| Private room | 5+ | Maria de la Salut |   240.0000 |\n",
       "| Private room | 5+ | Muro              |  4606.0000 |\n",
       "| Private room | 5+ | Palma de Mallorca |    42.5000 |\n",
       "| Private room | 5+ | PollenÃ§a         |    82.5000 |\n",
       "| Private room | 5+ | Puigpunyent       |  1850.0000 |\n",
       "| Private room | 5+ | Sa Pobla          |     0.0000 |\n",
       "| Private room | 5+ | Selva             |   170.0000 |\n",
       "| Private room | 5+ | Sencelles         | 14260.0000 |\n",
       "| Private room | 5+ | Sineu             |    99.0000 |\n",
       "| Shared room  | 1  | CalviÃ            |   600.0000 |\n",
       "| Shared room  | 1  | Esporles          |   242.5000 |\n",
       "| Shared room  | 1  | MontuÃ¯ri         |     0.0000 |\n",
       "| Shared room  | 1  | Muro              |   280.0000 |\n",
       "| Shared room  | 1  | Palma de Mallorca |   646.9167 |\n",
       "| Shared room  | 1  | Sa Pobla          |     0.0000 |\n",
       "| Shared room  | 1  | Sineu             |     0.0000 |\n",
       "\n"
      ],
      "text/plain": [
       "    room_type       bedrooms neighbourhood_cleansed mean_revenue_30\n",
       "1   Entire home/apt 1        AlarÃ³                 1822.2500      \n",
       "2   Entire home/apt 1        AlcÃºdia                575.1942      \n",
       "3   Entire home/apt 1        Algaida                1552.0000      \n",
       "4   Entire home/apt 1        Andratx                 979.0909      \n",
       "5   Entire home/apt 1        ArtÃ                    908.0000      \n",
       "6   Entire home/apt 1        Banyalbufar            1047.0000      \n",
       "7   Entire home/apt 1        BÃºger                 2102.5000      \n",
       "8   Entire home/apt 1        Binissalem             1727.5000      \n",
       "9   Entire home/apt 1        Bunyola                 616.8571      \n",
       "10  Entire home/apt 1        CalviÃ                 3698.4653      \n",
       "11  Entire home/apt 1        Campanet                643.4000      \n",
       "12  Entire home/apt 1        Campos                  879.5897      \n",
       "13  Entire home/apt 1        Capdepera               474.0845      \n",
       "14  Entire home/apt 1        Costitx                1079.3636      \n",
       "15  Entire home/apt 1        DeyÃ¡                  1468.3750      \n",
       "16  Entire home/apt 1        Escorca                 460.0000      \n",
       "17  Entire home/apt 1        Esporles                485.5000      \n",
       "18  Entire home/apt 1        Estellencs              150.0000      \n",
       "19  Entire home/apt 1        Felanitx               1037.0984      \n",
       "20  Entire home/apt 1        Fornalutx              1160.1176      \n",
       "21  Entire home/apt 1        Inca                   1068.7200      \n",
       "22  Entire home/apt 1        Lloret de Vistalegre    433.5000      \n",
       "23  Entire home/apt 1        Lloseta                4947.5000      \n",
       "24  Entire home/apt 1        LlubÃ­                  234.3750      \n",
       "25  Entire home/apt 1        Llucmajor               953.7800      \n",
       "26  Entire home/apt 1        Manacor                 892.1071      \n",
       "27  Entire home/apt 1        Mancor de la Vall      1542.0000      \n",
       "28  Entire home/apt 1        Maria de la Salut      1241.3333      \n",
       "29  Entire home/apt 1        MarratxÃ­               390.8000      \n",
       "30  Entire home/apt 1        MontuÃ¯ri               260.2857      \n",
       "... ...             ...      ...                    ...            \n",
       "389 Private room    3        Mancor de la Vall       1269.0000     \n",
       "390 Private room    3        Palma de Mallorca       1157.0000     \n",
       "391 Private room    3        PollenÃ§a               1656.0000     \n",
       "392 Private room    3        SÃ³ller                   49.0000     \n",
       "393 Private room    3        Santa Margalida          630.0000     \n",
       "394 Private room    4        AlcÃºdia                5520.0000     \n",
       "395 Private room    4        Llucmajor                  0.0000     \n",
       "396 Private room    4        Palma de Mallorca        393.0000     \n",
       "397 Private room    4        PollenÃ§a               2275.0000     \n",
       "398 Private room    5+       AlarÃ³                  5400.0000     \n",
       "399 Private room    5+       ArtÃ                       0.0000     \n",
       "400 Private room    5+       BÃºger                  2565.0000     \n",
       "401 Private room    5+       Fornalutx               5335.0000     \n",
       "402 Private room    5+       Manacor                28200.0000     \n",
       "403 Private room    5+       Maria de la Salut        240.0000     \n",
       "404 Private room    5+       Muro                    4606.0000     \n",
       "405 Private room    5+       Palma de Mallorca         42.5000     \n",
       "406 Private room    5+       PollenÃ§a                 82.5000     \n",
       "407 Private room    5+       Puigpunyent             1850.0000     \n",
       "408 Private room    5+       Sa Pobla                   0.0000     \n",
       "409 Private room    5+       Selva                    170.0000     \n",
       "410 Private room    5+       Sencelles              14260.0000     \n",
       "411 Private room    5+       Sineu                     99.0000     \n",
       "412 Shared room     1        CalviÃ                   600.0000     \n",
       "413 Shared room     1        Esporles                 242.5000     \n",
       "414 Shared room     1        MontuÃ¯ri                  0.0000     \n",
       "415 Shared room     1        Muro                     280.0000     \n",
       "416 Shared room     1        Palma de Mallorca        646.9167     \n",
       "417 Shared room     1        Sa Pobla                   0.0000     \n",
       "418 Shared room     1        Sineu                      0.0000     "
      ]
     },
     "metadata": {},
     "output_type": "display_data"
    }
   ],
   "source": [
    "aggregated_revenue(selected_city)"
   ]
  },
  {
   "cell_type": "markdown",
   "metadata": {},
   "source": [
    "#### 6. What is the distribution of availability over the next 30 days for each room type/ house size / neighborhood?"
   ]
  },
  {
   "cell_type": "code",
   "execution_count": 43,
   "metadata": {},
   "outputs": [
    {
     "name": "stderr",
     "output_type": "stream",
     "text": [
      "Warning message:\n",
      "\"`fun.y` is deprecated. Use `fun` instead.\"\n"
     ]
    },
    {
     "data": {
      "image/png": "[encoded data removed]",
      "text/plain": [
       "plot without title"
      ]
     },
     "metadata": {
      "image/png": {
       "height": 420,
       "width": 420
      }
     },
     "output_type": "display_data"
    }
   ],
   "source": [
    "availability_plotting(selected_city)"
   ]
  },
  {
   "cell_type": "markdown",
   "metadata": {},
   "source": [
    "#### 7. What is the distribution of revenue over the next 30 days for each room type / house size / neighborhood? "
   ]
  },
  {
   "cell_type": "code",
   "execution_count": 44,
   "metadata": {},
   "outputs": [
    {
     "name": "stderr",
     "output_type": "stream",
     "text": [
      "Warning message:\n",
      "\"`fun.y` is deprecated. Use `fun` instead.\"\n"
     ]
    },
    {
     "data": {
      "image/png": "[encoded data removed]",
      "text/plain": [
       "plot without title"
      ]
     },
     "metadata": {
      "image/png": {
       "height": 420,
       "width": 420
      }
     },
     "output_type": "display_data"
    }
   ],
   "source": [
    "revenue_plotting(selected_city)"
   ]
  },
  {
   "cell_type": "markdown",
   "metadata": {},
   "source": [
    "### C. Sevilla"
   ]
  },
  {
   "cell_type": "code",
   "execution_count": 45,
   "metadata": {},
   "outputs": [
    {
     "data": {
      "text/html": [
       "'sevilla'"
      ],
      "text/latex": [
       "'sevilla'"
      ],
      "text/markdown": [
       "'sevilla'"
      ],
      "text/plain": [
       "[1] \"sevilla\""
      ]
     },
     "metadata": {},
     "output_type": "display_data"
    }
   ],
   "source": [
    "selected_city <- 'sevilla'\n",
    "selected_city"
   ]
  },
  {
   "cell_type": "markdown",
   "metadata": {},
   "source": [
    "#### 1. What is the proportion of each room type?"
   ]
  },
  {
   "cell_type": "code",
   "execution_count": 46,
   "metadata": {},
   "outputs": [
    {
     "name": "stderr",
     "output_type": "stream",
     "text": [
      "`summarise()` ungrouping output (override with `.groups` argument)\n",
      "\n"
     ]
    },
    {
     "data": {
      "text/html": [
       "<table>\n",
       "<caption>A tibble: 4 × 3</caption>\n",
       "<thead>\n",
       "\t<tr><th scope=col>room_type</th><th scope=col>nb_rooms</th><th scope=col>freq</th></tr>\n",
       "\t<tr><th scope=col>&lt;chr&gt;</th><th scope=col>&lt;int&gt;</th><th scope=col>&lt;dbl&gt;</th></tr>\n",
       "</thead>\n",
       "<tbody>\n",
       "\t<tr><td>Entire home/apt</td><td>5250</td><td>0.78734253</td></tr>\n",
       "\t<tr><td>Hotel room     </td><td> 114</td><td>0.01709658</td></tr>\n",
       "\t<tr><td>Private room   </td><td>1286</td><td>0.19286143</td></tr>\n",
       "\t<tr><td>Shared room    </td><td>  18</td><td>0.00269946</td></tr>\n",
       "</tbody>\n",
       "</table>\n"
      ],
      "text/latex": [
       "A tibble: 4 × 3\n",
       "\\begin{tabular}{lll}\n",
       " room\\_type & nb\\_rooms & freq\\\\\n",
       " <chr> & <int> & <dbl>\\\\\n",
       "\\hline\n",
       "\t Entire home/apt & 5250 & 0.78734253\\\\\n",
       "\t Hotel room      &  114 & 0.01709658\\\\\n",
       "\t Private room    & 1286 & 0.19286143\\\\\n",
       "\t Shared room     &   18 & 0.00269946\\\\\n",
       "\\end{tabular}\n"
      ],
      "text/markdown": [
       "\n",
       "A tibble: 4 × 3\n",
       "\n",
       "| room_type &lt;chr&gt; | nb_rooms &lt;int&gt; | freq &lt;dbl&gt; |\n",
       "|---|---|---|\n",
       "| Entire home/apt | 5250 | 0.78734253 |\n",
       "| Hotel room      |  114 | 0.01709658 |\n",
       "| Private room    | 1286 | 0.19286143 |\n",
       "| Shared room     |   18 | 0.00269946 |\n",
       "\n"
      ],
      "text/plain": [
       "  room_type       nb_rooms freq      \n",
       "1 Entire home/apt 5250     0.78734253\n",
       "2 Hotel room       114     0.01709658\n",
       "3 Private room    1286     0.19286143\n",
       "4 Shared room       18     0.00269946"
      ]
     },
     "metadata": {},
     "output_type": "display_data"
    }
   ],
   "source": [
    "aggregated_room_types(selected_city)"
   ]
  },
  {
   "cell_type": "markdown",
   "metadata": {},
   "source": [
    "#### 2. What is the proportion of each house size (# of bedroom)?"
   ]
  },
  {
   "cell_type": "code",
   "execution_count": 47,
   "metadata": {},
   "outputs": [
    {
     "name": "stderr",
     "output_type": "stream",
     "text": [
      "`summarise()` ungrouping output (override with `.groups` argument)\n",
      "\n"
     ]
    },
    {
     "data": {
      "text/html": [
       "<table>\n",
       "<caption>A tibble: 6 × 3</caption>\n",
       "<thead>\n",
       "\t<tr><th scope=col>bedrooms</th><th scope=col>houze_size</th><th scope=col>freq</th></tr>\n",
       "\t<tr><th scope=col>&lt;chr&gt;</th><th scope=col>&lt;int&gt;</th><th scope=col>&lt;dbl&gt;</th></tr>\n",
       "</thead>\n",
       "<tbody>\n",
       "\t<tr><td>0 </td><td> 329</td><td>0.04934013</td></tr>\n",
       "\t<tr><td>1 </td><td>3519</td><td>0.52774445</td></tr>\n",
       "\t<tr><td>2 </td><td>1874</td><td>0.28104379</td></tr>\n",
       "\t<tr><td>3 </td><td> 690</td><td>0.10347930</td></tr>\n",
       "\t<tr><td>4 </td><td> 169</td><td>0.02534493</td></tr>\n",
       "\t<tr><td>5+</td><td>  85</td><td>0.01274745</td></tr>\n",
       "</tbody>\n",
       "</table>\n"
      ],
      "text/latex": [
       "A tibble: 6 × 3\n",
       "\\begin{tabular}{lll}\n",
       " bedrooms & houze\\_size & freq\\\\\n",
       " <chr> & <int> & <dbl>\\\\\n",
       "\\hline\n",
       "\t 0  &  329 & 0.04934013\\\\\n",
       "\t 1  & 3519 & 0.52774445\\\\\n",
       "\t 2  & 1874 & 0.28104379\\\\\n",
       "\t 3  &  690 & 0.10347930\\\\\n",
       "\t 4  &  169 & 0.02534493\\\\\n",
       "\t 5+ &   85 & 0.01274745\\\\\n",
       "\\end{tabular}\n"
      ],
      "text/markdown": [
       "\n",
       "A tibble: 6 × 3\n",
       "\n",
       "| bedrooms &lt;chr&gt; | houze_size &lt;int&gt; | freq &lt;dbl&gt; |\n",
       "|---|---|---|\n",
       "| 0  |  329 | 0.04934013 |\n",
       "| 1  | 3519 | 0.52774445 |\n",
       "| 2  | 1874 | 0.28104379 |\n",
       "| 3  |  690 | 0.10347930 |\n",
       "| 4  |  169 | 0.02534493 |\n",
       "| 5+ |   85 | 0.01274745 |\n",
       "\n"
      ],
      "text/plain": [
       "  bedrooms houze_size freq      \n",
       "1 0         329       0.04934013\n",
       "2 1        3519       0.52774445\n",
       "3 2        1874       0.28104379\n",
       "4 3         690       0.10347930\n",
       "5 4         169       0.02534493\n",
       "6 5+         85       0.01274745"
      ]
     },
     "metadata": {},
     "output_type": "display_data"
    }
   ],
   "source": [
    "aggregated_house_size(selected_city)"
   ]
  },
  {
   "cell_type": "markdown",
   "metadata": {},
   "source": [
    "#### 3. What is the proportion of each neighborhood?"
   ]
  },
  {
   "cell_type": "code",
   "execution_count": 48,
   "metadata": {},
   "outputs": [
    {
     "name": "stderr",
     "output_type": "stream",
     "text": [
      "`summarise()` ungrouping output (override with `.groups` argument)\n",
      "\n"
     ]
    },
    {
     "data": {
      "text/html": [
       "<table>\n",
       "<caption>A tibble: 103 × 3</caption>\n",
       "<thead>\n",
       "\t<tr><th scope=col>neighbourhood_cleansed</th><th scope=col>ngbh</th><th scope=col>freq</th></tr>\n",
       "\t<tr><th scope=col>&lt;chr&gt;</th><th scope=col>&lt;int&gt;</th><th scope=col>&lt;dbl&gt;</th></tr>\n",
       "</thead>\n",
       "<tbody>\n",
       "\t<tr><td>Aeropuerto Viejo                                  </td><td>  1</td><td>0.00014997</td></tr>\n",
       "\t<tr><td>Alfalfa                                           </td><td>745</td><td>0.11172765</td></tr>\n",
       "\t<tr><td>Amate                                             </td><td>  5</td><td>0.00074985</td></tr>\n",
       "\t<tr><td>an Roque                                          </td><td> 66</td><td>0.00989802</td></tr>\n",
       "\t<tr><td>Arbol Gordo                                       </td><td>  2</td><td>0.00029994</td></tr>\n",
       "\t<tr><td>Arenal                                            </td><td>492</td><td>0.07378524</td></tr>\n",
       "\t<tr><td>Avda. de la Paz                                   </td><td>  5</td><td>0.00074985</td></tr>\n",
       "\t<tr><td>Bami                                              </td><td>  6</td><td>0.00089982</td></tr>\n",
       "\t<tr><td>Barrio LeÃ³n                                      </td><td> 21</td><td>0.00314937</td></tr>\n",
       "\t<tr><td>Bda. de Pineda                                    </td><td>  4</td><td>0.00059988</td></tr>\n",
       "\t<tr><td>Bda. Pino Montano                                 </td><td> 22</td><td>0.00329934</td></tr>\n",
       "\t<tr><td>BegoÃ±a, Santa Catalina                           </td><td>  6</td><td>0.00089982</td></tr>\n",
       "\t<tr><td>Bellavista                                        </td><td> 13</td><td>0.00194961</td></tr>\n",
       "\t<tr><td>Campos de Soria                                   </td><td>  3</td><td>0.00044991</td></tr>\n",
       "\t<tr><td>Carretera de Carmona, MarÃ­a Auxiliadora, Fontanal</td><td> 36</td><td>0.00539892</td></tr>\n",
       "\t<tr><td>Cisneo Alto, Santa MarÃ­a de Graccia              </td><td>  5</td><td>0.00074985</td></tr>\n",
       "\t<tr><td>Ciudad JardÃ­n                                    </td><td> 11</td><td>0.00164967</td></tr>\n",
       "\t<tr><td>Colores, Entreparques                             </td><td> 38</td><td>0.00569886</td></tr>\n",
       "\t<tr><td>ConsolaciÃ³n                                      </td><td>  6</td><td>0.00089982</td></tr>\n",
       "\t<tr><td>Cruz Roja, Capuchinos                             </td><td> 23</td><td>0.00344931</td></tr>\n",
       "\t<tr><td>Doctor Barraquer, G. Renfe, PoliclÃ­nico          </td><td> 37</td><td>0.00554889</td></tr>\n",
       "\t<tr><td>El Cano, Los Bermejales                           </td><td> 10</td><td>0.00149970</td></tr>\n",
       "\t<tr><td>El Carmen                                         </td><td>  8</td><td>0.00119976</td></tr>\n",
       "\t<tr><td>El Cerro                                          </td><td> 22</td><td>0.00329934</td></tr>\n",
       "\t<tr><td>El Juncal, HÃ­spalis                              </td><td>  4</td><td>0.00059988</td></tr>\n",
       "\t<tr><td>El Plantinar                                      </td><td>  8</td><td>0.00119976</td></tr>\n",
       "\t<tr><td>El Porvenir                                       </td><td> 44</td><td>0.00659868</td></tr>\n",
       "\t<tr><td>El RocÃ­o                                         </td><td>  4</td><td>0.00059988</td></tr>\n",
       "\t<tr><td>El TardÃ³n, El Carmen                             </td><td> 38</td><td>0.00569886</td></tr>\n",
       "\t<tr><td>El TorrejÃ³n, El Cerezo                           </td><td>  8</td><td>0.00119976</td></tr>\n",
       "\t<tr><td>...</td><td>...</td><td>...</td></tr>\n",
       "\t<tr><td>Rochelambert                                       </td><td>  6</td><td>0.00089982</td></tr>\n",
       "\t<tr><td>San BartolomÃ©                                     </td><td>503</td><td>0.07543491</td></tr>\n",
       "\t<tr><td>San Bernardo                                       </td><td> 92</td><td>0.01379724</td></tr>\n",
       "\t<tr><td>San Carlos, Tartessos                              </td><td>  6</td><td>0.00089982</td></tr>\n",
       "\t<tr><td>San Diego                                          </td><td>  3</td><td>0.00044991</td></tr>\n",
       "\t<tr><td>San Gil                                            </td><td>303</td><td>0.04544091</td></tr>\n",
       "\t<tr><td>San JerÃ³nimo                                      </td><td> 14</td><td>0.00209958</td></tr>\n",
       "\t<tr><td>San JosÃ© Obrero                                   </td><td> 51</td><td>0.00764847</td></tr>\n",
       "\t<tr><td>San JuliÃ¡n                                        </td><td>206</td><td>0.03089382</td></tr>\n",
       "\t<tr><td>San Lorenzo                                        </td><td>238</td><td>0.03569286</td></tr>\n",
       "\t<tr><td>San MatÃ­as                                        </td><td>  1</td><td>0.00014997</td></tr>\n",
       "\t<tr><td>San Pablo A y B                                    </td><td> 10</td><td>0.00149970</td></tr>\n",
       "\t<tr><td>San Pablo C                                        </td><td>  2</td><td>0.00029994</td></tr>\n",
       "\t<tr><td>San Pablo D y E                                    </td><td>  7</td><td>0.00104979</td></tr>\n",
       "\t<tr><td>San Vicente                                        </td><td>299</td><td>0.04484103</td></tr>\n",
       "\t<tr><td>Santa Aurelia, CantÃ¡brico, AtlÃ¡ntico, La RomerÃ­a</td><td>  9</td><td>0.00134973</td></tr>\n",
       "\t<tr><td>Santa Catalina                                     </td><td>247</td><td>0.03704259</td></tr>\n",
       "\t<tr><td>Santa Clara                                        </td><td> 12</td><td>0.00179964</td></tr>\n",
       "\t<tr><td>Santa Cruz                                         </td><td>472</td><td>0.07078584</td></tr>\n",
       "\t<tr><td>Santa Justa y Rufina, Parque Miraflores            </td><td>  2</td><td>0.00029994</td></tr>\n",
       "\t<tr><td>Santa MarÃ­a de Ordas, San Nicolas                 </td><td>  4</td><td>0.00059988</td></tr>\n",
       "\t<tr><td>Sector Sur, La Palmera, Reina Mercedes             </td><td> 23</td><td>0.00344931</td></tr>\n",
       "\t<tr><td>Tablada                                            </td><td>  7</td><td>0.00104979</td></tr>\n",
       "\t<tr><td>Tabladilla, La Estrella                            </td><td>  5</td><td>0.00074985</td></tr>\n",
       "\t<tr><td>Tiro de LÃ­nea, Santa Genoveva                     </td><td> 20</td><td>0.00299940</td></tr>\n",
       "\t<tr><td>Triana Casco Antiguo                               </td><td>359</td><td>0.05383923</td></tr>\n",
       "\t<tr><td>Triana Este                                        </td><td>180</td><td>0.02699460</td></tr>\n",
       "\t<tr><td>Triana Oeste                                       </td><td>146</td><td>0.02189562</td></tr>\n",
       "\t<tr><td>Valdezorras                                        </td><td>  4</td><td>0.00059988</td></tr>\n",
       "\t<tr><td>Villegas                                           </td><td>  5</td><td>0.00074985</td></tr>\n",
       "</tbody>\n",
       "</table>\n"
      ],
      "text/latex": [
       "A tibble: 103 × 3\n",
       "\\begin{tabular}{lll}\n",
       " neighbourhood\\_cleansed & ngbh & freq\\\\\n",
       " <chr> & <int> & <dbl>\\\\\n",
       "\\hline\n",
       "\t Aeropuerto Viejo                                   &   1 & 0.00014997\\\\\n",
       "\t Alfalfa                                            & 745 & 0.11172765\\\\\n",
       "\t Amate                                              &   5 & 0.00074985\\\\\n",
       "\t an Roque                                           &  66 & 0.00989802\\\\\n",
       "\t Arbol Gordo                                        &   2 & 0.00029994\\\\\n",
       "\t Arenal                                             & 492 & 0.07378524\\\\\n",
       "\t Avda. de la Paz                                    &   5 & 0.00074985\\\\\n",
       "\t Bami                                               &   6 & 0.00089982\\\\\n",
       "\t Barrio LeÃ³n                                       &  21 & 0.00314937\\\\\n",
       "\t Bda. de Pineda                                     &   4 & 0.00059988\\\\\n",
       "\t Bda. Pino Montano                                  &  22 & 0.00329934\\\\\n",
       "\t BegoÃ±a, Santa Catalina                            &   6 & 0.00089982\\\\\n",
       "\t Bellavista                                         &  13 & 0.00194961\\\\\n",
       "\t Campos de Soria                                    &   3 & 0.00044991\\\\\n",
       "\t Carretera de Carmona, MarÃ­a Auxiliadora, Fontanal &  36 & 0.00539892\\\\\n",
       "\t Cisneo Alto, Santa MarÃ­a de Graccia               &   5 & 0.00074985\\\\\n",
       "\t Ciudad JardÃ­n                                     &  11 & 0.00164967\\\\\n",
       "\t Colores, Entreparques                              &  38 & 0.00569886\\\\\n",
       "\t ConsolaciÃ³n                                       &   6 & 0.00089982\\\\\n",
       "\t Cruz Roja, Capuchinos                              &  23 & 0.00344931\\\\\n",
       "\t Doctor Barraquer, G. Renfe, PoliclÃ­nico           &  37 & 0.00554889\\\\\n",
       "\t El Cano, Los Bermejales                            &  10 & 0.00149970\\\\\n",
       "\t El Carmen                                          &   8 & 0.00119976\\\\\n",
       "\t El Cerro                                           &  22 & 0.00329934\\\\\n",
       "\t El Juncal, HÃ­spalis                               &   4 & 0.00059988\\\\\n",
       "\t El Plantinar                                       &   8 & 0.00119976\\\\\n",
       "\t El Porvenir                                        &  44 & 0.00659868\\\\\n",
       "\t El RocÃ­o                                          &   4 & 0.00059988\\\\\n",
       "\t El TardÃ³n, El Carmen                              &  38 & 0.00569886\\\\\n",
       "\t El TorrejÃ³n, El Cerezo                            &   8 & 0.00119976\\\\\n",
       "\t ... & ... & ...\\\\\n",
       "\t Rochelambert                                        &   6 & 0.00089982\\\\\n",
       "\t San BartolomÃ©                                      & 503 & 0.07543491\\\\\n",
       "\t San Bernardo                                        &  92 & 0.01379724\\\\\n",
       "\t San Carlos, Tartessos                               &   6 & 0.00089982\\\\\n",
       "\t San Diego                                           &   3 & 0.00044991\\\\\n",
       "\t San Gil                                             & 303 & 0.04544091\\\\\n",
       "\t San JerÃ³nimo                                       &  14 & 0.00209958\\\\\n",
       "\t San JosÃ© Obrero                                    &  51 & 0.00764847\\\\\n",
       "\t San JuliÃ¡n                                         & 206 & 0.03089382\\\\\n",
       "\t San Lorenzo                                         & 238 & 0.03569286\\\\\n",
       "\t San MatÃ­as                                         &   1 & 0.00014997\\\\\n",
       "\t San Pablo A y B                                     &  10 & 0.00149970\\\\\n",
       "\t San Pablo C                                         &   2 & 0.00029994\\\\\n",
       "\t San Pablo D y E                                     &   7 & 0.00104979\\\\\n",
       "\t San Vicente                                         & 299 & 0.04484103\\\\\n",
       "\t Santa Aurelia, CantÃ¡brico, AtlÃ¡ntico, La RomerÃ­a &   9 & 0.00134973\\\\\n",
       "\t Santa Catalina                                      & 247 & 0.03704259\\\\\n",
       "\t Santa Clara                                         &  12 & 0.00179964\\\\\n",
       "\t Santa Cruz                                          & 472 & 0.07078584\\\\\n",
       "\t Santa Justa y Rufina, Parque Miraflores             &   2 & 0.00029994\\\\\n",
       "\t Santa MarÃ­a de Ordas, San Nicolas                  &   4 & 0.00059988\\\\\n",
       "\t Sector Sur, La Palmera, Reina Mercedes              &  23 & 0.00344931\\\\\n",
       "\t Tablada                                             &   7 & 0.00104979\\\\\n",
       "\t Tabladilla, La Estrella                             &   5 & 0.00074985\\\\\n",
       "\t Tiro de LÃ­nea, Santa Genoveva                      &  20 & 0.00299940\\\\\n",
       "\t Triana Casco Antiguo                                & 359 & 0.05383923\\\\\n",
       "\t Triana Este                                         & 180 & 0.02699460\\\\\n",
       "\t Triana Oeste                                        & 146 & 0.02189562\\\\\n",
       "\t Valdezorras                                         &   4 & 0.00059988\\\\\n",
       "\t Villegas                                            &   5 & 0.00074985\\\\\n",
       "\\end{tabular}\n"
      ],
      "text/markdown": [
       "\n",
       "A tibble: 103 × 3\n",
       "\n",
       "| neighbourhood_cleansed &lt;chr&gt; | ngbh &lt;int&gt; | freq &lt;dbl&gt; |\n",
       "|---|---|---|\n",
       "| Aeropuerto Viejo                                   |   1 | 0.00014997 |\n",
       "| Alfalfa                                            | 745 | 0.11172765 |\n",
       "| Amate                                              |   5 | 0.00074985 |\n",
       "| an Roque                                           |  66 | 0.00989802 |\n",
       "| Arbol Gordo                                        |   2 | 0.00029994 |\n",
       "| Arenal                                             | 492 | 0.07378524 |\n",
       "| Avda. de la Paz                                    |   5 | 0.00074985 |\n",
       "| Bami                                               |   6 | 0.00089982 |\n",
       "| Barrio LeÃ³n                                       |  21 | 0.00314937 |\n",
       "| Bda. de Pineda                                     |   4 | 0.00059988 |\n",
       "| Bda. Pino Montano                                  |  22 | 0.00329934 |\n",
       "| BegoÃ±a, Santa Catalina                            |   6 | 0.00089982 |\n",
       "| Bellavista                                         |  13 | 0.00194961 |\n",
       "| Campos de Soria                                    |   3 | 0.00044991 |\n",
       "| Carretera de Carmona, MarÃ­a Auxiliadora, Fontanal |  36 | 0.00539892 |\n",
       "| Cisneo Alto, Santa MarÃ­a de Graccia               |   5 | 0.00074985 |\n",
       "| Ciudad JardÃ­n                                     |  11 | 0.00164967 |\n",
       "| Colores, Entreparques                              |  38 | 0.00569886 |\n",
       "| ConsolaciÃ³n                                       |   6 | 0.00089982 |\n",
       "| Cruz Roja, Capuchinos                              |  23 | 0.00344931 |\n",
       "| Doctor Barraquer, G. Renfe, PoliclÃ­nico           |  37 | 0.00554889 |\n",
       "| El Cano, Los Bermejales                            |  10 | 0.00149970 |\n",
       "| El Carmen                                          |   8 | 0.00119976 |\n",
       "| El Cerro                                           |  22 | 0.00329934 |\n",
       "| El Juncal, HÃ­spalis                               |   4 | 0.00059988 |\n",
       "| El Plantinar                                       |   8 | 0.00119976 |\n",
       "| El Porvenir                                        |  44 | 0.00659868 |\n",
       "| El RocÃ­o                                          |   4 | 0.00059988 |\n",
       "| El TardÃ³n, El Carmen                              |  38 | 0.00569886 |\n",
       "| El TorrejÃ³n, El Cerezo                            |   8 | 0.00119976 |\n",
       "| ... | ... | ... |\n",
       "| Rochelambert                                        |   6 | 0.00089982 |\n",
       "| San BartolomÃ©                                      | 503 | 0.07543491 |\n",
       "| San Bernardo                                        |  92 | 0.01379724 |\n",
       "| San Carlos, Tartessos                               |   6 | 0.00089982 |\n",
       "| San Diego                                           |   3 | 0.00044991 |\n",
       "| San Gil                                             | 303 | 0.04544091 |\n",
       "| San JerÃ³nimo                                       |  14 | 0.00209958 |\n",
       "| San JosÃ© Obrero                                    |  51 | 0.00764847 |\n",
       "| San JuliÃ¡n                                         | 206 | 0.03089382 |\n",
       "| San Lorenzo                                         | 238 | 0.03569286 |\n",
       "| San MatÃ­as                                         |   1 | 0.00014997 |\n",
       "| San Pablo A y B                                     |  10 | 0.00149970 |\n",
       "| San Pablo C                                         |   2 | 0.00029994 |\n",
       "| San Pablo D y E                                     |   7 | 0.00104979 |\n",
       "| San Vicente                                         | 299 | 0.04484103 |\n",
       "| Santa Aurelia, CantÃ¡brico, AtlÃ¡ntico, La RomerÃ­a |   9 | 0.00134973 |\n",
       "| Santa Catalina                                      | 247 | 0.03704259 |\n",
       "| Santa Clara                                         |  12 | 0.00179964 |\n",
       "| Santa Cruz                                          | 472 | 0.07078584 |\n",
       "| Santa Justa y Rufina, Parque Miraflores             |   2 | 0.00029994 |\n",
       "| Santa MarÃ­a de Ordas, San Nicolas                  |   4 | 0.00059988 |\n",
       "| Sector Sur, La Palmera, Reina Mercedes              |  23 | 0.00344931 |\n",
       "| Tablada                                             |   7 | 0.00104979 |\n",
       "| Tabladilla, La Estrella                             |   5 | 0.00074985 |\n",
       "| Tiro de LÃ­nea, Santa Genoveva                      |  20 | 0.00299940 |\n",
       "| Triana Casco Antiguo                                | 359 | 0.05383923 |\n",
       "| Triana Este                                         | 180 | 0.02699460 |\n",
       "| Triana Oeste                                        | 146 | 0.02189562 |\n",
       "| Valdezorras                                         |   4 | 0.00059988 |\n",
       "| Villegas                                            |   5 | 0.00074985 |\n",
       "\n"
      ],
      "text/plain": [
       "    neighbourhood_cleansed                              ngbh freq      \n",
       "1   Aeropuerto Viejo                                      1  0.00014997\n",
       "2   Alfalfa                                             745  0.11172765\n",
       "3   Amate                                                 5  0.00074985\n",
       "4   an Roque                                             66  0.00989802\n",
       "5   Arbol Gordo                                           2  0.00029994\n",
       "6   Arenal                                              492  0.07378524\n",
       "7   Avda. de la Paz                                       5  0.00074985\n",
       "8   Bami                                                  6  0.00089982\n",
       "9   Barrio LeÃ³n                                         21  0.00314937\n",
       "10  Bda. de Pineda                                        4  0.00059988\n",
       "11  Bda. Pino Montano                                    22  0.00329934\n",
       "12  BegoÃ±a, Santa Catalina                               6  0.00089982\n",
       "13  Bellavista                                           13  0.00194961\n",
       "14  Campos de Soria                                       3  0.00044991\n",
       "15  Carretera de Carmona, MarÃ­a Auxiliadora, Fontanal   36  0.00539892\n",
       "16  Cisneo Alto, Santa MarÃ­a de Graccia                  5  0.00074985\n",
       "17  Ciudad JardÃ­n                                       11  0.00164967\n",
       "18  Colores, Entreparques                                38  0.00569886\n",
       "19  ConsolaciÃ³n                                          6  0.00089982\n",
       "20  Cruz Roja, Capuchinos                                23  0.00344931\n",
       "21  Doctor Barraquer, G. Renfe, PoliclÃ­nico             37  0.00554889\n",
       "22  El Cano, Los Bermejales                              10  0.00149970\n",
       "23  El Carmen                                             8  0.00119976\n",
       "24  El Cerro                                             22  0.00329934\n",
       "25  El Juncal, HÃ­spalis                                  4  0.00059988\n",
       "26  El Plantinar                                          8  0.00119976\n",
       "27  El Porvenir                                          44  0.00659868\n",
       "28  El RocÃ­o                                             4  0.00059988\n",
       "29  El TardÃ³n, El Carmen                                38  0.00569886\n",
       "30  El TorrejÃ³n, El Cerezo                               8  0.00119976\n",
       "... ...                                                 ...  ...       \n",
       "74  Rochelambert                                          6  0.00089982\n",
       "75  San BartolomÃ©                                      503  0.07543491\n",
       "76  San Bernardo                                         92  0.01379724\n",
       "77  San Carlos, Tartessos                                 6  0.00089982\n",
       "78  San Diego                                             3  0.00044991\n",
       "79  San Gil                                             303  0.04544091\n",
       "80  San JerÃ³nimo                                        14  0.00209958\n",
       "81  San JosÃ© Obrero                                     51  0.00764847\n",
       "82  San JuliÃ¡n                                         206  0.03089382\n",
       "83  San Lorenzo                                         238  0.03569286\n",
       "84  San MatÃ­as                                           1  0.00014997\n",
       "85  San Pablo A y B                                      10  0.00149970\n",
       "86  San Pablo C                                           2  0.00029994\n",
       "87  San Pablo D y E                                       7  0.00104979\n",
       "88  San Vicente                                         299  0.04484103\n",
       "89  Santa Aurelia, CantÃ¡brico, AtlÃ¡ntico, La RomerÃ­a   9  0.00134973\n",
       "90  Santa Catalina                                      247  0.03704259\n",
       "91  Santa Clara                                          12  0.00179964\n",
       "92  Santa Cruz                                          472  0.07078584\n",
       "93  Santa Justa y Rufina, Parque Miraflores               2  0.00029994\n",
       "94  Santa MarÃ­a de Ordas, San Nicolas                    4  0.00059988\n",
       "95  Sector Sur, La Palmera, Reina Mercedes               23  0.00344931\n",
       "96  Tablada                                               7  0.00104979\n",
       "97  Tabladilla, La Estrella                               5  0.00074985\n",
       "98  Tiro de LÃ­nea, Santa Genoveva                       20  0.00299940\n",
       "99  Triana Casco Antiguo                                359  0.05383923\n",
       "100 Triana Este                                         180  0.02699460\n",
       "101 Triana Oeste                                        146  0.02189562\n",
       "102 Valdezorras                                           4  0.00059988\n",
       "103 Villegas                                              5  0.00074985"
      ]
     },
     "metadata": {},
     "output_type": "display_data"
    }
   ],
   "source": [
    "aggregated_neighborhood(selected_city)"
   ]
  },
  {
   "cell_type": "markdown",
   "metadata": {},
   "source": [
    "#### 4. What is the average availability over the next 30 days for each room type / house size / neighborhood?"
   ]
  },
  {
   "cell_type": "code",
   "execution_count": 49,
   "metadata": {},
   "outputs": [
    {
     "name": "stderr",
     "output_type": "stream",
     "text": [
      "`summarise()` regrouping output by 'room_type', 'bedrooms' (override with `.groups` argument)\n",
      "\n"
     ]
    },
    {
     "data": {
      "text/html": [
       "<table>\n",
       "<caption>A grouped_df: 540 × 4</caption>\n",
       "<thead>\n",
       "\t<tr><th scope=col>room_type</th><th scope=col>bedrooms</th><th scope=col>neighbourhood_cleansed</th><th scope=col>mean_availability_30</th></tr>\n",
       "\t<tr><th scope=col>&lt;chr&gt;</th><th scope=col>&lt;chr&gt;</th><th scope=col>&lt;chr&gt;</th><th scope=col>&lt;dbl&gt;</th></tr>\n",
       "</thead>\n",
       "<tbody>\n",
       "\t<tr><td>Entire home/apt</td><td>0</td><td>Alfalfa                                           </td><td>21.59574</td></tr>\n",
       "\t<tr><td>Entire home/apt</td><td>0</td><td>an Roque                                          </td><td>14.50000</td></tr>\n",
       "\t<tr><td>Entire home/apt</td><td>0</td><td>Arenal                                            </td><td>22.26471</td></tr>\n",
       "\t<tr><td>Entire home/apt</td><td>0</td><td>Barrio LeÃ³n                                      </td><td>29.00000</td></tr>\n",
       "\t<tr><td>Entire home/apt</td><td>0</td><td>Carretera de Carmona, MarÃ­a Auxiliadora, Fontanal</td><td>17.00000</td></tr>\n",
       "\t<tr><td>Entire home/apt</td><td>0</td><td>Ciudad JardÃ­n                                    </td><td>30.00000</td></tr>\n",
       "\t<tr><td>Entire home/apt</td><td>0</td><td>Doctor Barraquer, G. Renfe, PoliclÃ­nico          </td><td>30.00000</td></tr>\n",
       "\t<tr><td>Entire home/apt</td><td>0</td><td>EncarnaciÃ³n, Regina                              </td><td>19.00000</td></tr>\n",
       "\t<tr><td>Entire home/apt</td><td>0</td><td>Feria                                             </td><td>16.13793</td></tr>\n",
       "\t<tr><td>Entire home/apt</td><td>0</td><td>HeliÃ³polis                                       </td><td>24.50000</td></tr>\n",
       "\t<tr><td>Entire home/apt</td><td>0</td><td>Huerta del Pilar                                  </td><td> 0.00000</td></tr>\n",
       "\t<tr><td>Entire home/apt</td><td>0</td><td>La Buhaira                                        </td><td> 0.00000</td></tr>\n",
       "\t<tr><td>Entire home/apt</td><td>0</td><td>LeÃ³n XIII, Los Naranjos                          </td><td> 0.00000</td></tr>\n",
       "\t<tr><td>Entire home/apt</td><td>0</td><td>Los Remedios                                      </td><td>28.60000</td></tr>\n",
       "\t<tr><td>Entire home/apt</td><td>0</td><td>Museo                                             </td><td>21.66667</td></tr>\n",
       "\t<tr><td>Entire home/apt</td><td>0</td><td>NerviÃ³n                                          </td><td>15.00000</td></tr>\n",
       "\t<tr><td>Entire home/apt</td><td>0</td><td>no asignado                                       </td><td>23.33333</td></tr>\n",
       "\t<tr><td>Entire home/apt</td><td>0</td><td>San BartolomÃ©                                    </td><td>22.80000</td></tr>\n",
       "\t<tr><td>Entire home/apt</td><td>0</td><td>San Bernardo                                      </td><td> 0.00000</td></tr>\n",
       "\t<tr><td>Entire home/apt</td><td>0</td><td>San Gil                                           </td><td>20.54545</td></tr>\n",
       "\t<tr><td>Entire home/apt</td><td>0</td><td>San JosÃ© Obrero                                  </td><td> 7.00000</td></tr>\n",
       "\t<tr><td>Entire home/apt</td><td>0</td><td>San JuliÃ¡n                                       </td><td> 7.50000</td></tr>\n",
       "\t<tr><td>Entire home/apt</td><td>0</td><td>San Lorenzo                                       </td><td>25.35714</td></tr>\n",
       "\t<tr><td>Entire home/apt</td><td>0</td><td>San Vicente                                       </td><td>21.90000</td></tr>\n",
       "\t<tr><td>Entire home/apt</td><td>0</td><td>Santa Catalina                                    </td><td>19.07692</td></tr>\n",
       "\t<tr><td>Entire home/apt</td><td>0</td><td>Santa Cruz                                        </td><td>22.00000</td></tr>\n",
       "\t<tr><td>Entire home/apt</td><td>0</td><td>Tabladilla, La Estrella                           </td><td> 0.00000</td></tr>\n",
       "\t<tr><td>Entire home/apt</td><td>0</td><td>Tiro de LÃ­nea, Santa Genoveva                    </td><td>27.00000</td></tr>\n",
       "\t<tr><td>Entire home/apt</td><td>0</td><td>Triana Casco Antiguo                              </td><td>11.33333</td></tr>\n",
       "\t<tr><td>Entire home/apt</td><td>0</td><td>Triana Este                                       </td><td>23.27273</td></tr>\n",
       "\t<tr><td>...</td><td>...</td><td>...</td><td>...</td></tr>\n",
       "\t<tr><td>Private room</td><td>3 </td><td>San Pablo A y B               </td><td> 0.0</td></tr>\n",
       "\t<tr><td>Private room</td><td>3 </td><td>Santa Catalina                </td><td>28.0</td></tr>\n",
       "\t<tr><td>Private room</td><td>3 </td><td>Santa Cruz                    </td><td> 0.0</td></tr>\n",
       "\t<tr><td>Private room</td><td>3 </td><td>Triana Este                   </td><td>29.5</td></tr>\n",
       "\t<tr><td>Private room</td><td>3 </td><td>Triana Oeste                  </td><td>30.0</td></tr>\n",
       "\t<tr><td>Private room</td><td>4 </td><td>Alfalfa                       </td><td> 0.0</td></tr>\n",
       "\t<tr><td>Private room</td><td>4 </td><td>Arenal                        </td><td>30.0</td></tr>\n",
       "\t<tr><td>Private room</td><td>4 </td><td>no asignado                   </td><td> 0.0</td></tr>\n",
       "\t<tr><td>Private room</td><td>4 </td><td>San Lorenzo                   </td><td>30.0</td></tr>\n",
       "\t<tr><td>Private room</td><td>4 </td><td>Santa Cruz                    </td><td>30.0</td></tr>\n",
       "\t<tr><td>Private room</td><td>4 </td><td>Triana Este                   </td><td>30.0</td></tr>\n",
       "\t<tr><td>Private room</td><td>5+</td><td>Alfalfa                       </td><td>30.0</td></tr>\n",
       "\t<tr><td>Private room</td><td>5+</td><td>El Plantinar                  </td><td> 1.0</td></tr>\n",
       "\t<tr><td>Private room</td><td>5+</td><td>Feria                         </td><td>30.0</td></tr>\n",
       "\t<tr><td>Private room</td><td>5+</td><td>San BartolomÃ©                </td><td>29.0</td></tr>\n",
       "\t<tr><td>Private room</td><td>5+</td><td>San Gil                       </td><td>30.0</td></tr>\n",
       "\t<tr><td>Private room</td><td>5+</td><td>San Vicente                   </td><td>30.0</td></tr>\n",
       "\t<tr><td>Shared room </td><td>1 </td><td>Alfalfa                       </td><td>15.0</td></tr>\n",
       "\t<tr><td>Shared room </td><td>1 </td><td>Arenal                        </td><td> 0.0</td></tr>\n",
       "\t<tr><td>Shared room </td><td>1 </td><td>Barrio LeÃ³n                  </td><td> 0.0</td></tr>\n",
       "\t<tr><td>Shared room </td><td>1 </td><td>El Cano, Los Bermejales       </td><td>30.0</td></tr>\n",
       "\t<tr><td>Shared room </td><td>1 </td><td>Las Avenidas                  </td><td>30.0</td></tr>\n",
       "\t<tr><td>Shared room </td><td>1 </td><td>Museo                         </td><td>28.0</td></tr>\n",
       "\t<tr><td>Shared room </td><td>1 </td><td>San BartolomÃ©                </td><td>30.0</td></tr>\n",
       "\t<tr><td>Shared room </td><td>1 </td><td>San Lorenzo                   </td><td>30.0</td></tr>\n",
       "\t<tr><td>Shared room </td><td>1 </td><td>San Vicente                   </td><td>30.0</td></tr>\n",
       "\t<tr><td>Shared room </td><td>1 </td><td>Santa Catalina                </td><td>20.0</td></tr>\n",
       "\t<tr><td>Shared room </td><td>1 </td><td>Santa Clara                   </td><td>29.0</td></tr>\n",
       "\t<tr><td>Shared room </td><td>1 </td><td>Santa Cruz                    </td><td>30.0</td></tr>\n",
       "\t<tr><td>Shared room </td><td>1 </td><td>Tiro de LÃ­nea, Santa Genoveva</td><td> 0.0</td></tr>\n",
       "</tbody>\n",
       "</table>\n"
      ],
      "text/latex": [
       "A grouped\\_df: 540 × 4\n",
       "\\begin{tabular}{llll}\n",
       " room\\_type & bedrooms & neighbourhood\\_cleansed & mean\\_availability\\_30\\\\\n",
       " <chr> & <chr> & <chr> & <dbl>\\\\\n",
       "\\hline\n",
       "\t Entire home/apt & 0 & Alfalfa                                            & 21.59574\\\\\n",
       "\t Entire home/apt & 0 & an Roque                                           & 14.50000\\\\\n",
       "\t Entire home/apt & 0 & Arenal                                             & 22.26471\\\\\n",
       "\t Entire home/apt & 0 & Barrio LeÃ³n                                       & 29.00000\\\\\n",
       "\t Entire home/apt & 0 & Carretera de Carmona, MarÃ­a Auxiliadora, Fontanal & 17.00000\\\\\n",
       "\t Entire home/apt & 0 & Ciudad JardÃ­n                                     & 30.00000\\\\\n",
       "\t Entire home/apt & 0 & Doctor Barraquer, G. Renfe, PoliclÃ­nico           & 30.00000\\\\\n",
       "\t Entire home/apt & 0 & EncarnaciÃ³n, Regina                               & 19.00000\\\\\n",
       "\t Entire home/apt & 0 & Feria                                              & 16.13793\\\\\n",
       "\t Entire home/apt & 0 & HeliÃ³polis                                        & 24.50000\\\\\n",
       "\t Entire home/apt & 0 & Huerta del Pilar                                   &  0.00000\\\\\n",
       "\t Entire home/apt & 0 & La Buhaira                                         &  0.00000\\\\\n",
       "\t Entire home/apt & 0 & LeÃ³n XIII, Los Naranjos                           &  0.00000\\\\\n",
       "\t Entire home/apt & 0 & Los Remedios                                       & 28.60000\\\\\n",
       "\t Entire home/apt & 0 & Museo                                              & 21.66667\\\\\n",
       "\t Entire home/apt & 0 & NerviÃ³n                                           & 15.00000\\\\\n",
       "\t Entire home/apt & 0 & no asignado                                        & 23.33333\\\\\n",
       "\t Entire home/apt & 0 & San BartolomÃ©                                     & 22.80000\\\\\n",
       "\t Entire home/apt & 0 & San Bernardo                                       &  0.00000\\\\\n",
       "\t Entire home/apt & 0 & San Gil                                            & 20.54545\\\\\n",
       "\t Entire home/apt & 0 & San JosÃ© Obrero                                   &  7.00000\\\\\n",
       "\t Entire home/apt & 0 & San JuliÃ¡n                                        &  7.50000\\\\\n",
       "\t Entire home/apt & 0 & San Lorenzo                                        & 25.35714\\\\\n",
       "\t Entire home/apt & 0 & San Vicente                                        & 21.90000\\\\\n",
       "\t Entire home/apt & 0 & Santa Catalina                                     & 19.07692\\\\\n",
       "\t Entire home/apt & 0 & Santa Cruz                                         & 22.00000\\\\\n",
       "\t Entire home/apt & 0 & Tabladilla, La Estrella                            &  0.00000\\\\\n",
       "\t Entire home/apt & 0 & Tiro de LÃ­nea, Santa Genoveva                     & 27.00000\\\\\n",
       "\t Entire home/apt & 0 & Triana Casco Antiguo                               & 11.33333\\\\\n",
       "\t Entire home/apt & 0 & Triana Este                                        & 23.27273\\\\\n",
       "\t ... & ... & ... & ...\\\\\n",
       "\t Private room & 3  & San Pablo A y B                &  0.0\\\\\n",
       "\t Private room & 3  & Santa Catalina                 & 28.0\\\\\n",
       "\t Private room & 3  & Santa Cruz                     &  0.0\\\\\n",
       "\t Private room & 3  & Triana Este                    & 29.5\\\\\n",
       "\t Private room & 3  & Triana Oeste                   & 30.0\\\\\n",
       "\t Private room & 4  & Alfalfa                        &  0.0\\\\\n",
       "\t Private room & 4  & Arenal                         & 30.0\\\\\n",
       "\t Private room & 4  & no asignado                    &  0.0\\\\\n",
       "\t Private room & 4  & San Lorenzo                    & 30.0\\\\\n",
       "\t Private room & 4  & Santa Cruz                     & 30.0\\\\\n",
       "\t Private room & 4  & Triana Este                    & 30.0\\\\\n",
       "\t Private room & 5+ & Alfalfa                        & 30.0\\\\\n",
       "\t Private room & 5+ & El Plantinar                   &  1.0\\\\\n",
       "\t Private room & 5+ & Feria                          & 30.0\\\\\n",
       "\t Private room & 5+ & San BartolomÃ©                 & 29.0\\\\\n",
       "\t Private room & 5+ & San Gil                        & 30.0\\\\\n",
       "\t Private room & 5+ & San Vicente                    & 30.0\\\\\n",
       "\t Shared room  & 1  & Alfalfa                        & 15.0\\\\\n",
       "\t Shared room  & 1  & Arenal                         &  0.0\\\\\n",
       "\t Shared room  & 1  & Barrio LeÃ³n                   &  0.0\\\\\n",
       "\t Shared room  & 1  & El Cano, Los Bermejales        & 30.0\\\\\n",
       "\t Shared room  & 1  & Las Avenidas                   & 30.0\\\\\n",
       "\t Shared room  & 1  & Museo                          & 28.0\\\\\n",
       "\t Shared room  & 1  & San BartolomÃ©                 & 30.0\\\\\n",
       "\t Shared room  & 1  & San Lorenzo                    & 30.0\\\\\n",
       "\t Shared room  & 1  & San Vicente                    & 30.0\\\\\n",
       "\t Shared room  & 1  & Santa Catalina                 & 20.0\\\\\n",
       "\t Shared room  & 1  & Santa Clara                    & 29.0\\\\\n",
       "\t Shared room  & 1  & Santa Cruz                     & 30.0\\\\\n",
       "\t Shared room  & 1  & Tiro de LÃ­nea, Santa Genoveva &  0.0\\\\\n",
       "\\end{tabular}\n"
      ],
      "text/markdown": [
       "\n",
       "A grouped_df: 540 × 4\n",
       "\n",
       "| room_type &lt;chr&gt; | bedrooms &lt;chr&gt; | neighbourhood_cleansed &lt;chr&gt; | mean_availability_30 &lt;dbl&gt; |\n",
       "|---|---|---|---|\n",
       "| Entire home/apt | 0 | Alfalfa                                            | 21.59574 |\n",
       "| Entire home/apt | 0 | an Roque                                           | 14.50000 |\n",
       "| Entire home/apt | 0 | Arenal                                             | 22.26471 |\n",
       "| Entire home/apt | 0 | Barrio LeÃ³n                                       | 29.00000 |\n",
       "| Entire home/apt | 0 | Carretera de Carmona, MarÃ­a Auxiliadora, Fontanal | 17.00000 |\n",
       "| Entire home/apt | 0 | Ciudad JardÃ­n                                     | 30.00000 |\n",
       "| Entire home/apt | 0 | Doctor Barraquer, G. Renfe, PoliclÃ­nico           | 30.00000 |\n",
       "| Entire home/apt | 0 | EncarnaciÃ³n, Regina                               | 19.00000 |\n",
       "| Entire home/apt | 0 | Feria                                              | 16.13793 |\n",
       "| Entire home/apt | 0 | HeliÃ³polis                                        | 24.50000 |\n",
       "| Entire home/apt | 0 | Huerta del Pilar                                   |  0.00000 |\n",
       "| Entire home/apt | 0 | La Buhaira                                         |  0.00000 |\n",
       "| Entire home/apt | 0 | LeÃ³n XIII, Los Naranjos                           |  0.00000 |\n",
       "| Entire home/apt | 0 | Los Remedios                                       | 28.60000 |\n",
       "| Entire home/apt | 0 | Museo                                              | 21.66667 |\n",
       "| Entire home/apt | 0 | NerviÃ³n                                           | 15.00000 |\n",
       "| Entire home/apt | 0 | no asignado                                        | 23.33333 |\n",
       "| Entire home/apt | 0 | San BartolomÃ©                                     | 22.80000 |\n",
       "| Entire home/apt | 0 | San Bernardo                                       |  0.00000 |\n",
       "| Entire home/apt | 0 | San Gil                                            | 20.54545 |\n",
       "| Entire home/apt | 0 | San JosÃ© Obrero                                   |  7.00000 |\n",
       "| Entire home/apt | 0 | San JuliÃ¡n                                        |  7.50000 |\n",
       "| Entire home/apt | 0 | San Lorenzo                                        | 25.35714 |\n",
       "| Entire home/apt | 0 | San Vicente                                        | 21.90000 |\n",
       "| Entire home/apt | 0 | Santa Catalina                                     | 19.07692 |\n",
       "| Entire home/apt | 0 | Santa Cruz                                         | 22.00000 |\n",
       "| Entire home/apt | 0 | Tabladilla, La Estrella                            |  0.00000 |\n",
       "| Entire home/apt | 0 | Tiro de LÃ­nea, Santa Genoveva                     | 27.00000 |\n",
       "| Entire home/apt | 0 | Triana Casco Antiguo                               | 11.33333 |\n",
       "| Entire home/apt | 0 | Triana Este                                        | 23.27273 |\n",
       "| ... | ... | ... | ... |\n",
       "| Private room | 3  | San Pablo A y B                |  0.0 |\n",
       "| Private room | 3  | Santa Catalina                 | 28.0 |\n",
       "| Private room | 3  | Santa Cruz                     |  0.0 |\n",
       "| Private room | 3  | Triana Este                    | 29.5 |\n",
       "| Private room | 3  | Triana Oeste                   | 30.0 |\n",
       "| Private room | 4  | Alfalfa                        |  0.0 |\n",
       "| Private room | 4  | Arenal                         | 30.0 |\n",
       "| Private room | 4  | no asignado                    |  0.0 |\n",
       "| Private room | 4  | San Lorenzo                    | 30.0 |\n",
       "| Private room | 4  | Santa Cruz                     | 30.0 |\n",
       "| Private room | 4  | Triana Este                    | 30.0 |\n",
       "| Private room | 5+ | Alfalfa                        | 30.0 |\n",
       "| Private room | 5+ | El Plantinar                   |  1.0 |\n",
       "| Private room | 5+ | Feria                          | 30.0 |\n",
       "| Private room | 5+ | San BartolomÃ©                 | 29.0 |\n",
       "| Private room | 5+ | San Gil                        | 30.0 |\n",
       "| Private room | 5+ | San Vicente                    | 30.0 |\n",
       "| Shared room  | 1  | Alfalfa                        | 15.0 |\n",
       "| Shared room  | 1  | Arenal                         |  0.0 |\n",
       "| Shared room  | 1  | Barrio LeÃ³n                   |  0.0 |\n",
       "| Shared room  | 1  | El Cano, Los Bermejales        | 30.0 |\n",
       "| Shared room  | 1  | Las Avenidas                   | 30.0 |\n",
       "| Shared room  | 1  | Museo                          | 28.0 |\n",
       "| Shared room  | 1  | San BartolomÃ©                 | 30.0 |\n",
       "| Shared room  | 1  | San Lorenzo                    | 30.0 |\n",
       "| Shared room  | 1  | San Vicente                    | 30.0 |\n",
       "| Shared room  | 1  | Santa Catalina                 | 20.0 |\n",
       "| Shared room  | 1  | Santa Clara                    | 29.0 |\n",
       "| Shared room  | 1  | Santa Cruz                     | 30.0 |\n",
       "| Shared room  | 1  | Tiro de LÃ­nea, Santa Genoveva |  0.0 |\n",
       "\n"
      ],
      "text/plain": [
       "    room_type       bedrooms neighbourhood_cleansed                            \n",
       "1   Entire home/apt 0        Alfalfa                                           \n",
       "2   Entire home/apt 0        an Roque                                          \n",
       "3   Entire home/apt 0        Arenal                                            \n",
       "4   Entire home/apt 0        Barrio LeÃ³n                                      \n",
       "5   Entire home/apt 0        Carretera de Carmona, MarÃ­a Auxiliadora, Fontanal\n",
       "6   Entire home/apt 0        Ciudad JardÃ­n                                    \n",
       "7   Entire home/apt 0        Doctor Barraquer, G. Renfe, PoliclÃ­nico          \n",
       "8   Entire home/apt 0        EncarnaciÃ³n, Regina                              \n",
       "9   Entire home/apt 0        Feria                                             \n",
       "10  Entire home/apt 0        HeliÃ³polis                                       \n",
       "11  Entire home/apt 0        Huerta del Pilar                                  \n",
       "12  Entire home/apt 0        La Buhaira                                        \n",
       "13  Entire home/apt 0        LeÃ³n XIII, Los Naranjos                          \n",
       "14  Entire home/apt 0        Los Remedios                                      \n",
       "15  Entire home/apt 0        Museo                                             \n",
       "16  Entire home/apt 0        NerviÃ³n                                          \n",
       "17  Entire home/apt 0        no asignado                                       \n",
       "18  Entire home/apt 0        San BartolomÃ©                                    \n",
       "19  Entire home/apt 0        San Bernardo                                      \n",
       "20  Entire home/apt 0        San Gil                                           \n",
       "21  Entire home/apt 0        San JosÃ© Obrero                                  \n",
       "22  Entire home/apt 0        San JuliÃ¡n                                       \n",
       "23  Entire home/apt 0        San Lorenzo                                       \n",
       "24  Entire home/apt 0        San Vicente                                       \n",
       "25  Entire home/apt 0        Santa Catalina                                    \n",
       "26  Entire home/apt 0        Santa Cruz                                        \n",
       "27  Entire home/apt 0        Tabladilla, La Estrella                           \n",
       "28  Entire home/apt 0        Tiro de LÃ­nea, Santa Genoveva                    \n",
       "29  Entire home/apt 0        Triana Casco Antiguo                              \n",
       "30  Entire home/apt 0        Triana Este                                       \n",
       "... ...             ...      ...                                               \n",
       "511 Private room    3        San Pablo A y B                                   \n",
       "512 Private room    3        Santa Catalina                                    \n",
       "513 Private room    3        Santa Cruz                                        \n",
       "514 Private room    3        Triana Este                                       \n",
       "515 Private room    3        Triana Oeste                                      \n",
       "516 Private room    4        Alfalfa                                           \n",
       "517 Private room    4        Arenal                                            \n",
       "518 Private room    4        no asignado                                       \n",
       "519 Private room    4        San Lorenzo                                       \n",
       "520 Private room    4        Santa Cruz                                        \n",
       "521 Private room    4        Triana Este                                       \n",
       "522 Private room    5+       Alfalfa                                           \n",
       "523 Private room    5+       El Plantinar                                      \n",
       "524 Private room    5+       Feria                                             \n",
       "525 Private room    5+       San BartolomÃ©                                    \n",
       "526 Private room    5+       San Gil                                           \n",
       "527 Private room    5+       San Vicente                                       \n",
       "528 Shared room     1        Alfalfa                                           \n",
       "529 Shared room     1        Arenal                                            \n",
       "530 Shared room     1        Barrio LeÃ³n                                      \n",
       "531 Shared room     1        El Cano, Los Bermejales                           \n",
       "532 Shared room     1        Las Avenidas                                      \n",
       "533 Shared room     1        Museo                                             \n",
       "534 Shared room     1        San BartolomÃ©                                    \n",
       "535 Shared room     1        San Lorenzo                                       \n",
       "536 Shared room     1        San Vicente                                       \n",
       "537 Shared room     1        Santa Catalina                                    \n",
       "538 Shared room     1        Santa Clara                                       \n",
       "539 Shared room     1        Santa Cruz                                        \n",
       "540 Shared room     1        Tiro de LÃ­nea, Santa Genoveva                    \n",
       "    mean_availability_30\n",
       "1   21.59574            \n",
       "2   14.50000            \n",
       "3   22.26471            \n",
       "4   29.00000            \n",
       "5   17.00000            \n",
       "6   30.00000            \n",
       "7   30.00000            \n",
       "8   19.00000            \n",
       "9   16.13793            \n",
       "10  24.50000            \n",
       "11   0.00000            \n",
       "12   0.00000            \n",
       "13   0.00000            \n",
       "14  28.60000            \n",
       "15  21.66667            \n",
       "16  15.00000            \n",
       "17  23.33333            \n",
       "18  22.80000            \n",
       "19   0.00000            \n",
       "20  20.54545            \n",
       "21   7.00000            \n",
       "22   7.50000            \n",
       "23  25.35714            \n",
       "24  21.90000            \n",
       "25  19.07692            \n",
       "26  22.00000            \n",
       "27   0.00000            \n",
       "28  27.00000            \n",
       "29  11.33333            \n",
       "30  23.27273            \n",
       "... ...                 \n",
       "511  0.0                \n",
       "512 28.0                \n",
       "513  0.0                \n",
       "514 29.5                \n",
       "515 30.0                \n",
       "516  0.0                \n",
       "517 30.0                \n",
       "518  0.0                \n",
       "519 30.0                \n",
       "520 30.0                \n",
       "521 30.0                \n",
       "522 30.0                \n",
       "523  1.0                \n",
       "524 30.0                \n",
       "525 29.0                \n",
       "526 30.0                \n",
       "527 30.0                \n",
       "528 15.0                \n",
       "529  0.0                \n",
       "530  0.0                \n",
       "531 30.0                \n",
       "532 30.0                \n",
       "533 28.0                \n",
       "534 30.0                \n",
       "535 30.0                \n",
       "536 30.0                \n",
       "537 20.0                \n",
       "538 29.0                \n",
       "539 30.0                \n",
       "540  0.0                "
      ]
     },
     "metadata": {},
     "output_type": "display_data"
    }
   ],
   "source": [
    "aggregated_availability(selected_city)"
   ]
  },
  {
   "cell_type": "markdown",
   "metadata": {},
   "source": [
    "#### 5. What is the average revenue over the next 30 days for each room type / house size / neighborhood?"
   ]
  },
  {
   "cell_type": "code",
   "execution_count": 50,
   "metadata": {},
   "outputs": [
    {
     "name": "stderr",
     "output_type": "stream",
     "text": [
      "`summarise()` regrouping output by 'room_type', 'bedrooms' (override with `.groups` argument)\n",
      "\n"
     ]
    },
    {
     "data": {
      "text/html": [
       "<table>\n",
       "<caption>A grouped_df: 540 × 4</caption>\n",
       "<thead>\n",
       "\t<tr><th scope=col>room_type</th><th scope=col>bedrooms</th><th scope=col>neighbourhood_cleansed</th><th scope=col>mean_revenue_30</th></tr>\n",
       "\t<tr><th scope=col>&lt;chr&gt;</th><th scope=col>&lt;chr&gt;</th><th scope=col>&lt;chr&gt;</th><th scope=col>&lt;dbl&gt;</th></tr>\n",
       "</thead>\n",
       "<tbody>\n",
       "\t<tr><td>Entire home/apt</td><td>0</td><td>Alfalfa                                           </td><td> 489.9574</td></tr>\n",
       "\t<tr><td>Entire home/apt</td><td>0</td><td>an Roque                                          </td><td> 677.5000</td></tr>\n",
       "\t<tr><td>Entire home/apt</td><td>0</td><td>Arenal                                            </td><td> 617.7941</td></tr>\n",
       "\t<tr><td>Entire home/apt</td><td>0</td><td>Barrio LeÃ³n                                      </td><td>  31.0000</td></tr>\n",
       "\t<tr><td>Entire home/apt</td><td>0</td><td>Carretera de Carmona, MarÃ­a Auxiliadora, Fontanal</td><td>1388.0000</td></tr>\n",
       "\t<tr><td>Entire home/apt</td><td>0</td><td>Ciudad JardÃ­n                                    </td><td>   0.0000</td></tr>\n",
       "\t<tr><td>Entire home/apt</td><td>0</td><td>Doctor Barraquer, G. Renfe, PoliclÃ­nico          </td><td>   0.0000</td></tr>\n",
       "\t<tr><td>Entire home/apt</td><td>0</td><td>EncarnaciÃ³n, Regina                              </td><td> 555.2727</td></tr>\n",
       "\t<tr><td>Entire home/apt</td><td>0</td><td>Feria                                             </td><td>1837.1034</td></tr>\n",
       "\t<tr><td>Entire home/apt</td><td>0</td><td>HeliÃ³polis                                       </td><td> 247.5000</td></tr>\n",
       "\t<tr><td>Entire home/apt</td><td>0</td><td>Huerta del Pilar                                  </td><td>4500.0000</td></tr>\n",
       "\t<tr><td>Entire home/apt</td><td>0</td><td>La Buhaira                                        </td><td>1800.0000</td></tr>\n",
       "\t<tr><td>Entire home/apt</td><td>0</td><td>LeÃ³n XIII, Los Naranjos                          </td><td>1800.0000</td></tr>\n",
       "\t<tr><td>Entire home/apt</td><td>0</td><td>Los Remedios                                      </td><td>  59.8000</td></tr>\n",
       "\t<tr><td>Entire home/apt</td><td>0</td><td>Museo                                             </td><td> 359.3333</td></tr>\n",
       "\t<tr><td>Entire home/apt</td><td>0</td><td>NerviÃ³n                                          </td><td> 675.0000</td></tr>\n",
       "\t<tr><td>Entire home/apt</td><td>0</td><td>no asignado                                       </td><td> 314.6667</td></tr>\n",
       "\t<tr><td>Entire home/apt</td><td>0</td><td>San BartolomÃ©                                    </td><td> 440.6800</td></tr>\n",
       "\t<tr><td>Entire home/apt</td><td>0</td><td>San Bernardo                                      </td><td> 900.0000</td></tr>\n",
       "\t<tr><td>Entire home/apt</td><td>0</td><td>San Gil                                           </td><td> 533.6364</td></tr>\n",
       "\t<tr><td>Entire home/apt</td><td>0</td><td>San JosÃ© Obrero                                  </td><td>1210.0000</td></tr>\n",
       "\t<tr><td>Entire home/apt</td><td>0</td><td>San JuliÃ¡n                                       </td><td>4472.5000</td></tr>\n",
       "\t<tr><td>Entire home/apt</td><td>0</td><td>San Lorenzo                                       </td><td> 215.9286</td></tr>\n",
       "\t<tr><td>Entire home/apt</td><td>0</td><td>San Vicente                                       </td><td> 339.1000</td></tr>\n",
       "\t<tr><td>Entire home/apt</td><td>0</td><td>Santa Catalina                                    </td><td> 514.6154</td></tr>\n",
       "\t<tr><td>Entire home/apt</td><td>0</td><td>Santa Cruz                                        </td><td> 555.1579</td></tr>\n",
       "\t<tr><td>Entire home/apt</td><td>0</td><td>Tabladilla, La Estrella                           </td><td>1302.0000</td></tr>\n",
       "\t<tr><td>Entire home/apt</td><td>0</td><td>Tiro de LÃ­nea, Santa Genoveva                    </td><td> 136.5000</td></tr>\n",
       "\t<tr><td>Entire home/apt</td><td>0</td><td>Triana Casco Antiguo                              </td><td> 929.7778</td></tr>\n",
       "\t<tr><td>Entire home/apt</td><td>0</td><td>Triana Este                                       </td><td> 233.5455</td></tr>\n",
       "\t<tr><td>...</td><td>...</td><td>...</td><td>...</td></tr>\n",
       "\t<tr><td>Private room</td><td>3 </td><td>San Pablo A y B               </td><td>3150.0000</td></tr>\n",
       "\t<tr><td>Private room</td><td>3 </td><td>Santa Catalina                </td><td> 310.0000</td></tr>\n",
       "\t<tr><td>Private room</td><td>3 </td><td>Santa Cruz                    </td><td>2130.0000</td></tr>\n",
       "\t<tr><td>Private room</td><td>3 </td><td>Triana Este                   </td><td>  29.2500</td></tr>\n",
       "\t<tr><td>Private room</td><td>3 </td><td>Triana Oeste                  </td><td>   0.0000</td></tr>\n",
       "\t<tr><td>Private room</td><td>4 </td><td>Alfalfa                       </td><td> 780.0000</td></tr>\n",
       "\t<tr><td>Private room</td><td>4 </td><td>Arenal                        </td><td>   0.0000</td></tr>\n",
       "\t<tr><td>Private room</td><td>4 </td><td>no asignado                   </td><td>2520.0000</td></tr>\n",
       "\t<tr><td>Private room</td><td>4 </td><td>San Lorenzo                   </td><td>   0.0000</td></tr>\n",
       "\t<tr><td>Private room</td><td>4 </td><td>Santa Cruz                    </td><td>   0.0000</td></tr>\n",
       "\t<tr><td>Private room</td><td>4 </td><td>Triana Este                   </td><td>   0.0000</td></tr>\n",
       "\t<tr><td>Private room</td><td>5+</td><td>Alfalfa                       </td><td>   0.0000</td></tr>\n",
       "\t<tr><td>Private room</td><td>5+</td><td>El Plantinar                  </td><td>1305.0000</td></tr>\n",
       "\t<tr><td>Private room</td><td>5+</td><td>Feria                         </td><td>   0.0000</td></tr>\n",
       "\t<tr><td>Private room</td><td>5+</td><td>San BartolomÃ©                </td><td>  80.0000</td></tr>\n",
       "\t<tr><td>Private room</td><td>5+</td><td>San Gil                       </td><td>   0.0000</td></tr>\n",
       "\t<tr><td>Private room</td><td>5+</td><td>San Vicente                   </td><td>   0.0000</td></tr>\n",
       "\t<tr><td>Shared room </td><td>1 </td><td>Alfalfa                       </td><td>5568.0000</td></tr>\n",
       "\t<tr><td>Shared room </td><td>1 </td><td>Arenal                        </td><td> 960.6667</td></tr>\n",
       "\t<tr><td>Shared room </td><td>1 </td><td>Barrio LeÃ³n                  </td><td>1350.0000</td></tr>\n",
       "\t<tr><td>Shared room </td><td>1 </td><td>El Cano, Los Bermejales       </td><td>   0.0000</td></tr>\n",
       "\t<tr><td>Shared room </td><td>1 </td><td>Las Avenidas                  </td><td>   0.0000</td></tr>\n",
       "\t<tr><td>Shared room </td><td>1 </td><td>Museo                         </td><td>  36.0000</td></tr>\n",
       "\t<tr><td>Shared room </td><td>1 </td><td>San BartolomÃ©                </td><td>   0.0000</td></tr>\n",
       "\t<tr><td>Shared room </td><td>1 </td><td>San Lorenzo                   </td><td>   0.0000</td></tr>\n",
       "\t<tr><td>Shared room </td><td>1 </td><td>San Vicente                   </td><td>   0.0000</td></tr>\n",
       "\t<tr><td>Shared room </td><td>1 </td><td>Santa Catalina                </td><td> 150.0000</td></tr>\n",
       "\t<tr><td>Shared room </td><td>1 </td><td>Santa Clara                   </td><td> 150.0000</td></tr>\n",
       "\t<tr><td>Shared room </td><td>1 </td><td>Santa Cruz                    </td><td>   0.0000</td></tr>\n",
       "\t<tr><td>Shared room </td><td>1 </td><td>Tiro de LÃ­nea, Santa Genoveva</td><td> 690.0000</td></tr>\n",
       "</tbody>\n",
       "</table>\n"
      ],
      "text/latex": [
       "A grouped\\_df: 540 × 4\n",
       "\\begin{tabular}{llll}\n",
       " room\\_type & bedrooms & neighbourhood\\_cleansed & mean\\_revenue\\_30\\\\\n",
       " <chr> & <chr> & <chr> & <dbl>\\\\\n",
       "\\hline\n",
       "\t Entire home/apt & 0 & Alfalfa                                            &  489.9574\\\\\n",
       "\t Entire home/apt & 0 & an Roque                                           &  677.5000\\\\\n",
       "\t Entire home/apt & 0 & Arenal                                             &  617.7941\\\\\n",
       "\t Entire home/apt & 0 & Barrio LeÃ³n                                       &   31.0000\\\\\n",
       "\t Entire home/apt & 0 & Carretera de Carmona, MarÃ­a Auxiliadora, Fontanal & 1388.0000\\\\\n",
       "\t Entire home/apt & 0 & Ciudad JardÃ­n                                     &    0.0000\\\\\n",
       "\t Entire home/apt & 0 & Doctor Barraquer, G. Renfe, PoliclÃ­nico           &    0.0000\\\\\n",
       "\t Entire home/apt & 0 & EncarnaciÃ³n, Regina                               &  555.2727\\\\\n",
       "\t Entire home/apt & 0 & Feria                                              & 1837.1034\\\\\n",
       "\t Entire home/apt & 0 & HeliÃ³polis                                        &  247.5000\\\\\n",
       "\t Entire home/apt & 0 & Huerta del Pilar                                   & 4500.0000\\\\\n",
       "\t Entire home/apt & 0 & La Buhaira                                         & 1800.0000\\\\\n",
       "\t Entire home/apt & 0 & LeÃ³n XIII, Los Naranjos                           & 1800.0000\\\\\n",
       "\t Entire home/apt & 0 & Los Remedios                                       &   59.8000\\\\\n",
       "\t Entire home/apt & 0 & Museo                                              &  359.3333\\\\\n",
       "\t Entire home/apt & 0 & NerviÃ³n                                           &  675.0000\\\\\n",
       "\t Entire home/apt & 0 & no asignado                                        &  314.6667\\\\\n",
       "\t Entire home/apt & 0 & San BartolomÃ©                                     &  440.6800\\\\\n",
       "\t Entire home/apt & 0 & San Bernardo                                       &  900.0000\\\\\n",
       "\t Entire home/apt & 0 & San Gil                                            &  533.6364\\\\\n",
       "\t Entire home/apt & 0 & San JosÃ© Obrero                                   & 1210.0000\\\\\n",
       "\t Entire home/apt & 0 & San JuliÃ¡n                                        & 4472.5000\\\\\n",
       "\t Entire home/apt & 0 & San Lorenzo                                        &  215.9286\\\\\n",
       "\t Entire home/apt & 0 & San Vicente                                        &  339.1000\\\\\n",
       "\t Entire home/apt & 0 & Santa Catalina                                     &  514.6154\\\\\n",
       "\t Entire home/apt & 0 & Santa Cruz                                         &  555.1579\\\\\n",
       "\t Entire home/apt & 0 & Tabladilla, La Estrella                            & 1302.0000\\\\\n",
       "\t Entire home/apt & 0 & Tiro de LÃ­nea, Santa Genoveva                     &  136.5000\\\\\n",
       "\t Entire home/apt & 0 & Triana Casco Antiguo                               &  929.7778\\\\\n",
       "\t Entire home/apt & 0 & Triana Este                                        &  233.5455\\\\\n",
       "\t ... & ... & ... & ...\\\\\n",
       "\t Private room & 3  & San Pablo A y B                & 3150.0000\\\\\n",
       "\t Private room & 3  & Santa Catalina                 &  310.0000\\\\\n",
       "\t Private room & 3  & Santa Cruz                     & 2130.0000\\\\\n",
       "\t Private room & 3  & Triana Este                    &   29.2500\\\\\n",
       "\t Private room & 3  & Triana Oeste                   &    0.0000\\\\\n",
       "\t Private room & 4  & Alfalfa                        &  780.0000\\\\\n",
       "\t Private room & 4  & Arenal                         &    0.0000\\\\\n",
       "\t Private room & 4  & no asignado                    & 2520.0000\\\\\n",
       "\t Private room & 4  & San Lorenzo                    &    0.0000\\\\\n",
       "\t Private room & 4  & Santa Cruz                     &    0.0000\\\\\n",
       "\t Private room & 4  & Triana Este                    &    0.0000\\\\\n",
       "\t Private room & 5+ & Alfalfa                        &    0.0000\\\\\n",
       "\t Private room & 5+ & El Plantinar                   & 1305.0000\\\\\n",
       "\t Private room & 5+ & Feria                          &    0.0000\\\\\n",
       "\t Private room & 5+ & San BartolomÃ©                 &   80.0000\\\\\n",
       "\t Private room & 5+ & San Gil                        &    0.0000\\\\\n",
       "\t Private room & 5+ & San Vicente                    &    0.0000\\\\\n",
       "\t Shared room  & 1  & Alfalfa                        & 5568.0000\\\\\n",
       "\t Shared room  & 1  & Arenal                         &  960.6667\\\\\n",
       "\t Shared room  & 1  & Barrio LeÃ³n                   & 1350.0000\\\\\n",
       "\t Shared room  & 1  & El Cano, Los Bermejales        &    0.0000\\\\\n",
       "\t Shared room  & 1  & Las Avenidas                   &    0.0000\\\\\n",
       "\t Shared room  & 1  & Museo                          &   36.0000\\\\\n",
       "\t Shared room  & 1  & San BartolomÃ©                 &    0.0000\\\\\n",
       "\t Shared room  & 1  & San Lorenzo                    &    0.0000\\\\\n",
       "\t Shared room  & 1  & San Vicente                    &    0.0000\\\\\n",
       "\t Shared room  & 1  & Santa Catalina                 &  150.0000\\\\\n",
       "\t Shared room  & 1  & Santa Clara                    &  150.0000\\\\\n",
       "\t Shared room  & 1  & Santa Cruz                     &    0.0000\\\\\n",
       "\t Shared room  & 1  & Tiro de LÃ­nea, Santa Genoveva &  690.0000\\\\\n",
       "\\end{tabular}\n"
      ],
      "text/markdown": [
       "\n",
       "A grouped_df: 540 × 4\n",
       "\n",
       "| room_type &lt;chr&gt; | bedrooms &lt;chr&gt; | neighbourhood_cleansed &lt;chr&gt; | mean_revenue_30 &lt;dbl&gt; |\n",
       "|---|---|---|---|\n",
       "| Entire home/apt | 0 | Alfalfa                                            |  489.9574 |\n",
       "| Entire home/apt | 0 | an Roque                                           |  677.5000 |\n",
       "| Entire home/apt | 0 | Arenal                                             |  617.7941 |\n",
       "| Entire home/apt | 0 | Barrio LeÃ³n                                       |   31.0000 |\n",
       "| Entire home/apt | 0 | Carretera de Carmona, MarÃ­a Auxiliadora, Fontanal | 1388.0000 |\n",
       "| Entire home/apt | 0 | Ciudad JardÃ­n                                     |    0.0000 |\n",
       "| Entire home/apt | 0 | Doctor Barraquer, G. Renfe, PoliclÃ­nico           |    0.0000 |\n",
       "| Entire home/apt | 0 | EncarnaciÃ³n, Regina                               |  555.2727 |\n",
       "| Entire home/apt | 0 | Feria                                              | 1837.1034 |\n",
       "| Entire home/apt | 0 | HeliÃ³polis                                        |  247.5000 |\n",
       "| Entire home/apt | 0 | Huerta del Pilar                                   | 4500.0000 |\n",
       "| Entire home/apt | 0 | La Buhaira                                         | 1800.0000 |\n",
       "| Entire home/apt | 0 | LeÃ³n XIII, Los Naranjos                           | 1800.0000 |\n",
       "| Entire home/apt | 0 | Los Remedios                                       |   59.8000 |\n",
       "| Entire home/apt | 0 | Museo                                              |  359.3333 |\n",
       "| Entire home/apt | 0 | NerviÃ³n                                           |  675.0000 |\n",
       "| Entire home/apt | 0 | no asignado                                        |  314.6667 |\n",
       "| Entire home/apt | 0 | San BartolomÃ©                                     |  440.6800 |\n",
       "| Entire home/apt | 0 | San Bernardo                                       |  900.0000 |\n",
       "| Entire home/apt | 0 | San Gil                                            |  533.6364 |\n",
       "| Entire home/apt | 0 | San JosÃ© Obrero                                   | 1210.0000 |\n",
       "| Entire home/apt | 0 | San JuliÃ¡n                                        | 4472.5000 |\n",
       "| Entire home/apt | 0 | San Lorenzo                                        |  215.9286 |\n",
       "| Entire home/apt | 0 | San Vicente                                        |  339.1000 |\n",
       "| Entire home/apt | 0 | Santa Catalina                                     |  514.6154 |\n",
       "| Entire home/apt | 0 | Santa Cruz                                         |  555.1579 |\n",
       "| Entire home/apt | 0 | Tabladilla, La Estrella                            | 1302.0000 |\n",
       "| Entire home/apt | 0 | Tiro de LÃ­nea, Santa Genoveva                     |  136.5000 |\n",
       "| Entire home/apt | 0 | Triana Casco Antiguo                               |  929.7778 |\n",
       "| Entire home/apt | 0 | Triana Este                                        |  233.5455 |\n",
       "| ... | ... | ... | ... |\n",
       "| Private room | 3  | San Pablo A y B                | 3150.0000 |\n",
       "| Private room | 3  | Santa Catalina                 |  310.0000 |\n",
       "| Private room | 3  | Santa Cruz                     | 2130.0000 |\n",
       "| Private room | 3  | Triana Este                    |   29.2500 |\n",
       "| Private room | 3  | Triana Oeste                   |    0.0000 |\n",
       "| Private room | 4  | Alfalfa                        |  780.0000 |\n",
       "| Private room | 4  | Arenal                         |    0.0000 |\n",
       "| Private room | 4  | no asignado                    | 2520.0000 |\n",
       "| Private room | 4  | San Lorenzo                    |    0.0000 |\n",
       "| Private room | 4  | Santa Cruz                     |    0.0000 |\n",
       "| Private room | 4  | Triana Este                    |    0.0000 |\n",
       "| Private room | 5+ | Alfalfa                        |    0.0000 |\n",
       "| Private room | 5+ | El Plantinar                   | 1305.0000 |\n",
       "| Private room | 5+ | Feria                          |    0.0000 |\n",
       "| Private room | 5+ | San BartolomÃ©                 |   80.0000 |\n",
       "| Private room | 5+ | San Gil                        |    0.0000 |\n",
       "| Private room | 5+ | San Vicente                    |    0.0000 |\n",
       "| Shared room  | 1  | Alfalfa                        | 5568.0000 |\n",
       "| Shared room  | 1  | Arenal                         |  960.6667 |\n",
       "| Shared room  | 1  | Barrio LeÃ³n                   | 1350.0000 |\n",
       "| Shared room  | 1  | El Cano, Los Bermejales        |    0.0000 |\n",
       "| Shared room  | 1  | Las Avenidas                   |    0.0000 |\n",
       "| Shared room  | 1  | Museo                          |   36.0000 |\n",
       "| Shared room  | 1  | San BartolomÃ©                 |    0.0000 |\n",
       "| Shared room  | 1  | San Lorenzo                    |    0.0000 |\n",
       "| Shared room  | 1  | San Vicente                    |    0.0000 |\n",
       "| Shared room  | 1  | Santa Catalina                 |  150.0000 |\n",
       "| Shared room  | 1  | Santa Clara                    |  150.0000 |\n",
       "| Shared room  | 1  | Santa Cruz                     |    0.0000 |\n",
       "| Shared room  | 1  | Tiro de LÃ­nea, Santa Genoveva |  690.0000 |\n",
       "\n"
      ],
      "text/plain": [
       "    room_type       bedrooms neighbourhood_cleansed                            \n",
       "1   Entire home/apt 0        Alfalfa                                           \n",
       "2   Entire home/apt 0        an Roque                                          \n",
       "3   Entire home/apt 0        Arenal                                            \n",
       "4   Entire home/apt 0        Barrio LeÃ³n                                      \n",
       "5   Entire home/apt 0        Carretera de Carmona, MarÃ­a Auxiliadora, Fontanal\n",
       "6   Entire home/apt 0        Ciudad JardÃ­n                                    \n",
       "7   Entire home/apt 0        Doctor Barraquer, G. Renfe, PoliclÃ­nico          \n",
       "8   Entire home/apt 0        EncarnaciÃ³n, Regina                              \n",
       "9   Entire home/apt 0        Feria                                             \n",
       "10  Entire home/apt 0        HeliÃ³polis                                       \n",
       "11  Entire home/apt 0        Huerta del Pilar                                  \n",
       "12  Entire home/apt 0        La Buhaira                                        \n",
       "13  Entire home/apt 0        LeÃ³n XIII, Los Naranjos                          \n",
       "14  Entire home/apt 0        Los Remedios                                      \n",
       "15  Entire home/apt 0        Museo                                             \n",
       "16  Entire home/apt 0        NerviÃ³n                                          \n",
       "17  Entire home/apt 0        no asignado                                       \n",
       "18  Entire home/apt 0        San BartolomÃ©                                    \n",
       "19  Entire home/apt 0        San Bernardo                                      \n",
       "20  Entire home/apt 0        San Gil                                           \n",
       "21  Entire home/apt 0        San JosÃ© Obrero                                  \n",
       "22  Entire home/apt 0        San JuliÃ¡n                                       \n",
       "23  Entire home/apt 0        San Lorenzo                                       \n",
       "24  Entire home/apt 0        San Vicente                                       \n",
       "25  Entire home/apt 0        Santa Catalina                                    \n",
       "26  Entire home/apt 0        Santa Cruz                                        \n",
       "27  Entire home/apt 0        Tabladilla, La Estrella                           \n",
       "28  Entire home/apt 0        Tiro de LÃ­nea, Santa Genoveva                    \n",
       "29  Entire home/apt 0        Triana Casco Antiguo                              \n",
       "30  Entire home/apt 0        Triana Este                                       \n",
       "... ...             ...      ...                                               \n",
       "511 Private room    3        San Pablo A y B                                   \n",
       "512 Private room    3        Santa Catalina                                    \n",
       "513 Private room    3        Santa Cruz                                        \n",
       "514 Private room    3        Triana Este                                       \n",
       "515 Private room    3        Triana Oeste                                      \n",
       "516 Private room    4        Alfalfa                                           \n",
       "517 Private room    4        Arenal                                            \n",
       "518 Private room    4        no asignado                                       \n",
       "519 Private room    4        San Lorenzo                                       \n",
       "520 Private room    4        Santa Cruz                                        \n",
       "521 Private room    4        Triana Este                                       \n",
       "522 Private room    5+       Alfalfa                                           \n",
       "523 Private room    5+       El Plantinar                                      \n",
       "524 Private room    5+       Feria                                             \n",
       "525 Private room    5+       San BartolomÃ©                                    \n",
       "526 Private room    5+       San Gil                                           \n",
       "527 Private room    5+       San Vicente                                       \n",
       "528 Shared room     1        Alfalfa                                           \n",
       "529 Shared room     1        Arenal                                            \n",
       "530 Shared room     1        Barrio LeÃ³n                                      \n",
       "531 Shared room     1        El Cano, Los Bermejales                           \n",
       "532 Shared room     1        Las Avenidas                                      \n",
       "533 Shared room     1        Museo                                             \n",
       "534 Shared room     1        San BartolomÃ©                                    \n",
       "535 Shared room     1        San Lorenzo                                       \n",
       "536 Shared room     1        San Vicente                                       \n",
       "537 Shared room     1        Santa Catalina                                    \n",
       "538 Shared room     1        Santa Clara                                       \n",
       "539 Shared room     1        Santa Cruz                                        \n",
       "540 Shared room     1        Tiro de LÃ­nea, Santa Genoveva                    \n",
       "    mean_revenue_30\n",
       "1    489.9574      \n",
       "2    677.5000      \n",
       "3    617.7941      \n",
       "4     31.0000      \n",
       "5   1388.0000      \n",
       "6      0.0000      \n",
       "7      0.0000      \n",
       "8    555.2727      \n",
       "9   1837.1034      \n",
       "10   247.5000      \n",
       "11  4500.0000      \n",
       "12  1800.0000      \n",
       "13  1800.0000      \n",
       "14    59.8000      \n",
       "15   359.3333      \n",
       "16   675.0000      \n",
       "17   314.6667      \n",
       "18   440.6800      \n",
       "19   900.0000      \n",
       "20   533.6364      \n",
       "21  1210.0000      \n",
       "22  4472.5000      \n",
       "23   215.9286      \n",
       "24   339.1000      \n",
       "25   514.6154      \n",
       "26   555.1579      \n",
       "27  1302.0000      \n",
       "28   136.5000      \n",
       "29   929.7778      \n",
       "30   233.5455      \n",
       "... ...            \n",
       "511 3150.0000      \n",
       "512  310.0000      \n",
       "513 2130.0000      \n",
       "514   29.2500      \n",
       "515    0.0000      \n",
       "516  780.0000      \n",
       "517    0.0000      \n",
       "518 2520.0000      \n",
       "519    0.0000      \n",
       "520    0.0000      \n",
       "521    0.0000      \n",
       "522    0.0000      \n",
       "523 1305.0000      \n",
       "524    0.0000      \n",
       "525   80.0000      \n",
       "526    0.0000      \n",
       "527    0.0000      \n",
       "528 5568.0000      \n",
       "529  960.6667      \n",
       "530 1350.0000      \n",
       "531    0.0000      \n",
       "532    0.0000      \n",
       "533   36.0000      \n",
       "534    0.0000      \n",
       "535    0.0000      \n",
       "536    0.0000      \n",
       "537  150.0000      \n",
       "538  150.0000      \n",
       "539    0.0000      \n",
       "540  690.0000      "
      ]
     },
     "metadata": {},
     "output_type": "display_data"
    }
   ],
   "source": [
    "aggregated_revenue(selected_city)"
   ]
  },
  {
   "cell_type": "markdown",
   "metadata": {},
   "source": [
    "#### 6. What is the distribution of availability over the next 30 days for each room type/ house size / neighborhood?"
   ]
  },
  {
   "cell_type": "code",
   "execution_count": 51,
   "metadata": {},
   "outputs": [
    {
     "name": "stderr",
     "output_type": "stream",
     "text": [
      "Warning message:\n",
      "\"`fun.y` is deprecated. Use `fun` instead.\"\n"
     ]
    },
    {
     "data": {
      "image/png": "[encoded data removed]",
      "text/plain": [
       "plot without title"
      ]
     },
     "metadata": {
      "image/png": {
       "height": 420,
       "width": 420
      }
     },
     "output_type": "display_data"
    }
   ],
   "source": [
    "availability_plotting(selected_city)"
   ]
  },
  {
   "cell_type": "markdown",
   "metadata": {},
   "source": [
    "#### 7. What is the distribution of revenue over the next 30 days for each room type / house size / neighborhood? "
   ]
  },
  {
   "cell_type": "code",
   "execution_count": 52,
   "metadata": {},
   "outputs": [
    {
     "name": "stderr",
     "output_type": "stream",
     "text": [
      "Warning message:\n",
      "\"`fun.y` is deprecated. Use `fun` instead.\"\n"
     ]
    },
    {
     "data": {
      "image/png": "[encoded data removed]",
      "text/plain": [
       "plot without title"
      ]
     },
     "metadata": {
      "image/png": {
       "height": 420,
       "width": 420
      }
     },
     "output_type": "display_data"
    }
   ],
   "source": [
    "revenue_plotting(selected_city)"
   ]
  },
  {
   "cell_type": "markdown",
   "metadata": {},
   "source": [
    "## Additional Analysis :\n",
    "### Compute the break even point \n",
    "\n",
    "_Break Event Point_ : the point at which a business starts to make as much money as it has spent on a particular product, activity, etc\n",
    "The BEP monitors how fast or how much money is required for the invest to make benefits : it is **widely used by managers to interpret the profitability of a product**, in our case : the profitability of the invest.\n",
    "\n",
    "#### Calculation\n",
    "$$Break Even Point = {\\sum{Fixed Cost} \\over Income – VariableCostsPerUnit}.$$\n",
    "\n",
    "* Fixed costs are costs that are not related to the activity\n",
    "* Variable costs are costs related to the activity\n",
    "* Income is the money earned\n",
    "\n",
    "\n",
    "#### Additionnal Data :\n",
    "In this particular case : \n",
    "* Fixed costs : Price of the Rent\n",
    "* Variable costs : Electricity\n",
    "* Income : Revenue over 365 days\n",
    "Data extracted by this [website](https://www.combien-coute.net/)\n",
    "\n",
    "\n",
    "|Ville| Sevilla  | Malaga | Majorqua  | \n",
    "|--|--|--|--|\n",
    "|Square Meter| **2516.67 €** | **2842.86 €** | **3483.33 €** |\n",
    "|Variable Expenses| **126.44 €** | **112.01 €** | **107.92 €**|\n",
    "\n",
    "#### Consideration : \n",
    "For the ease of the data harvesting we consider that:\n",
    "* the square meter price is even in each city\n",
    "* the average size for a bedroom is 10 square meter\n",
    "* each house as a lounge room of a size : ```1,5*number of room+7,5```\n",
    "* the price of the electricity is the same for every house"
   ]
  },
  {
   "cell_type": "markdown",
   "metadata": {},
   "source": [
    "### Bonus :\n",
    "For each city :\n",
    "- [ ] Fetch the price of squaremeter in each city : fixed cost\n",
    "- [ ] Fetch the price of the electricity and water in each city : variable cost \n",
    "- [ ] Compute the breakeven point in days and in € : Fixed Cost / (Income-variable cost)"
   ]
  },
  {
   "cell_type": "markdown",
   "metadata": {},
   "source": [
    "### For the 3 cities"
   ]
  },
  {
   "cell_type": "code",
   "execution_count": 53,
   "metadata": {},
   "outputs": [],
   "source": [
    "cities <- c(\"sevilla\",\"malaga\", \"mallorca\")\n",
    "square_meter <- c(2516.67,2842.86,3483.33)\n",
    "charges <- c(126.44,112.01,107.92)"
   ]
  },
  {
   "cell_type": "code",
   "execution_count": 54,
   "metadata": {},
   "outputs": [],
   "source": [
    "for(i in 1:length(cities)){\n",
    "    city <- cities[i]\n",
    "    bool_index <- listings_full$city==city\n",
    "    # Creating fixed costs column \n",
    "    fixed_cost<-(square_meter[i]*(listings_full[bool_index,]$bedrooms* 10 + (1.5*listings_full[bool_index,]$bedrooms+8.5)))\n",
    "    listings_full[bool_index, 'fixed_cost'] <- fixed_cost\n",
    "    # Creating var costs column\n",
    "    listings_full[bool_index, 'var_cost'] <- ((charges[i]/31) * (365-as.integer(listings_full[bool_index, ]$availability_365)))\n",
    "    # Break Even Point in Year\n",
    "    listings_full[bool_index,'bep_year'] <- listings_full[bool_index,]$fixed_cost/(listings_full[bool_index,]$revenue_365-listings_full[bool_index,]$var_cost)\n",
    "    # Break Even Point in Turnover\n",
    "    listings_full[bool_index,'bep_turnover'] <- listings_full[bool_index,]$fixed_cost/((listings_full[bool_index,]$revenue_365-listings_full[bool_index,]$var_cost)/listings_full[bool_index,]$revenue_365)\n",
    "}"
   ]
  },
  {
   "cell_type": "code",
   "execution_count": 55,
   "metadata": {},
   "outputs": [
    {
     "data": {
      "text/html": [
       "<table>\n",
       "<caption>A data.frame: 3 × 2</caption>\n",
       "<thead>\n",
       "\t<tr><th scope=col>Group.1</th><th scope=col>x</th></tr>\n",
       "\t<tr><th scope=col>&lt;chr&gt;</th><th scope=col>&lt;dbl&gt;</th></tr>\n",
       "</thead>\n",
       "<tbody>\n",
       "\t<tr><td>malaga  </td><td>61.64183</td></tr>\n",
       "\t<tr><td>mallorca</td><td>84.00211</td></tr>\n",
       "\t<tr><td>sevilla </td><td>81.32288</td></tr>\n",
       "</tbody>\n",
       "</table>\n"
      ],
      "text/latex": [
       "A data.frame: 3 × 2\n",
       "\\begin{tabular}{ll}\n",
       " Group.1 & x\\\\\n",
       " <chr> & <dbl>\\\\\n",
       "\\hline\n",
       "\t malaga   & 61.64183\\\\\n",
       "\t mallorca & 84.00211\\\\\n",
       "\t sevilla  & 81.32288\\\\\n",
       "\\end{tabular}\n"
      ],
      "text/markdown": [
       "\n",
       "A data.frame: 3 × 2\n",
       "\n",
       "| Group.1 &lt;chr&gt; | x &lt;dbl&gt; |\n",
       "|---|---|\n",
       "| malaga   | 61.64183 |\n",
       "| mallorca | 84.00211 |\n",
       "| sevilla  | 81.32288 |\n",
       "\n"
      ],
      "text/plain": [
       "  Group.1  x       \n",
       "1 malaga   61.64183\n",
       "2 mallorca 84.00211\n",
       "3 sevilla  81.32288"
      ]
     },
     "metadata": {},
     "output_type": "display_data"
    }
   ],
   "source": [
    "avg_bep_year <- aggregate(listings_full$bep_year,list(listings_full$city),mean)\n",
    "avg_bep_year"
   ]
  },
  {
   "cell_type": "code",
   "execution_count": 56,
   "metadata": {},
   "outputs": [
    {
     "data": {
      "image/png": "[encoded data removed]",
      "text/plain": [
       "plot without title"
      ]
     },
     "metadata": {
      "image/png": {
       "height": 420,
       "width": 420
      }
     },
     "output_type": "display_data"
    }
   ],
   "source": [
    "distrib_bep_year <- ggplot(listings_full, aes(city, bep_turnover))\n",
    "distrib_bep_year + geom_boxplot(aes(colour = \"red\"), outlier.shape = NA) +\n",
    "    scale_y_continuous(limits = quantile(listings$bep_turnover, c(0.1, 0.9), na.rm = T))"
   ]
  },
  {
   "cell_type": "code",
   "execution_count": 57,
   "metadata": {},
   "outputs": [
    {
     "data": {
      "image/png": "[encoded data removed]",
      "text/plain": [
       "plot without title"
      ]
     },
     "metadata": {
      "image/png": {
       "height": 420,
       "width": 420
      }
     },
     "output_type": "display_data"
    }
   ],
   "source": [
    "# To smooth the Break Even Point in Year\n",
    "listings_full$bep_year[listings_full$bep_year>100] <- 100\n",
    "p<- ggplot(listings_full, aes(x=bep_year, color=city)) +\n",
    "  geom_density(size=0.5)+\n",
    "  labs(title=\"Break Even Point density curve\",x=\"Year\", y = \"Density\")\n",
    "p"
   ]
  },
  {
   "cell_type": "code",
   "execution_count": 58,
   "metadata": {},
   "outputs": [
    {
     "data": {
      "image/png": "[encoded data removed]",
      "text/plain": [
       "plot without title"
      ]
     },
     "metadata": {
      "image/png": {
       "height": 420,
       "width": 420
      }
     },
     "output_type": "display_data"
    }
   ],
   "source": [
    "distrib_bep_year <- ggplot(listings_full, aes(city, bep_year))\n",
    "distrib_bep_year + geom_boxplot(aes(colour = city), outlier.shape = NA) +\n",
    "    scale_y_continuous(limits = quantile(listings$bep_turnover, c(0.1, 0.9), na.rm = T))"
   ]
  },
  {
   "cell_type": "code",
   "execution_count": null,
   "metadata": {},
   "outputs": [],
   "source": []
  }
 ],
 "metadata": {
  "kernelspec": {
   "display_name": "R",
   "language": "R",
   "name": "ir"
  },
  "language_info": {
   "codemirror_mode": "r",
   "file_extension": ".r",
   "mimetype": "text/x-r-source",
   "name": "R",
   "pygments_lexer": "r",
   "version": "4.0.2"
  }
 },
 "nbformat": 4,
 "nbformat_minor": 4
}
